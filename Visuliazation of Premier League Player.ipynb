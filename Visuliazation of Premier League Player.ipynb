{
 "cells": [
  {
   "cell_type": "code",
   "execution_count": 1,
   "metadata": {},
   "outputs": [
    {
     "name": "stdout",
     "output_type": "stream",
     "text": [
      "Requirement already satisfied: plotly in c:\\users\\cheny\\anaconda3\\lib\\site-packages (4.14.3)\n",
      "Requirement already satisfied: retrying>=1.3.3 in c:\\users\\cheny\\anaconda3\\lib\\site-packages (from plotly) (1.3.3)\n",
      "Requirement already satisfied: six in c:\\users\\cheny\\anaconda3\\lib\\site-packages (from plotly) (1.15.0)\n",
      "Note: you may need to restart the kernel to use updated packages.\n"
     ]
    }
   ],
   "source": [
    "pip install plotly"
   ]
  },
  {
   "cell_type": "code",
   "execution_count": 2,
   "metadata": {},
   "outputs": [
    {
     "data": {
      "text/html": [
       "        <script type=\"text/javascript\">\n",
       "        window.PlotlyConfig = {MathJaxConfig: 'local'};\n",
       "        if (window.MathJax) {MathJax.Hub.Config({SVG: {font: \"STIX-Web\"}});}\n",
       "        if (typeof require !== 'undefined') {\n",
       "        require.undef(\"plotly\");\n",
       "        requirejs.config({\n",
       "            paths: {\n",
       "                'plotly': ['https://cdn.plot.ly/plotly-latest.min']\n",
       "            }\n",
       "        });\n",
       "        require(['plotly'], function(Plotly) {\n",
       "            window._Plotly = Plotly;\n",
       "        });\n",
       "        }\n",
       "        </script>\n",
       "        "
      ]
     },
     "metadata": {},
     "output_type": "display_data"
    }
   ],
   "source": [
    "from itertools import repeat \n",
    "import numpy as np\n",
    "import  matplotlib.pyplot as plt\n",
    "import pandas as pd\n",
    "import seaborn as sns\n",
    "import plotly.express as px\n",
    "import plotly.graph_objects as go\n",
    "from plotly.offline import init_notebook_mode, iplot\n",
    "init_notebook_mode(connected=True)\n",
    "\n",
    "from IPython.display import Image"
   ]
  },
  {
   "cell_type": "code",
   "execution_count": 3,
   "metadata": {},
   "outputs": [],
   "source": [
    "data = pd.read_csv('premier_league_players.csv')"
   ]
  },
  {
   "cell_type": "code",
   "execution_count": 4,
   "metadata": {},
   "outputs": [],
   "source": [
    "data=data.copy()"
   ]
  },
  {
   "cell_type": "code",
   "execution_count": 5,
   "metadata": {
    "scrolled": true
   },
   "outputs": [
    {
     "data": {
      "text/html": [
       "<div>\n",
       "<style scoped>\n",
       "    .dataframe tbody tr th:only-of-type {\n",
       "        vertical-align: middle;\n",
       "    }\n",
       "\n",
       "    .dataframe tbody tr th {\n",
       "        vertical-align: top;\n",
       "    }\n",
       "\n",
       "    .dataframe thead th {\n",
       "        text-align: right;\n",
       "    }\n",
       "</style>\n",
       "<table border=\"1\" class=\"dataframe\">\n",
       "  <thead>\n",
       "    <tr style=\"text-align: right;\">\n",
       "      <th></th>\n",
       "      <th>Name</th>\n",
       "      <th>Jersey Number</th>\n",
       "      <th>Club</th>\n",
       "      <th>Position</th>\n",
       "      <th>Nationality</th>\n",
       "      <th>Age</th>\n",
       "      <th>Appearances</th>\n",
       "      <th>Wins</th>\n",
       "      <th>Losses</th>\n",
       "      <th>Goals</th>\n",
       "      <th>...</th>\n",
       "      <th>Punches</th>\n",
       "      <th>High Claims</th>\n",
       "      <th>Catches</th>\n",
       "      <th>Sweeper clearances</th>\n",
       "      <th>Throw outs</th>\n",
       "      <th>Goal Kicks</th>\n",
       "      <th>Yellow cards</th>\n",
       "      <th>Red cards</th>\n",
       "      <th>Fouls</th>\n",
       "      <th>Offsides</th>\n",
       "    </tr>\n",
       "  </thead>\n",
       "  <tbody>\n",
       "    <tr>\n",
       "      <th>0</th>\n",
       "      <td>Bernd Leno</td>\n",
       "      <td>1.0</td>\n",
       "      <td>Arsenal</td>\n",
       "      <td>Goalkeeper</td>\n",
       "      <td>Germany</td>\n",
       "      <td>28.0</td>\n",
       "      <td>64</td>\n",
       "      <td>28</td>\n",
       "      <td>16</td>\n",
       "      <td>0</td>\n",
       "      <td>...</td>\n",
       "      <td>34.0</td>\n",
       "      <td>26.0</td>\n",
       "      <td>17.0</td>\n",
       "      <td>28.0</td>\n",
       "      <td>375.0</td>\n",
       "      <td>489.0</td>\n",
       "      <td>2</td>\n",
       "      <td>0</td>\n",
       "      <td>0</td>\n",
       "      <td>NaN</td>\n",
       "    </tr>\n",
       "    <tr>\n",
       "      <th>1</th>\n",
       "      <td>Matt Macey</td>\n",
       "      <td>33.0</td>\n",
       "      <td>Arsenal</td>\n",
       "      <td>Goalkeeper</td>\n",
       "      <td>England</td>\n",
       "      <td>26.0</td>\n",
       "      <td>0</td>\n",
       "      <td>0</td>\n",
       "      <td>0</td>\n",
       "      <td>0</td>\n",
       "      <td>...</td>\n",
       "      <td>0.0</td>\n",
       "      <td>0.0</td>\n",
       "      <td>0.0</td>\n",
       "      <td>0.0</td>\n",
       "      <td>0.0</td>\n",
       "      <td>0.0</td>\n",
       "      <td>0</td>\n",
       "      <td>0</td>\n",
       "      <td>0</td>\n",
       "      <td>NaN</td>\n",
       "    </tr>\n",
       "    <tr>\n",
       "      <th>2</th>\n",
       "      <td>Rúnar Alex Rúnarsson</td>\n",
       "      <td>13.0</td>\n",
       "      <td>Arsenal</td>\n",
       "      <td>Goalkeeper</td>\n",
       "      <td>Iceland</td>\n",
       "      <td>25.0</td>\n",
       "      <td>0</td>\n",
       "      <td>0</td>\n",
       "      <td>0</td>\n",
       "      <td>0</td>\n",
       "      <td>...</td>\n",
       "      <td>0.0</td>\n",
       "      <td>0.0</td>\n",
       "      <td>0.0</td>\n",
       "      <td>0.0</td>\n",
       "      <td>0.0</td>\n",
       "      <td>0.0</td>\n",
       "      <td>0</td>\n",
       "      <td>0</td>\n",
       "      <td>0</td>\n",
       "      <td>NaN</td>\n",
       "    </tr>\n",
       "    <tr>\n",
       "      <th>3</th>\n",
       "      <td>Héctor Bellerín</td>\n",
       "      <td>2.0</td>\n",
       "      <td>Arsenal</td>\n",
       "      <td>Defender</td>\n",
       "      <td>Spain</td>\n",
       "      <td>25.0</td>\n",
       "      <td>160</td>\n",
       "      <td>90</td>\n",
       "      <td>37</td>\n",
       "      <td>7</td>\n",
       "      <td>...</td>\n",
       "      <td>NaN</td>\n",
       "      <td>NaN</td>\n",
       "      <td>NaN</td>\n",
       "      <td>NaN</td>\n",
       "      <td>NaN</td>\n",
       "      <td>NaN</td>\n",
       "      <td>23</td>\n",
       "      <td>0</td>\n",
       "      <td>125</td>\n",
       "      <td>8.0</td>\n",
       "    </tr>\n",
       "    <tr>\n",
       "      <th>4</th>\n",
       "      <td>Kieran Tierney</td>\n",
       "      <td>3.0</td>\n",
       "      <td>Arsenal</td>\n",
       "      <td>Defender</td>\n",
       "      <td>Scotland</td>\n",
       "      <td>23.0</td>\n",
       "      <td>16</td>\n",
       "      <td>7</td>\n",
       "      <td>5</td>\n",
       "      <td>1</td>\n",
       "      <td>...</td>\n",
       "      <td>NaN</td>\n",
       "      <td>NaN</td>\n",
       "      <td>NaN</td>\n",
       "      <td>NaN</td>\n",
       "      <td>NaN</td>\n",
       "      <td>NaN</td>\n",
       "      <td>2</td>\n",
       "      <td>0</td>\n",
       "      <td>9</td>\n",
       "      <td>0.0</td>\n",
       "    </tr>\n",
       "  </tbody>\n",
       "</table>\n",
       "<p>5 rows × 59 columns</p>\n",
       "</div>"
      ],
      "text/plain": [
       "                   Name  Jersey Number     Club    Position Nationality   Age  \\\n",
       "0            Bernd Leno            1.0  Arsenal  Goalkeeper     Germany  28.0   \n",
       "1            Matt Macey           33.0  Arsenal  Goalkeeper     England  26.0   \n",
       "2  Rúnar Alex Rúnarsson           13.0  Arsenal  Goalkeeper     Iceland  25.0   \n",
       "3       Héctor Bellerín            2.0  Arsenal    Defender       Spain  25.0   \n",
       "4        Kieran Tierney            3.0  Arsenal    Defender    Scotland  23.0   \n",
       "\n",
       "   Appearances  Wins  Losses  Goals  ...  Punches  High Claims  Catches  \\\n",
       "0           64    28      16      0  ...     34.0         26.0     17.0   \n",
       "1            0     0       0      0  ...      0.0          0.0      0.0   \n",
       "2            0     0       0      0  ...      0.0          0.0      0.0   \n",
       "3          160    90      37      7  ...      NaN          NaN      NaN   \n",
       "4           16     7       5      1  ...      NaN          NaN      NaN   \n",
       "\n",
       "   Sweeper clearances  Throw outs  Goal Kicks  Yellow cards  Red cards Fouls  \\\n",
       "0                28.0       375.0       489.0             2          0     0   \n",
       "1                 0.0         0.0         0.0             0          0     0   \n",
       "2                 0.0         0.0         0.0             0          0     0   \n",
       "3                 NaN         NaN         NaN            23          0   125   \n",
       "4                 NaN         NaN         NaN             2          0     9   \n",
       "\n",
       "   Offsides  \n",
       "0       NaN  \n",
       "1       NaN  \n",
       "2       NaN  \n",
       "3       8.0  \n",
       "4       0.0  \n",
       "\n",
       "[5 rows x 59 columns]"
      ]
     },
     "execution_count": 5,
     "metadata": {},
     "output_type": "execute_result"
    }
   ],
   "source": [
    "data.head()"
   ]
  },
  {
   "cell_type": "code",
   "execution_count": 6,
   "metadata": {},
   "outputs": [
    {
     "data": {
      "text/plain": [
       "0       64\n",
       "1        0\n",
       "2        0\n",
       "3      160\n",
       "4       16\n",
       "      ... \n",
       "566     31\n",
       "567     78\n",
       "568    105\n",
       "569      1\n",
       "570      0\n",
       "Name: Appearances, Length: 571, dtype: int64"
      ]
     },
     "execution_count": 6,
     "metadata": {},
     "output_type": "execute_result"
    }
   ],
   "source": [
    "data['Appearances']"
   ]
  },
  {
   "cell_type": "code",
   "execution_count": 7,
   "metadata": {},
   "outputs": [
    {
     "name": "stdout",
     "output_type": "stream",
     "text": [
      "<class 'pandas.core.frame.DataFrame'>\n",
      "RangeIndex: 571 entries, 0 to 570\n",
      "Data columns (total 59 columns):\n",
      " #   Column                  Non-Null Count  Dtype  \n",
      "---  ------                  --------------  -----  \n",
      " 0   Name                    571 non-null    object \n",
      " 1   Jersey Number           563 non-null    float64\n",
      " 2   Club                    571 non-null    object \n",
      " 3   Position                571 non-null    object \n",
      " 4   Nationality             570 non-null    object \n",
      " 5   Age                     570 non-null    float64\n",
      " 6   Appearances             571 non-null    int64  \n",
      " 7   Wins                    571 non-null    int64  \n",
      " 8   Losses                  571 non-null    int64  \n",
      " 9   Goals                   571 non-null    int64  \n",
      " 10  Goals per match         309 non-null    float64\n",
      " 11  Headed goals            502 non-null    float64\n",
      " 12  Goals with right foot   502 non-null    float64\n",
      " 13  Goals with left foot    502 non-null    float64\n",
      " 14  Penalties scored        309 non-null    float64\n",
      " 15  Freekicks scored        309 non-null    float64\n",
      " 16  Shots                   309 non-null    float64\n",
      " 17  Shots on target         309 non-null    float64\n",
      " 18  Shooting accuracy %     309 non-null    object \n",
      " 19  Hit woodwork            502 non-null    float64\n",
      " 20  Big chances missed      309 non-null    float64\n",
      " 21  Clean sheets            262 non-null    float64\n",
      " 22  Goals conceded          262 non-null    float64\n",
      " 23  Tackles                 502 non-null    float64\n",
      " 24  Tackle success %        390 non-null    object \n",
      " 25  Last man tackles        193 non-null    float64\n",
      " 26  Blocked shots           502 non-null    float64\n",
      " 27  Interceptions           502 non-null    float64\n",
      " 28  Clearances              502 non-null    float64\n",
      " 29  Headed Clearance        502 non-null    float64\n",
      " 30  Clearances off line     193 non-null    float64\n",
      " 31  Recoveries              390 non-null    float64\n",
      " 32  Duels won               390 non-null    float64\n",
      " 33  Duels lost              390 non-null    float64\n",
      " 34  Successful 50/50s       390 non-null    float64\n",
      " 35  Aerial battles won      390 non-null    float64\n",
      " 36  Aerial battles lost     390 non-null    float64\n",
      " 37  Own goals               262 non-null    float64\n",
      " 38  Errors leading to goal  459 non-null    float64\n",
      " 39  Assists                 571 non-null    int64  \n",
      " 40  Passes                  571 non-null    int64  \n",
      " 41  Passes per match        571 non-null    float64\n",
      " 42  Big chances created     502 non-null    float64\n",
      " 43  Crosses                 502 non-null    float64\n",
      " 44  Cross accuracy %        390 non-null    object \n",
      " 45  Through balls           390 non-null    float64\n",
      " 46  Accurate long balls     459 non-null    float64\n",
      " 47  Saves                   69 non-null     float64\n",
      " 48  Penalties saved         69 non-null     float64\n",
      " 49  Punches                 69 non-null     float64\n",
      " 50  High Claims             69 non-null     float64\n",
      " 51  Catches                 69 non-null     float64\n",
      " 52  Sweeper clearances      69 non-null     float64\n",
      " 53  Throw outs              69 non-null     float64\n",
      " 54  Goal Kicks              69 non-null     float64\n",
      " 55  Yellow cards            571 non-null    int64  \n",
      " 56  Red cards               571 non-null    int64  \n",
      " 57  Fouls                   571 non-null    int64  \n",
      " 58  Offsides                502 non-null    float64\n",
      "dtypes: float64(43), int64(9), object(7)\n",
      "memory usage: 263.3+ KB\n"
     ]
    }
   ],
   "source": [
    "data.info()"
   ]
  },
  {
   "cell_type": "markdown",
   "metadata": {},
   "source": [
    "# data preprocessing"
   ]
  },
  {
   "cell_type": "code",
   "execution_count": 8,
   "metadata": {},
   "outputs": [],
   "source": [
    "# remove entries which do not have age, jersey number and nationality\n",
    "data = data[data['Nationality'].notna()]\n",
    "data = data[data['Age'].notna()]\n",
    "data= data[data['Jersey Number'].notna()]"
   ]
  },
  {
   "cell_type": "code",
   "execution_count": 9,
   "metadata": {},
   "outputs": [],
   "source": [
    "\n",
    "data['Cross accuracy %'] = data['Cross accuracy %'].astype(str).str.replace(r'%', '').astype(float)\n",
    "data['Shooting accuracy %'] = data['Shooting accuracy %'].astype(str).str.replace(r'%', '').astype(float)\n",
    "data['Tackle success %']=data['Tackle success %'].astype(str).str.replace(r'%', '').astype(float)"
   ]
  },
  {
   "cell_type": "code",
   "execution_count": 10,
   "metadata": {},
   "outputs": [
    {
     "data": {
      "text/html": [
       "<div>\n",
       "<style scoped>\n",
       "    .dataframe tbody tr th:only-of-type {\n",
       "        vertical-align: middle;\n",
       "    }\n",
       "\n",
       "    .dataframe tbody tr th {\n",
       "        vertical-align: top;\n",
       "    }\n",
       "\n",
       "    .dataframe thead th {\n",
       "        text-align: right;\n",
       "    }\n",
       "</style>\n",
       "<table border=\"1\" class=\"dataframe\">\n",
       "  <thead>\n",
       "    <tr style=\"text-align: right;\">\n",
       "      <th></th>\n",
       "      <th>Name</th>\n",
       "      <th>Jersey Number</th>\n",
       "      <th>Club</th>\n",
       "      <th>Position</th>\n",
       "      <th>Nationality</th>\n",
       "      <th>Age</th>\n",
       "      <th>Appearances</th>\n",
       "      <th>Wins</th>\n",
       "      <th>Losses</th>\n",
       "      <th>Goals</th>\n",
       "      <th>...</th>\n",
       "      <th>Punches</th>\n",
       "      <th>High Claims</th>\n",
       "      <th>Catches</th>\n",
       "      <th>Sweeper clearances</th>\n",
       "      <th>Throw outs</th>\n",
       "      <th>Goal Kicks</th>\n",
       "      <th>Yellow cards</th>\n",
       "      <th>Red cards</th>\n",
       "      <th>Fouls</th>\n",
       "      <th>Offsides</th>\n",
       "    </tr>\n",
       "  </thead>\n",
       "  <tbody>\n",
       "    <tr>\n",
       "      <th>0</th>\n",
       "      <td>Bernd Leno</td>\n",
       "      <td>1.0</td>\n",
       "      <td>Arsenal</td>\n",
       "      <td>Goalkeeper</td>\n",
       "      <td>Germany</td>\n",
       "      <td>28.0</td>\n",
       "      <td>64</td>\n",
       "      <td>28</td>\n",
       "      <td>16</td>\n",
       "      <td>0</td>\n",
       "      <td>...</td>\n",
       "      <td>34.0</td>\n",
       "      <td>26.0</td>\n",
       "      <td>17.0</td>\n",
       "      <td>28.0</td>\n",
       "      <td>375.0</td>\n",
       "      <td>489.0</td>\n",
       "      <td>2</td>\n",
       "      <td>0</td>\n",
       "      <td>0</td>\n",
       "      <td>NaN</td>\n",
       "    </tr>\n",
       "    <tr>\n",
       "      <th>1</th>\n",
       "      <td>Matt Macey</td>\n",
       "      <td>33.0</td>\n",
       "      <td>Arsenal</td>\n",
       "      <td>Goalkeeper</td>\n",
       "      <td>England</td>\n",
       "      <td>26.0</td>\n",
       "      <td>0</td>\n",
       "      <td>0</td>\n",
       "      <td>0</td>\n",
       "      <td>0</td>\n",
       "      <td>...</td>\n",
       "      <td>0.0</td>\n",
       "      <td>0.0</td>\n",
       "      <td>0.0</td>\n",
       "      <td>0.0</td>\n",
       "      <td>0.0</td>\n",
       "      <td>0.0</td>\n",
       "      <td>0</td>\n",
       "      <td>0</td>\n",
       "      <td>0</td>\n",
       "      <td>NaN</td>\n",
       "    </tr>\n",
       "    <tr>\n",
       "      <th>2</th>\n",
       "      <td>Rúnar Alex Rúnarsson</td>\n",
       "      <td>13.0</td>\n",
       "      <td>Arsenal</td>\n",
       "      <td>Goalkeeper</td>\n",
       "      <td>Iceland</td>\n",
       "      <td>25.0</td>\n",
       "      <td>0</td>\n",
       "      <td>0</td>\n",
       "      <td>0</td>\n",
       "      <td>0</td>\n",
       "      <td>...</td>\n",
       "      <td>0.0</td>\n",
       "      <td>0.0</td>\n",
       "      <td>0.0</td>\n",
       "      <td>0.0</td>\n",
       "      <td>0.0</td>\n",
       "      <td>0.0</td>\n",
       "      <td>0</td>\n",
       "      <td>0</td>\n",
       "      <td>0</td>\n",
       "      <td>NaN</td>\n",
       "    </tr>\n",
       "    <tr>\n",
       "      <th>3</th>\n",
       "      <td>Héctor Bellerín</td>\n",
       "      <td>2.0</td>\n",
       "      <td>Arsenal</td>\n",
       "      <td>Defender</td>\n",
       "      <td>Spain</td>\n",
       "      <td>25.0</td>\n",
       "      <td>160</td>\n",
       "      <td>90</td>\n",
       "      <td>37</td>\n",
       "      <td>7</td>\n",
       "      <td>...</td>\n",
       "      <td>NaN</td>\n",
       "      <td>NaN</td>\n",
       "      <td>NaN</td>\n",
       "      <td>NaN</td>\n",
       "      <td>NaN</td>\n",
       "      <td>NaN</td>\n",
       "      <td>23</td>\n",
       "      <td>0</td>\n",
       "      <td>125</td>\n",
       "      <td>8.0</td>\n",
       "    </tr>\n",
       "    <tr>\n",
       "      <th>4</th>\n",
       "      <td>Kieran Tierney</td>\n",
       "      <td>3.0</td>\n",
       "      <td>Arsenal</td>\n",
       "      <td>Defender</td>\n",
       "      <td>Scotland</td>\n",
       "      <td>23.0</td>\n",
       "      <td>16</td>\n",
       "      <td>7</td>\n",
       "      <td>5</td>\n",
       "      <td>1</td>\n",
       "      <td>...</td>\n",
       "      <td>NaN</td>\n",
       "      <td>NaN</td>\n",
       "      <td>NaN</td>\n",
       "      <td>NaN</td>\n",
       "      <td>NaN</td>\n",
       "      <td>NaN</td>\n",
       "      <td>2</td>\n",
       "      <td>0</td>\n",
       "      <td>9</td>\n",
       "      <td>0.0</td>\n",
       "    </tr>\n",
       "  </tbody>\n",
       "</table>\n",
       "<p>5 rows × 59 columns</p>\n",
       "</div>"
      ],
      "text/plain": [
       "                   Name  Jersey Number     Club    Position Nationality   Age  \\\n",
       "0            Bernd Leno            1.0  Arsenal  Goalkeeper     Germany  28.0   \n",
       "1            Matt Macey           33.0  Arsenal  Goalkeeper     England  26.0   \n",
       "2  Rúnar Alex Rúnarsson           13.0  Arsenal  Goalkeeper     Iceland  25.0   \n",
       "3       Héctor Bellerín            2.0  Arsenal    Defender       Spain  25.0   \n",
       "4        Kieran Tierney            3.0  Arsenal    Defender    Scotland  23.0   \n",
       "\n",
       "   Appearances  Wins  Losses  Goals  ...  Punches  High Claims  Catches  \\\n",
       "0           64    28      16      0  ...     34.0         26.0     17.0   \n",
       "1            0     0       0      0  ...      0.0          0.0      0.0   \n",
       "2            0     0       0      0  ...      0.0          0.0      0.0   \n",
       "3          160    90      37      7  ...      NaN          NaN      NaN   \n",
       "4           16     7       5      1  ...      NaN          NaN      NaN   \n",
       "\n",
       "   Sweeper clearances  Throw outs  Goal Kicks  Yellow cards  Red cards  Fouls  \\\n",
       "0                28.0       375.0       489.0             2          0      0   \n",
       "1                 0.0         0.0         0.0             0          0      0   \n",
       "2                 0.0         0.0         0.0             0          0      0   \n",
       "3                 NaN         NaN         NaN            23          0    125   \n",
       "4                 NaN         NaN         NaN             2          0      9   \n",
       "\n",
       "   Offsides  \n",
       "0       NaN  \n",
       "1       NaN  \n",
       "2       NaN  \n",
       "3       8.0  \n",
       "4       0.0  \n",
       "\n",
       "[5 rows x 59 columns]"
      ]
     },
     "execution_count": 10,
     "metadata": {},
     "output_type": "execute_result"
    }
   ],
   "source": [
    "pd.set_option('mode.chained_assignment', None)\n",
    "features = data.columns\n",
    "\n",
    "datta = data[features]\n",
    "datta.head()"
   ]
  },
  {
   "cell_type": "code",
   "execution_count": 11,
   "metadata": {},
   "outputs": [],
   "source": [
    "datta_appNonZero = datta[datta['Appearances']>0] # prevent division by zero for players who are yet to make apperances\n",
    "#take care of the data type for division\n",
    "#seperate cols with dtype objects and cols that may not be divided by appearances\n",
    "cols=features.drop(['Age', 'Name', 'Appearances', 'Club', 'Nationality', 'Jersey Number', 'Cross accuracy %', 'Position',\n",
    "                   'Goals per match', 'Passes per match', 'Tackle success %', 'Shooting accuracy %'])\n",
    "datta_appNonZero.loc[:, cols] = datta_appNonZero.loc[:, cols].div(datta_appNonZero['Appearances'], axis=0)"
   ]
  },
  {
   "cell_type": "code",
   "execution_count": 12,
   "metadata": {},
   "outputs": [],
   "source": [
    "# positional classification on the data as is\n",
    "goalies = data[data['Position'] == 'Goalkeeper']\n",
    "defenders = data[data['Position']=='Defender']\n",
    "midfielders=data[data['Position']== 'Midfielder']\n",
    "forwards = data[data['Position']=='Forward']"
   ]
  },
  {
   "cell_type": "code",
   "execution_count": 13,
   "metadata": {},
   "outputs": [],
   "source": [
    "#players who have made at least 38 games(a season worth games)\n",
    "#dara normalized\n",
    "data_38app = data[data['Appearances'] >=38]\n",
    "all_players = datta_appNonZero[datta_appNonZero['Appearances'] >=38]\n",
    "goalies_ = datta_appNonZero[(datta_appNonZero['Position'] == 'Goalkeeper') & (datta_appNonZero['Appearances'] >= 38)]\n",
    "defenders_ = datta_appNonZero[(datta_appNonZero['Position'] == 'Defender') & (datta_appNonZero['Appearances'] >= 38)]\n",
    "midfielders_ = datta_appNonZero[(datta_appNonZero['Position'] == 'Midfielder') & (datta_appNonZero['Appearances'] >= 38)]\n",
    "forwards_ = datta_appNonZero[(datta_appNonZero['Position'] == 'Forward') & (datta_appNonZero['Appearances'] >= 38)]"
   ]
  },
  {
   "cell_type": "markdown",
   "metadata": {},
   "source": [
    "# Visulization general"
   ]
  },
  {
   "cell_type": "code",
   "execution_count": 14,
   "metadata": {},
   "outputs": [
    {
     "data": {
      "application/vnd.plotly.v1+json": {
       "config": {
        "linkText": "Export to plot.ly",
        "plotlyServerURL": "https://plot.ly",
        "showLink": false
       },
       "data": [
        {
         "domain": {
          "x": [
           0,
           1
          ],
          "y": [
           0,
           1
          ]
         },
         "hovertemplate": "Nationality=%{label}<br>Appearances=%{value}<extra></extra>",
         "labels": [
          "Germany",
          "England",
          "Iceland",
          "Spain",
          "Scotland",
          "France",
          "Greece",
          "England",
          "Germany",
          "England",
          "Brazil",
          "Bosnia And Herzegovina",
          "Brazil",
          "Germany",
          "Uruguay",
          "England",
          "Egypt",
          "England",
          "France",
          "England",
          "Switzerland",
          "England",
          "Spain",
          "France",
          "Gabon",
          "Cote D'Ivoire",
          "England",
          "England",
          "Brazil",
          "Brazil",
          "England",
          "England",
          "Norway",
          "Croatia",
          "Argentina",
          "Wales",
          "England",
          "England",
          "Belgium",
          "France",
          "Egypt",
          "England",
          "England",
          "England",
          "Brazil",
          "Scotland",
          "England",
          "England",
          "Zimbabwe",
          "Ireland",
          "Egypt",
          "Netherlands",
          "Spain",
          "England",
          "Brazil",
          "England",
          "England",
          "Australia",
          "England",
          "England",
          "Spain",
          "England",
          "England",
          "England",
          "England",
          "Brazil",
          "England",
          "Netherlands",
          "France",
          "England",
          "England",
          "England",
          "Mali",
          "Argentina",
          "Germany",
          "England",
          "England",
          "Netherlands",
          "Colombia",
          "England",
          "Ireland",
          "Belgium",
          "Sweden",
          "Belgium",
          "France",
          "Iran",
          "Colombia",
          "Ireland",
          "Romania",
          "Sweden",
          "England",
          "Northern Ireland",
          "England",
          "England",
          "England",
          "England",
          "England",
          "Netherlands",
          "Scotland",
          "Ireland",
          "Ireland",
          "England",
          "England",
          "England",
          "Iceland",
          "England",
          "England",
          "Ireland",
          "England",
          "England",
          "New Zealand",
          "England",
          "England",
          "Czech Republic",
          "Spain",
          "Argentina",
          "Germany",
          "Spain",
          "Denmark",
          "France",
          "England",
          "Spain",
          "England",
          "Italy",
          "England",
          "Brazil",
          "Morocco",
          "Italy",
          "France",
          "England",
          "England",
          "Croatia",
          "England",
          "United States",
          "Scotland",
          "Germany",
          "Germany",
          "England",
          "France",
          "England",
          "Wales",
          "Spain",
          "Ireland",
          "England",
          "Netherlands",
          "England",
          "England",
          "France",
          "England",
          "England",
          "England",
          "Poland",
          "England",
          "England",
          "Serbia",
          "Germany",
          "Senegal",
          "England",
          "Ghana",
          "Scotland",
          "Ireland",
          "Netherlands",
          "England",
          "England",
          "Ghana",
          "Cote D'Ivoire",
          "Belgium",
          "England",
          "England",
          "Belgium",
          "England",
          "Portugal",
          "Denmark",
          "England",
          "England",
          "France",
          "Colombia",
          "Ireland",
          "England",
          "England",
          "France",
          "England",
          "Iceland",
          "Portugal",
          "Cote D'Ivoire",
          "England",
          "The Democratic Republic Of Congo",
          "Brazil",
          "Colombia",
          "France",
          "Bosnia And Herzegovina",
          "Spain",
          "The Democratic Republic Of Congo",
          "Brazil",
          "England",
          "England",
          "Turkey",
          "Nigeria",
          "Brazil",
          "Italy",
          "England",
          "Slovakia",
          "Spain",
          "France",
          "Jamaica",
          "Belgium",
          "United States",
          "France",
          "England",
          "United States",
          "Netherlands",
          "Nigeria",
          "Cote D'Ivoire",
          "Scotland",
          "The Democratic Republic Of Congo",
          "Norway",
          "Scotland",
          "England",
          "Cameroon",
          "Gabon",
          "England",
          "Australia",
          "Serbia",
          "Jamaica",
          "Portugal",
          "France",
          "Spain",
          "Italy",
          "England",
          "Scotland",
          "Scotland",
          "Netherlands",
          "England",
          "Germany",
          "England",
          "England",
          "England",
          "England",
          "Northern Ireland",
          "Spain",
          "England",
          "Poland",
          "England",
          "England",
          "Northern Ireland",
          "Poland",
          "England",
          "England",
          "Wales",
          "England",
          "Spain",
          "Denmark",
          "Wales",
          "Switzerland",
          "England",
          "Turkey",
          "Jamaica",
          "Northern Ireland",
          "Croatia",
          "Ghana",
          "Portugal",
          "Austria",
          "England",
          "Belgium",
          "England",
          "Belgium",
          "England",
          "England",
          "England",
          "England",
          "England",
          "Portugal",
          "Nigeria",
          "Belgium",
          "Algeria",
          "France",
          "England",
          "Algeria",
          "Nigeria",
          "Spain",
          "Mali",
          "Germany",
          "Brazil",
          "Spain",
          "Ireland",
          "Poland",
          "Netherlands",
          "England",
          "Scotland",
          "Cameroon",
          "England",
          "Wales",
          "Greece",
          "England",
          "Netherlands",
          "Brazil",
          "Netherlands",
          "England",
          "Guinea",
          "England",
          "England",
          "Serbia",
          "England",
          "Wales",
          "England",
          "Switzerland",
          "Spain",
          "Brazil",
          "Senegal",
          "Egypt",
          "Japan",
          "England",
          "Belgium",
          "Wales",
          "Portugal",
          "Brazil",
          "England",
          "Netherlands",
          "England",
          "England",
          "Ukraine",
          "France",
          "France",
          "Portugal",
          "Argentina",
          "Spain",
          "Germany",
          "Spain",
          "Belgium",
          "Portugal",
          "Brazil",
          "England",
          "England",
          "Spain",
          "Spain",
          "England",
          "Brazil",
          "Argentina",
          "Algeria",
          "England",
          "Spain",
          "Argentina",
          "England",
          "Sweden",
          "Cote D'Ivoire",
          "England",
          "England",
          "England",
          "Argentina",
          "Portugal",
          "England",
          "Netherlands",
          "England",
          "England",
          "England",
          "England",
          "France",
          "Spain",
          "England",
          "Brazil",
          "Brazil",
          "Portugal",
          "Wales",
          "Serbia",
          "Scotland",
          "Netherlands",
          "France",
          "England",
          "Nigeria",
          "England",
          "England",
          "Slovakia",
          "England",
          "England",
          "Ireland",
          "Wales",
          "Switzerland",
          "England",
          "Sweden",
          "Argentina",
          "Spain",
          "United States",
          "Northern Ireland",
          "England",
          "England",
          "Scotland",
          "England",
          "Paraguay",
          "Ghana",
          "England",
          "England",
          "Ireland",
          "Scotland",
          "Senegal",
          "England",
          "England",
          "Brazil",
          "France",
          "England",
          "England",
          "England",
          "Netherlands",
          "England",
          "England",
          "England",
          "Ireland",
          "England",
          "England",
          "Ireland",
          "England",
          "England",
          "England",
          "England",
          "Wales",
          "England",
          "Scotland",
          "England",
          "Northern Ireland",
          "England",
          "Norway",
          "England",
          "England",
          "Scotland",
          "England",
          "Scotland",
          "England",
          "Ireland",
          "France",
          "England",
          "England",
          "England",
          "England",
          "Denmark",
          "England",
          "England",
          "England",
          "Poland",
          "France",
          "England",
          "Ghana",
          "Mali",
          "Spain",
          "England",
          "Scotland",
          "Morocco",
          "England",
          "Ireland",
          "England",
          "Ireland",
          "England",
          "England",
          "Ireland",
          "France",
          "Argentina",
          "England",
          "England",
          "England",
          "Belgium",
          "Colombia",
          "Argentina",
          "Cote D'Ivoire",
          "Wales",
          "England",
          "Ireland",
          "England",
          "Spain",
          "England",
          "Argentina",
          "England",
          "France",
          "England",
          "England",
          "France",
          "Portugal",
          "Denmark",
          "England",
          "Argentina",
          "Brazil",
          "England",
          "South Korea",
          "England",
          "Netherlands",
          "Wales",
          "England",
          "England",
          "England",
          "England",
          "England",
          "England",
          "Nigeria",
          "England",
          "Egypt",
          "Ireland",
          "Cote D'Ivoire",
          "England",
          "Serbia",
          "England",
          "Scotland",
          "Poland",
          "England",
          "Saint Kitts And Nevis",
          "England",
          "England",
          "England",
          "England",
          "Wales",
          "Denmark",
          "Brazil",
          "England",
          "Ireland",
          "England",
          "Poland",
          "England",
          "Ireland",
          "England",
          "England",
          "Paraguay",
          "Portugal",
          "Italy",
          "France",
          "England",
          "The Democratic Republic Of Congo",
          "England",
          "England",
          "Scotland",
          "Brazil",
          "Argentina",
          "Scotland",
          "England",
          "Spain",
          "England",
          "England",
          "Ireland",
          "Ireland",
          "England",
          "Ukraine",
          "England",
          "France",
          "Portugal",
          "England",
          "Portugal",
          "England",
          "France",
          "England",
          "Spain",
          "Portugal",
          "England",
          "Denmark",
          "Brazil",
          "Netherlands",
          "Portugal",
          "Portugal",
          "Morocco",
          "Portugal",
          "Belgium",
          "Portugal",
          "Germany",
          "Portugal",
          "Mexico",
          "Spain",
          "Portugal",
          "Ecuador"
         ],
         "legendgroup": "",
         "name": "",
         "showlegend": true,
         "textinfo": "percent+label",
         "textposition": "inside",
         "type": "pie",
         "values": [
          64,
          0,
          0,
          160,
          16,
          0,
          44,
          41,
          99,
          139,
          194,
          78,
          2,
          184,
          63,
          54,
          47,
          33,
          57,
          2,
          132,
          28,
          26,
          99,
          87,
          33,
          20,
          23,
          14,
          236,
          116,
          2,
          7,
          0,
          16,
          145,
          26,
          72,
          17,
          25,
          183,
          18,
          51,
          1,
          37,
          29,
          13,
          71,
          29,
          28,
          35,
          34,
          10,
          0,
          21,
          19,
          1,
          112,
          0,
          0,
          0,
          2,
          11,
          112,
          33,
          36,
          44,
          0,
          0,
          0,
          0,
          99,
          52,
          9,
          93,
          198,
          92,
          100,
          21,
          0,
          0,
          0,
          0,
          33,
          39,
          31,
          47,
          26,
          26,
          0,
          74,
          0,
          1,
          172,
          74,
          123,
          166,
          194,
          300,
          35,
          1,
          0,
          0,
          264,
          96,
          11,
          61,
          142,
          222,
          0,
          105,
          155,
          178,
          57,
          71,
          33,
          80,
          140,
          59,
          143,
          26,
          272,
          17,
          30,
          99,
          0,
          0,
          70,
          166,
          202,
          78,
          64,
          39,
          25,
          6,
          2,
          2,
          68,
          238,
          35,
          181,
          57,
          0,
          201,
          191,
          263,
          227,
          125,
          374,
          153,
          6,
          0,
          0,
          0,
          121,
          46,
          197,
          211,
          148,
          282,
          258,
          29,
          2,
          0,
          139,
          217,
          225,
          120,
          2,
          60,
          147,
          0,
          69,
          65,
          153,
          72,
          44,
          276,
          4,
          31,
          0,
          185,
          284,
          48,
          2,
          106,
          8,
          2,
          2,
          131,
          46,
          8,
          119,
          111,
          116,
          346,
          49,
          126,
          61,
          31,
          11,
          1,
          2,
          1,
          2,
          33,
          40,
          26,
          30,
          0,
          1,
          3,
          32,
          41,
          9,
          12,
          43,
          15,
          24,
          47,
          19,
          0,
          79,
          29,
          25,
          15,
          0,
          0,
          2,
          0,
          3,
          1,
          0,
          2,
          0,
          0,
          0,
          35,
          2,
          58,
          2,
          2,
          1,
          2,
          0,
          0,
          0,
          29,
          3,
          0,
          19,
          211,
          2,
          28,
          15,
          42,
          168,
          297,
          0,
          46,
          63,
          107,
          3,
          2,
          132,
          52,
          69,
          258,
          57,
          37,
          42,
          14,
          122,
          29,
          19,
          44,
          213,
          39,
          117,
          178,
          15,
          29,
          69,
          136,
          0,
          0,
          159,
          73,
          153,
          86,
          95,
          6,
          0,
          0,
          0,
          58,
          181,
          539,
          45,
          342,
          196,
          8,
          7,
          31,
          4,
          115,
          1,
          177,
          196,
          123,
          11,
          0,
          91,
          6,
          67,
          110,
          145,
          147,
          293,
          163,
          41,
          59,
          37,
          17,
          136,
          13,
          102,
          36,
          156,
          105,
          225,
          42,
          1,
          0,
          1,
          260,
          103,
          263,
          199,
          0,
          314,
          7,
          36,
          83,
          54,
          200,
          140,
          219,
          76,
          20,
          157,
          49,
          77,
          10,
          17,
          0,
          112,
          262,
          133,
          45,
          46,
          15,
          34,
          208,
          59,
          1,
          146,
          143,
          67,
          35,
          0,
          88,
          21,
          0,
          179,
          128,
          46,
          109,
          17,
          170,
          92,
          103,
          30,
          34,
          215,
          128,
          82,
          48,
          80,
          33,
          9,
          124,
          121,
          5,
          0,
          232,
          40,
          28,
          119,
          128,
          0,
          0,
          2,
          39,
          40,
          47,
          35,
          61,
          38,
          9,
          0,
          366,
          0,
          2,
          0,
          32,
          36,
          39,
          14,
          16,
          167,
          0,
          16,
          0,
          54,
          28,
          30,
          88,
          96,
          22,
          107,
          0,
          43,
          93,
          231,
          1,
          66,
          34,
          24,
          0,
          20,
          183,
          233,
          60,
          70,
          208,
          11,
          2,
          322,
          113,
          32,
          28,
          262,
          43,
          340,
          0,
          0,
          176,
          84,
          16,
          58,
          201,
          6,
          77,
          0,
          0,
          96,
          155,
          176,
          235,
          41,
          157,
          23,
          7,
          111,
          0,
          29,
          75,
          0,
          162,
          212,
          16,
          146,
          2,
          4,
          0,
          5,
          172,
          23,
          2,
          0,
          38,
          2,
          0,
          20,
          261,
          180,
          110,
          15,
          2,
          2,
          20,
          2,
          19,
          0,
          76,
          19,
          2,
          106,
          22,
          0,
          246,
          5,
          31,
          0,
          190,
          40,
          0,
          137,
          67,
          44,
          81,
          4,
          0,
          0,
          63,
          122,
          160,
          383,
          38,
          182,
          101,
          3,
          0,
          135,
          34,
          22,
          34,
          1,
          0,
          77,
          119,
          60,
          79,
          68,
          34,
          4,
          1,
          2,
          0,
          75,
          11,
          54,
          78,
          59,
          1,
          0,
          31,
          78,
          105,
          1,
          0
         ]
        }
       ],
       "layout": {
        "legend": {
         "tracegroupgap": 0
        },
        "template": {
         "data": {
          "bar": [
           {
            "error_x": {
             "color": "#2a3f5f"
            },
            "error_y": {
             "color": "#2a3f5f"
            },
            "marker": {
             "line": {
              "color": "#E5ECF6",
              "width": 0.5
             }
            },
            "type": "bar"
           }
          ],
          "barpolar": [
           {
            "marker": {
             "line": {
              "color": "#E5ECF6",
              "width": 0.5
             }
            },
            "type": "barpolar"
           }
          ],
          "carpet": [
           {
            "aaxis": {
             "endlinecolor": "#2a3f5f",
             "gridcolor": "white",
             "linecolor": "white",
             "minorgridcolor": "white",
             "startlinecolor": "#2a3f5f"
            },
            "baxis": {
             "endlinecolor": "#2a3f5f",
             "gridcolor": "white",
             "linecolor": "white",
             "minorgridcolor": "white",
             "startlinecolor": "#2a3f5f"
            },
            "type": "carpet"
           }
          ],
          "choropleth": [
           {
            "colorbar": {
             "outlinewidth": 0,
             "ticks": ""
            },
            "type": "choropleth"
           }
          ],
          "contour": [
           {
            "colorbar": {
             "outlinewidth": 0,
             "ticks": ""
            },
            "colorscale": [
             [
              0,
              "#0d0887"
             ],
             [
              0.1111111111111111,
              "#46039f"
             ],
             [
              0.2222222222222222,
              "#7201a8"
             ],
             [
              0.3333333333333333,
              "#9c179e"
             ],
             [
              0.4444444444444444,
              "#bd3786"
             ],
             [
              0.5555555555555556,
              "#d8576b"
             ],
             [
              0.6666666666666666,
              "#ed7953"
             ],
             [
              0.7777777777777778,
              "#fb9f3a"
             ],
             [
              0.8888888888888888,
              "#fdca26"
             ],
             [
              1,
              "#f0f921"
             ]
            ],
            "type": "contour"
           }
          ],
          "contourcarpet": [
           {
            "colorbar": {
             "outlinewidth": 0,
             "ticks": ""
            },
            "type": "contourcarpet"
           }
          ],
          "heatmap": [
           {
            "colorbar": {
             "outlinewidth": 0,
             "ticks": ""
            },
            "colorscale": [
             [
              0,
              "#0d0887"
             ],
             [
              0.1111111111111111,
              "#46039f"
             ],
             [
              0.2222222222222222,
              "#7201a8"
             ],
             [
              0.3333333333333333,
              "#9c179e"
             ],
             [
              0.4444444444444444,
              "#bd3786"
             ],
             [
              0.5555555555555556,
              "#d8576b"
             ],
             [
              0.6666666666666666,
              "#ed7953"
             ],
             [
              0.7777777777777778,
              "#fb9f3a"
             ],
             [
              0.8888888888888888,
              "#fdca26"
             ],
             [
              1,
              "#f0f921"
             ]
            ],
            "type": "heatmap"
           }
          ],
          "heatmapgl": [
           {
            "colorbar": {
             "outlinewidth": 0,
             "ticks": ""
            },
            "colorscale": [
             [
              0,
              "#0d0887"
             ],
             [
              0.1111111111111111,
              "#46039f"
             ],
             [
              0.2222222222222222,
              "#7201a8"
             ],
             [
              0.3333333333333333,
              "#9c179e"
             ],
             [
              0.4444444444444444,
              "#bd3786"
             ],
             [
              0.5555555555555556,
              "#d8576b"
             ],
             [
              0.6666666666666666,
              "#ed7953"
             ],
             [
              0.7777777777777778,
              "#fb9f3a"
             ],
             [
              0.8888888888888888,
              "#fdca26"
             ],
             [
              1,
              "#f0f921"
             ]
            ],
            "type": "heatmapgl"
           }
          ],
          "histogram": [
           {
            "marker": {
             "colorbar": {
              "outlinewidth": 0,
              "ticks": ""
             }
            },
            "type": "histogram"
           }
          ],
          "histogram2d": [
           {
            "colorbar": {
             "outlinewidth": 0,
             "ticks": ""
            },
            "colorscale": [
             [
              0,
              "#0d0887"
             ],
             [
              0.1111111111111111,
              "#46039f"
             ],
             [
              0.2222222222222222,
              "#7201a8"
             ],
             [
              0.3333333333333333,
              "#9c179e"
             ],
             [
              0.4444444444444444,
              "#bd3786"
             ],
             [
              0.5555555555555556,
              "#d8576b"
             ],
             [
              0.6666666666666666,
              "#ed7953"
             ],
             [
              0.7777777777777778,
              "#fb9f3a"
             ],
             [
              0.8888888888888888,
              "#fdca26"
             ],
             [
              1,
              "#f0f921"
             ]
            ],
            "type": "histogram2d"
           }
          ],
          "histogram2dcontour": [
           {
            "colorbar": {
             "outlinewidth": 0,
             "ticks": ""
            },
            "colorscale": [
             [
              0,
              "#0d0887"
             ],
             [
              0.1111111111111111,
              "#46039f"
             ],
             [
              0.2222222222222222,
              "#7201a8"
             ],
             [
              0.3333333333333333,
              "#9c179e"
             ],
             [
              0.4444444444444444,
              "#bd3786"
             ],
             [
              0.5555555555555556,
              "#d8576b"
             ],
             [
              0.6666666666666666,
              "#ed7953"
             ],
             [
              0.7777777777777778,
              "#fb9f3a"
             ],
             [
              0.8888888888888888,
              "#fdca26"
             ],
             [
              1,
              "#f0f921"
             ]
            ],
            "type": "histogram2dcontour"
           }
          ],
          "mesh3d": [
           {
            "colorbar": {
             "outlinewidth": 0,
             "ticks": ""
            },
            "type": "mesh3d"
           }
          ],
          "parcoords": [
           {
            "line": {
             "colorbar": {
              "outlinewidth": 0,
              "ticks": ""
             }
            },
            "type": "parcoords"
           }
          ],
          "pie": [
           {
            "automargin": true,
            "type": "pie"
           }
          ],
          "scatter": [
           {
            "marker": {
             "colorbar": {
              "outlinewidth": 0,
              "ticks": ""
             }
            },
            "type": "scatter"
           }
          ],
          "scatter3d": [
           {
            "line": {
             "colorbar": {
              "outlinewidth": 0,
              "ticks": ""
             }
            },
            "marker": {
             "colorbar": {
              "outlinewidth": 0,
              "ticks": ""
             }
            },
            "type": "scatter3d"
           }
          ],
          "scattercarpet": [
           {
            "marker": {
             "colorbar": {
              "outlinewidth": 0,
              "ticks": ""
             }
            },
            "type": "scattercarpet"
           }
          ],
          "scattergeo": [
           {
            "marker": {
             "colorbar": {
              "outlinewidth": 0,
              "ticks": ""
             }
            },
            "type": "scattergeo"
           }
          ],
          "scattergl": [
           {
            "marker": {
             "colorbar": {
              "outlinewidth": 0,
              "ticks": ""
             }
            },
            "type": "scattergl"
           }
          ],
          "scattermapbox": [
           {
            "marker": {
             "colorbar": {
              "outlinewidth": 0,
              "ticks": ""
             }
            },
            "type": "scattermapbox"
           }
          ],
          "scatterpolar": [
           {
            "marker": {
             "colorbar": {
              "outlinewidth": 0,
              "ticks": ""
             }
            },
            "type": "scatterpolar"
           }
          ],
          "scatterpolargl": [
           {
            "marker": {
             "colorbar": {
              "outlinewidth": 0,
              "ticks": ""
             }
            },
            "type": "scatterpolargl"
           }
          ],
          "scatterternary": [
           {
            "marker": {
             "colorbar": {
              "outlinewidth": 0,
              "ticks": ""
             }
            },
            "type": "scatterternary"
           }
          ],
          "surface": [
           {
            "colorbar": {
             "outlinewidth": 0,
             "ticks": ""
            },
            "colorscale": [
             [
              0,
              "#0d0887"
             ],
             [
              0.1111111111111111,
              "#46039f"
             ],
             [
              0.2222222222222222,
              "#7201a8"
             ],
             [
              0.3333333333333333,
              "#9c179e"
             ],
             [
              0.4444444444444444,
              "#bd3786"
             ],
             [
              0.5555555555555556,
              "#d8576b"
             ],
             [
              0.6666666666666666,
              "#ed7953"
             ],
             [
              0.7777777777777778,
              "#fb9f3a"
             ],
             [
              0.8888888888888888,
              "#fdca26"
             ],
             [
              1,
              "#f0f921"
             ]
            ],
            "type": "surface"
           }
          ],
          "table": [
           {
            "cells": {
             "fill": {
              "color": "#EBF0F8"
             },
             "line": {
              "color": "white"
             }
            },
            "header": {
             "fill": {
              "color": "#C8D4E3"
             },
             "line": {
              "color": "white"
             }
            },
            "type": "table"
           }
          ]
         },
         "layout": {
          "annotationdefaults": {
           "arrowcolor": "#2a3f5f",
           "arrowhead": 0,
           "arrowwidth": 1
          },
          "autotypenumbers": "strict",
          "coloraxis": {
           "colorbar": {
            "outlinewidth": 0,
            "ticks": ""
           }
          },
          "colorscale": {
           "diverging": [
            [
             0,
             "#8e0152"
            ],
            [
             0.1,
             "#c51b7d"
            ],
            [
             0.2,
             "#de77ae"
            ],
            [
             0.3,
             "#f1b6da"
            ],
            [
             0.4,
             "#fde0ef"
            ],
            [
             0.5,
             "#f7f7f7"
            ],
            [
             0.6,
             "#e6f5d0"
            ],
            [
             0.7,
             "#b8e186"
            ],
            [
             0.8,
             "#7fbc41"
            ],
            [
             0.9,
             "#4d9221"
            ],
            [
             1,
             "#276419"
            ]
           ],
           "sequential": [
            [
             0,
             "#0d0887"
            ],
            [
             0.1111111111111111,
             "#46039f"
            ],
            [
             0.2222222222222222,
             "#7201a8"
            ],
            [
             0.3333333333333333,
             "#9c179e"
            ],
            [
             0.4444444444444444,
             "#bd3786"
            ],
            [
             0.5555555555555556,
             "#d8576b"
            ],
            [
             0.6666666666666666,
             "#ed7953"
            ],
            [
             0.7777777777777778,
             "#fb9f3a"
            ],
            [
             0.8888888888888888,
             "#fdca26"
            ],
            [
             1,
             "#f0f921"
            ]
           ],
           "sequentialminus": [
            [
             0,
             "#0d0887"
            ],
            [
             0.1111111111111111,
             "#46039f"
            ],
            [
             0.2222222222222222,
             "#7201a8"
            ],
            [
             0.3333333333333333,
             "#9c179e"
            ],
            [
             0.4444444444444444,
             "#bd3786"
            ],
            [
             0.5555555555555556,
             "#d8576b"
            ],
            [
             0.6666666666666666,
             "#ed7953"
            ],
            [
             0.7777777777777778,
             "#fb9f3a"
            ],
            [
             0.8888888888888888,
             "#fdca26"
            ],
            [
             1,
             "#f0f921"
            ]
           ]
          },
          "colorway": [
           "#636efa",
           "#EF553B",
           "#00cc96",
           "#ab63fa",
           "#FFA15A",
           "#19d3f3",
           "#FF6692",
           "#B6E880",
           "#FF97FF",
           "#FECB52"
          ],
          "font": {
           "color": "#2a3f5f"
          },
          "geo": {
           "bgcolor": "white",
           "lakecolor": "white",
           "landcolor": "#E5ECF6",
           "showlakes": true,
           "showland": true,
           "subunitcolor": "white"
          },
          "hoverlabel": {
           "align": "left"
          },
          "hovermode": "closest",
          "mapbox": {
           "style": "light"
          },
          "paper_bgcolor": "white",
          "plot_bgcolor": "#E5ECF6",
          "polar": {
           "angularaxis": {
            "gridcolor": "white",
            "linecolor": "white",
            "ticks": ""
           },
           "bgcolor": "#E5ECF6",
           "radialaxis": {
            "gridcolor": "white",
            "linecolor": "white",
            "ticks": ""
           }
          },
          "scene": {
           "xaxis": {
            "backgroundcolor": "#E5ECF6",
            "gridcolor": "white",
            "gridwidth": 2,
            "linecolor": "white",
            "showbackground": true,
            "ticks": "",
            "zerolinecolor": "white"
           },
           "yaxis": {
            "backgroundcolor": "#E5ECF6",
            "gridcolor": "white",
            "gridwidth": 2,
            "linecolor": "white",
            "showbackground": true,
            "ticks": "",
            "zerolinecolor": "white"
           },
           "zaxis": {
            "backgroundcolor": "#E5ECF6",
            "gridcolor": "white",
            "gridwidth": 2,
            "linecolor": "white",
            "showbackground": true,
            "ticks": "",
            "zerolinecolor": "white"
           }
          },
          "shapedefaults": {
           "line": {
            "color": "#2a3f5f"
           }
          },
          "ternary": {
           "aaxis": {
            "gridcolor": "white",
            "linecolor": "white",
            "ticks": ""
           },
           "baxis": {
            "gridcolor": "white",
            "linecolor": "white",
            "ticks": ""
           },
           "bgcolor": "#E5ECF6",
           "caxis": {
            "gridcolor": "white",
            "linecolor": "white",
            "ticks": ""
           }
          },
          "title": {
           "x": 0.05
          },
          "xaxis": {
           "automargin": true,
           "gridcolor": "white",
           "linecolor": "white",
           "ticks": "",
           "title": {
            "standoff": 15
           },
           "zerolinecolor": "white",
           "zerolinewidth": 2
          },
          "yaxis": {
           "automargin": true,
           "gridcolor": "white",
           "linecolor": "white",
           "ticks": "",
           "title": {
            "standoff": 15
           },
           "zerolinecolor": "white",
           "zerolinewidth": 2
          }
         }
        },
        "title": {
         "text": "countries represented in the EPL by number of appearances"
        }
       }
      },
      "text/html": [
       "<div>                            <div id=\"bd783b03-55d0-44d7-bfa1-f4cc6e60c514\" class=\"plotly-graph-div\" style=\"height:525px; width:100%;\"></div>            <script type=\"text/javascript\">                require([\"plotly\"], function(Plotly) {                    window.PLOTLYENV=window.PLOTLYENV || {};                                    if (document.getElementById(\"bd783b03-55d0-44d7-bfa1-f4cc6e60c514\")) {                    Plotly.newPlot(                        \"bd783b03-55d0-44d7-bfa1-f4cc6e60c514\",                        [{\"domain\": {\"x\": [0.0, 1.0], \"y\": [0.0, 1.0]}, \"hovertemplate\": \"Nationality=%{label}<br>Appearances=%{value}<extra></extra>\", \"labels\": [\"Germany\", \"England\", \"Iceland\", \"Spain\", \"Scotland\", \"France\", \"Greece\", \"England\", \"Germany\", \"England\", \"Brazil\", \"Bosnia And Herzegovina\", \"Brazil\", \"Germany\", \"Uruguay\", \"England\", \"Egypt\", \"England\", \"France\", \"England\", \"Switzerland\", \"England\", \"Spain\", \"France\", \"Gabon\", \"Cote D'Ivoire\", \"England\", \"England\", \"Brazil\", \"Brazil\", \"England\", \"England\", \"Norway\", \"Croatia\", \"Argentina\", \"Wales\", \"England\", \"England\", \"Belgium\", \"France\", \"Egypt\", \"England\", \"England\", \"England\", \"Brazil\", \"Scotland\", \"England\", \"England\", \"Zimbabwe\", \"Ireland\", \"Egypt\", \"Netherlands\", \"Spain\", \"England\", \"Brazil\", \"England\", \"England\", \"Australia\", \"England\", \"England\", \"Spain\", \"England\", \"England\", \"England\", \"England\", \"Brazil\", \"England\", \"Netherlands\", \"France\", \"England\", \"England\", \"England\", \"Mali\", \"Argentina\", \"Germany\", \"England\", \"England\", \"Netherlands\", \"Colombia\", \"England\", \"Ireland\", \"Belgium\", \"Sweden\", \"Belgium\", \"France\", \"Iran\", \"Colombia\", \"Ireland\", \"Romania\", \"Sweden\", \"England\", \"Northern Ireland\", \"England\", \"England\", \"England\", \"England\", \"England\", \"Netherlands\", \"Scotland\", \"Ireland\", \"Ireland\", \"England\", \"England\", \"England\", \"Iceland\", \"England\", \"England\", \"Ireland\", \"England\", \"England\", \"New Zealand\", \"England\", \"England\", \"Czech Republic\", \"Spain\", \"Argentina\", \"Germany\", \"Spain\", \"Denmark\", \"France\", \"England\", \"Spain\", \"England\", \"Italy\", \"England\", \"Brazil\", \"Morocco\", \"Italy\", \"France\", \"England\", \"England\", \"Croatia\", \"England\", \"United States\", \"Scotland\", \"Germany\", \"Germany\", \"England\", \"France\", \"England\", \"Wales\", \"Spain\", \"Ireland\", \"England\", \"Netherlands\", \"England\", \"England\", \"France\", \"England\", \"England\", \"England\", \"Poland\", \"England\", \"England\", \"Serbia\", \"Germany\", \"Senegal\", \"England\", \"Ghana\", \"Scotland\", \"Ireland\", \"Netherlands\", \"England\", \"England\", \"Ghana\", \"Cote D'Ivoire\", \"Belgium\", \"England\", \"England\", \"Belgium\", \"England\", \"Portugal\", \"Denmark\", \"England\", \"England\", \"France\", \"Colombia\", \"Ireland\", \"England\", \"England\", \"France\", \"England\", \"Iceland\", \"Portugal\", \"Cote D'Ivoire\", \"England\", \"The Democratic Republic Of Congo\", \"Brazil\", \"Colombia\", \"France\", \"Bosnia And Herzegovina\", \"Spain\", \"The Democratic Republic Of Congo\", \"Brazil\", \"England\", \"England\", \"Turkey\", \"Nigeria\", \"Brazil\", \"Italy\", \"England\", \"Slovakia\", \"Spain\", \"France\", \"Jamaica\", \"Belgium\", \"United States\", \"France\", \"England\", \"United States\", \"Netherlands\", \"Nigeria\", \"Cote D'Ivoire\", \"Scotland\", \"The Democratic Republic Of Congo\", \"Norway\", \"Scotland\", \"England\", \"Cameroon\", \"Gabon\", \"England\", \"Australia\", \"Serbia\", \"Jamaica\", \"Portugal\", \"France\", \"Spain\", \"Italy\", \"England\", \"Scotland\", \"Scotland\", \"Netherlands\", \"England\", \"Germany\", \"England\", \"England\", \"England\", \"England\", \"Northern Ireland\", \"Spain\", \"England\", \"Poland\", \"England\", \"England\", \"Northern Ireland\", \"Poland\", \"England\", \"England\", \"Wales\", \"England\", \"Spain\", \"Denmark\", \"Wales\", \"Switzerland\", \"England\", \"Turkey\", \"Jamaica\", \"Northern Ireland\", \"Croatia\", \"Ghana\", \"Portugal\", \"Austria\", \"England\", \"Belgium\", \"England\", \"Belgium\", \"England\", \"England\", \"England\", \"England\", \"England\", \"Portugal\", \"Nigeria\", \"Belgium\", \"Algeria\", \"France\", \"England\", \"Algeria\", \"Nigeria\", \"Spain\", \"Mali\", \"Germany\", \"Brazil\", \"Spain\", \"Ireland\", \"Poland\", \"Netherlands\", \"England\", \"Scotland\", \"Cameroon\", \"England\", \"Wales\", \"Greece\", \"England\", \"Netherlands\", \"Brazil\", \"Netherlands\", \"England\", \"Guinea\", \"England\", \"England\", \"Serbia\", \"England\", \"Wales\", \"England\", \"Switzerland\", \"Spain\", \"Brazil\", \"Senegal\", \"Egypt\", \"Japan\", \"England\", \"Belgium\", \"Wales\", \"Portugal\", \"Brazil\", \"England\", \"Netherlands\", \"England\", \"England\", \"Ukraine\", \"France\", \"France\", \"Portugal\", \"Argentina\", \"Spain\", \"Germany\", \"Spain\", \"Belgium\", \"Portugal\", \"Brazil\", \"England\", \"England\", \"Spain\", \"Spain\", \"England\", \"Brazil\", \"Argentina\", \"Algeria\", \"England\", \"Spain\", \"Argentina\", \"England\", \"Sweden\", \"Cote D'Ivoire\", \"England\", \"England\", \"England\", \"Argentina\", \"Portugal\", \"England\", \"Netherlands\", \"England\", \"England\", \"England\", \"England\", \"France\", \"Spain\", \"England\", \"Brazil\", \"Brazil\", \"Portugal\", \"Wales\", \"Serbia\", \"Scotland\", \"Netherlands\", \"France\", \"England\", \"Nigeria\", \"England\", \"England\", \"Slovakia\", \"England\", \"England\", \"Ireland\", \"Wales\", \"Switzerland\", \"England\", \"Sweden\", \"Argentina\", \"Spain\", \"United States\", \"Northern Ireland\", \"England\", \"England\", \"Scotland\", \"England\", \"Paraguay\", \"Ghana\", \"England\", \"England\", \"Ireland\", \"Scotland\", \"Senegal\", \"England\", \"England\", \"Brazil\", \"France\", \"England\", \"England\", \"England\", \"Netherlands\", \"England\", \"England\", \"England\", \"Ireland\", \"England\", \"England\", \"Ireland\", \"England\", \"England\", \"England\", \"England\", \"Wales\", \"England\", \"Scotland\", \"England\", \"Northern Ireland\", \"England\", \"Norway\", \"England\", \"England\", \"Scotland\", \"England\", \"Scotland\", \"England\", \"Ireland\", \"France\", \"England\", \"England\", \"England\", \"England\", \"Denmark\", \"England\", \"England\", \"England\", \"Poland\", \"France\", \"England\", \"Ghana\", \"Mali\", \"Spain\", \"England\", \"Scotland\", \"Morocco\", \"England\", \"Ireland\", \"England\", \"Ireland\", \"England\", \"England\", \"Ireland\", \"France\", \"Argentina\", \"England\", \"England\", \"England\", \"Belgium\", \"Colombia\", \"Argentina\", \"Cote D'Ivoire\", \"Wales\", \"England\", \"Ireland\", \"England\", \"Spain\", \"England\", \"Argentina\", \"England\", \"France\", \"England\", \"England\", \"France\", \"Portugal\", \"Denmark\", \"England\", \"Argentina\", \"Brazil\", \"England\", \"South Korea\", \"England\", \"Netherlands\", \"Wales\", \"England\", \"England\", \"England\", \"England\", \"England\", \"England\", \"Nigeria\", \"England\", \"Egypt\", \"Ireland\", \"Cote D'Ivoire\", \"England\", \"Serbia\", \"England\", \"Scotland\", \"Poland\", \"England\", \"Saint Kitts And Nevis\", \"England\", \"England\", \"England\", \"England\", \"Wales\", \"Denmark\", \"Brazil\", \"England\", \"Ireland\", \"England\", \"Poland\", \"England\", \"Ireland\", \"England\", \"England\", \"Paraguay\", \"Portugal\", \"Italy\", \"France\", \"England\", \"The Democratic Republic Of Congo\", \"England\", \"England\", \"Scotland\", \"Brazil\", \"Argentina\", \"Scotland\", \"England\", \"Spain\", \"England\", \"England\", \"Ireland\", \"Ireland\", \"England\", \"Ukraine\", \"England\", \"France\", \"Portugal\", \"England\", \"Portugal\", \"England\", \"France\", \"England\", \"Spain\", \"Portugal\", \"England\", \"Denmark\", \"Brazil\", \"Netherlands\", \"Portugal\", \"Portugal\", \"Morocco\", \"Portugal\", \"Belgium\", \"Portugal\", \"Germany\", \"Portugal\", \"Mexico\", \"Spain\", \"Portugal\", \"Ecuador\"], \"legendgroup\": \"\", \"name\": \"\", \"showlegend\": true, \"textinfo\": \"percent+label\", \"textposition\": \"inside\", \"type\": \"pie\", \"values\": [64, 0, 0, 160, 16, 0, 44, 41, 99, 139, 194, 78, 2, 184, 63, 54, 47, 33, 57, 2, 132, 28, 26, 99, 87, 33, 20, 23, 14, 236, 116, 2, 7, 0, 16, 145, 26, 72, 17, 25, 183, 18, 51, 1, 37, 29, 13, 71, 29, 28, 35, 34, 10, 0, 21, 19, 1, 112, 0, 0, 0, 2, 11, 112, 33, 36, 44, 0, 0, 0, 0, 99, 52, 9, 93, 198, 92, 100, 21, 0, 0, 0, 0, 33, 39, 31, 47, 26, 26, 0, 74, 0, 1, 172, 74, 123, 166, 194, 300, 35, 1, 0, 0, 264, 96, 11, 61, 142, 222, 0, 105, 155, 178, 57, 71, 33, 80, 140, 59, 143, 26, 272, 17, 30, 99, 0, 0, 70, 166, 202, 78, 64, 39, 25, 6, 2, 2, 68, 238, 35, 181, 57, 0, 201, 191, 263, 227, 125, 374, 153, 6, 0, 0, 0, 121, 46, 197, 211, 148, 282, 258, 29, 2, 0, 139, 217, 225, 120, 2, 60, 147, 0, 69, 65, 153, 72, 44, 276, 4, 31, 0, 185, 284, 48, 2, 106, 8, 2, 2, 131, 46, 8, 119, 111, 116, 346, 49, 126, 61, 31, 11, 1, 2, 1, 2, 33, 40, 26, 30, 0, 1, 3, 32, 41, 9, 12, 43, 15, 24, 47, 19, 0, 79, 29, 25, 15, 0, 0, 2, 0, 3, 1, 0, 2, 0, 0, 0, 35, 2, 58, 2, 2, 1, 2, 0, 0, 0, 29, 3, 0, 19, 211, 2, 28, 15, 42, 168, 297, 0, 46, 63, 107, 3, 2, 132, 52, 69, 258, 57, 37, 42, 14, 122, 29, 19, 44, 213, 39, 117, 178, 15, 29, 69, 136, 0, 0, 159, 73, 153, 86, 95, 6, 0, 0, 0, 58, 181, 539, 45, 342, 196, 8, 7, 31, 4, 115, 1, 177, 196, 123, 11, 0, 91, 6, 67, 110, 145, 147, 293, 163, 41, 59, 37, 17, 136, 13, 102, 36, 156, 105, 225, 42, 1, 0, 1, 260, 103, 263, 199, 0, 314, 7, 36, 83, 54, 200, 140, 219, 76, 20, 157, 49, 77, 10, 17, 0, 112, 262, 133, 45, 46, 15, 34, 208, 59, 1, 146, 143, 67, 35, 0, 88, 21, 0, 179, 128, 46, 109, 17, 170, 92, 103, 30, 34, 215, 128, 82, 48, 80, 33, 9, 124, 121, 5, 0, 232, 40, 28, 119, 128, 0, 0, 2, 39, 40, 47, 35, 61, 38, 9, 0, 366, 0, 2, 0, 32, 36, 39, 14, 16, 167, 0, 16, 0, 54, 28, 30, 88, 96, 22, 107, 0, 43, 93, 231, 1, 66, 34, 24, 0, 20, 183, 233, 60, 70, 208, 11, 2, 322, 113, 32, 28, 262, 43, 340, 0, 0, 176, 84, 16, 58, 201, 6, 77, 0, 0, 96, 155, 176, 235, 41, 157, 23, 7, 111, 0, 29, 75, 0, 162, 212, 16, 146, 2, 4, 0, 5, 172, 23, 2, 0, 38, 2, 0, 20, 261, 180, 110, 15, 2, 2, 20, 2, 19, 0, 76, 19, 2, 106, 22, 0, 246, 5, 31, 0, 190, 40, 0, 137, 67, 44, 81, 4, 0, 0, 63, 122, 160, 383, 38, 182, 101, 3, 0, 135, 34, 22, 34, 1, 0, 77, 119, 60, 79, 68, 34, 4, 1, 2, 0, 75, 11, 54, 78, 59, 1, 0, 31, 78, 105, 1, 0]}],                        {\"legend\": {\"tracegroupgap\": 0}, \"template\": {\"data\": {\"bar\": [{\"error_x\": {\"color\": \"#2a3f5f\"}, \"error_y\": {\"color\": \"#2a3f5f\"}, \"marker\": {\"line\": {\"color\": \"#E5ECF6\", \"width\": 0.5}}, \"type\": \"bar\"}], \"barpolar\": [{\"marker\": {\"line\": {\"color\": \"#E5ECF6\", \"width\": 0.5}}, \"type\": \"barpolar\"}], \"carpet\": [{\"aaxis\": {\"endlinecolor\": \"#2a3f5f\", \"gridcolor\": \"white\", \"linecolor\": \"white\", \"minorgridcolor\": \"white\", \"startlinecolor\": \"#2a3f5f\"}, \"baxis\": {\"endlinecolor\": \"#2a3f5f\", \"gridcolor\": \"white\", \"linecolor\": \"white\", \"minorgridcolor\": \"white\", \"startlinecolor\": \"#2a3f5f\"}, \"type\": \"carpet\"}], \"choropleth\": [{\"colorbar\": {\"outlinewidth\": 0, \"ticks\": \"\"}, \"type\": \"choropleth\"}], \"contour\": [{\"colorbar\": {\"outlinewidth\": 0, \"ticks\": \"\"}, \"colorscale\": [[0.0, \"#0d0887\"], [0.1111111111111111, \"#46039f\"], [0.2222222222222222, \"#7201a8\"], [0.3333333333333333, \"#9c179e\"], [0.4444444444444444, \"#bd3786\"], [0.5555555555555556, \"#d8576b\"], [0.6666666666666666, \"#ed7953\"], [0.7777777777777778, \"#fb9f3a\"], [0.8888888888888888, \"#fdca26\"], [1.0, \"#f0f921\"]], \"type\": \"contour\"}], \"contourcarpet\": [{\"colorbar\": {\"outlinewidth\": 0, \"ticks\": \"\"}, \"type\": \"contourcarpet\"}], \"heatmap\": [{\"colorbar\": {\"outlinewidth\": 0, \"ticks\": \"\"}, \"colorscale\": [[0.0, \"#0d0887\"], [0.1111111111111111, \"#46039f\"], [0.2222222222222222, \"#7201a8\"], [0.3333333333333333, \"#9c179e\"], [0.4444444444444444, \"#bd3786\"], [0.5555555555555556, \"#d8576b\"], [0.6666666666666666, \"#ed7953\"], [0.7777777777777778, \"#fb9f3a\"], [0.8888888888888888, \"#fdca26\"], [1.0, \"#f0f921\"]], \"type\": \"heatmap\"}], \"heatmapgl\": [{\"colorbar\": {\"outlinewidth\": 0, \"ticks\": \"\"}, \"colorscale\": [[0.0, \"#0d0887\"], [0.1111111111111111, \"#46039f\"], [0.2222222222222222, \"#7201a8\"], [0.3333333333333333, \"#9c179e\"], [0.4444444444444444, \"#bd3786\"], [0.5555555555555556, \"#d8576b\"], [0.6666666666666666, \"#ed7953\"], [0.7777777777777778, \"#fb9f3a\"], [0.8888888888888888, \"#fdca26\"], [1.0, \"#f0f921\"]], \"type\": \"heatmapgl\"}], \"histogram\": [{\"marker\": {\"colorbar\": {\"outlinewidth\": 0, \"ticks\": \"\"}}, \"type\": \"histogram\"}], \"histogram2d\": [{\"colorbar\": {\"outlinewidth\": 0, \"ticks\": \"\"}, \"colorscale\": [[0.0, \"#0d0887\"], [0.1111111111111111, \"#46039f\"], [0.2222222222222222, \"#7201a8\"], [0.3333333333333333, \"#9c179e\"], [0.4444444444444444, \"#bd3786\"], [0.5555555555555556, \"#d8576b\"], [0.6666666666666666, \"#ed7953\"], [0.7777777777777778, \"#fb9f3a\"], [0.8888888888888888, \"#fdca26\"], [1.0, \"#f0f921\"]], \"type\": \"histogram2d\"}], \"histogram2dcontour\": [{\"colorbar\": {\"outlinewidth\": 0, \"ticks\": \"\"}, \"colorscale\": [[0.0, \"#0d0887\"], [0.1111111111111111, \"#46039f\"], [0.2222222222222222, \"#7201a8\"], [0.3333333333333333, \"#9c179e\"], [0.4444444444444444, \"#bd3786\"], [0.5555555555555556, \"#d8576b\"], [0.6666666666666666, \"#ed7953\"], [0.7777777777777778, \"#fb9f3a\"], [0.8888888888888888, \"#fdca26\"], [1.0, \"#f0f921\"]], \"type\": \"histogram2dcontour\"}], \"mesh3d\": [{\"colorbar\": {\"outlinewidth\": 0, \"ticks\": \"\"}, \"type\": \"mesh3d\"}], \"parcoords\": [{\"line\": {\"colorbar\": {\"outlinewidth\": 0, \"ticks\": \"\"}}, \"type\": \"parcoords\"}], \"pie\": [{\"automargin\": true, \"type\": \"pie\"}], \"scatter\": [{\"marker\": {\"colorbar\": {\"outlinewidth\": 0, \"ticks\": \"\"}}, \"type\": \"scatter\"}], \"scatter3d\": [{\"line\": {\"colorbar\": {\"outlinewidth\": 0, \"ticks\": \"\"}}, \"marker\": {\"colorbar\": {\"outlinewidth\": 0, \"ticks\": \"\"}}, \"type\": \"scatter3d\"}], \"scattercarpet\": [{\"marker\": {\"colorbar\": {\"outlinewidth\": 0, \"ticks\": \"\"}}, \"type\": \"scattercarpet\"}], \"scattergeo\": [{\"marker\": {\"colorbar\": {\"outlinewidth\": 0, \"ticks\": \"\"}}, \"type\": \"scattergeo\"}], \"scattergl\": [{\"marker\": {\"colorbar\": {\"outlinewidth\": 0, \"ticks\": \"\"}}, \"type\": \"scattergl\"}], \"scattermapbox\": [{\"marker\": {\"colorbar\": {\"outlinewidth\": 0, \"ticks\": \"\"}}, \"type\": \"scattermapbox\"}], \"scatterpolar\": [{\"marker\": {\"colorbar\": {\"outlinewidth\": 0, \"ticks\": \"\"}}, \"type\": \"scatterpolar\"}], \"scatterpolargl\": [{\"marker\": {\"colorbar\": {\"outlinewidth\": 0, \"ticks\": \"\"}}, \"type\": \"scatterpolargl\"}], \"scatterternary\": [{\"marker\": {\"colorbar\": {\"outlinewidth\": 0, \"ticks\": \"\"}}, \"type\": \"scatterternary\"}], \"surface\": [{\"colorbar\": {\"outlinewidth\": 0, \"ticks\": \"\"}, \"colorscale\": [[0.0, \"#0d0887\"], [0.1111111111111111, \"#46039f\"], [0.2222222222222222, \"#7201a8\"], [0.3333333333333333, \"#9c179e\"], [0.4444444444444444, \"#bd3786\"], [0.5555555555555556, \"#d8576b\"], [0.6666666666666666, \"#ed7953\"], [0.7777777777777778, \"#fb9f3a\"], [0.8888888888888888, \"#fdca26\"], [1.0, \"#f0f921\"]], \"type\": \"surface\"}], \"table\": [{\"cells\": {\"fill\": {\"color\": \"#EBF0F8\"}, \"line\": {\"color\": \"white\"}}, \"header\": {\"fill\": {\"color\": \"#C8D4E3\"}, \"line\": {\"color\": \"white\"}}, \"type\": \"table\"}]}, \"layout\": {\"annotationdefaults\": {\"arrowcolor\": \"#2a3f5f\", \"arrowhead\": 0, \"arrowwidth\": 1}, \"autotypenumbers\": \"strict\", \"coloraxis\": {\"colorbar\": {\"outlinewidth\": 0, \"ticks\": \"\"}}, \"colorscale\": {\"diverging\": [[0, \"#8e0152\"], [0.1, \"#c51b7d\"], [0.2, \"#de77ae\"], [0.3, \"#f1b6da\"], [0.4, \"#fde0ef\"], [0.5, \"#f7f7f7\"], [0.6, \"#e6f5d0\"], [0.7, \"#b8e186\"], [0.8, \"#7fbc41\"], [0.9, \"#4d9221\"], [1, \"#276419\"]], \"sequential\": [[0.0, \"#0d0887\"], [0.1111111111111111, \"#46039f\"], [0.2222222222222222, \"#7201a8\"], [0.3333333333333333, \"#9c179e\"], [0.4444444444444444, \"#bd3786\"], [0.5555555555555556, \"#d8576b\"], [0.6666666666666666, \"#ed7953\"], [0.7777777777777778, \"#fb9f3a\"], [0.8888888888888888, \"#fdca26\"], [1.0, \"#f0f921\"]], \"sequentialminus\": [[0.0, \"#0d0887\"], [0.1111111111111111, \"#46039f\"], [0.2222222222222222, \"#7201a8\"], [0.3333333333333333, \"#9c179e\"], [0.4444444444444444, \"#bd3786\"], [0.5555555555555556, \"#d8576b\"], [0.6666666666666666, \"#ed7953\"], [0.7777777777777778, \"#fb9f3a\"], [0.8888888888888888, \"#fdca26\"], [1.0, \"#f0f921\"]]}, \"colorway\": [\"#636efa\", \"#EF553B\", \"#00cc96\", \"#ab63fa\", \"#FFA15A\", \"#19d3f3\", \"#FF6692\", \"#B6E880\", \"#FF97FF\", \"#FECB52\"], \"font\": {\"color\": \"#2a3f5f\"}, \"geo\": {\"bgcolor\": \"white\", \"lakecolor\": \"white\", \"landcolor\": \"#E5ECF6\", \"showlakes\": true, \"showland\": true, \"subunitcolor\": \"white\"}, \"hoverlabel\": {\"align\": \"left\"}, \"hovermode\": \"closest\", \"mapbox\": {\"style\": \"light\"}, \"paper_bgcolor\": \"white\", \"plot_bgcolor\": \"#E5ECF6\", \"polar\": {\"angularaxis\": {\"gridcolor\": \"white\", \"linecolor\": \"white\", \"ticks\": \"\"}, \"bgcolor\": \"#E5ECF6\", \"radialaxis\": {\"gridcolor\": \"white\", \"linecolor\": \"white\", \"ticks\": \"\"}}, \"scene\": {\"xaxis\": {\"backgroundcolor\": \"#E5ECF6\", \"gridcolor\": \"white\", \"gridwidth\": 2, \"linecolor\": \"white\", \"showbackground\": true, \"ticks\": \"\", \"zerolinecolor\": \"white\"}, \"yaxis\": {\"backgroundcolor\": \"#E5ECF6\", \"gridcolor\": \"white\", \"gridwidth\": 2, \"linecolor\": \"white\", \"showbackground\": true, \"ticks\": \"\", \"zerolinecolor\": \"white\"}, \"zaxis\": {\"backgroundcolor\": \"#E5ECF6\", \"gridcolor\": \"white\", \"gridwidth\": 2, \"linecolor\": \"white\", \"showbackground\": true, \"ticks\": \"\", \"zerolinecolor\": \"white\"}}, \"shapedefaults\": {\"line\": {\"color\": \"#2a3f5f\"}}, \"ternary\": {\"aaxis\": {\"gridcolor\": \"white\", \"linecolor\": \"white\", \"ticks\": \"\"}, \"baxis\": {\"gridcolor\": \"white\", \"linecolor\": \"white\", \"ticks\": \"\"}, \"bgcolor\": \"#E5ECF6\", \"caxis\": {\"gridcolor\": \"white\", \"linecolor\": \"white\", \"ticks\": \"\"}}, \"title\": {\"x\": 0.05}, \"xaxis\": {\"automargin\": true, \"gridcolor\": \"white\", \"linecolor\": \"white\", \"ticks\": \"\", \"title\": {\"standoff\": 15}, \"zerolinecolor\": \"white\", \"zerolinewidth\": 2}, \"yaxis\": {\"automargin\": true, \"gridcolor\": \"white\", \"linecolor\": \"white\", \"ticks\": \"\", \"title\": {\"standoff\": 15}, \"zerolinecolor\": \"white\", \"zerolinewidth\": 2}}}, \"title\": {\"text\": \"countries represented in the EPL by number of appearances\"}},                        {\"responsive\": true}                    ).then(function(){\n",
       "                            \n",
       "var gd = document.getElementById('bd783b03-55d0-44d7-bfa1-f4cc6e60c514');\n",
       "var x = new MutationObserver(function (mutations, observer) {{\n",
       "        var display = window.getComputedStyle(gd).display;\n",
       "        if (!display || display === 'none') {{\n",
       "            console.log([gd, 'removed!']);\n",
       "            Plotly.purge(gd);\n",
       "            observer.disconnect();\n",
       "        }}\n",
       "}});\n",
       "\n",
       "// Listen for the removal of the full notebook cells\n",
       "var notebookContainer = gd.closest('#notebook-container');\n",
       "if (notebookContainer) {{\n",
       "    x.observe(notebookContainer, {childList: true});\n",
       "}}\n",
       "\n",
       "// Listen for the clearing of the current output cell\n",
       "var outputEl = gd.closest('.output');\n",
       "if (outputEl) {{\n",
       "    x.observe(outputEl, {childList: true});\n",
       "}}\n",
       "\n",
       "                        })                };                });            </script>        </div>"
      ]
     },
     "metadata": {},
     "output_type": "display_data"
    }
   ],
   "source": [
    "fig = px.pie(data, values = 'Appearances', names ='Nationality', \n",
    "             title=\"countries represented in the EPL by number of appearances\")\n",
    "fig.update_traces(textposition='inside', textinfo='percent+label')\n",
    "# fig.update_layout(title_text = 'countries represented in the EPL by number of appearances, title_x=0.5, font=dict(color='black',\n",
    "#, size=20, family='Courier New, monospace')')\n",
    "iplot(fig)"
   ]
  },
  {
   "cell_type": "code",
   "execution_count": 15,
   "metadata": {},
   "outputs": [
    {
     "data": {
      "application/vnd.plotly.v1+json": {
       "config": {
        "linkText": "Export to plot.ly",
        "plotlyServerURL": "https://plot.ly",
        "showLink": false
       },
       "data": [
        {
         "branchvalues": "total",
         "domain": {
          "x": [
           0,
           1
          ],
          "y": [
           0,
           1
          ]
         },
         "hovertemplate": "labels=%{label}<br>Appearances=%{value}<br>parent=%{parent}<br>id=%{id}<extra></extra>",
         "ids": [
          "Forward/Algeria",
          "Midfielder/Algeria",
          "Defender/Argentina",
          "Forward/Argentina",
          "Goalkeeper/Argentina",
          "Midfielder/Argentina",
          "Goalkeeper/Australia",
          "Midfielder/Australia",
          "Defender/Austria",
          "Defender/Belgium",
          "Forward/Belgium",
          "Midfielder/Belgium",
          "Defender/Bosnia And Herzegovina",
          "Midfielder/Bosnia And Herzegovina",
          "Defender/Brazil",
          "Forward/Brazil",
          "Goalkeeper/Brazil",
          "Midfielder/Brazil",
          "Defender/Cameroon",
          "Midfielder/Cameroon",
          "Defender/Colombia",
          "Forward/Colombia",
          "Midfielder/Colombia",
          "Defender/Cote D'Ivoire",
          "Forward/Cote D'Ivoire",
          "Midfielder/Cote D'Ivoire",
          "Defender/Croatia",
          "Goalkeeper/Croatia",
          "Midfielder/Croatia",
          "Forward/Czech Republic",
          "Defender/Denmark",
          "Forward/Denmark",
          "Goalkeeper/Denmark",
          "Midfielder/Denmark",
          "Forward/Ecuador",
          "Defender/Egypt",
          "Forward/Egypt",
          "Midfielder/Egypt",
          "Defender/England",
          "Forward/England",
          "Goalkeeper/England",
          "Midfielder/England",
          "Defender/France",
          "Forward/France",
          "Goalkeeper/France",
          "Midfielder/France",
          "Forward/Gabon",
          "Midfielder/Gabon",
          "Defender/Germany",
          "Forward/Germany",
          "Goalkeeper/Germany",
          "Midfielder/Germany",
          "Defender/Ghana",
          "Forward/Ghana",
          "Midfielder/Ghana",
          "Defender/Greece",
          "Midfielder/Guinea",
          "Goalkeeper/Iceland",
          "Midfielder/Iceland",
          "Forward/Iran",
          "Defender/Ireland",
          "Forward/Ireland",
          "Goalkeeper/Ireland",
          "Midfielder/Ireland",
          "Defender/Italy",
          "Forward/Italy",
          "Goalkeeper/Italy",
          "Midfielder/Italy",
          "Defender/Jamaica",
          "Forward/Jamaica",
          "Forward/Japan",
          "Forward/Mali",
          "Midfielder/Mali",
          "Forward/Mexico",
          "Midfielder/Morocco",
          "Defender/Netherlands",
          "Forward/Netherlands",
          "Goalkeeper/Netherlands",
          "Midfielder/Netherlands",
          "Forward/New Zealand",
          "Defender/Nigeria",
          "Forward/Nigeria",
          "Midfielder/Nigeria",
          "Defender/Northern Ireland",
          "Goalkeeper/Northern Ireland",
          "Midfielder/Northern Ireland",
          "Goalkeeper/Norway",
          "Midfielder/Norway",
          "Defender/Paraguay",
          "Midfielder/Paraguay",
          "Defender/Poland",
          "Goalkeeper/Poland",
          "Midfielder/Poland",
          "Defender/Portugal",
          "Forward/Portugal",
          "Goalkeeper/Portugal",
          "Midfielder/Portugal",
          "Forward/Romania",
          "Midfielder/Saint Kitts And Nevis",
          "Defender/Scotland",
          "Forward/Scotland",
          "Midfielder/Scotland",
          "Forward/Senegal",
          "Midfielder/Senegal",
          "Defender/Serbia",
          "Forward/Serbia",
          "Midfielder/Serbia",
          "Goalkeeper/Slovakia",
          "Forward/South Korea",
          "Defender/Spain",
          "Forward/Spain",
          "Goalkeeper/Spain",
          "Midfielder/Spain",
          "Defender/Sweden",
          "Forward/Sweden",
          "Midfielder/Sweden",
          "Defender/Switzerland",
          "Goalkeeper/Switzerland",
          "Midfielder/Switzerland",
          "Defender/The Democratic Republic Of Congo",
          "Forward/The Democratic Republic Of Congo",
          "Midfielder/The Democratic Republic Of Congo",
          "Defender/Turkey",
          "Forward/Turkey",
          "Defender/Ukraine",
          "Forward/Ukraine",
          "Defender/United States",
          "Midfielder/United States",
          "Midfielder/Uruguay",
          "Defender/Wales",
          "Forward/Wales",
          "Goalkeeper/Wales",
          "Midfielder/Wales",
          "Midfielder/Zimbabwe",
          "Defender",
          "Forward",
          "Goalkeeper",
          "Midfielder"
         ],
         "labels": [
          "Algeria",
          "Algeria",
          "Argentina",
          "Argentina",
          "Argentina",
          "Argentina",
          "Australia",
          "Australia",
          "Austria",
          "Belgium",
          "Belgium",
          "Belgium",
          "Bosnia And Herzegovina",
          "Bosnia And Herzegovina",
          "Brazil",
          "Brazil",
          "Brazil",
          "Brazil",
          "Cameroon",
          "Cameroon",
          "Colombia",
          "Colombia",
          "Colombia",
          "Cote D'Ivoire",
          "Cote D'Ivoire",
          "Cote D'Ivoire",
          "Croatia",
          "Croatia",
          "Croatia",
          "Czech Republic",
          "Denmark",
          "Denmark",
          "Denmark",
          "Denmark",
          "Ecuador",
          "Egypt",
          "Egypt",
          "Egypt",
          "England",
          "England",
          "England",
          "England",
          "France",
          "France",
          "France",
          "France",
          "Gabon",
          "Gabon",
          "Germany",
          "Germany",
          "Germany",
          "Germany",
          "Ghana",
          "Ghana",
          "Ghana",
          "Greece",
          "Guinea",
          "Iceland",
          "Iceland",
          "Iran",
          "Ireland",
          "Ireland",
          "Ireland",
          "Ireland",
          "Italy",
          "Italy",
          "Italy",
          "Italy",
          "Jamaica",
          "Jamaica",
          "Japan",
          "Mali",
          "Mali",
          "Mexico",
          "Morocco",
          "Netherlands",
          "Netherlands",
          "Netherlands",
          "Netherlands",
          "New Zealand",
          "Nigeria",
          "Nigeria",
          "Nigeria",
          "Northern Ireland",
          "Northern Ireland",
          "Northern Ireland",
          "Norway",
          "Norway",
          "Paraguay",
          "Paraguay",
          "Poland",
          "Poland",
          "Poland",
          "Portugal",
          "Portugal",
          "Portugal",
          "Portugal",
          "Romania",
          "Saint Kitts And Nevis",
          "Scotland",
          "Scotland",
          "Scotland",
          "Senegal",
          "Senegal",
          "Serbia",
          "Serbia",
          "Serbia",
          "Slovakia",
          "South Korea",
          "Spain",
          "Spain",
          "Spain",
          "Spain",
          "Sweden",
          "Sweden",
          "Sweden",
          "Switzerland",
          "Switzerland",
          "Switzerland",
          "The Democratic Republic Of Congo",
          "The Democratic Republic Of Congo",
          "The Democratic Republic Of Congo",
          "Turkey",
          "Turkey",
          "Ukraine",
          "Ukraine",
          "United States",
          "United States",
          "Uruguay",
          "Wales",
          "Wales",
          "Wales",
          "Wales",
          "Zimbabwe",
          "Defender",
          "Forward",
          "Goalkeeper",
          "Midfielder"
         ],
         "name": "",
         "parents": [
          "Forward",
          "Midfielder",
          "Defender",
          "Forward",
          "Goalkeeper",
          "Midfielder",
          "Goalkeeper",
          "Midfielder",
          "Defender",
          "Defender",
          "Forward",
          "Midfielder",
          "Defender",
          "Midfielder",
          "Defender",
          "Forward",
          "Goalkeeper",
          "Midfielder",
          "Defender",
          "Midfielder",
          "Defender",
          "Forward",
          "Midfielder",
          "Defender",
          "Forward",
          "Midfielder",
          "Defender",
          "Goalkeeper",
          "Midfielder",
          "Forward",
          "Defender",
          "Forward",
          "Goalkeeper",
          "Midfielder",
          "Forward",
          "Defender",
          "Forward",
          "Midfielder",
          "Defender",
          "Forward",
          "Goalkeeper",
          "Midfielder",
          "Defender",
          "Forward",
          "Goalkeeper",
          "Midfielder",
          "Forward",
          "Midfielder",
          "Defender",
          "Forward",
          "Goalkeeper",
          "Midfielder",
          "Defender",
          "Forward",
          "Midfielder",
          "Defender",
          "Midfielder",
          "Goalkeeper",
          "Midfielder",
          "Forward",
          "Defender",
          "Forward",
          "Goalkeeper",
          "Midfielder",
          "Defender",
          "Forward",
          "Goalkeeper",
          "Midfielder",
          "Defender",
          "Forward",
          "Forward",
          "Forward",
          "Midfielder",
          "Forward",
          "Midfielder",
          "Defender",
          "Forward",
          "Goalkeeper",
          "Midfielder",
          "Forward",
          "Defender",
          "Forward",
          "Midfielder",
          "Defender",
          "Goalkeeper",
          "Midfielder",
          "Goalkeeper",
          "Midfielder",
          "Defender",
          "Midfielder",
          "Defender",
          "Goalkeeper",
          "Midfielder",
          "Defender",
          "Forward",
          "Goalkeeper",
          "Midfielder",
          "Forward",
          "Midfielder",
          "Defender",
          "Forward",
          "Midfielder",
          "Forward",
          "Midfielder",
          "Defender",
          "Forward",
          "Midfielder",
          "Goalkeeper",
          "Forward",
          "Defender",
          "Forward",
          "Goalkeeper",
          "Midfielder",
          "Defender",
          "Forward",
          "Midfielder",
          "Defender",
          "Goalkeeper",
          "Midfielder",
          "Defender",
          "Forward",
          "Midfielder",
          "Defender",
          "Forward",
          "Defender",
          "Forward",
          "Defender",
          "Midfielder",
          "Midfielder",
          "Defender",
          "Forward",
          "Goalkeeper",
          "Midfielder",
          "Midfielder",
          "",
          "",
          "",
          ""
         ],
         "type": "sunburst",
         "values": [
          238,
          19,
          398,
          263,
          99,
          315,
          112,
          0,
          107,
          228,
          409,
          296,
          78,
          46,
          234,
          840,
          179,
          476,
          86,
          24,
          128,
          47,
          23,
          112,
          250,
          34,
          0,
          0,
          64,
          57,
          103,
          19,
          280,
          111,
          0,
          221,
          123,
          82,
          5714,
          2901,
          1278,
          6296,
          648,
          687,
          263,
          768,
          87,
          47,
          181,
          2,
          93,
          427,
          46,
          139,
          228,
          44,
          45,
          0,
          380,
          31,
          655,
          428,
          31,
          566,
          167,
          31,
          0,
          70,
          170,
          29,
          11,
          15,
          72,
          78,
          124,
          742,
          16,
          0,
          345,
          105,
          5,
          310,
          122,
          327,
          0,
          41,
          7,
          28,
          40,
          48,
          66,
          246,
          17,
          134,
          125,
          77,
          354,
          26,
          2,
          472,
          54,
          1087,
          196,
          202,
          261,
          79,
          337,
          89,
          162,
          745,
          311,
          580,
          614,
          100,
          0,
          0,
          46,
          28,
          247,
          81,
          119,
          17,
          42,
          49,
          41,
          34,
          143,
          25,
          63,
          482,
          231,
          183,
          65,
          29,
          13047,
          8502,
          3545,
          14156
         ]
        }
       ],
       "layout": {
        "legend": {
         "tracegroupgap": 0
        },
        "template": {
         "data": {
          "bar": [
           {
            "error_x": {
             "color": "#2a3f5f"
            },
            "error_y": {
             "color": "#2a3f5f"
            },
            "marker": {
             "line": {
              "color": "#E5ECF6",
              "width": 0.5
             }
            },
            "type": "bar"
           }
          ],
          "barpolar": [
           {
            "marker": {
             "line": {
              "color": "#E5ECF6",
              "width": 0.5
             }
            },
            "type": "barpolar"
           }
          ],
          "carpet": [
           {
            "aaxis": {
             "endlinecolor": "#2a3f5f",
             "gridcolor": "white",
             "linecolor": "white",
             "minorgridcolor": "white",
             "startlinecolor": "#2a3f5f"
            },
            "baxis": {
             "endlinecolor": "#2a3f5f",
             "gridcolor": "white",
             "linecolor": "white",
             "minorgridcolor": "white",
             "startlinecolor": "#2a3f5f"
            },
            "type": "carpet"
           }
          ],
          "choropleth": [
           {
            "colorbar": {
             "outlinewidth": 0,
             "ticks": ""
            },
            "type": "choropleth"
           }
          ],
          "contour": [
           {
            "colorbar": {
             "outlinewidth": 0,
             "ticks": ""
            },
            "colorscale": [
             [
              0,
              "#0d0887"
             ],
             [
              0.1111111111111111,
              "#46039f"
             ],
             [
              0.2222222222222222,
              "#7201a8"
             ],
             [
              0.3333333333333333,
              "#9c179e"
             ],
             [
              0.4444444444444444,
              "#bd3786"
             ],
             [
              0.5555555555555556,
              "#d8576b"
             ],
             [
              0.6666666666666666,
              "#ed7953"
             ],
             [
              0.7777777777777778,
              "#fb9f3a"
             ],
             [
              0.8888888888888888,
              "#fdca26"
             ],
             [
              1,
              "#f0f921"
             ]
            ],
            "type": "contour"
           }
          ],
          "contourcarpet": [
           {
            "colorbar": {
             "outlinewidth": 0,
             "ticks": ""
            },
            "type": "contourcarpet"
           }
          ],
          "heatmap": [
           {
            "colorbar": {
             "outlinewidth": 0,
             "ticks": ""
            },
            "colorscale": [
             [
              0,
              "#0d0887"
             ],
             [
              0.1111111111111111,
              "#46039f"
             ],
             [
              0.2222222222222222,
              "#7201a8"
             ],
             [
              0.3333333333333333,
              "#9c179e"
             ],
             [
              0.4444444444444444,
              "#bd3786"
             ],
             [
              0.5555555555555556,
              "#d8576b"
             ],
             [
              0.6666666666666666,
              "#ed7953"
             ],
             [
              0.7777777777777778,
              "#fb9f3a"
             ],
             [
              0.8888888888888888,
              "#fdca26"
             ],
             [
              1,
              "#f0f921"
             ]
            ],
            "type": "heatmap"
           }
          ],
          "heatmapgl": [
           {
            "colorbar": {
             "outlinewidth": 0,
             "ticks": ""
            },
            "colorscale": [
             [
              0,
              "#0d0887"
             ],
             [
              0.1111111111111111,
              "#46039f"
             ],
             [
              0.2222222222222222,
              "#7201a8"
             ],
             [
              0.3333333333333333,
              "#9c179e"
             ],
             [
              0.4444444444444444,
              "#bd3786"
             ],
             [
              0.5555555555555556,
              "#d8576b"
             ],
             [
              0.6666666666666666,
              "#ed7953"
             ],
             [
              0.7777777777777778,
              "#fb9f3a"
             ],
             [
              0.8888888888888888,
              "#fdca26"
             ],
             [
              1,
              "#f0f921"
             ]
            ],
            "type": "heatmapgl"
           }
          ],
          "histogram": [
           {
            "marker": {
             "colorbar": {
              "outlinewidth": 0,
              "ticks": ""
             }
            },
            "type": "histogram"
           }
          ],
          "histogram2d": [
           {
            "colorbar": {
             "outlinewidth": 0,
             "ticks": ""
            },
            "colorscale": [
             [
              0,
              "#0d0887"
             ],
             [
              0.1111111111111111,
              "#46039f"
             ],
             [
              0.2222222222222222,
              "#7201a8"
             ],
             [
              0.3333333333333333,
              "#9c179e"
             ],
             [
              0.4444444444444444,
              "#bd3786"
             ],
             [
              0.5555555555555556,
              "#d8576b"
             ],
             [
              0.6666666666666666,
              "#ed7953"
             ],
             [
              0.7777777777777778,
              "#fb9f3a"
             ],
             [
              0.8888888888888888,
              "#fdca26"
             ],
             [
              1,
              "#f0f921"
             ]
            ],
            "type": "histogram2d"
           }
          ],
          "histogram2dcontour": [
           {
            "colorbar": {
             "outlinewidth": 0,
             "ticks": ""
            },
            "colorscale": [
             [
              0,
              "#0d0887"
             ],
             [
              0.1111111111111111,
              "#46039f"
             ],
             [
              0.2222222222222222,
              "#7201a8"
             ],
             [
              0.3333333333333333,
              "#9c179e"
             ],
             [
              0.4444444444444444,
              "#bd3786"
             ],
             [
              0.5555555555555556,
              "#d8576b"
             ],
             [
              0.6666666666666666,
              "#ed7953"
             ],
             [
              0.7777777777777778,
              "#fb9f3a"
             ],
             [
              0.8888888888888888,
              "#fdca26"
             ],
             [
              1,
              "#f0f921"
             ]
            ],
            "type": "histogram2dcontour"
           }
          ],
          "mesh3d": [
           {
            "colorbar": {
             "outlinewidth": 0,
             "ticks": ""
            },
            "type": "mesh3d"
           }
          ],
          "parcoords": [
           {
            "line": {
             "colorbar": {
              "outlinewidth": 0,
              "ticks": ""
             }
            },
            "type": "parcoords"
           }
          ],
          "pie": [
           {
            "automargin": true,
            "type": "pie"
           }
          ],
          "scatter": [
           {
            "marker": {
             "colorbar": {
              "outlinewidth": 0,
              "ticks": ""
             }
            },
            "type": "scatter"
           }
          ],
          "scatter3d": [
           {
            "line": {
             "colorbar": {
              "outlinewidth": 0,
              "ticks": ""
             }
            },
            "marker": {
             "colorbar": {
              "outlinewidth": 0,
              "ticks": ""
             }
            },
            "type": "scatter3d"
           }
          ],
          "scattercarpet": [
           {
            "marker": {
             "colorbar": {
              "outlinewidth": 0,
              "ticks": ""
             }
            },
            "type": "scattercarpet"
           }
          ],
          "scattergeo": [
           {
            "marker": {
             "colorbar": {
              "outlinewidth": 0,
              "ticks": ""
             }
            },
            "type": "scattergeo"
           }
          ],
          "scattergl": [
           {
            "marker": {
             "colorbar": {
              "outlinewidth": 0,
              "ticks": ""
             }
            },
            "type": "scattergl"
           }
          ],
          "scattermapbox": [
           {
            "marker": {
             "colorbar": {
              "outlinewidth": 0,
              "ticks": ""
             }
            },
            "type": "scattermapbox"
           }
          ],
          "scatterpolar": [
           {
            "marker": {
             "colorbar": {
              "outlinewidth": 0,
              "ticks": ""
             }
            },
            "type": "scatterpolar"
           }
          ],
          "scatterpolargl": [
           {
            "marker": {
             "colorbar": {
              "outlinewidth": 0,
              "ticks": ""
             }
            },
            "type": "scatterpolargl"
           }
          ],
          "scatterternary": [
           {
            "marker": {
             "colorbar": {
              "outlinewidth": 0,
              "ticks": ""
             }
            },
            "type": "scatterternary"
           }
          ],
          "surface": [
           {
            "colorbar": {
             "outlinewidth": 0,
             "ticks": ""
            },
            "colorscale": [
             [
              0,
              "#0d0887"
             ],
             [
              0.1111111111111111,
              "#46039f"
             ],
             [
              0.2222222222222222,
              "#7201a8"
             ],
             [
              0.3333333333333333,
              "#9c179e"
             ],
             [
              0.4444444444444444,
              "#bd3786"
             ],
             [
              0.5555555555555556,
              "#d8576b"
             ],
             [
              0.6666666666666666,
              "#ed7953"
             ],
             [
              0.7777777777777778,
              "#fb9f3a"
             ],
             [
              0.8888888888888888,
              "#fdca26"
             ],
             [
              1,
              "#f0f921"
             ]
            ],
            "type": "surface"
           }
          ],
          "table": [
           {
            "cells": {
             "fill": {
              "color": "#EBF0F8"
             },
             "line": {
              "color": "white"
             }
            },
            "header": {
             "fill": {
              "color": "#C8D4E3"
             },
             "line": {
              "color": "white"
             }
            },
            "type": "table"
           }
          ]
         },
         "layout": {
          "annotationdefaults": {
           "arrowcolor": "#2a3f5f",
           "arrowhead": 0,
           "arrowwidth": 1
          },
          "autotypenumbers": "strict",
          "coloraxis": {
           "colorbar": {
            "outlinewidth": 0,
            "ticks": ""
           }
          },
          "colorscale": {
           "diverging": [
            [
             0,
             "#8e0152"
            ],
            [
             0.1,
             "#c51b7d"
            ],
            [
             0.2,
             "#de77ae"
            ],
            [
             0.3,
             "#f1b6da"
            ],
            [
             0.4,
             "#fde0ef"
            ],
            [
             0.5,
             "#f7f7f7"
            ],
            [
             0.6,
             "#e6f5d0"
            ],
            [
             0.7,
             "#b8e186"
            ],
            [
             0.8,
             "#7fbc41"
            ],
            [
             0.9,
             "#4d9221"
            ],
            [
             1,
             "#276419"
            ]
           ],
           "sequential": [
            [
             0,
             "#0d0887"
            ],
            [
             0.1111111111111111,
             "#46039f"
            ],
            [
             0.2222222222222222,
             "#7201a8"
            ],
            [
             0.3333333333333333,
             "#9c179e"
            ],
            [
             0.4444444444444444,
             "#bd3786"
            ],
            [
             0.5555555555555556,
             "#d8576b"
            ],
            [
             0.6666666666666666,
             "#ed7953"
            ],
            [
             0.7777777777777778,
             "#fb9f3a"
            ],
            [
             0.8888888888888888,
             "#fdca26"
            ],
            [
             1,
             "#f0f921"
            ]
           ],
           "sequentialminus": [
            [
             0,
             "#0d0887"
            ],
            [
             0.1111111111111111,
             "#46039f"
            ],
            [
             0.2222222222222222,
             "#7201a8"
            ],
            [
             0.3333333333333333,
             "#9c179e"
            ],
            [
             0.4444444444444444,
             "#bd3786"
            ],
            [
             0.5555555555555556,
             "#d8576b"
            ],
            [
             0.6666666666666666,
             "#ed7953"
            ],
            [
             0.7777777777777778,
             "#fb9f3a"
            ],
            [
             0.8888888888888888,
             "#fdca26"
            ],
            [
             1,
             "#f0f921"
            ]
           ]
          },
          "colorway": [
           "#636efa",
           "#EF553B",
           "#00cc96",
           "#ab63fa",
           "#FFA15A",
           "#19d3f3",
           "#FF6692",
           "#B6E880",
           "#FF97FF",
           "#FECB52"
          ],
          "font": {
           "color": "#2a3f5f"
          },
          "geo": {
           "bgcolor": "white",
           "lakecolor": "white",
           "landcolor": "#E5ECF6",
           "showlakes": true,
           "showland": true,
           "subunitcolor": "white"
          },
          "hoverlabel": {
           "align": "left"
          },
          "hovermode": "closest",
          "mapbox": {
           "style": "light"
          },
          "paper_bgcolor": "white",
          "plot_bgcolor": "#E5ECF6",
          "polar": {
           "angularaxis": {
            "gridcolor": "white",
            "linecolor": "white",
            "ticks": ""
           },
           "bgcolor": "#E5ECF6",
           "radialaxis": {
            "gridcolor": "white",
            "linecolor": "white",
            "ticks": ""
           }
          },
          "scene": {
           "xaxis": {
            "backgroundcolor": "#E5ECF6",
            "gridcolor": "white",
            "gridwidth": 2,
            "linecolor": "white",
            "showbackground": true,
            "ticks": "",
            "zerolinecolor": "white"
           },
           "yaxis": {
            "backgroundcolor": "#E5ECF6",
            "gridcolor": "white",
            "gridwidth": 2,
            "linecolor": "white",
            "showbackground": true,
            "ticks": "",
            "zerolinecolor": "white"
           },
           "zaxis": {
            "backgroundcolor": "#E5ECF6",
            "gridcolor": "white",
            "gridwidth": 2,
            "linecolor": "white",
            "showbackground": true,
            "ticks": "",
            "zerolinecolor": "white"
           }
          },
          "shapedefaults": {
           "line": {
            "color": "#2a3f5f"
           }
          },
          "ternary": {
           "aaxis": {
            "gridcolor": "white",
            "linecolor": "white",
            "ticks": ""
           },
           "baxis": {
            "gridcolor": "white",
            "linecolor": "white",
            "ticks": ""
           },
           "bgcolor": "#E5ECF6",
           "caxis": {
            "gridcolor": "white",
            "linecolor": "white",
            "ticks": ""
           }
          },
          "title": {
           "x": 0.05
          },
          "xaxis": {
           "automargin": true,
           "gridcolor": "white",
           "linecolor": "white",
           "ticks": "",
           "title": {
            "standoff": 15
           },
           "zerolinecolor": "white",
           "zerolinewidth": 2
          },
          "yaxis": {
           "automargin": true,
           "gridcolor": "white",
           "linecolor": "white",
           "ticks": "",
           "title": {
            "standoff": 15
           },
           "zerolinecolor": "white",
           "zerolinewidth": 2
          }
         }
        },
        "title": {
         "text": "Countries represented in the EPL by number of appearances and by players position"
        }
       }
      },
      "text/html": [
       "<div>                            <div id=\"b46c698d-7816-4935-9cfe-1c4151b7683e\" class=\"plotly-graph-div\" style=\"height:525px; width:100%;\"></div>            <script type=\"text/javascript\">                require([\"plotly\"], function(Plotly) {                    window.PLOTLYENV=window.PLOTLYENV || {};                                    if (document.getElementById(\"b46c698d-7816-4935-9cfe-1c4151b7683e\")) {                    Plotly.newPlot(                        \"b46c698d-7816-4935-9cfe-1c4151b7683e\",                        [{\"branchvalues\": \"total\", \"domain\": {\"x\": [0.0, 1.0], \"y\": [0.0, 1.0]}, \"hovertemplate\": \"labels=%{label}<br>Appearances=%{value}<br>parent=%{parent}<br>id=%{id}<extra></extra>\", \"ids\": [\"Forward/Algeria\", \"Midfielder/Algeria\", \"Defender/Argentina\", \"Forward/Argentina\", \"Goalkeeper/Argentina\", \"Midfielder/Argentina\", \"Goalkeeper/Australia\", \"Midfielder/Australia\", \"Defender/Austria\", \"Defender/Belgium\", \"Forward/Belgium\", \"Midfielder/Belgium\", \"Defender/Bosnia And Herzegovina\", \"Midfielder/Bosnia And Herzegovina\", \"Defender/Brazil\", \"Forward/Brazil\", \"Goalkeeper/Brazil\", \"Midfielder/Brazil\", \"Defender/Cameroon\", \"Midfielder/Cameroon\", \"Defender/Colombia\", \"Forward/Colombia\", \"Midfielder/Colombia\", \"Defender/Cote D'Ivoire\", \"Forward/Cote D'Ivoire\", \"Midfielder/Cote D'Ivoire\", \"Defender/Croatia\", \"Goalkeeper/Croatia\", \"Midfielder/Croatia\", \"Forward/Czech Republic\", \"Defender/Denmark\", \"Forward/Denmark\", \"Goalkeeper/Denmark\", \"Midfielder/Denmark\", \"Forward/Ecuador\", \"Defender/Egypt\", \"Forward/Egypt\", \"Midfielder/Egypt\", \"Defender/England\", \"Forward/England\", \"Goalkeeper/England\", \"Midfielder/England\", \"Defender/France\", \"Forward/France\", \"Goalkeeper/France\", \"Midfielder/France\", \"Forward/Gabon\", \"Midfielder/Gabon\", \"Defender/Germany\", \"Forward/Germany\", \"Goalkeeper/Germany\", \"Midfielder/Germany\", \"Defender/Ghana\", \"Forward/Ghana\", \"Midfielder/Ghana\", \"Defender/Greece\", \"Midfielder/Guinea\", \"Goalkeeper/Iceland\", \"Midfielder/Iceland\", \"Forward/Iran\", \"Defender/Ireland\", \"Forward/Ireland\", \"Goalkeeper/Ireland\", \"Midfielder/Ireland\", \"Defender/Italy\", \"Forward/Italy\", \"Goalkeeper/Italy\", \"Midfielder/Italy\", \"Defender/Jamaica\", \"Forward/Jamaica\", \"Forward/Japan\", \"Forward/Mali\", \"Midfielder/Mali\", \"Forward/Mexico\", \"Midfielder/Morocco\", \"Defender/Netherlands\", \"Forward/Netherlands\", \"Goalkeeper/Netherlands\", \"Midfielder/Netherlands\", \"Forward/New Zealand\", \"Defender/Nigeria\", \"Forward/Nigeria\", \"Midfielder/Nigeria\", \"Defender/Northern Ireland\", \"Goalkeeper/Northern Ireland\", \"Midfielder/Northern Ireland\", \"Goalkeeper/Norway\", \"Midfielder/Norway\", \"Defender/Paraguay\", \"Midfielder/Paraguay\", \"Defender/Poland\", \"Goalkeeper/Poland\", \"Midfielder/Poland\", \"Defender/Portugal\", \"Forward/Portugal\", \"Goalkeeper/Portugal\", \"Midfielder/Portugal\", \"Forward/Romania\", \"Midfielder/Saint Kitts And Nevis\", \"Defender/Scotland\", \"Forward/Scotland\", \"Midfielder/Scotland\", \"Forward/Senegal\", \"Midfielder/Senegal\", \"Defender/Serbia\", \"Forward/Serbia\", \"Midfielder/Serbia\", \"Goalkeeper/Slovakia\", \"Forward/South Korea\", \"Defender/Spain\", \"Forward/Spain\", \"Goalkeeper/Spain\", \"Midfielder/Spain\", \"Defender/Sweden\", \"Forward/Sweden\", \"Midfielder/Sweden\", \"Defender/Switzerland\", \"Goalkeeper/Switzerland\", \"Midfielder/Switzerland\", \"Defender/The Democratic Republic Of Congo\", \"Forward/The Democratic Republic Of Congo\", \"Midfielder/The Democratic Republic Of Congo\", \"Defender/Turkey\", \"Forward/Turkey\", \"Defender/Ukraine\", \"Forward/Ukraine\", \"Defender/United States\", \"Midfielder/United States\", \"Midfielder/Uruguay\", \"Defender/Wales\", \"Forward/Wales\", \"Goalkeeper/Wales\", \"Midfielder/Wales\", \"Midfielder/Zimbabwe\", \"Defender\", \"Forward\", \"Goalkeeper\", \"Midfielder\"], \"labels\": [\"Algeria\", \"Algeria\", \"Argentina\", \"Argentina\", \"Argentina\", \"Argentina\", \"Australia\", \"Australia\", \"Austria\", \"Belgium\", \"Belgium\", \"Belgium\", \"Bosnia And Herzegovina\", \"Bosnia And Herzegovina\", \"Brazil\", \"Brazil\", \"Brazil\", \"Brazil\", \"Cameroon\", \"Cameroon\", \"Colombia\", \"Colombia\", \"Colombia\", \"Cote D'Ivoire\", \"Cote D'Ivoire\", \"Cote D'Ivoire\", \"Croatia\", \"Croatia\", \"Croatia\", \"Czech Republic\", \"Denmark\", \"Denmark\", \"Denmark\", \"Denmark\", \"Ecuador\", \"Egypt\", \"Egypt\", \"Egypt\", \"England\", \"England\", \"England\", \"England\", \"France\", \"France\", \"France\", \"France\", \"Gabon\", \"Gabon\", \"Germany\", \"Germany\", \"Germany\", \"Germany\", \"Ghana\", \"Ghana\", \"Ghana\", \"Greece\", \"Guinea\", \"Iceland\", \"Iceland\", \"Iran\", \"Ireland\", \"Ireland\", \"Ireland\", \"Ireland\", \"Italy\", \"Italy\", \"Italy\", \"Italy\", \"Jamaica\", \"Jamaica\", \"Japan\", \"Mali\", \"Mali\", \"Mexico\", \"Morocco\", \"Netherlands\", \"Netherlands\", \"Netherlands\", \"Netherlands\", \"New Zealand\", \"Nigeria\", \"Nigeria\", \"Nigeria\", \"Northern Ireland\", \"Northern Ireland\", \"Northern Ireland\", \"Norway\", \"Norway\", \"Paraguay\", \"Paraguay\", \"Poland\", \"Poland\", \"Poland\", \"Portugal\", \"Portugal\", \"Portugal\", \"Portugal\", \"Romania\", \"Saint Kitts And Nevis\", \"Scotland\", \"Scotland\", \"Scotland\", \"Senegal\", \"Senegal\", \"Serbia\", \"Serbia\", \"Serbia\", \"Slovakia\", \"South Korea\", \"Spain\", \"Spain\", \"Spain\", \"Spain\", \"Sweden\", \"Sweden\", \"Sweden\", \"Switzerland\", \"Switzerland\", \"Switzerland\", \"The Democratic Republic Of Congo\", \"The Democratic Republic Of Congo\", \"The Democratic Republic Of Congo\", \"Turkey\", \"Turkey\", \"Ukraine\", \"Ukraine\", \"United States\", \"United States\", \"Uruguay\", \"Wales\", \"Wales\", \"Wales\", \"Wales\", \"Zimbabwe\", \"Defender\", \"Forward\", \"Goalkeeper\", \"Midfielder\"], \"name\": \"\", \"parents\": [\"Forward\", \"Midfielder\", \"Defender\", \"Forward\", \"Goalkeeper\", \"Midfielder\", \"Goalkeeper\", \"Midfielder\", \"Defender\", \"Defender\", \"Forward\", \"Midfielder\", \"Defender\", \"Midfielder\", \"Defender\", \"Forward\", \"Goalkeeper\", \"Midfielder\", \"Defender\", \"Midfielder\", \"Defender\", \"Forward\", \"Midfielder\", \"Defender\", \"Forward\", \"Midfielder\", \"Defender\", \"Goalkeeper\", \"Midfielder\", \"Forward\", \"Defender\", \"Forward\", \"Goalkeeper\", \"Midfielder\", \"Forward\", \"Defender\", \"Forward\", \"Midfielder\", \"Defender\", \"Forward\", \"Goalkeeper\", \"Midfielder\", \"Defender\", \"Forward\", \"Goalkeeper\", \"Midfielder\", \"Forward\", \"Midfielder\", \"Defender\", \"Forward\", \"Goalkeeper\", \"Midfielder\", \"Defender\", \"Forward\", \"Midfielder\", \"Defender\", \"Midfielder\", \"Goalkeeper\", \"Midfielder\", \"Forward\", \"Defender\", \"Forward\", \"Goalkeeper\", \"Midfielder\", \"Defender\", \"Forward\", \"Goalkeeper\", \"Midfielder\", \"Defender\", \"Forward\", \"Forward\", \"Forward\", \"Midfielder\", \"Forward\", \"Midfielder\", \"Defender\", \"Forward\", \"Goalkeeper\", \"Midfielder\", \"Forward\", \"Defender\", \"Forward\", \"Midfielder\", \"Defender\", \"Goalkeeper\", \"Midfielder\", \"Goalkeeper\", \"Midfielder\", \"Defender\", \"Midfielder\", \"Defender\", \"Goalkeeper\", \"Midfielder\", \"Defender\", \"Forward\", \"Goalkeeper\", \"Midfielder\", \"Forward\", \"Midfielder\", \"Defender\", \"Forward\", \"Midfielder\", \"Forward\", \"Midfielder\", \"Defender\", \"Forward\", \"Midfielder\", \"Goalkeeper\", \"Forward\", \"Defender\", \"Forward\", \"Goalkeeper\", \"Midfielder\", \"Defender\", \"Forward\", \"Midfielder\", \"Defender\", \"Goalkeeper\", \"Midfielder\", \"Defender\", \"Forward\", \"Midfielder\", \"Defender\", \"Forward\", \"Defender\", \"Forward\", \"Defender\", \"Midfielder\", \"Midfielder\", \"Defender\", \"Forward\", \"Goalkeeper\", \"Midfielder\", \"Midfielder\", \"\", \"\", \"\", \"\"], \"type\": \"sunburst\", \"values\": [238, 19, 398, 263, 99, 315, 112, 0, 107, 228, 409, 296, 78, 46, 234, 840, 179, 476, 86, 24, 128, 47, 23, 112, 250, 34, 0, 0, 64, 57, 103, 19, 280, 111, 0, 221, 123, 82, 5714, 2901, 1278, 6296, 648, 687, 263, 768, 87, 47, 181, 2, 93, 427, 46, 139, 228, 44, 45, 0, 380, 31, 655, 428, 31, 566, 167, 31, 0, 70, 170, 29, 11, 15, 72, 78, 124, 742, 16, 0, 345, 105, 5, 310, 122, 327, 0, 41, 7, 28, 40, 48, 66, 246, 17, 134, 125, 77, 354, 26, 2, 472, 54, 1087, 196, 202, 261, 79, 337, 89, 162, 745, 311, 580, 614, 100, 0, 0, 46, 28, 247, 81, 119, 17, 42, 49, 41, 34, 143, 25, 63, 482, 231, 183, 65, 29, 13047, 8502, 3545, 14156]}],                        {\"legend\": {\"tracegroupgap\": 0}, \"template\": {\"data\": {\"bar\": [{\"error_x\": {\"color\": \"#2a3f5f\"}, \"error_y\": {\"color\": \"#2a3f5f\"}, \"marker\": {\"line\": {\"color\": \"#E5ECF6\", \"width\": 0.5}}, \"type\": \"bar\"}], \"barpolar\": [{\"marker\": {\"line\": {\"color\": \"#E5ECF6\", \"width\": 0.5}}, \"type\": \"barpolar\"}], \"carpet\": [{\"aaxis\": {\"endlinecolor\": \"#2a3f5f\", \"gridcolor\": \"white\", \"linecolor\": \"white\", \"minorgridcolor\": \"white\", \"startlinecolor\": \"#2a3f5f\"}, \"baxis\": {\"endlinecolor\": \"#2a3f5f\", \"gridcolor\": \"white\", \"linecolor\": \"white\", \"minorgridcolor\": \"white\", \"startlinecolor\": \"#2a3f5f\"}, \"type\": \"carpet\"}], \"choropleth\": [{\"colorbar\": {\"outlinewidth\": 0, \"ticks\": \"\"}, \"type\": \"choropleth\"}], \"contour\": [{\"colorbar\": {\"outlinewidth\": 0, \"ticks\": \"\"}, \"colorscale\": [[0.0, \"#0d0887\"], [0.1111111111111111, \"#46039f\"], [0.2222222222222222, \"#7201a8\"], [0.3333333333333333, \"#9c179e\"], [0.4444444444444444, \"#bd3786\"], [0.5555555555555556, \"#d8576b\"], [0.6666666666666666, \"#ed7953\"], [0.7777777777777778, \"#fb9f3a\"], [0.8888888888888888, \"#fdca26\"], [1.0, \"#f0f921\"]], \"type\": \"contour\"}], \"contourcarpet\": [{\"colorbar\": {\"outlinewidth\": 0, \"ticks\": \"\"}, \"type\": \"contourcarpet\"}], \"heatmap\": [{\"colorbar\": {\"outlinewidth\": 0, \"ticks\": \"\"}, \"colorscale\": [[0.0, \"#0d0887\"], [0.1111111111111111, \"#46039f\"], [0.2222222222222222, \"#7201a8\"], [0.3333333333333333, \"#9c179e\"], [0.4444444444444444, \"#bd3786\"], [0.5555555555555556, \"#d8576b\"], [0.6666666666666666, \"#ed7953\"], [0.7777777777777778, \"#fb9f3a\"], [0.8888888888888888, \"#fdca26\"], [1.0, \"#f0f921\"]], \"type\": \"heatmap\"}], \"heatmapgl\": [{\"colorbar\": {\"outlinewidth\": 0, \"ticks\": \"\"}, \"colorscale\": [[0.0, \"#0d0887\"], [0.1111111111111111, \"#46039f\"], [0.2222222222222222, \"#7201a8\"], [0.3333333333333333, \"#9c179e\"], [0.4444444444444444, \"#bd3786\"], [0.5555555555555556, \"#d8576b\"], [0.6666666666666666, \"#ed7953\"], [0.7777777777777778, \"#fb9f3a\"], [0.8888888888888888, \"#fdca26\"], [1.0, \"#f0f921\"]], \"type\": \"heatmapgl\"}], \"histogram\": [{\"marker\": {\"colorbar\": {\"outlinewidth\": 0, \"ticks\": \"\"}}, \"type\": \"histogram\"}], \"histogram2d\": [{\"colorbar\": {\"outlinewidth\": 0, \"ticks\": \"\"}, \"colorscale\": [[0.0, \"#0d0887\"], [0.1111111111111111, \"#46039f\"], [0.2222222222222222, \"#7201a8\"], [0.3333333333333333, \"#9c179e\"], [0.4444444444444444, \"#bd3786\"], [0.5555555555555556, \"#d8576b\"], [0.6666666666666666, \"#ed7953\"], [0.7777777777777778, \"#fb9f3a\"], [0.8888888888888888, \"#fdca26\"], [1.0, \"#f0f921\"]], \"type\": \"histogram2d\"}], \"histogram2dcontour\": [{\"colorbar\": {\"outlinewidth\": 0, \"ticks\": \"\"}, \"colorscale\": [[0.0, \"#0d0887\"], [0.1111111111111111, \"#46039f\"], [0.2222222222222222, \"#7201a8\"], [0.3333333333333333, \"#9c179e\"], [0.4444444444444444, \"#bd3786\"], [0.5555555555555556, \"#d8576b\"], [0.6666666666666666, \"#ed7953\"], [0.7777777777777778, \"#fb9f3a\"], [0.8888888888888888, \"#fdca26\"], [1.0, \"#f0f921\"]], \"type\": \"histogram2dcontour\"}], \"mesh3d\": [{\"colorbar\": {\"outlinewidth\": 0, \"ticks\": \"\"}, \"type\": \"mesh3d\"}], \"parcoords\": [{\"line\": {\"colorbar\": {\"outlinewidth\": 0, \"ticks\": \"\"}}, \"type\": \"parcoords\"}], \"pie\": [{\"automargin\": true, \"type\": \"pie\"}], \"scatter\": [{\"marker\": {\"colorbar\": {\"outlinewidth\": 0, \"ticks\": \"\"}}, \"type\": \"scatter\"}], \"scatter3d\": [{\"line\": {\"colorbar\": {\"outlinewidth\": 0, \"ticks\": \"\"}}, \"marker\": {\"colorbar\": {\"outlinewidth\": 0, \"ticks\": \"\"}}, \"type\": \"scatter3d\"}], \"scattercarpet\": [{\"marker\": {\"colorbar\": {\"outlinewidth\": 0, \"ticks\": \"\"}}, \"type\": \"scattercarpet\"}], \"scattergeo\": [{\"marker\": {\"colorbar\": {\"outlinewidth\": 0, \"ticks\": \"\"}}, \"type\": \"scattergeo\"}], \"scattergl\": [{\"marker\": {\"colorbar\": {\"outlinewidth\": 0, \"ticks\": \"\"}}, \"type\": \"scattergl\"}], \"scattermapbox\": [{\"marker\": {\"colorbar\": {\"outlinewidth\": 0, \"ticks\": \"\"}}, \"type\": \"scattermapbox\"}], \"scatterpolar\": [{\"marker\": {\"colorbar\": {\"outlinewidth\": 0, \"ticks\": \"\"}}, \"type\": \"scatterpolar\"}], \"scatterpolargl\": [{\"marker\": {\"colorbar\": {\"outlinewidth\": 0, \"ticks\": \"\"}}, \"type\": \"scatterpolargl\"}], \"scatterternary\": [{\"marker\": {\"colorbar\": {\"outlinewidth\": 0, \"ticks\": \"\"}}, \"type\": \"scatterternary\"}], \"surface\": [{\"colorbar\": {\"outlinewidth\": 0, \"ticks\": \"\"}, \"colorscale\": [[0.0, \"#0d0887\"], [0.1111111111111111, \"#46039f\"], [0.2222222222222222, \"#7201a8\"], [0.3333333333333333, \"#9c179e\"], [0.4444444444444444, \"#bd3786\"], [0.5555555555555556, \"#d8576b\"], [0.6666666666666666, \"#ed7953\"], [0.7777777777777778, \"#fb9f3a\"], [0.8888888888888888, \"#fdca26\"], [1.0, \"#f0f921\"]], \"type\": \"surface\"}], \"table\": [{\"cells\": {\"fill\": {\"color\": \"#EBF0F8\"}, \"line\": {\"color\": \"white\"}}, \"header\": {\"fill\": {\"color\": \"#C8D4E3\"}, \"line\": {\"color\": \"white\"}}, \"type\": \"table\"}]}, \"layout\": {\"annotationdefaults\": {\"arrowcolor\": \"#2a3f5f\", \"arrowhead\": 0, \"arrowwidth\": 1}, \"autotypenumbers\": \"strict\", \"coloraxis\": {\"colorbar\": {\"outlinewidth\": 0, \"ticks\": \"\"}}, \"colorscale\": {\"diverging\": [[0, \"#8e0152\"], [0.1, \"#c51b7d\"], [0.2, \"#de77ae\"], [0.3, \"#f1b6da\"], [0.4, \"#fde0ef\"], [0.5, \"#f7f7f7\"], [0.6, \"#e6f5d0\"], [0.7, \"#b8e186\"], [0.8, \"#7fbc41\"], [0.9, \"#4d9221\"], [1, \"#276419\"]], \"sequential\": [[0.0, \"#0d0887\"], [0.1111111111111111, \"#46039f\"], [0.2222222222222222, \"#7201a8\"], [0.3333333333333333, \"#9c179e\"], [0.4444444444444444, \"#bd3786\"], [0.5555555555555556, \"#d8576b\"], [0.6666666666666666, \"#ed7953\"], [0.7777777777777778, \"#fb9f3a\"], [0.8888888888888888, \"#fdca26\"], [1.0, \"#f0f921\"]], \"sequentialminus\": [[0.0, \"#0d0887\"], [0.1111111111111111, \"#46039f\"], [0.2222222222222222, \"#7201a8\"], [0.3333333333333333, \"#9c179e\"], [0.4444444444444444, \"#bd3786\"], [0.5555555555555556, \"#d8576b\"], [0.6666666666666666, \"#ed7953\"], [0.7777777777777778, \"#fb9f3a\"], [0.8888888888888888, \"#fdca26\"], [1.0, \"#f0f921\"]]}, \"colorway\": [\"#636efa\", \"#EF553B\", \"#00cc96\", \"#ab63fa\", \"#FFA15A\", \"#19d3f3\", \"#FF6692\", \"#B6E880\", \"#FF97FF\", \"#FECB52\"], \"font\": {\"color\": \"#2a3f5f\"}, \"geo\": {\"bgcolor\": \"white\", \"lakecolor\": \"white\", \"landcolor\": \"#E5ECF6\", \"showlakes\": true, \"showland\": true, \"subunitcolor\": \"white\"}, \"hoverlabel\": {\"align\": \"left\"}, \"hovermode\": \"closest\", \"mapbox\": {\"style\": \"light\"}, \"paper_bgcolor\": \"white\", \"plot_bgcolor\": \"#E5ECF6\", \"polar\": {\"angularaxis\": {\"gridcolor\": \"white\", \"linecolor\": \"white\", \"ticks\": \"\"}, \"bgcolor\": \"#E5ECF6\", \"radialaxis\": {\"gridcolor\": \"white\", \"linecolor\": \"white\", \"ticks\": \"\"}}, \"scene\": {\"xaxis\": {\"backgroundcolor\": \"#E5ECF6\", \"gridcolor\": \"white\", \"gridwidth\": 2, \"linecolor\": \"white\", \"showbackground\": true, \"ticks\": \"\", \"zerolinecolor\": \"white\"}, \"yaxis\": {\"backgroundcolor\": \"#E5ECF6\", \"gridcolor\": \"white\", \"gridwidth\": 2, \"linecolor\": \"white\", \"showbackground\": true, \"ticks\": \"\", \"zerolinecolor\": \"white\"}, \"zaxis\": {\"backgroundcolor\": \"#E5ECF6\", \"gridcolor\": \"white\", \"gridwidth\": 2, \"linecolor\": \"white\", \"showbackground\": true, \"ticks\": \"\", \"zerolinecolor\": \"white\"}}, \"shapedefaults\": {\"line\": {\"color\": \"#2a3f5f\"}}, \"ternary\": {\"aaxis\": {\"gridcolor\": \"white\", \"linecolor\": \"white\", \"ticks\": \"\"}, \"baxis\": {\"gridcolor\": \"white\", \"linecolor\": \"white\", \"ticks\": \"\"}, \"bgcolor\": \"#E5ECF6\", \"caxis\": {\"gridcolor\": \"white\", \"linecolor\": \"white\", \"ticks\": \"\"}}, \"title\": {\"x\": 0.05}, \"xaxis\": {\"automargin\": true, \"gridcolor\": \"white\", \"linecolor\": \"white\", \"ticks\": \"\", \"title\": {\"standoff\": 15}, \"zerolinecolor\": \"white\", \"zerolinewidth\": 2}, \"yaxis\": {\"automargin\": true, \"gridcolor\": \"white\", \"linecolor\": \"white\", \"ticks\": \"\", \"title\": {\"standoff\": 15}, \"zerolinecolor\": \"white\", \"zerolinewidth\": 2}}}, \"title\": {\"text\": \"Countries represented in the EPL by number of appearances and by players position\"}},                        {\"responsive\": true}                    ).then(function(){\n",
       "                            \n",
       "var gd = document.getElementById('b46c698d-7816-4935-9cfe-1c4151b7683e');\n",
       "var x = new MutationObserver(function (mutations, observer) {{\n",
       "        var display = window.getComputedStyle(gd).display;\n",
       "        if (!display || display === 'none') {{\n",
       "            console.log([gd, 'removed!']);\n",
       "            Plotly.purge(gd);\n",
       "            observer.disconnect();\n",
       "        }}\n",
       "}});\n",
       "\n",
       "// Listen for the removal of the full notebook cells\n",
       "var notebookContainer = gd.closest('#notebook-container');\n",
       "if (notebookContainer) {{\n",
       "    x.observe(notebookContainer, {childList: true});\n",
       "}}\n",
       "\n",
       "// Listen for the clearing of the current output cell\n",
       "var outputEl = gd.closest('.output');\n",
       "if (outputEl) {{\n",
       "    x.observe(outputEl, {childList: true});\n",
       "}}\n",
       "\n",
       "                        })                };                });            </script>        </div>"
      ]
     },
     "metadata": {},
     "output_type": "display_data"
    }
   ],
   "source": [
    "fig=px.sunburst(data, path=['Position', 'Nationality'], values='Appearances', title='Countries represented in the EPL by number of appearances and by players position')\n",
    "iplot(fig)"
   ]
  },
  {
   "cell_type": "markdown",
   "metadata": {},
   "source": [
    "# Players by Appearances"
   ]
  },
  {
   "cell_type": "code",
   "execution_count": 16,
   "metadata": {
    "scrolled": false
   },
   "outputs": [
    {
     "data": {
      "application/vnd.plotly.v1+json": {
       "config": {
        "linkText": "Export to plot.ly",
        "plotlyServerURL": "https://plot.ly",
        "showLink": false
       },
       "data": [
        {
         "alignmentgroup": "True",
         "customdata": [
          [
           "Bernd Leno"
          ],
          [
           "Matt Macey"
          ],
          [
           "Rúnar Alex Rúnarsson"
          ],
          [
           "Héctor Bellerín"
          ],
          [
           "Kieran Tierney"
          ],
          [
           "William Saliba"
          ],
          [
           "Sokratis"
          ],
          [
           "Rob Holding"
          ],
          [
           "Shkodran Mustafi"
          ],
          [
           "Calum Chambers"
          ],
          [
           "David Luiz"
          ],
          [
           "Sead Kolasinac"
          ],
          [
           "Gabriel Magalhães"
          ],
          [
           "Mesut Özil"
          ],
          [
           "Lucas Torreira"
          ],
          [
           "Ainsley Maitland-Niles"
          ],
          [
           "Mohamed Elneny"
          ],
          [
           "Joseph Willock"
          ],
          [
           "Matteo Guendouzi"
          ],
          [
           "Emile Smith Rowe"
          ],
          [
           "Granit Xhaka"
          ],
          [
           "Bukayo Saka"
          ],
          [
           "Dani Ceballos"
          ],
          [
           "Alexandre Lacazette"
          ],
          [
           "Pierre-Emerick Aubameyang"
          ],
          [
           "Nicolas Pépé"
          ],
          [
           "Reiss Nelson"
          ],
          [
           "Eddie Nketiah"
          ],
          [
           "Gabriel Martinelli"
          ],
          [
           "Willian"
          ]
         ],
         "hovertemplate": "Club=Arsenal<br>Position=%{x}<br>Appearances=%{y}<br>Name=%{customdata[0]}<extra></extra>",
         "legendgroup": "Arsenal",
         "marker": {
          "color": "#636efa"
         },
         "name": "Arsenal",
         "offsetgroup": "Arsenal",
         "orientation": "v",
         "showlegend": true,
         "textposition": "auto",
         "type": "bar",
         "x": [
          "Goalkeeper",
          "Goalkeeper",
          "Goalkeeper",
          "Defender",
          "Defender",
          "Defender",
          "Defender",
          "Defender",
          "Defender",
          "Defender",
          "Defender",
          "Defender",
          "Defender",
          "Midfielder",
          "Midfielder",
          "Midfielder",
          "Midfielder",
          "Midfielder",
          "Midfielder",
          "Midfielder",
          "Midfielder",
          "Midfielder",
          "Midfielder",
          "Forward",
          "Forward",
          "Forward",
          "Forward",
          "Forward",
          "Forward",
          "Forward"
         ],
         "xaxis": "x",
         "y": [
          64,
          0,
          0,
          160,
          16,
          0,
          44,
          41,
          99,
          139,
          194,
          78,
          2,
          184,
          63,
          54,
          47,
          33,
          57,
          2,
          132,
          28,
          26,
          99,
          87,
          33,
          20,
          23,
          14,
          236
         ],
         "yaxis": "y"
        },
        {
         "alignmentgroup": "True",
         "customdata": [
          [
           "Tom Heaton"
          ],
          [
           "Jed Steer"
          ],
          [
           "Ørjan Nyland"
          ],
          [
           "Lovre Kalinic"
          ],
          [
           "Emiliano Martínez"
          ],
          [
           "Neil Taylor"
          ],
          [
           "Ezri Konsa Ngoyo"
          ],
          [
           "Matt Targett"
          ],
          [
           "Björn Engels"
          ],
          [
           "Frédéric Guilbert"
          ],
          [
           "Ahmed El Mohamady"
          ],
          [
           "Kortney Hause"
          ],
          [
           "Tyrone Mings"
          ],
          [
           "Matthew Cash"
          ],
          [
           "Douglas Luiz"
          ],
          [
           "John McGinn"
          ],
          [
           "Henri Lansbury"
          ],
          [
           "Jack Grealish"
          ],
          [
           "Marvelous Nakamba"
          ],
          [
           "Conor Hourihane"
          ],
          [
           "Trézéguet"
          ],
          [
           "Anwar El Ghazi"
          ],
          [
           "Jota"
          ],
          [
           "Jacob Ramsey"
          ],
          [
           "Wesley"
          ],
          [
           "Keinan Davis"
          ],
          [
           "Ollie Watkins"
          ]
         ],
         "hovertemplate": "Club=Aston-Villa<br>Position=%{x}<br>Appearances=%{y}<br>Name=%{customdata[0]}<extra></extra>",
         "legendgroup": "Aston-Villa",
         "marker": {
          "color": "#EF553B"
         },
         "name": "Aston-Villa",
         "offsetgroup": "Aston-Villa",
         "orientation": "v",
         "showlegend": true,
         "textposition": "auto",
         "type": "bar",
         "x": [
          "Goalkeeper",
          "Goalkeeper",
          "Goalkeeper",
          "Goalkeeper",
          "Goalkeeper",
          "Defender",
          "Defender",
          "Defender",
          "Defender",
          "Defender",
          "Defender",
          "Defender",
          "Defender",
          "Defender",
          "Midfielder",
          "Midfielder",
          "Midfielder",
          "Midfielder",
          "Midfielder",
          "Midfielder",
          "Midfielder",
          "Midfielder",
          "Midfielder",
          "Midfielder",
          "Forward",
          "Forward",
          "Forward"
         ],
         "xaxis": "x",
         "y": [
          116,
          2,
          7,
          0,
          16,
          145,
          26,
          72,
          17,
          25,
          183,
          18,
          51,
          1,
          37,
          29,
          13,
          71,
          29,
          28,
          35,
          34,
          10,
          0,
          21,
          19,
          1
         ],
         "yaxis": "y"
        },
        {
         "alignmentgroup": "True",
         "customdata": [
          [
           "Mat Ryan"
          ],
          [
           "Jason Steele"
          ],
          [
           "Christian Walton"
          ],
          [
           "Robert Sánchez"
          ],
          [
           "Ben White"
          ],
          [
           "Tariq Lamptey"
          ],
          [
           "Lewis Dunk"
          ],
          [
           "Adam Webster"
          ],
          [
           "Bernardo"
          ],
          [
           "Dan Burn"
          ],
          [
           "Joël Veltman"
          ],
          [
           "Romaric Yapi"
          ],
          [
           "Alex Cochrane"
          ],
          [
           "Haydon Roberts"
          ],
          [
           "Dale Stephens"
          ],
          [
           "Yves Bissouma"
          ],
          [
           "Alexis Mac Allister"
          ],
          [
           "Pascal Groß"
          ],
          [
           "Adam Lallana"
          ],
          [
           "Solly March"
          ],
          [
           "Davy Pröpper"
          ],
          [
           "Steven Alzate"
          ],
          [
           "Max Sanders"
          ],
          [
           "Jayson Molumby"
          ],
          [
           "Lars Dendoncker"
          ],
          [
           "Peter Gwargis"
          ],
          [
           "Leandro Trossard"
          ],
          [
           "Neal Maupay"
          ],
          [
           "Alireza Jahanbakhsh"
          ],
          [
           "José Izquierdo"
          ],
          [
           "Aaron Connolly"
          ],
          [
           "Florin Andone"
          ],
          [
           "Viktor Gyökeres"
          ]
         ],
         "hovertemplate": "Club=Brighton-and-Hove-Albion<br>Position=%{x}<br>Appearances=%{y}<br>Name=%{customdata[0]}<extra></extra>",
         "legendgroup": "Brighton-and-Hove-Albion",
         "marker": {
          "color": "#00cc96"
         },
         "name": "Brighton-and-Hove-Albion",
         "offsetgroup": "Brighton-and-Hove-Albion",
         "orientation": "v",
         "showlegend": true,
         "textposition": "auto",
         "type": "bar",
         "x": [
          "Goalkeeper",
          "Goalkeeper",
          "Goalkeeper",
          "Goalkeeper",
          "Defender",
          "Defender",
          "Defender",
          "Defender",
          "Defender",
          "Defender",
          "Defender",
          "Defender",
          "Defender",
          "Defender",
          "Midfielder",
          "Midfielder",
          "Midfielder",
          "Midfielder",
          "Midfielder",
          "Midfielder",
          "Midfielder",
          "Midfielder",
          "Midfielder",
          "Midfielder",
          "Midfielder",
          "Midfielder",
          "Forward",
          "Forward",
          "Forward",
          "Forward",
          "Forward",
          "Forward",
          "Forward"
         ],
         "xaxis": "x",
         "y": [
          112,
          0,
          0,
          0,
          2,
          11,
          112,
          33,
          36,
          44,
          0,
          0,
          0,
          0,
          99,
          52,
          9,
          93,
          198,
          92,
          100,
          21,
          0,
          0,
          0,
          0,
          33,
          39,
          31,
          47,
          26,
          26,
          0
         ],
         "yaxis": "y"
        },
        {
         "alignmentgroup": "True",
         "customdata": [
          [
           "Nick Pope"
          ],
          [
           "Bailey Peacock-Farrell"
          ],
          [
           "Will Norris"
          ],
          [
           "Matthew Lowton"
          ],
          [
           "Charlie Taylor"
          ],
          [
           "James Tarkowski"
          ],
          [
           "Ben Mee"
          ],
          [
           "Erik Pieters"
          ],
          [
           "Phil Bardsley"
          ],
          [
           "Kevin Long"
          ],
          [
           "Jimmy Dunne"
          ],
          [
           "Bobby Thomas"
          ],
          [
           "Anthony Driscoll-Glennon"
          ],
          [
           "Jack Cork"
          ],
          [
           "Jóhann Gudmundsson"
          ],
          [
           "Josh Brownhill"
          ],
          [
           "Dwight McNeil"
          ],
          [
           "Robbie Brady"
          ],
          [
           "Ashley Westwood"
          ],
          [
           "Josh Benson"
          ],
          [
           "Chris Wood"
          ],
          [
           "Ashley Barnes"
          ],
          [
           "Jay Rodriguez"
          ],
          [
           "Matej Vydra"
          ]
         ],
         "hovertemplate": "Club=Burnley<br>Position=%{x}<br>Appearances=%{y}<br>Name=%{customdata[0]}<extra></extra>",
         "legendgroup": "Burnley",
         "marker": {
          "color": "#ab63fa"
         },
         "name": "Burnley",
         "offsetgroup": "Burnley",
         "orientation": "v",
         "showlegend": true,
         "textposition": "auto",
         "type": "bar",
         "x": [
          "Goalkeeper",
          "Goalkeeper",
          "Goalkeeper",
          "Defender",
          "Defender",
          "Defender",
          "Defender",
          "Defender",
          "Defender",
          "Defender",
          "Defender",
          "Defender",
          "Defender",
          "Midfielder",
          "Midfielder",
          "Midfielder",
          "Midfielder",
          "Midfielder",
          "Midfielder",
          "Midfielder",
          "Forward",
          "Forward",
          "Forward",
          "Forward"
         ],
         "xaxis": "x",
         "y": [
          74,
          0,
          1,
          172,
          74,
          123,
          166,
          194,
          300,
          35,
          1,
          0,
          0,
          264,
          96,
          11,
          61,
          142,
          222,
          0,
          105,
          155,
          178,
          57
         ],
         "yaxis": "y"
        },
        {
         "alignmentgroup": "True",
         "customdata": [
          [
           "Kepa Arrizabalaga"
          ],
          [
           "Willy Caballero"
          ],
          [
           "Antonio Rüdiger"
          ],
          [
           "Marcos Alonso"
          ],
          [
           "Andreas Christensen"
          ],
          [
           "Kurt Zouma"
          ],
          [
           "Reece James"
          ],
          [
           "César Azpilicueta"
          ],
          [
           "Fikayo Tomori"
          ],
          [
           "Emerson"
          ],
          [
           "Ben Chilwell"
          ],
          [
           "Thiago Silva"
          ],
          [
           "Hakim Ziyech"
          ],
          [
           "Jorginho"
          ],
          [
           "N'Golo Kanté"
          ],
          [
           "Ross Barkley"
          ],
          [
           "Ruben Loftus-Cheek"
          ],
          [
           "Mateo Kovacic"
          ],
          [
           "Mason Mount"
          ],
          [
           "Christian Pulisic"
          ],
          [
           "Billy Gilmour"
          ],
          [
           "Kai Havertz"
          ],
          [
           "Timo Werner"
          ],
          [
           "Tammy Abraham"
          ],
          [
           "Olivier Giroud"
          ],
          [
           "Callum Hudson-Odoi"
          ]
         ],
         "hovertemplate": "Club=Chelsea<br>Position=%{x}<br>Appearances=%{y}<br>Name=%{customdata[0]}<extra></extra>",
         "legendgroup": "Chelsea",
         "marker": {
          "color": "#FFA15A"
         },
         "name": "Chelsea",
         "offsetgroup": "Chelsea",
         "orientation": "v",
         "showlegend": true,
         "textposition": "auto",
         "type": "bar",
         "x": [
          "Goalkeeper",
          "Goalkeeper",
          "Defender",
          "Defender",
          "Defender",
          "Defender",
          "Defender",
          "Defender",
          "Defender",
          "Defender",
          "Defender",
          "Defender",
          "Midfielder",
          "Midfielder",
          "Midfielder",
          "Midfielder",
          "Midfielder",
          "Midfielder",
          "Midfielder",
          "Midfielder",
          "Midfielder",
          "Midfielder",
          "Forward",
          "Forward",
          "Forward",
          "Forward"
         ],
         "xaxis": "x",
         "y": [
          71,
          33,
          80,
          140,
          59,
          143,
          26,
          272,
          17,
          30,
          99,
          0,
          0,
          70,
          166,
          202,
          78,
          64,
          39,
          25,
          6,
          2,
          2,
          68,
          238,
          35
         ],
         "yaxis": "y"
        },
        {
         "alignmentgroup": "True",
         "customdata": [
          [
           "Wayne Hennessey"
          ],
          [
           "Vicente Guaita"
          ],
          [
           "Stephen Henderson"
          ],
          [
           "Joel Ward"
          ],
          [
           "Patrick van Aanholt"
          ],
          [
           "James Tomkins"
          ],
          [
           "Scott Dann"
          ],
          [
           "Mamadou Sakho"
          ],
          [
           "Gary Cahill"
          ],
          [
           "Martin Kelly"
          ],
          [
           "Tyrick Mitchell"
          ],
          [
           "Jaroslaw Jach"
          ],
          [
           "Sam Woods"
          ],
          [
           "Ryan Inniss"
          ],
          [
           "Luka Milivojevic"
          ],
          [
           "Max Meyer"
          ],
          [
           "Cheikhou Kouyaté"
          ],
          [
           "Andros Townsend"
          ],
          [
           "Jeffrey Schlupp"
          ],
          [
           "James McArthur"
          ],
          [
           "James McCarthy"
          ],
          [
           "Jairo Riedewald"
          ],
          [
           "Eberechi Eze"
          ],
          [
           "Nya Kirby"
          ],
          [
           "Jordan Ayew"
          ],
          [
           "Wilfried Zaha"
          ],
          [
           "Christian Benteke"
          ],
          [
           "Connor Wickham"
          ],
          [
           "Brandon Pierrick"
          ],
          [
           "Michy Batshuayi"
          ]
         ],
         "hovertemplate": "Club=Crystal-Palace<br>Position=%{x}<br>Appearances=%{y}<br>Name=%{customdata[0]}<extra></extra>",
         "legendgroup": "Crystal-Palace",
         "marker": {
          "color": "#19d3f3"
         },
         "name": "Crystal-Palace",
         "offsetgroup": "Crystal-Palace",
         "orientation": "v",
         "showlegend": true,
         "textposition": "auto",
         "type": "bar",
         "x": [
          "Goalkeeper",
          "Goalkeeper",
          "Goalkeeper",
          "Defender",
          "Defender",
          "Defender",
          "Defender",
          "Defender",
          "Defender",
          "Defender",
          "Defender",
          "Defender",
          "Defender",
          "Defender",
          "Midfielder",
          "Midfielder",
          "Midfielder",
          "Midfielder",
          "Midfielder",
          "Midfielder",
          "Midfielder",
          "Midfielder",
          "Midfielder",
          "Midfielder",
          "Forward",
          "Forward",
          "Forward",
          "Forward",
          "Forward",
          "Forward"
         ],
         "xaxis": "x",
         "y": [
          181,
          57,
          0,
          201,
          191,
          263,
          227,
          125,
          374,
          153,
          6,
          0,
          0,
          0,
          121,
          46,
          197,
          211,
          148,
          282,
          258,
          29,
          2,
          0,
          139,
          217,
          225,
          120,
          2,
          60
         ],
         "yaxis": "y"
        },
        {
         "alignmentgroup": "True",
         "customdata": [
          [
           "Jordan Pickford"
          ],
          [
           "João Virgínia"
          ],
          [
           "Jonas Lössl"
          ],
          [
           "Mason Holgate"
          ],
          [
           "Michael Keane"
          ],
          [
           "Lucas Digne"
          ],
          [
           "Yerry Mina"
          ],
          [
           "Séamus Coleman"
          ],
          [
           "Jarrad Branthwaite"
          ],
          [
           "Jonjoe Kenny"
          ],
          [
           "Niels Nkounkou"
          ],
          [
           "Fabian Delph"
          ],
          [
           "Gylfi Sigurdsson"
          ],
          [
           "André Gomes"
          ],
          [
           "Jean-Philippe Gbamin"
          ],
          [
           "Tom Davies"
          ],
          [
           "Beni Baningime"
          ],
          [
           "Allan"
          ],
          [
           "James Rodríguez"
          ],
          [
           "Abdoulaye Doucouré"
          ],
          [
           "Muhamed Besic"
          ],
          [
           "Sandro Ramírez"
          ],
          [
           "Yannick Bolasie"
          ],
          [
           "Richarlison"
          ],
          [
           "Dominic Calvert-Lewin"
          ],
          [
           "Theo Walcott"
          ],
          [
           "Cenk Tosun"
          ],
          [
           "Alex Iwobi"
          ],
          [
           "Bernard"
          ],
          [
           "Moise Kean"
          ],
          [
           "Anthony Gordon"
          ]
         ],
         "hovertemplate": "Club=Everton<br>Position=%{x}<br>Appearances=%{y}<br>Name=%{customdata[0]}<extra></extra>",
         "legendgroup": "Everton",
         "marker": {
          "color": "#FF6692"
         },
         "name": "Everton",
         "offsetgroup": "Everton",
         "orientation": "v",
         "showlegend": true,
         "textposition": "auto",
         "type": "bar",
         "x": [
          "Goalkeeper",
          "Goalkeeper",
          "Goalkeeper",
          "Defender",
          "Defender",
          "Defender",
          "Defender",
          "Defender",
          "Defender",
          "Defender",
          "Defender",
          "Midfielder",
          "Midfielder",
          "Midfielder",
          "Midfielder",
          "Midfielder",
          "Midfielder",
          "Midfielder",
          "Midfielder",
          "Midfielder",
          "Midfielder",
          "Forward",
          "Forward",
          "Forward",
          "Forward",
          "Forward",
          "Forward",
          "Forward",
          "Forward",
          "Forward",
          "Forward"
         ],
         "xaxis": "x",
         "y": [
          147,
          0,
          69,
          65,
          153,
          72,
          44,
          276,
          4,
          31,
          0,
          185,
          284,
          48,
          2,
          106,
          8,
          2,
          2,
          131,
          46,
          8,
          119,
          111,
          116,
          346,
          49,
          126,
          61,
          31,
          11
         ],
         "yaxis": "y"
        },
        {
         "alignmentgroup": "True",
         "customdata": [
          [
           "Marek Rodák"
          ],
          [
           "Fabri"
          ],
          [
           "Alphonse Areola"
          ],
          [
           "Michael Hector"
          ],
          [
           "Denis Odoi"
          ],
          [
           "Tim Ream"
          ],
          [
           "Maxime Le Marchand"
          ],
          [
           "Joe Bryan"
          ],
          [
           "Antonee Robinson"
          ],
          [
           "Kenny Tete"
          ],
          [
           "Ola Aina"
          ],
          [
           "Jean Michael Seri"
          ],
          [
           "Kevin McDonald"
          ],
          [
           "Neeskens Kebano"
          ],
          [
           "Stefan Johansen"
          ],
          [
           "Tom Cairney"
          ],
          [
           "Josh Onomah"
          ],
          [
           "André-Frank Zambo Anguissa"
          ],
          [
           "Mario Lemina"
          ],
          [
           "Harrison Reed"
          ],
          [
           "Tyrese Francois"
          ],
          [
           "Aleksandar Mitrovic"
          ],
          [
           "Bobby De Cordova-Reid"
          ],
          [
           "Ivan Cavaleiro"
          ],
          [
           "Aboubakar Kamara"
          ]
         ],
         "hovertemplate": "Club=Fulham<br>Position=%{x}<br>Appearances=%{y}<br>Name=%{customdata[0]}<extra></extra>",
         "legendgroup": "Fulham",
         "marker": {
          "color": "#B6E880"
         },
         "name": "Fulham",
         "offsetgroup": "Fulham",
         "orientation": "v",
         "showlegend": true,
         "textposition": "auto",
         "type": "bar",
         "x": [
          "Goalkeeper",
          "Goalkeeper",
          "Goalkeeper",
          "Defender",
          "Defender",
          "Defender",
          "Defender",
          "Defender",
          "Defender",
          "Defender",
          "Defender",
          "Midfielder",
          "Midfielder",
          "Midfielder",
          "Midfielder",
          "Midfielder",
          "Midfielder",
          "Midfielder",
          "Midfielder",
          "Midfielder",
          "Midfielder",
          "Forward",
          "Forward",
          "Forward",
          "Forward"
         ],
         "xaxis": "x",
         "y": [
          1,
          2,
          1,
          2,
          33,
          40,
          26,
          30,
          0,
          1,
          3,
          32,
          41,
          9,
          12,
          43,
          15,
          24,
          47,
          19,
          0,
          79,
          29,
          25,
          15
         ],
         "yaxis": "y"
        },
        {
         "alignmentgroup": "True",
         "customdata": [
          [
           "Kiko Casilla"
          ],
          [
           "Elia Caprile"
          ],
          [
           "Luke Ayling"
          ],
          [
           "Barry Douglas"
          ],
          [
           "Liam Cooper"
          ],
          [
           "Pascal Struijk"
          ],
          [
           "Leif Davis"
          ],
          [
           "Robin Koch"
          ],
          [
           "Oliver Casey"
          ],
          [
           "Charlie Cresswell"
          ],
          [
           "Robbie Gotts"
          ],
          [
           "Adam Forshaw"
          ],
          [
           "Stuart Dallas"
          ],
          [
           "Pablo Hernández"
          ],
          [
           "Kalvin Phillips"
          ],
          [
           "Mateusz Klich"
          ],
          [
           "Jamie Shackleton"
          ],
          [
           "Jack Harrison"
          ],
          [
           "Alfie McCalmont"
          ],
          [
           "Mateusz Bogusz"
          ],
          [
           "Ian Poveda-Ocampo"
          ],
          [
           "Patrick Bamford"
          ],
          [
           "Tyler Roberts"
          ],
          [
           "Joe Gelhardt"
          ],
          [
           "Rodrigo Moreno"
          ]
         ],
         "hovertemplate": "Club=Leeds-United<br>Position=%{x}<br>Appearances=%{y}<br>Name=%{customdata[0]}<extra></extra>",
         "legendgroup": "Leeds-United",
         "marker": {
          "color": "#FF97FF"
         },
         "name": "Leeds-United",
         "offsetgroup": "Leeds-United",
         "orientation": "v",
         "showlegend": true,
         "textposition": "auto",
         "type": "bar",
         "x": [
          "Goalkeeper",
          "Goalkeeper",
          "Defender",
          "Defender",
          "Defender",
          "Defender",
          "Defender",
          "Defender",
          "Defender",
          "Defender",
          "Defender",
          "Midfielder",
          "Midfielder",
          "Midfielder",
          "Midfielder",
          "Midfielder",
          "Midfielder",
          "Midfielder",
          "Midfielder",
          "Midfielder",
          "Forward",
          "Forward",
          "Forward",
          "Forward",
          "Forward"
         ],
         "xaxis": "x",
         "y": [
          0,
          0,
          2,
          0,
          3,
          1,
          0,
          2,
          0,
          0,
          0,
          35,
          2,
          58,
          2,
          2,
          1,
          2,
          0,
          0,
          0,
          29,
          3,
          0,
          19
         ],
         "yaxis": "y"
        },
        {
         "alignmentgroup": "True",
         "customdata": [
          [
           "Kasper Schmeichel"
          ],
          [
           "Danny Ward"
          ],
          [
           "Eldin Jakupovic"
          ],
          [
           "James Justin"
          ],
          [
           "Çaglar Söyüncü"
          ],
          [
           "Wes Morgan"
          ],
          [
           "Jonny Evans"
          ],
          [
           "Filip Benkovic"
          ],
          [
           "Daniel Amartey"
          ],
          [
           "Ricardo Pereira"
          ],
          [
           "Christian Fuchs"
          ],
          [
           "Luke Thomas"
          ],
          [
           "Timothy Castagne"
          ],
          [
           "Demarai Gray"
          ],
          [
           "Youri Tielemans"
          ],
          [
           "James Maddison"
          ],
          [
           "Marc Albrighton"
          ],
          [
           "Harvey Barnes"
          ],
          [
           "Hamza Choudhury"
          ],
          [
           "Matty James"
          ],
          [
           "Adrien Silva"
          ],
          [
           "Wilfred Ndidi"
          ],
          [
           "Dennis Praet"
          ],
          [
           "Rachid Ghezzal"
          ],
          [
           "Nampalys Mendy"
          ],
          [
           "Jamie Vardy"
          ],
          [
           "Islam Slimani"
          ],
          [
           "Kelechi Iheanacho"
          ],
          [
           "Ayoze Pérez"
          ],
          [
           "Fousseni Diabaté"
          ]
         ],
         "hovertemplate": "Club=Leicester-City<br>Position=%{x}<br>Appearances=%{y}<br>Name=%{customdata[0]}<extra></extra>",
         "legendgroup": "Leicester-City",
         "marker": {
          "color": "#FECB52"
         },
         "name": "Leicester-City",
         "offsetgroup": "Leicester-City",
         "orientation": "v",
         "showlegend": true,
         "textposition": "auto",
         "type": "bar",
         "x": [
          "Goalkeeper",
          "Goalkeeper",
          "Goalkeeper",
          "Defender",
          "Defender",
          "Defender",
          "Defender",
          "Defender",
          "Defender",
          "Defender",
          "Defender",
          "Defender",
          "Defender",
          "Midfielder",
          "Midfielder",
          "Midfielder",
          "Midfielder",
          "Midfielder",
          "Midfielder",
          "Midfielder",
          "Midfielder",
          "Midfielder",
          "Midfielder",
          "Midfielder",
          "Midfielder",
          "Forward",
          "Forward",
          "Forward",
          "Forward",
          "Forward"
         ],
         "xaxis": "x",
         "y": [
          211,
          2,
          28,
          15,
          42,
          168,
          297,
          0,
          46,
          63,
          107,
          3,
          2,
          132,
          52,
          69,
          258,
          57,
          37,
          42,
          14,
          122,
          29,
          19,
          44,
          213,
          39,
          117,
          178,
          15
         ],
         "yaxis": "y"
        },
        {
         "alignmentgroup": "True",
         "customdata": [
          [
           "Loris Karius"
          ],
          [
           "Alisson"
          ],
          [
           "Adrián"
          ],
          [
           "Caoimhin Kelleher"
          ],
          [
           "Kamil Grabara"
          ],
          [
           "Virgil van Dijk"
          ],
          [
           "Joseph Gomez"
          ],
          [
           "Andrew Robertson"
          ],
          [
           "Joel Matip"
          ],
          [
           "Trent Alexander-Arnold"
          ],
          [
           "Neco Williams"
          ],
          [
           "Konstantinos Tsimikas"
          ],
          [
           "Nathaniel Phillips"
          ],
          [
           "Sepp van den Berg"
          ],
          [
           "Fabinho"
          ],
          [
           "Georginio Wijnaldum"
          ],
          [
           "James Milner"
          ],
          [
           "Naby Keita"
          ],
          [
           "Jordan Henderson"
          ],
          [
           "Alex Oxlade-Chamberlain"
          ],
          [
           "Marko Grujic"
          ],
          [
           "Curtis Jones"
          ],
          [
           "Harry Wilson"
          ],
          [
           "Harvey Elliott"
          ],
          [
           "Xherdan Shaqiri"
          ],
          [
           "Thiago"
          ],
          [
           "Roberto Firmino"
          ],
          [
           "Sadio Mané"
          ],
          [
           "Mohamed Salah"
          ],
          [
           "Takumi Minamino"
          ],
          [
           "Rhian Brewster"
          ],
          [
           "Divock Origi"
          ],
          [
           "Ben Woodburn"
          ],
          [
           "Diogo Jota"
          ]
         ],
         "hovertemplate": "Club=Liverpool<br>Position=%{x}<br>Appearances=%{y}<br>Name=%{customdata[0]}<extra></extra>",
         "legendgroup": "Liverpool",
         "marker": {
          "color": "#636efa"
         },
         "name": "Liverpool",
         "offsetgroup": "Liverpool",
         "orientation": "v",
         "showlegend": true,
         "textposition": "auto",
         "type": "bar",
         "x": [
          "Goalkeeper",
          "Goalkeeper",
          "Goalkeeper",
          "Goalkeeper",
          "Goalkeeper",
          "Defender",
          "Defender",
          "Defender",
          "Defender",
          "Defender",
          "Defender",
          "Defender",
          "Defender",
          "Defender",
          "Midfielder",
          "Midfielder",
          "Midfielder",
          "Midfielder",
          "Midfielder",
          "Midfielder",
          "Midfielder",
          "Midfielder",
          "Midfielder",
          "Midfielder",
          "Midfielder",
          "Midfielder",
          "Forward",
          "Forward",
          "Forward",
          "Forward",
          "Forward",
          "Forward",
          "Forward",
          "Forward"
         ],
         "xaxis": "x",
         "y": [
          29,
          69,
          136,
          0,
          0,
          159,
          73,
          153,
          86,
          95,
          6,
          0,
          0,
          0,
          58,
          181,
          539,
          45,
          342,
          196,
          8,
          7,
          31,
          4,
          115,
          1,
          177,
          196,
          123,
          11,
          0,
          91,
          6,
          67
         ],
         "yaxis": "y"
        },
        {
         "alignmentgroup": "True",
         "customdata": [
          [
           "Ederson"
          ],
          [
           "Scott Carson"
          ],
          [
           "Nathan Aké"
          ],
          [
           "Kyle Walker"
          ],
          [
           "John Stones"
          ],
          [
           "Oleksandr Zinchenko"
          ],
          [
           "Aymeric Laporte"
          ],
          [
           "Benjamin Mendy"
          ],
          [
           "João Cancelo"
          ],
          [
           "Nicolás Otamendi"
          ],
          [
           "Eric García"
          ],
          [
           "Ilkay Gündogan"
          ],
          [
           "Rodrigo"
          ],
          [
           "Kevin De Bruyne"
          ],
          [
           "Bernardo Silva"
          ],
          [
           "Fernandinho"
          ],
          [
           "Phil Foden"
          ],
          [
           "Tommy Doyle"
          ],
          [
           "Adrián Bernabé"
          ],
          [
           "Ferran Torres"
          ],
          [
           "Raheem Sterling"
          ],
          [
           "Gabriel Jesus"
          ],
          [
           "Sergio Agüero"
          ],
          [
           "Riyad Mahrez"
          ],
          [
           "Liam Delap"
          ]
         ],
         "hovertemplate": "Club=Manchester-City<br>Position=%{x}<br>Appearances=%{y}<br>Name=%{customdata[0]}<extra></extra>",
         "legendgroup": "Manchester-City",
         "marker": {
          "color": "#EF553B"
         },
         "name": "Manchester-City",
         "offsetgroup": "Manchester-City",
         "orientation": "v",
         "showlegend": true,
         "textposition": "auto",
         "type": "bar",
         "x": [
          "Goalkeeper",
          "Goalkeeper",
          "Defender",
          "Defender",
          "Defender",
          "Defender",
          "Defender",
          "Defender",
          "Defender",
          "Defender",
          "Defender",
          "Midfielder",
          "Midfielder",
          "Midfielder",
          "Midfielder",
          "Midfielder",
          "Midfielder",
          "Midfielder",
          "Midfielder",
          "Forward",
          "Forward",
          "Forward",
          "Forward",
          "Forward",
          "Forward"
         ],
         "xaxis": "x",
         "y": [
          110,
          145,
          147,
          293,
          163,
          41,
          59,
          37,
          17,
          136,
          13,
          102,
          36,
          156,
          105,
          225,
          42,
          1,
          0,
          1,
          260,
          103,
          263,
          199,
          0
         ],
         "yaxis": "y"
        },
        {
         "alignmentgroup": "True",
         "customdata": [
          [
           "David de Gea"
          ],
          [
           "Sergio Romero"
          ],
          [
           "Dean Henderson"
          ],
          [
           "Victor Lindelöf"
          ],
          [
           "Eric Bailly"
          ],
          [
           "Phil Jones"
          ],
          [
           "Harry Maguire"
          ],
          [
           "Chris Smalling"
          ],
          [
           "Marcos Rojo"
          ],
          [
           "Diogo Dalot"
          ],
          [
           "Luke Shaw"
          ],
          [
           "Timothy Fosu-Mensah"
          ],
          [
           "Aaron Wan-Bissaka"
          ],
          [
           "Axel Tuanzebe"
          ],
          [
           "Brandon Williams"
          ],
          [
           "Teden Mengi"
          ],
          [
           "Paul Pogba"
          ],
          [
           "Juan Mata"
          ],
          [
           "Jesse Lingard"
          ],
          [
           "Andreas Pereira"
          ],
          [
           "Fred"
          ],
          [
           "Bruno Fernandes"
          ],
          [
           "Daniel James"
          ],
          [
           "Nemanja Matic"
          ],
          [
           "Scott McTominay"
          ],
          [
           "Donny van de Beek"
          ],
          [
           "Anthony Martial"
          ],
          [
           "Marcus Rashford"
          ],
          [
           "Odion Ighalo"
          ],
          [
           "Mason Greenwood"
          ]
         ],
         "hovertemplate": "Club=Manchester-United<br>Position=%{x}<br>Appearances=%{y}<br>Name=%{customdata[0]}<extra></extra>",
         "legendgroup": "Manchester-United",
         "marker": {
          "color": "#00cc96"
         },
         "name": "Manchester-United",
         "offsetgroup": "Manchester-United",
         "orientation": "v",
         "showlegend": true,
         "textposition": "auto",
         "type": "bar",
         "x": [
          "Goalkeeper",
          "Goalkeeper",
          "Goalkeeper",
          "Defender",
          "Defender",
          "Defender",
          "Defender",
          "Defender",
          "Defender",
          "Defender",
          "Defender",
          "Defender",
          "Defender",
          "Defender",
          "Defender",
          "Defender",
          "Midfielder",
          "Midfielder",
          "Midfielder",
          "Midfielder",
          "Midfielder",
          "Midfielder",
          "Midfielder",
          "Midfielder",
          "Midfielder",
          "Midfielder",
          "Forward",
          "Forward",
          "Forward",
          "Forward"
         ],
         "xaxis": "x",
         "y": [
          314,
          7,
          36,
          83,
          54,
          200,
          140,
          219,
          76,
          20,
          157,
          49,
          77,
          10,
          17,
          0,
          112,
          262,
          133,
          45,
          46,
          15,
          34,
          208,
          59,
          1,
          146,
          143,
          67,
          35
         ],
         "yaxis": "y"
        },
        {
         "alignmentgroup": "True",
         "customdata": [
          [
           "Mark Gillespie"
          ],
          [
           "Martin Dubravka"
          ],
          [
           "Karl Darlow"
          ],
          [
           "Daniel Langley"
          ],
          [
           "Ciaran Clark"
          ],
          [
           "Paul Dummett"
          ],
          [
           "Fabian Schär"
          ],
          [
           "Jamaal Lascelles"
          ],
          [
           "Emil Krafth"
          ],
          [
           "Federico Fernández"
          ],
          [
           "Javier Manquillo"
          ],
          [
           "DeAndre Yedlin"
          ],
          [
           "Jamal Lewis"
          ],
          [
           "Jacob Murphy"
          ],
          [
           "Jonjo Shelvey"
          ],
          [
           "Matt Ritchie"
          ],
          [
           "Isaac Hayden"
          ],
          [
           "Miguel Almirón"
          ],
          [
           "Christian Atsu"
          ],
          [
           "Sean Longstaff"
          ],
          [
           "Matthew Longstaff"
          ],
          [
           "Jeff Hendrick"
          ],
          [
           "Ryan Fraser"
          ],
          [
           "Henri Saivet"
          ],
          [
           "Daniel Barlaser"
          ],
          [
           "Andy Carroll"
          ],
          [
           "Joelinton"
          ],
          [
           "Allan Saint-Maximin"
          ],
          [
           "Dwight Gayle"
          ],
          [
           "Callum Wilson"
          ]
         ],
         "hovertemplate": "Club=Newcastle-United<br>Position=%{x}<br>Appearances=%{y}<br>Name=%{customdata[0]}<extra></extra>",
         "legendgroup": "Newcastle-United",
         "marker": {
          "color": "#ab63fa"
         },
         "name": "Newcastle-United",
         "offsetgroup": "Newcastle-United",
         "orientation": "v",
         "showlegend": true,
         "textposition": "auto",
         "type": "bar",
         "x": [
          "Goalkeeper",
          "Goalkeeper",
          "Goalkeeper",
          "Goalkeeper",
          "Defender",
          "Defender",
          "Defender",
          "Defender",
          "Defender",
          "Defender",
          "Defender",
          "Defender",
          "Defender",
          "Midfielder",
          "Midfielder",
          "Midfielder",
          "Midfielder",
          "Midfielder",
          "Midfielder",
          "Midfielder",
          "Midfielder",
          "Midfielder",
          "Midfielder",
          "Midfielder",
          "Midfielder",
          "Forward",
          "Forward",
          "Forward",
          "Forward",
          "Forward"
         ],
         "xaxis": "x",
         "y": [
          0,
          88,
          21,
          0,
          179,
          128,
          46,
          109,
          17,
          170,
          92,
          103,
          30,
          34,
          215,
          128,
          82,
          48,
          80,
          33,
          9,
          124,
          121,
          5,
          0,
          232,
          40,
          28,
          119,
          128
         ],
         "yaxis": "y"
        },
        {
         "alignmentgroup": "True",
         "customdata": [
          [
           "Wes Foderingham"
          ],
          [
           "Michael Verrips"
          ],
          [
           "Simon Moore"
          ],
          [
           "Aaron Ramsdale"
          ],
          [
           "George Baldock"
          ],
          [
           "Enda Stevens"
          ],
          [
           "Jack O'Connell"
          ],
          [
           "Chris Basham"
          ],
          [
           "John Egan"
          ],
          [
           "Jack Robinson"
          ],
          [
           "Kean Bryan"
          ],
          [
           "Phil Jagielka"
          ],
          [
           "Max Lowe"
          ],
          [
           "Ethan Ampadu"
          ],
          [
           "Jayden Bogle"
          ],
          [
           "John Fleck"
          ],
          [
           "John Lundstram"
          ],
          [
           "Oliver Norwood"
          ],
          [
           "Ben Osborn"
          ],
          [
           "Sander Berge"
          ],
          [
           "Jack Rodwell"
          ],
          [
           "Regan Slater"
          ],
          [
           "Oliver Burke"
          ],
          [
           "Zak Brunt"
          ],
          [
           "Oliver McBurnie"
          ],
          [
           "Billy Sharp"
          ],
          [
           "David McGoldrick"
          ],
          [
           "Lys Mousset"
          ]
         ],
         "hovertemplate": "Club=Sheffield-United<br>Position=%{x}<br>Appearances=%{y}<br>Name=%{customdata[0]}<extra></extra>",
         "legendgroup": "Sheffield-United",
         "marker": {
          "color": "#FFA15A"
         },
         "name": "Sheffield-United",
         "offsetgroup": "Sheffield-United",
         "orientation": "v",
         "showlegend": true,
         "textposition": "auto",
         "type": "bar",
         "x": [
          "Goalkeeper",
          "Goalkeeper",
          "Goalkeeper",
          "Goalkeeper",
          "Defender",
          "Defender",
          "Defender",
          "Defender",
          "Defender",
          "Defender",
          "Defender",
          "Defender",
          "Defender",
          "Defender",
          "Defender",
          "Midfielder",
          "Midfielder",
          "Midfielder",
          "Midfielder",
          "Midfielder",
          "Midfielder",
          "Midfielder",
          "Midfielder",
          "Midfielder",
          "Forward",
          "Forward",
          "Forward",
          "Forward"
         ],
         "xaxis": "x",
         "y": [
          0,
          0,
          2,
          39,
          40,
          47,
          35,
          61,
          38,
          9,
          0,
          366,
          0,
          2,
          0,
          32,
          36,
          39,
          14,
          16,
          167,
          0,
          16,
          0,
          54,
          28,
          30,
          88
         ],
         "yaxis": "y"
        },
        {
         "alignmentgroup": "True",
         "customdata": [
          [
           "Alex McCarthy"
          ],
          [
           "Angus Gunn"
          ],
          [
           "Fraser Forster"
          ],
          [
           "Harry Lewis"
          ],
          [
           "Jannik Vestergaard"
          ],
          [
           "Jack Stephens"
          ],
          [
           "Ryan Bertrand"
          ],
          [
           "Jake Vokins"
          ],
          [
           "Jan Bednarek"
          ],
          [
           "Yan Valery"
          ],
          [
           "Kyle Walker-Peters"
          ],
          [
           "Mohammed Salisu"
          ],
          [
           "Moussa Djenepo"
          ],
          [
           "Oriol Romeu"
          ],
          [
           "James Ward-Prowse"
          ],
          [
           "Stuart Armstrong"
          ],
          [
           "Sofiane Boufal"
          ],
          [
           "Nathan Redmond"
          ],
          [
           "William Smallbone"
          ],
          [
           "Nathan Tella"
          ],
          [
           "Shane Long"
          ],
          [
           "Danny Ings"
          ],
          [
           "Che Adams"
          ],
          [
           "Michael Obafemi"
          ]
         ],
         "hovertemplate": "Club=Southampton<br>Position=%{x}<br>Appearances=%{y}<br>Name=%{customdata[0]}<extra></extra>",
         "legendgroup": "Southampton",
         "marker": {
          "color": "#19d3f3"
         },
         "name": "Southampton",
         "offsetgroup": "Southampton",
         "orientation": "v",
         "showlegend": true,
         "textposition": "auto",
         "type": "bar",
         "x": [
          "Goalkeeper",
          "Goalkeeper",
          "Goalkeeper",
          "Goalkeeper",
          "Defender",
          "Defender",
          "Defender",
          "Defender",
          "Defender",
          "Defender",
          "Defender",
          "Defender",
          "Midfielder",
          "Midfielder",
          "Midfielder",
          "Midfielder",
          "Midfielder",
          "Midfielder",
          "Midfielder",
          "Midfielder",
          "Forward",
          "Forward",
          "Forward",
          "Forward"
         ],
         "xaxis": "x",
         "y": [
          96,
          22,
          107,
          0,
          43,
          93,
          231,
          1,
          66,
          34,
          24,
          0,
          20,
          183,
          233,
          60,
          70,
          208,
          11,
          2,
          322,
          113,
          32,
          28
         ],
         "yaxis": "y"
        },
        {
         "alignmentgroup": "True",
         "customdata": [
          [
           "Hugo Lloris"
          ],
          [
           "Paulo Gazzaniga"
          ],
          [
           "Joe Hart"
          ],
          [
           "Alfie Whiteman"
          ],
          [
           "Brandon Austin"
          ],
          [
           "Toby Alderweireld"
          ],
          [
           "Davinson Sánchez"
          ],
          [
           "Juan Foyth"
          ],
          [
           "Serge Aurier"
          ],
          [
           "Ben Davies"
          ],
          [
           "Japhet Tanganga"
          ],
          [
           "Matt Doherty"
          ],
          [
           "Dennis Cirkin"
          ],
          [
           "Sergio Reguilón"
          ],
          [
           "Harry Winks"
          ],
          [
           "Erik Lamela"
          ],
          [
           "Eric Dier"
          ],
          [
           "Moussa Sissoko"
          ],
          [
           "Ryan Sessegnon"
          ],
          [
           "Dele Alli"
          ],
          [
           "Tanguy Ndombele"
          ],
          [
           "Gedson Fernandes"
          ],
          [
           "Pierre-Emile Højbjerg"
          ],
          [
           "Harvey White"
          ],
          [
           "Giovani Lo Celso"
          ],
          [
           "Lucas Moura"
          ],
          [
           "Jack Clarke"
          ],
          [
           "Son Heung-Min"
          ],
          [
           "Harry Kane"
          ],
          [
           "Steven Bergwijn"
          ],
          [
           "Gareth Bale"
          ]
         ],
         "hovertemplate": "Club=Tottenham-Hotspur<br>Position=%{x}<br>Appearances=%{y}<br>Name=%{customdata[0]}<extra></extra>",
         "legendgroup": "Tottenham-Hotspur",
         "marker": {
          "color": "#FF6692"
         },
         "name": "Tottenham-Hotspur",
         "offsetgroup": "Tottenham-Hotspur",
         "orientation": "v",
         "showlegend": true,
         "textposition": "auto",
         "type": "bar",
         "x": [
          "Goalkeeper",
          "Goalkeeper",
          "Goalkeeper",
          "Goalkeeper",
          "Goalkeeper",
          "Defender",
          "Defender",
          "Defender",
          "Defender",
          "Defender",
          "Defender",
          "Defender",
          "Defender",
          "Defender",
          "Midfielder",
          "Midfielder",
          "Midfielder",
          "Midfielder",
          "Midfielder",
          "Midfielder",
          "Midfielder",
          "Midfielder",
          "Midfielder",
          "Midfielder",
          "Midfielder",
          "Forward",
          "Forward",
          "Forward",
          "Forward",
          "Forward",
          "Forward"
         ],
         "xaxis": "x",
         "y": [
          262,
          43,
          340,
          0,
          0,
          176,
          84,
          16,
          58,
          201,
          6,
          77,
          0,
          0,
          96,
          155,
          176,
          235,
          41,
          157,
          23,
          7,
          111,
          0,
          29,
          75,
          0,
          162,
          212,
          16,
          146
         ],
         "yaxis": "y"
        },
        {
         "alignmentgroup": "True",
         "customdata": [
          [
           "Sam Johnstone"
          ],
          [
           "David Button"
          ],
          [
           "Jonathan Bond"
          ],
          [
           "Darnell Furlong"
          ],
          [
           "Kieran Gibbs"
          ],
          [
           "Kyle Bartley"
          ],
          [
           "Semi Ajayi"
          ],
          [
           "Conor Townsend"
          ],
          [
           "Ahmed Hegazi"
          ],
          [
           "Dara O'Shea"
          ],
          [
           "Cédric Kipré"
          ],
          [
           "Lee Peltier"
          ],
          [
           "Branislav Ivanovic"
          ],
          [
           "Jake Livermore"
          ],
          [
           "Matt Phillips"
          ],
          [
           "Kamil Grosicki"
          ],
          [
           "Rekeem Harper"
          ],
          [
           "Romaine Sawyers"
          ],
          [
           "Sam Field"
          ],
          [
           "Kyle Edwards"
          ],
          [
           "Grady Diangana"
          ],
          [
           "Conor Gallagher"
          ],
          [
           "Hal Robson-Kanu"
          ],
          [
           "Kenneth Zohore"
          ],
          [
           "Matheus Pereira"
          ],
          [
           "Charlie Austin"
          ],
          [
           "Callum Robinson"
          ],
          [
           "Jamie Soule"
          ]
         ],
         "hovertemplate": "Club=West-Bromwich-Albion<br>Position=%{x}<br>Appearances=%{y}<br>Name=%{customdata[0]}<extra></extra>",
         "legendgroup": "West-Bromwich-Albion",
         "marker": {
          "color": "#B6E880"
         },
         "name": "West-Bromwich-Albion",
         "offsetgroup": "West-Bromwich-Albion",
         "orientation": "v",
         "showlegend": true,
         "textposition": "auto",
         "type": "bar",
         "x": [
          "Goalkeeper",
          "Goalkeeper",
          "Goalkeeper",
          "Defender",
          "Defender",
          "Defender",
          "Defender",
          "Defender",
          "Defender",
          "Defender",
          "Defender",
          "Defender",
          "Defender",
          "Midfielder",
          "Midfielder",
          "Midfielder",
          "Midfielder",
          "Midfielder",
          "Midfielder",
          "Midfielder",
          "Midfielder",
          "Midfielder",
          "Forward",
          "Forward",
          "Forward",
          "Forward",
          "Forward",
          "Forward"
         ],
         "xaxis": "x",
         "y": [
          2,
          4,
          0,
          5,
          172,
          23,
          2,
          0,
          38,
          2,
          0,
          20,
          261,
          180,
          110,
          15,
          2,
          2,
          20,
          2,
          19,
          0,
          76,
          19,
          2,
          106,
          22,
          0
         ],
         "yaxis": "y"
        },
        {
         "alignmentgroup": "True",
         "customdata": [
          [
           "Lukasz Fabianski"
          ],
          [
           "David Martin"
          ],
          [
           "Darren Randolph"
          ],
          [
           "Nathan Trott"
          ],
          [
           "Aaron Cresswell"
          ],
          [
           "Fabián Balbuena"
          ],
          [
           "Gonçalo Cardoso"
          ],
          [
           "Angelo Ogbonna"
          ],
          [
           "Issa Diop"
          ],
          [
           "Ryan Fredericks"
          ],
          [
           "Arthur Masuaku"
          ],
          [
           "Ben Johnson"
          ],
          [
           "Ajibola Alese"
          ],
          [
           "Harrison Ashby"
          ],
          [
           "Felipe Anderson"
          ],
          [
           "Manuel Lanzini"
          ],
          [
           "Robert Snodgrass"
          ],
          [
           "Mark Noble"
          ],
          [
           "Pablo Fornals"
          ],
          [
           "Jack Wilshere"
          ],
          [
           "Declan Rice"
          ],
          [
           "Josh Cullen"
          ],
          [
           "Conor Coventry"
          ],
          [
           "Michail Antonio"
          ],
          [
           "Andriy Yarmolenko"
          ],
          [
           "Jarrod Bowen"
          ],
          [
           "Sébastien Haller"
          ],
          [
           "Xande Silva"
          ],
          [
           "Emmanuel Longelo"
          ]
         ],
         "hovertemplate": "Club=West-Ham-United<br>Position=%{x}<br>Appearances=%{y}<br>Name=%{customdata[0]}<extra></extra>",
         "legendgroup": "West-Ham-United",
         "marker": {
          "color": "#FF97FF"
         },
         "name": "West-Ham-United",
         "offsetgroup": "West-Ham-United",
         "orientation": "v",
         "showlegend": true,
         "textposition": "auto",
         "type": "bar",
         "x": [
          "Goalkeeper",
          "Goalkeeper",
          "Goalkeeper",
          "Goalkeeper",
          "Defender",
          "Defender",
          "Defender",
          "Defender",
          "Defender",
          "Defender",
          "Defender",
          "Defender",
          "Defender",
          "Defender",
          "Midfielder",
          "Midfielder",
          "Midfielder",
          "Midfielder",
          "Midfielder",
          "Midfielder",
          "Midfielder",
          "Midfielder",
          "Midfielder",
          "Forward",
          "Forward",
          "Forward",
          "Forward",
          "Forward",
          "Forward"
         ],
         "xaxis": "x",
         "y": [
          246,
          5,
          31,
          0,
          190,
          40,
          0,
          137,
          67,
          44,
          81,
          4,
          0,
          0,
          63,
          122,
          160,
          383,
          38,
          182,
          101,
          3,
          0,
          135,
          34,
          22,
          34,
          1,
          0
         ],
         "yaxis": "y"
        },
        {
         "alignmentgroup": "True",
         "customdata": [
          [
           "Rui Patrício"
          ],
          [
           "John Ruddy"
          ],
          [
           "Willy Boly"
          ],
          [
           "Conor Coady"
          ],
          [
           "Jonny"
          ],
          [
           "Rúben Vinagre"
          ],
          [
           "Maximilian Kilman"
          ],
          [
           "Oskar Buur"
          ],
          [
           "Marçal"
          ],
          [
           "Ki-Jana Hoever"
          ],
          [
           "Rúben Neves"
          ],
          [
           "Daniel Podence"
          ],
          [
           "Romain Saïss"
          ],
          [
           "João Moutinho"
          ],
          [
           "Leander Dendoncker"
          ],
          [
           "Vitinha"
          ],
          [
           "Meritan Shabani"
          ],
          [
           "Pedro Neto"
          ],
          [
           "Raúl Jiménez"
          ],
          [
           "Adama Traoré"
          ],
          [
           "Fábio Silva"
          ],
          [
           "Leonardo Campana"
          ]
         ],
         "hovertemplate": "Club=Wolverhampton-Wanderers<br>Position=%{x}<br>Appearances=%{y}<br>Name=%{customdata[0]}<extra></extra>",
         "legendgroup": "Wolverhampton-Wanderers",
         "marker": {
          "color": "#FECB52"
         },
         "name": "Wolverhampton-Wanderers",
         "offsetgroup": "Wolverhampton-Wanderers",
         "orientation": "v",
         "showlegend": true,
         "textposition": "auto",
         "type": "bar",
         "x": [
          "Goalkeeper",
          "Goalkeeper",
          "Defender",
          "Defender",
          "Defender",
          "Defender",
          "Defender",
          "Defender",
          "Defender",
          "Defender",
          "Midfielder",
          "Midfielder",
          "Midfielder",
          "Midfielder",
          "Midfielder",
          "Midfielder",
          "Midfielder",
          "Forward",
          "Forward",
          "Forward",
          "Forward",
          "Forward"
         ],
         "xaxis": "x",
         "y": [
          77,
          119,
          60,
          79,
          68,
          34,
          4,
          1,
          2,
          0,
          75,
          11,
          54,
          78,
          59,
          1,
          0,
          31,
          78,
          105,
          1,
          0
         ],
         "yaxis": "y"
        }
       ],
       "layout": {
        "barmode": "relative",
        "height": 600,
        "legend": {
         "title": {
          "text": "Club"
         },
         "tracegroupgap": 0
        },
        "template": {
         "data": {
          "bar": [
           {
            "error_x": {
             "color": "#2a3f5f"
            },
            "error_y": {
             "color": "#2a3f5f"
            },
            "marker": {
             "line": {
              "color": "#E5ECF6",
              "width": 0.5
             }
            },
            "type": "bar"
           }
          ],
          "barpolar": [
           {
            "marker": {
             "line": {
              "color": "#E5ECF6",
              "width": 0.5
             }
            },
            "type": "barpolar"
           }
          ],
          "carpet": [
           {
            "aaxis": {
             "endlinecolor": "#2a3f5f",
             "gridcolor": "white",
             "linecolor": "white",
             "minorgridcolor": "white",
             "startlinecolor": "#2a3f5f"
            },
            "baxis": {
             "endlinecolor": "#2a3f5f",
             "gridcolor": "white",
             "linecolor": "white",
             "minorgridcolor": "white",
             "startlinecolor": "#2a3f5f"
            },
            "type": "carpet"
           }
          ],
          "choropleth": [
           {
            "colorbar": {
             "outlinewidth": 0,
             "ticks": ""
            },
            "type": "choropleth"
           }
          ],
          "contour": [
           {
            "colorbar": {
             "outlinewidth": 0,
             "ticks": ""
            },
            "colorscale": [
             [
              0,
              "#0d0887"
             ],
             [
              0.1111111111111111,
              "#46039f"
             ],
             [
              0.2222222222222222,
              "#7201a8"
             ],
             [
              0.3333333333333333,
              "#9c179e"
             ],
             [
              0.4444444444444444,
              "#bd3786"
             ],
             [
              0.5555555555555556,
              "#d8576b"
             ],
             [
              0.6666666666666666,
              "#ed7953"
             ],
             [
              0.7777777777777778,
              "#fb9f3a"
             ],
             [
              0.8888888888888888,
              "#fdca26"
             ],
             [
              1,
              "#f0f921"
             ]
            ],
            "type": "contour"
           }
          ],
          "contourcarpet": [
           {
            "colorbar": {
             "outlinewidth": 0,
             "ticks": ""
            },
            "type": "contourcarpet"
           }
          ],
          "heatmap": [
           {
            "colorbar": {
             "outlinewidth": 0,
             "ticks": ""
            },
            "colorscale": [
             [
              0,
              "#0d0887"
             ],
             [
              0.1111111111111111,
              "#46039f"
             ],
             [
              0.2222222222222222,
              "#7201a8"
             ],
             [
              0.3333333333333333,
              "#9c179e"
             ],
             [
              0.4444444444444444,
              "#bd3786"
             ],
             [
              0.5555555555555556,
              "#d8576b"
             ],
             [
              0.6666666666666666,
              "#ed7953"
             ],
             [
              0.7777777777777778,
              "#fb9f3a"
             ],
             [
              0.8888888888888888,
              "#fdca26"
             ],
             [
              1,
              "#f0f921"
             ]
            ],
            "type": "heatmap"
           }
          ],
          "heatmapgl": [
           {
            "colorbar": {
             "outlinewidth": 0,
             "ticks": ""
            },
            "colorscale": [
             [
              0,
              "#0d0887"
             ],
             [
              0.1111111111111111,
              "#46039f"
             ],
             [
              0.2222222222222222,
              "#7201a8"
             ],
             [
              0.3333333333333333,
              "#9c179e"
             ],
             [
              0.4444444444444444,
              "#bd3786"
             ],
             [
              0.5555555555555556,
              "#d8576b"
             ],
             [
              0.6666666666666666,
              "#ed7953"
             ],
             [
              0.7777777777777778,
              "#fb9f3a"
             ],
             [
              0.8888888888888888,
              "#fdca26"
             ],
             [
              1,
              "#f0f921"
             ]
            ],
            "type": "heatmapgl"
           }
          ],
          "histogram": [
           {
            "marker": {
             "colorbar": {
              "outlinewidth": 0,
              "ticks": ""
             }
            },
            "type": "histogram"
           }
          ],
          "histogram2d": [
           {
            "colorbar": {
             "outlinewidth": 0,
             "ticks": ""
            },
            "colorscale": [
             [
              0,
              "#0d0887"
             ],
             [
              0.1111111111111111,
              "#46039f"
             ],
             [
              0.2222222222222222,
              "#7201a8"
             ],
             [
              0.3333333333333333,
              "#9c179e"
             ],
             [
              0.4444444444444444,
              "#bd3786"
             ],
             [
              0.5555555555555556,
              "#d8576b"
             ],
             [
              0.6666666666666666,
              "#ed7953"
             ],
             [
              0.7777777777777778,
              "#fb9f3a"
             ],
             [
              0.8888888888888888,
              "#fdca26"
             ],
             [
              1,
              "#f0f921"
             ]
            ],
            "type": "histogram2d"
           }
          ],
          "histogram2dcontour": [
           {
            "colorbar": {
             "outlinewidth": 0,
             "ticks": ""
            },
            "colorscale": [
             [
              0,
              "#0d0887"
             ],
             [
              0.1111111111111111,
              "#46039f"
             ],
             [
              0.2222222222222222,
              "#7201a8"
             ],
             [
              0.3333333333333333,
              "#9c179e"
             ],
             [
              0.4444444444444444,
              "#bd3786"
             ],
             [
              0.5555555555555556,
              "#d8576b"
             ],
             [
              0.6666666666666666,
              "#ed7953"
             ],
             [
              0.7777777777777778,
              "#fb9f3a"
             ],
             [
              0.8888888888888888,
              "#fdca26"
             ],
             [
              1,
              "#f0f921"
             ]
            ],
            "type": "histogram2dcontour"
           }
          ],
          "mesh3d": [
           {
            "colorbar": {
             "outlinewidth": 0,
             "ticks": ""
            },
            "type": "mesh3d"
           }
          ],
          "parcoords": [
           {
            "line": {
             "colorbar": {
              "outlinewidth": 0,
              "ticks": ""
             }
            },
            "type": "parcoords"
           }
          ],
          "pie": [
           {
            "automargin": true,
            "type": "pie"
           }
          ],
          "scatter": [
           {
            "marker": {
             "colorbar": {
              "outlinewidth": 0,
              "ticks": ""
             }
            },
            "type": "scatter"
           }
          ],
          "scatter3d": [
           {
            "line": {
             "colorbar": {
              "outlinewidth": 0,
              "ticks": ""
             }
            },
            "marker": {
             "colorbar": {
              "outlinewidth": 0,
              "ticks": ""
             }
            },
            "type": "scatter3d"
           }
          ],
          "scattercarpet": [
           {
            "marker": {
             "colorbar": {
              "outlinewidth": 0,
              "ticks": ""
             }
            },
            "type": "scattercarpet"
           }
          ],
          "scattergeo": [
           {
            "marker": {
             "colorbar": {
              "outlinewidth": 0,
              "ticks": ""
             }
            },
            "type": "scattergeo"
           }
          ],
          "scattergl": [
           {
            "marker": {
             "colorbar": {
              "outlinewidth": 0,
              "ticks": ""
             }
            },
            "type": "scattergl"
           }
          ],
          "scattermapbox": [
           {
            "marker": {
             "colorbar": {
              "outlinewidth": 0,
              "ticks": ""
             }
            },
            "type": "scattermapbox"
           }
          ],
          "scatterpolar": [
           {
            "marker": {
             "colorbar": {
              "outlinewidth": 0,
              "ticks": ""
             }
            },
            "type": "scatterpolar"
           }
          ],
          "scatterpolargl": [
           {
            "marker": {
             "colorbar": {
              "outlinewidth": 0,
              "ticks": ""
             }
            },
            "type": "scatterpolargl"
           }
          ],
          "scatterternary": [
           {
            "marker": {
             "colorbar": {
              "outlinewidth": 0,
              "ticks": ""
             }
            },
            "type": "scatterternary"
           }
          ],
          "surface": [
           {
            "colorbar": {
             "outlinewidth": 0,
             "ticks": ""
            },
            "colorscale": [
             [
              0,
              "#0d0887"
             ],
             [
              0.1111111111111111,
              "#46039f"
             ],
             [
              0.2222222222222222,
              "#7201a8"
             ],
             [
              0.3333333333333333,
              "#9c179e"
             ],
             [
              0.4444444444444444,
              "#bd3786"
             ],
             [
              0.5555555555555556,
              "#d8576b"
             ],
             [
              0.6666666666666666,
              "#ed7953"
             ],
             [
              0.7777777777777778,
              "#fb9f3a"
             ],
             [
              0.8888888888888888,
              "#fdca26"
             ],
             [
              1,
              "#f0f921"
             ]
            ],
            "type": "surface"
           }
          ],
          "table": [
           {
            "cells": {
             "fill": {
              "color": "#EBF0F8"
             },
             "line": {
              "color": "white"
             }
            },
            "header": {
             "fill": {
              "color": "#C8D4E3"
             },
             "line": {
              "color": "white"
             }
            },
            "type": "table"
           }
          ]
         },
         "layout": {
          "annotationdefaults": {
           "arrowcolor": "#2a3f5f",
           "arrowhead": 0,
           "arrowwidth": 1
          },
          "autotypenumbers": "strict",
          "coloraxis": {
           "colorbar": {
            "outlinewidth": 0,
            "ticks": ""
           }
          },
          "colorscale": {
           "diverging": [
            [
             0,
             "#8e0152"
            ],
            [
             0.1,
             "#c51b7d"
            ],
            [
             0.2,
             "#de77ae"
            ],
            [
             0.3,
             "#f1b6da"
            ],
            [
             0.4,
             "#fde0ef"
            ],
            [
             0.5,
             "#f7f7f7"
            ],
            [
             0.6,
             "#e6f5d0"
            ],
            [
             0.7,
             "#b8e186"
            ],
            [
             0.8,
             "#7fbc41"
            ],
            [
             0.9,
             "#4d9221"
            ],
            [
             1,
             "#276419"
            ]
           ],
           "sequential": [
            [
             0,
             "#0d0887"
            ],
            [
             0.1111111111111111,
             "#46039f"
            ],
            [
             0.2222222222222222,
             "#7201a8"
            ],
            [
             0.3333333333333333,
             "#9c179e"
            ],
            [
             0.4444444444444444,
             "#bd3786"
            ],
            [
             0.5555555555555556,
             "#d8576b"
            ],
            [
             0.6666666666666666,
             "#ed7953"
            ],
            [
             0.7777777777777778,
             "#fb9f3a"
            ],
            [
             0.8888888888888888,
             "#fdca26"
            ],
            [
             1,
             "#f0f921"
            ]
           ],
           "sequentialminus": [
            [
             0,
             "#0d0887"
            ],
            [
             0.1111111111111111,
             "#46039f"
            ],
            [
             0.2222222222222222,
             "#7201a8"
            ],
            [
             0.3333333333333333,
             "#9c179e"
            ],
            [
             0.4444444444444444,
             "#bd3786"
            ],
            [
             0.5555555555555556,
             "#d8576b"
            ],
            [
             0.6666666666666666,
             "#ed7953"
            ],
            [
             0.7777777777777778,
             "#fb9f3a"
            ],
            [
             0.8888888888888888,
             "#fdca26"
            ],
            [
             1,
             "#f0f921"
            ]
           ]
          },
          "colorway": [
           "#636efa",
           "#EF553B",
           "#00cc96",
           "#ab63fa",
           "#FFA15A",
           "#19d3f3",
           "#FF6692",
           "#B6E880",
           "#FF97FF",
           "#FECB52"
          ],
          "font": {
           "color": "#2a3f5f"
          },
          "geo": {
           "bgcolor": "white",
           "lakecolor": "white",
           "landcolor": "#E5ECF6",
           "showlakes": true,
           "showland": true,
           "subunitcolor": "white"
          },
          "hoverlabel": {
           "align": "left"
          },
          "hovermode": "closest",
          "mapbox": {
           "style": "light"
          },
          "paper_bgcolor": "white",
          "plot_bgcolor": "#E5ECF6",
          "polar": {
           "angularaxis": {
            "gridcolor": "white",
            "linecolor": "white",
            "ticks": ""
           },
           "bgcolor": "#E5ECF6",
           "radialaxis": {
            "gridcolor": "white",
            "linecolor": "white",
            "ticks": ""
           }
          },
          "scene": {
           "xaxis": {
            "backgroundcolor": "#E5ECF6",
            "gridcolor": "white",
            "gridwidth": 2,
            "linecolor": "white",
            "showbackground": true,
            "ticks": "",
            "zerolinecolor": "white"
           },
           "yaxis": {
            "backgroundcolor": "#E5ECF6",
            "gridcolor": "white",
            "gridwidth": 2,
            "linecolor": "white",
            "showbackground": true,
            "ticks": "",
            "zerolinecolor": "white"
           },
           "zaxis": {
            "backgroundcolor": "#E5ECF6",
            "gridcolor": "white",
            "gridwidth": 2,
            "linecolor": "white",
            "showbackground": true,
            "ticks": "",
            "zerolinecolor": "white"
           }
          },
          "shapedefaults": {
           "line": {
            "color": "#2a3f5f"
           }
          },
          "ternary": {
           "aaxis": {
            "gridcolor": "white",
            "linecolor": "white",
            "ticks": ""
           },
           "baxis": {
            "gridcolor": "white",
            "linecolor": "white",
            "ticks": ""
           },
           "bgcolor": "#E5ECF6",
           "caxis": {
            "gridcolor": "white",
            "linecolor": "white",
            "ticks": ""
           }
          },
          "title": {
           "x": 0.05
          },
          "xaxis": {
           "automargin": true,
           "gridcolor": "white",
           "linecolor": "white",
           "ticks": "",
           "title": {
            "standoff": 15
           },
           "zerolinecolor": "white",
           "zerolinewidth": 2
          },
          "yaxis": {
           "automargin": true,
           "gridcolor": "white",
           "linecolor": "white",
           "ticks": "",
           "title": {
            "standoff": 15
           },
           "zerolinecolor": "white",
           "zerolinewidth": 2
          }
         }
        },
        "title": {
         "text": "Players appearances by position"
        },
        "xaxis": {
         "anchor": "y",
         "domain": [
          0,
          1
         ],
         "title": {
          "text": "Position"
         }
        },
        "yaxis": {
         "anchor": "x",
         "domain": [
          0,
          1
         ],
         "title": {
          "text": "Appearances"
         }
        }
       }
      },
      "text/html": [
       "<div>                            <div id=\"0108efd7-37ff-40b1-a902-cd7f1b82e71d\" class=\"plotly-graph-div\" style=\"height:600px; width:100%;\"></div>            <script type=\"text/javascript\">                require([\"plotly\"], function(Plotly) {                    window.PLOTLYENV=window.PLOTLYENV || {};                                    if (document.getElementById(\"0108efd7-37ff-40b1-a902-cd7f1b82e71d\")) {                    Plotly.newPlot(                        \"0108efd7-37ff-40b1-a902-cd7f1b82e71d\",                        [{\"alignmentgroup\": \"True\", \"customdata\": [[\"Bernd Leno\"], [\"Matt Macey\"], [\"R\\u00fanar Alex R\\u00fanarsson\"], [\"H\\u00e9ctor Beller\\u00edn\"], [\"Kieran Tierney\"], [\"William Saliba\"], [\"Sokratis\"], [\"Rob Holding\"], [\"Shkodran Mustafi\"], [\"Calum Chambers\"], [\"David Luiz\"], [\"Sead Kolasinac\"], [\"Gabriel Magalh\\u00e3es\"], [\"Mesut \\u00d6zil\"], [\"Lucas Torreira\"], [\"Ainsley Maitland-Niles\"], [\"Mohamed Elneny\"], [\"Joseph Willock\"], [\"Matteo Guendouzi\"], [\"Emile Smith Rowe\"], [\"Granit Xhaka\"], [\"Bukayo Saka\"], [\"Dani Ceballos\"], [\"Alexandre Lacazette\"], [\"Pierre-Emerick Aubameyang\"], [\"Nicolas P\\u00e9p\\u00e9\"], [\"Reiss Nelson\"], [\"Eddie Nketiah\"], [\"Gabriel Martinelli\"], [\"Willian\"]], \"hovertemplate\": \"Club=Arsenal<br>Position=%{x}<br>Appearances=%{y}<br>Name=%{customdata[0]}<extra></extra>\", \"legendgroup\": \"Arsenal\", \"marker\": {\"color\": \"#636efa\"}, \"name\": \"Arsenal\", \"offsetgroup\": \"Arsenal\", \"orientation\": \"v\", \"showlegend\": true, \"textposition\": \"auto\", \"type\": \"bar\", \"x\": [\"Goalkeeper\", \"Goalkeeper\", \"Goalkeeper\", \"Defender\", \"Defender\", \"Defender\", \"Defender\", \"Defender\", \"Defender\", \"Defender\", \"Defender\", \"Defender\", \"Defender\", \"Midfielder\", \"Midfielder\", \"Midfielder\", \"Midfielder\", \"Midfielder\", \"Midfielder\", \"Midfielder\", \"Midfielder\", \"Midfielder\", \"Midfielder\", \"Forward\", \"Forward\", \"Forward\", \"Forward\", \"Forward\", \"Forward\", \"Forward\"], \"xaxis\": \"x\", \"y\": [64, 0, 0, 160, 16, 0, 44, 41, 99, 139, 194, 78, 2, 184, 63, 54, 47, 33, 57, 2, 132, 28, 26, 99, 87, 33, 20, 23, 14, 236], \"yaxis\": \"y\"}, {\"alignmentgroup\": \"True\", \"customdata\": [[\"Tom Heaton\"], [\"Jed Steer\"], [\"\\u00d8rjan Nyland\"], [\"Lovre Kalinic\"], [\"Emiliano Mart\\u00ednez\"], [\"Neil Taylor\"], [\"Ezri Konsa Ngoyo\"], [\"Matt Targett\"], [\"Bj\\u00f6rn Engels\"], [\"Fr\\u00e9d\\u00e9ric Guilbert\"], [\"Ahmed El Mohamady\"], [\"Kortney Hause\"], [\"Tyrone Mings\"], [\"Matthew Cash\"], [\"Douglas Luiz\"], [\"John McGinn\"], [\"Henri Lansbury\"], [\"Jack Grealish\"], [\"Marvelous Nakamba\"], [\"Conor Hourihane\"], [\"Tr\\u00e9z\\u00e9guet\"], [\"Anwar El Ghazi\"], [\"Jota\"], [\"Jacob Ramsey\"], [\"Wesley\"], [\"Keinan Davis\"], [\"Ollie Watkins\"]], \"hovertemplate\": \"Club=Aston-Villa<br>Position=%{x}<br>Appearances=%{y}<br>Name=%{customdata[0]}<extra></extra>\", \"legendgroup\": \"Aston-Villa\", \"marker\": {\"color\": \"#EF553B\"}, \"name\": \"Aston-Villa\", \"offsetgroup\": \"Aston-Villa\", \"orientation\": \"v\", \"showlegend\": true, \"textposition\": \"auto\", \"type\": \"bar\", \"x\": [\"Goalkeeper\", \"Goalkeeper\", \"Goalkeeper\", \"Goalkeeper\", \"Goalkeeper\", \"Defender\", \"Defender\", \"Defender\", \"Defender\", \"Defender\", \"Defender\", \"Defender\", \"Defender\", \"Defender\", \"Midfielder\", \"Midfielder\", \"Midfielder\", \"Midfielder\", \"Midfielder\", \"Midfielder\", \"Midfielder\", \"Midfielder\", \"Midfielder\", \"Midfielder\", \"Forward\", \"Forward\", \"Forward\"], \"xaxis\": \"x\", \"y\": [116, 2, 7, 0, 16, 145, 26, 72, 17, 25, 183, 18, 51, 1, 37, 29, 13, 71, 29, 28, 35, 34, 10, 0, 21, 19, 1], \"yaxis\": \"y\"}, {\"alignmentgroup\": \"True\", \"customdata\": [[\"Mat Ryan\"], [\"Jason Steele\"], [\"Christian Walton\"], [\"Robert S\\u00e1nchez\"], [\"Ben White\"], [\"Tariq Lamptey\"], [\"Lewis Dunk\"], [\"Adam Webster\"], [\"Bernardo\"], [\"Dan Burn\"], [\"Jo\\u00ebl Veltman\"], [\"Romaric Yapi\"], [\"Alex Cochrane\"], [\"Haydon Roberts\"], [\"Dale Stephens\"], [\"Yves Bissouma\"], [\"Alexis Mac Allister\"], [\"Pascal Gro\\u00df\"], [\"Adam Lallana\"], [\"Solly March\"], [\"Davy Pr\\u00f6pper\"], [\"Steven Alzate\"], [\"Max Sanders\"], [\"Jayson Molumby\"], [\"Lars Dendoncker\"], [\"Peter Gwargis\"], [\"Leandro Trossard\"], [\"Neal Maupay\"], [\"Alireza Jahanbakhsh\"], [\"Jos\\u00e9 Izquierdo\"], [\"Aaron Connolly\"], [\"Florin Andone\"], [\"Viktor Gy\\u00f6keres\"]], \"hovertemplate\": \"Club=Brighton-and-Hove-Albion<br>Position=%{x}<br>Appearances=%{y}<br>Name=%{customdata[0]}<extra></extra>\", \"legendgroup\": \"Brighton-and-Hove-Albion\", \"marker\": {\"color\": \"#00cc96\"}, \"name\": \"Brighton-and-Hove-Albion\", \"offsetgroup\": \"Brighton-and-Hove-Albion\", \"orientation\": \"v\", \"showlegend\": true, \"textposition\": \"auto\", \"type\": \"bar\", \"x\": [\"Goalkeeper\", \"Goalkeeper\", \"Goalkeeper\", \"Goalkeeper\", \"Defender\", \"Defender\", \"Defender\", \"Defender\", \"Defender\", \"Defender\", \"Defender\", \"Defender\", \"Defender\", \"Defender\", \"Midfielder\", \"Midfielder\", \"Midfielder\", \"Midfielder\", \"Midfielder\", \"Midfielder\", \"Midfielder\", \"Midfielder\", \"Midfielder\", \"Midfielder\", \"Midfielder\", \"Midfielder\", \"Forward\", \"Forward\", \"Forward\", \"Forward\", \"Forward\", \"Forward\", \"Forward\"], \"xaxis\": \"x\", \"y\": [112, 0, 0, 0, 2, 11, 112, 33, 36, 44, 0, 0, 0, 0, 99, 52, 9, 93, 198, 92, 100, 21, 0, 0, 0, 0, 33, 39, 31, 47, 26, 26, 0], \"yaxis\": \"y\"}, {\"alignmentgroup\": \"True\", \"customdata\": [[\"Nick Pope\"], [\"Bailey Peacock-Farrell\"], [\"Will Norris\"], [\"Matthew Lowton\"], [\"Charlie Taylor\"], [\"James Tarkowski\"], [\"Ben Mee\"], [\"Erik Pieters\"], [\"Phil Bardsley\"], [\"Kevin Long\"], [\"Jimmy Dunne\"], [\"Bobby Thomas\"], [\"Anthony Driscoll-Glennon\"], [\"Jack Cork\"], [\"J\\u00f3hann Gudmundsson\"], [\"Josh Brownhill\"], [\"Dwight McNeil\"], [\"Robbie Brady\"], [\"Ashley Westwood\"], [\"Josh Benson\"], [\"Chris Wood\"], [\"Ashley Barnes\"], [\"Jay Rodriguez\"], [\"Matej Vydra\"]], \"hovertemplate\": \"Club=Burnley<br>Position=%{x}<br>Appearances=%{y}<br>Name=%{customdata[0]}<extra></extra>\", \"legendgroup\": \"Burnley\", \"marker\": {\"color\": \"#ab63fa\"}, \"name\": \"Burnley\", \"offsetgroup\": \"Burnley\", \"orientation\": \"v\", \"showlegend\": true, \"textposition\": \"auto\", \"type\": \"bar\", \"x\": [\"Goalkeeper\", \"Goalkeeper\", \"Goalkeeper\", \"Defender\", \"Defender\", \"Defender\", \"Defender\", \"Defender\", \"Defender\", \"Defender\", \"Defender\", \"Defender\", \"Defender\", \"Midfielder\", \"Midfielder\", \"Midfielder\", \"Midfielder\", \"Midfielder\", \"Midfielder\", \"Midfielder\", \"Forward\", \"Forward\", \"Forward\", \"Forward\"], \"xaxis\": \"x\", \"y\": [74, 0, 1, 172, 74, 123, 166, 194, 300, 35, 1, 0, 0, 264, 96, 11, 61, 142, 222, 0, 105, 155, 178, 57], \"yaxis\": \"y\"}, {\"alignmentgroup\": \"True\", \"customdata\": [[\"Kepa Arrizabalaga\"], [\"Willy Caballero\"], [\"Antonio R\\u00fcdiger\"], [\"Marcos Alonso\"], [\"Andreas Christensen\"], [\"Kurt Zouma\"], [\"Reece James\"], [\"C\\u00e9sar Azpilicueta\"], [\"Fikayo Tomori\"], [\"Emerson\"], [\"Ben Chilwell\"], [\"Thiago Silva\"], [\"Hakim Ziyech\"], [\"Jorginho\"], [\"N'Golo Kant\\u00e9\"], [\"Ross Barkley\"], [\"Ruben Loftus-Cheek\"], [\"Mateo Kovacic\"], [\"Mason Mount\"], [\"Christian Pulisic\"], [\"Billy Gilmour\"], [\"Kai Havertz\"], [\"Timo Werner\"], [\"Tammy Abraham\"], [\"Olivier Giroud\"], [\"Callum Hudson-Odoi\"]], \"hovertemplate\": \"Club=Chelsea<br>Position=%{x}<br>Appearances=%{y}<br>Name=%{customdata[0]}<extra></extra>\", \"legendgroup\": \"Chelsea\", \"marker\": {\"color\": \"#FFA15A\"}, \"name\": \"Chelsea\", \"offsetgroup\": \"Chelsea\", \"orientation\": \"v\", \"showlegend\": true, \"textposition\": \"auto\", \"type\": \"bar\", \"x\": [\"Goalkeeper\", \"Goalkeeper\", \"Defender\", \"Defender\", \"Defender\", \"Defender\", \"Defender\", \"Defender\", \"Defender\", \"Defender\", \"Defender\", \"Defender\", \"Midfielder\", \"Midfielder\", \"Midfielder\", \"Midfielder\", \"Midfielder\", \"Midfielder\", \"Midfielder\", \"Midfielder\", \"Midfielder\", \"Midfielder\", \"Forward\", \"Forward\", \"Forward\", \"Forward\"], \"xaxis\": \"x\", \"y\": [71, 33, 80, 140, 59, 143, 26, 272, 17, 30, 99, 0, 0, 70, 166, 202, 78, 64, 39, 25, 6, 2, 2, 68, 238, 35], \"yaxis\": \"y\"}, {\"alignmentgroup\": \"True\", \"customdata\": [[\"Wayne Hennessey\"], [\"Vicente Guaita\"], [\"Stephen Henderson\"], [\"Joel Ward\"], [\"Patrick van Aanholt\"], [\"James Tomkins\"], [\"Scott Dann\"], [\"Mamadou Sakho\"], [\"Gary Cahill\"], [\"Martin Kelly\"], [\"Tyrick Mitchell\"], [\"Jaroslaw Jach\"], [\"Sam Woods\"], [\"Ryan Inniss\"], [\"Luka Milivojevic\"], [\"Max Meyer\"], [\"Cheikhou Kouyat\\u00e9\"], [\"Andros Townsend\"], [\"Jeffrey Schlupp\"], [\"James McArthur\"], [\"James McCarthy\"], [\"Jairo Riedewald\"], [\"Eberechi Eze\"], [\"Nya Kirby\"], [\"Jordan Ayew\"], [\"Wilfried Zaha\"], [\"Christian Benteke\"], [\"Connor Wickham\"], [\"Brandon Pierrick\"], [\"Michy Batshuayi\"]], \"hovertemplate\": \"Club=Crystal-Palace<br>Position=%{x}<br>Appearances=%{y}<br>Name=%{customdata[0]}<extra></extra>\", \"legendgroup\": \"Crystal-Palace\", \"marker\": {\"color\": \"#19d3f3\"}, \"name\": \"Crystal-Palace\", \"offsetgroup\": \"Crystal-Palace\", \"orientation\": \"v\", \"showlegend\": true, \"textposition\": \"auto\", \"type\": \"bar\", \"x\": [\"Goalkeeper\", \"Goalkeeper\", \"Goalkeeper\", \"Defender\", \"Defender\", \"Defender\", \"Defender\", \"Defender\", \"Defender\", \"Defender\", \"Defender\", \"Defender\", \"Defender\", \"Defender\", \"Midfielder\", \"Midfielder\", \"Midfielder\", \"Midfielder\", \"Midfielder\", \"Midfielder\", \"Midfielder\", \"Midfielder\", \"Midfielder\", \"Midfielder\", \"Forward\", \"Forward\", \"Forward\", \"Forward\", \"Forward\", \"Forward\"], \"xaxis\": \"x\", \"y\": [181, 57, 0, 201, 191, 263, 227, 125, 374, 153, 6, 0, 0, 0, 121, 46, 197, 211, 148, 282, 258, 29, 2, 0, 139, 217, 225, 120, 2, 60], \"yaxis\": \"y\"}, {\"alignmentgroup\": \"True\", \"customdata\": [[\"Jordan Pickford\"], [\"Jo\\u00e3o Virg\\u00ednia\"], [\"Jonas L\\u00f6ssl\"], [\"Mason Holgate\"], [\"Michael Keane\"], [\"Lucas Digne\"], [\"Yerry Mina\"], [\"S\\u00e9amus Coleman\"], [\"Jarrad Branthwaite\"], [\"Jonjoe Kenny\"], [\"Niels Nkounkou\"], [\"Fabian Delph\"], [\"Gylfi Sigurdsson\"], [\"Andr\\u00e9 Gomes\"], [\"Jean-Philippe Gbamin\"], [\"Tom Davies\"], [\"Beni Baningime\"], [\"Allan\"], [\"James Rodr\\u00edguez\"], [\"Abdoulaye Doucour\\u00e9\"], [\"Muhamed Besic\"], [\"Sandro Ram\\u00edrez\"], [\"Yannick Bolasie\"], [\"Richarlison\"], [\"Dominic Calvert-Lewin\"], [\"Theo Walcott\"], [\"Cenk Tosun\"], [\"Alex Iwobi\"], [\"Bernard\"], [\"Moise Kean\"], [\"Anthony Gordon\"]], \"hovertemplate\": \"Club=Everton<br>Position=%{x}<br>Appearances=%{y}<br>Name=%{customdata[0]}<extra></extra>\", \"legendgroup\": \"Everton\", \"marker\": {\"color\": \"#FF6692\"}, \"name\": \"Everton\", \"offsetgroup\": \"Everton\", \"orientation\": \"v\", \"showlegend\": true, \"textposition\": \"auto\", \"type\": \"bar\", \"x\": [\"Goalkeeper\", \"Goalkeeper\", \"Goalkeeper\", \"Defender\", \"Defender\", \"Defender\", \"Defender\", \"Defender\", \"Defender\", \"Defender\", \"Defender\", \"Midfielder\", \"Midfielder\", \"Midfielder\", \"Midfielder\", \"Midfielder\", \"Midfielder\", \"Midfielder\", \"Midfielder\", \"Midfielder\", \"Midfielder\", \"Forward\", \"Forward\", \"Forward\", \"Forward\", \"Forward\", \"Forward\", \"Forward\", \"Forward\", \"Forward\", \"Forward\"], \"xaxis\": \"x\", \"y\": [147, 0, 69, 65, 153, 72, 44, 276, 4, 31, 0, 185, 284, 48, 2, 106, 8, 2, 2, 131, 46, 8, 119, 111, 116, 346, 49, 126, 61, 31, 11], \"yaxis\": \"y\"}, {\"alignmentgroup\": \"True\", \"customdata\": [[\"Marek Rod\\u00e1k\"], [\"Fabri\"], [\"Alphonse Areola\"], [\"Michael Hector\"], [\"Denis Odoi\"], [\"Tim Ream\"], [\"Maxime Le Marchand\"], [\"Joe Bryan\"], [\"Antonee Robinson\"], [\"Kenny Tete\"], [\"Ola Aina\"], [\"Jean Michael Seri\"], [\"Kevin McDonald\"], [\"Neeskens Kebano\"], [\"Stefan Johansen\"], [\"Tom Cairney\"], [\"Josh Onomah\"], [\"Andr\\u00e9-Frank Zambo Anguissa\"], [\"Mario Lemina\"], [\"Harrison Reed\"], [\"Tyrese Francois\"], [\"Aleksandar Mitrovic\"], [\"Bobby De Cordova-Reid\"], [\"Ivan Cavaleiro\"], [\"Aboubakar Kamara\"]], \"hovertemplate\": \"Club=Fulham<br>Position=%{x}<br>Appearances=%{y}<br>Name=%{customdata[0]}<extra></extra>\", \"legendgroup\": \"Fulham\", \"marker\": {\"color\": \"#B6E880\"}, \"name\": \"Fulham\", \"offsetgroup\": \"Fulham\", \"orientation\": \"v\", \"showlegend\": true, \"textposition\": \"auto\", \"type\": \"bar\", \"x\": [\"Goalkeeper\", \"Goalkeeper\", \"Goalkeeper\", \"Defender\", \"Defender\", \"Defender\", \"Defender\", \"Defender\", \"Defender\", \"Defender\", \"Defender\", \"Midfielder\", \"Midfielder\", \"Midfielder\", \"Midfielder\", \"Midfielder\", \"Midfielder\", \"Midfielder\", \"Midfielder\", \"Midfielder\", \"Midfielder\", \"Forward\", \"Forward\", \"Forward\", \"Forward\"], \"xaxis\": \"x\", \"y\": [1, 2, 1, 2, 33, 40, 26, 30, 0, 1, 3, 32, 41, 9, 12, 43, 15, 24, 47, 19, 0, 79, 29, 25, 15], \"yaxis\": \"y\"}, {\"alignmentgroup\": \"True\", \"customdata\": [[\"Kiko Casilla\"], [\"Elia Caprile\"], [\"Luke Ayling\"], [\"Barry Douglas\"], [\"Liam Cooper\"], [\"Pascal Struijk\"], [\"Leif Davis\"], [\"Robin Koch\"], [\"Oliver Casey\"], [\"Charlie Cresswell\"], [\"Robbie Gotts\"], [\"Adam Forshaw\"], [\"Stuart Dallas\"], [\"Pablo Hern\\u00e1ndez\"], [\"Kalvin Phillips\"], [\"Mateusz Klich\"], [\"Jamie Shackleton\"], [\"Jack Harrison\"], [\"Alfie McCalmont\"], [\"Mateusz Bogusz\"], [\"Ian Poveda-Ocampo\"], [\"Patrick Bamford\"], [\"Tyler Roberts\"], [\"Joe Gelhardt\"], [\"Rodrigo Moreno\"]], \"hovertemplate\": \"Club=Leeds-United<br>Position=%{x}<br>Appearances=%{y}<br>Name=%{customdata[0]}<extra></extra>\", \"legendgroup\": \"Leeds-United\", \"marker\": {\"color\": \"#FF97FF\"}, \"name\": \"Leeds-United\", \"offsetgroup\": \"Leeds-United\", \"orientation\": \"v\", \"showlegend\": true, \"textposition\": \"auto\", \"type\": \"bar\", \"x\": [\"Goalkeeper\", \"Goalkeeper\", \"Defender\", \"Defender\", \"Defender\", \"Defender\", \"Defender\", \"Defender\", \"Defender\", \"Defender\", \"Defender\", \"Midfielder\", \"Midfielder\", \"Midfielder\", \"Midfielder\", \"Midfielder\", \"Midfielder\", \"Midfielder\", \"Midfielder\", \"Midfielder\", \"Forward\", \"Forward\", \"Forward\", \"Forward\", \"Forward\"], \"xaxis\": \"x\", \"y\": [0, 0, 2, 0, 3, 1, 0, 2, 0, 0, 0, 35, 2, 58, 2, 2, 1, 2, 0, 0, 0, 29, 3, 0, 19], \"yaxis\": \"y\"}, {\"alignmentgroup\": \"True\", \"customdata\": [[\"Kasper Schmeichel\"], [\"Danny Ward\"], [\"Eldin Jakupovic\"], [\"James Justin\"], [\"\\u00c7aglar S\\u00f6y\\u00fcnc\\u00fc\"], [\"Wes Morgan\"], [\"Jonny Evans\"], [\"Filip Benkovic\"], [\"Daniel Amartey\"], [\"Ricardo Pereira\"], [\"Christian Fuchs\"], [\"Luke Thomas\"], [\"Timothy Castagne\"], [\"Demarai Gray\"], [\"Youri Tielemans\"], [\"James Maddison\"], [\"Marc Albrighton\"], [\"Harvey Barnes\"], [\"Hamza Choudhury\"], [\"Matty James\"], [\"Adrien Silva\"], [\"Wilfred Ndidi\"], [\"Dennis Praet\"], [\"Rachid Ghezzal\"], [\"Nampalys Mendy\"], [\"Jamie Vardy\"], [\"Islam Slimani\"], [\"Kelechi Iheanacho\"], [\"Ayoze P\\u00e9rez\"], [\"Fousseni Diabat\\u00e9\"]], \"hovertemplate\": \"Club=Leicester-City<br>Position=%{x}<br>Appearances=%{y}<br>Name=%{customdata[0]}<extra></extra>\", \"legendgroup\": \"Leicester-City\", \"marker\": {\"color\": \"#FECB52\"}, \"name\": \"Leicester-City\", \"offsetgroup\": \"Leicester-City\", \"orientation\": \"v\", \"showlegend\": true, \"textposition\": \"auto\", \"type\": \"bar\", \"x\": [\"Goalkeeper\", \"Goalkeeper\", \"Goalkeeper\", \"Defender\", \"Defender\", \"Defender\", \"Defender\", \"Defender\", \"Defender\", \"Defender\", \"Defender\", \"Defender\", \"Defender\", \"Midfielder\", \"Midfielder\", \"Midfielder\", \"Midfielder\", \"Midfielder\", \"Midfielder\", \"Midfielder\", \"Midfielder\", \"Midfielder\", \"Midfielder\", \"Midfielder\", \"Midfielder\", \"Forward\", \"Forward\", \"Forward\", \"Forward\", \"Forward\"], \"xaxis\": \"x\", \"y\": [211, 2, 28, 15, 42, 168, 297, 0, 46, 63, 107, 3, 2, 132, 52, 69, 258, 57, 37, 42, 14, 122, 29, 19, 44, 213, 39, 117, 178, 15], \"yaxis\": \"y\"}, {\"alignmentgroup\": \"True\", \"customdata\": [[\"Loris Karius\"], [\"Alisson\"], [\"Adri\\u00e1n\"], [\"Caoimhin Kelleher\"], [\"Kamil Grabara\"], [\"Virgil van Dijk\"], [\"Joseph Gomez\"], [\"Andrew Robertson\"], [\"Joel Matip\"], [\"Trent Alexander-Arnold\"], [\"Neco Williams\"], [\"Konstantinos Tsimikas\"], [\"Nathaniel Phillips\"], [\"Sepp van den Berg\"], [\"Fabinho\"], [\"Georginio Wijnaldum\"], [\"James Milner\"], [\"Naby Keita\"], [\"Jordan Henderson\"], [\"Alex Oxlade-Chamberlain\"], [\"Marko Grujic\"], [\"Curtis Jones\"], [\"Harry Wilson\"], [\"Harvey Elliott\"], [\"Xherdan Shaqiri\"], [\"Thiago\"], [\"Roberto Firmino\"], [\"Sadio Man\\u00e9\"], [\"Mohamed Salah\"], [\"Takumi Minamino\"], [\"Rhian Brewster\"], [\"Divock Origi\"], [\"Ben Woodburn\"], [\"Diogo Jota\"]], \"hovertemplate\": \"Club=Liverpool<br>Position=%{x}<br>Appearances=%{y}<br>Name=%{customdata[0]}<extra></extra>\", \"legendgroup\": \"Liverpool\", \"marker\": {\"color\": \"#636efa\"}, \"name\": \"Liverpool\", \"offsetgroup\": \"Liverpool\", \"orientation\": \"v\", \"showlegend\": true, \"textposition\": \"auto\", \"type\": \"bar\", \"x\": [\"Goalkeeper\", \"Goalkeeper\", \"Goalkeeper\", \"Goalkeeper\", \"Goalkeeper\", \"Defender\", \"Defender\", \"Defender\", \"Defender\", \"Defender\", \"Defender\", \"Defender\", \"Defender\", \"Defender\", \"Midfielder\", \"Midfielder\", \"Midfielder\", \"Midfielder\", \"Midfielder\", \"Midfielder\", \"Midfielder\", \"Midfielder\", \"Midfielder\", \"Midfielder\", \"Midfielder\", \"Midfielder\", \"Forward\", \"Forward\", \"Forward\", \"Forward\", \"Forward\", \"Forward\", \"Forward\", \"Forward\"], \"xaxis\": \"x\", \"y\": [29, 69, 136, 0, 0, 159, 73, 153, 86, 95, 6, 0, 0, 0, 58, 181, 539, 45, 342, 196, 8, 7, 31, 4, 115, 1, 177, 196, 123, 11, 0, 91, 6, 67], \"yaxis\": \"y\"}, {\"alignmentgroup\": \"True\", \"customdata\": [[\"Ederson\"], [\"Scott Carson\"], [\"Nathan Ak\\u00e9\"], [\"Kyle Walker\"], [\"John Stones\"], [\"Oleksandr Zinchenko\"], [\"Aymeric Laporte\"], [\"Benjamin Mendy\"], [\"Jo\\u00e3o Cancelo\"], [\"Nicol\\u00e1s Otamendi\"], [\"Eric Garc\\u00eda\"], [\"Ilkay G\\u00fcndogan\"], [\"Rodrigo\"], [\"Kevin De Bruyne\"], [\"Bernardo Silva\"], [\"Fernandinho\"], [\"Phil Foden\"], [\"Tommy Doyle\"], [\"Adri\\u00e1n Bernab\\u00e9\"], [\"Ferran Torres\"], [\"Raheem Sterling\"], [\"Gabriel Jesus\"], [\"Sergio Ag\\u00fcero\"], [\"Riyad Mahrez\"], [\"Liam Delap\"]], \"hovertemplate\": \"Club=Manchester-City<br>Position=%{x}<br>Appearances=%{y}<br>Name=%{customdata[0]}<extra></extra>\", \"legendgroup\": \"Manchester-City\", \"marker\": {\"color\": \"#EF553B\"}, \"name\": \"Manchester-City\", \"offsetgroup\": \"Manchester-City\", \"orientation\": \"v\", \"showlegend\": true, \"textposition\": \"auto\", \"type\": \"bar\", \"x\": [\"Goalkeeper\", \"Goalkeeper\", \"Defender\", \"Defender\", \"Defender\", \"Defender\", \"Defender\", \"Defender\", \"Defender\", \"Defender\", \"Defender\", \"Midfielder\", \"Midfielder\", \"Midfielder\", \"Midfielder\", \"Midfielder\", \"Midfielder\", \"Midfielder\", \"Midfielder\", \"Forward\", \"Forward\", \"Forward\", \"Forward\", \"Forward\", \"Forward\"], \"xaxis\": \"x\", \"y\": [110, 145, 147, 293, 163, 41, 59, 37, 17, 136, 13, 102, 36, 156, 105, 225, 42, 1, 0, 1, 260, 103, 263, 199, 0], \"yaxis\": \"y\"}, {\"alignmentgroup\": \"True\", \"customdata\": [[\"David de Gea\"], [\"Sergio Romero\"], [\"Dean Henderson\"], [\"Victor Lindel\\u00f6f\"], [\"Eric Bailly\"], [\"Phil Jones\"], [\"Harry Maguire\"], [\"Chris Smalling\"], [\"Marcos Rojo\"], [\"Diogo Dalot\"], [\"Luke Shaw\"], [\"Timothy Fosu-Mensah\"], [\"Aaron Wan-Bissaka\"], [\"Axel Tuanzebe\"], [\"Brandon Williams\"], [\"Teden Mengi\"], [\"Paul Pogba\"], [\"Juan Mata\"], [\"Jesse Lingard\"], [\"Andreas Pereira\"], [\"Fred\"], [\"Bruno Fernandes\"], [\"Daniel James\"], [\"Nemanja Matic\"], [\"Scott McTominay\"], [\"Donny van de Beek\"], [\"Anthony Martial\"], [\"Marcus Rashford\"], [\"Odion Ighalo\"], [\"Mason Greenwood\"]], \"hovertemplate\": \"Club=Manchester-United<br>Position=%{x}<br>Appearances=%{y}<br>Name=%{customdata[0]}<extra></extra>\", \"legendgroup\": \"Manchester-United\", \"marker\": {\"color\": \"#00cc96\"}, \"name\": \"Manchester-United\", \"offsetgroup\": \"Manchester-United\", \"orientation\": \"v\", \"showlegend\": true, \"textposition\": \"auto\", \"type\": \"bar\", \"x\": [\"Goalkeeper\", \"Goalkeeper\", \"Goalkeeper\", \"Defender\", \"Defender\", \"Defender\", \"Defender\", \"Defender\", \"Defender\", \"Defender\", \"Defender\", \"Defender\", \"Defender\", \"Defender\", \"Defender\", \"Defender\", \"Midfielder\", \"Midfielder\", \"Midfielder\", \"Midfielder\", \"Midfielder\", \"Midfielder\", \"Midfielder\", \"Midfielder\", \"Midfielder\", \"Midfielder\", \"Forward\", \"Forward\", \"Forward\", \"Forward\"], \"xaxis\": \"x\", \"y\": [314, 7, 36, 83, 54, 200, 140, 219, 76, 20, 157, 49, 77, 10, 17, 0, 112, 262, 133, 45, 46, 15, 34, 208, 59, 1, 146, 143, 67, 35], \"yaxis\": \"y\"}, {\"alignmentgroup\": \"True\", \"customdata\": [[\"Mark Gillespie\"], [\"Martin Dubravka\"], [\"Karl Darlow\"], [\"Daniel Langley\"], [\"Ciaran Clark\"], [\"Paul Dummett\"], [\"Fabian Sch\\u00e4r\"], [\"Jamaal Lascelles\"], [\"Emil Krafth\"], [\"Federico Fern\\u00e1ndez\"], [\"Javier Manquillo\"], [\"DeAndre Yedlin\"], [\"Jamal Lewis\"], [\"Jacob Murphy\"], [\"Jonjo Shelvey\"], [\"Matt Ritchie\"], [\"Isaac Hayden\"], [\"Miguel Almir\\u00f3n\"], [\"Christian Atsu\"], [\"Sean Longstaff\"], [\"Matthew Longstaff\"], [\"Jeff Hendrick\"], [\"Ryan Fraser\"], [\"Henri Saivet\"], [\"Daniel Barlaser\"], [\"Andy Carroll\"], [\"Joelinton\"], [\"Allan Saint-Maximin\"], [\"Dwight Gayle\"], [\"Callum Wilson\"]], \"hovertemplate\": \"Club=Newcastle-United<br>Position=%{x}<br>Appearances=%{y}<br>Name=%{customdata[0]}<extra></extra>\", \"legendgroup\": \"Newcastle-United\", \"marker\": {\"color\": \"#ab63fa\"}, \"name\": \"Newcastle-United\", \"offsetgroup\": \"Newcastle-United\", \"orientation\": \"v\", \"showlegend\": true, \"textposition\": \"auto\", \"type\": \"bar\", \"x\": [\"Goalkeeper\", \"Goalkeeper\", \"Goalkeeper\", \"Goalkeeper\", \"Defender\", \"Defender\", \"Defender\", \"Defender\", \"Defender\", \"Defender\", \"Defender\", \"Defender\", \"Defender\", \"Midfielder\", \"Midfielder\", \"Midfielder\", \"Midfielder\", \"Midfielder\", \"Midfielder\", \"Midfielder\", \"Midfielder\", \"Midfielder\", \"Midfielder\", \"Midfielder\", \"Midfielder\", \"Forward\", \"Forward\", \"Forward\", \"Forward\", \"Forward\"], \"xaxis\": \"x\", \"y\": [0, 88, 21, 0, 179, 128, 46, 109, 17, 170, 92, 103, 30, 34, 215, 128, 82, 48, 80, 33, 9, 124, 121, 5, 0, 232, 40, 28, 119, 128], \"yaxis\": \"y\"}, {\"alignmentgroup\": \"True\", \"customdata\": [[\"Wes Foderingham\"], [\"Michael Verrips\"], [\"Simon Moore\"], [\"Aaron Ramsdale\"], [\"George Baldock\"], [\"Enda Stevens\"], [\"Jack O'Connell\"], [\"Chris Basham\"], [\"John Egan\"], [\"Jack Robinson\"], [\"Kean Bryan\"], [\"Phil Jagielka\"], [\"Max Lowe\"], [\"Ethan Ampadu\"], [\"Jayden Bogle\"], [\"John Fleck\"], [\"John Lundstram\"], [\"Oliver Norwood\"], [\"Ben Osborn\"], [\"Sander Berge\"], [\"Jack Rodwell\"], [\"Regan Slater\"], [\"Oliver Burke\"], [\"Zak Brunt\"], [\"Oliver McBurnie\"], [\"Billy Sharp\"], [\"David McGoldrick\"], [\"Lys Mousset\"]], \"hovertemplate\": \"Club=Sheffield-United<br>Position=%{x}<br>Appearances=%{y}<br>Name=%{customdata[0]}<extra></extra>\", \"legendgroup\": \"Sheffield-United\", \"marker\": {\"color\": \"#FFA15A\"}, \"name\": \"Sheffield-United\", \"offsetgroup\": \"Sheffield-United\", \"orientation\": \"v\", \"showlegend\": true, \"textposition\": \"auto\", \"type\": \"bar\", \"x\": [\"Goalkeeper\", \"Goalkeeper\", \"Goalkeeper\", \"Goalkeeper\", \"Defender\", \"Defender\", \"Defender\", \"Defender\", \"Defender\", \"Defender\", \"Defender\", \"Defender\", \"Defender\", \"Defender\", \"Defender\", \"Midfielder\", \"Midfielder\", \"Midfielder\", \"Midfielder\", \"Midfielder\", \"Midfielder\", \"Midfielder\", \"Midfielder\", \"Midfielder\", \"Forward\", \"Forward\", \"Forward\", \"Forward\"], \"xaxis\": \"x\", \"y\": [0, 0, 2, 39, 40, 47, 35, 61, 38, 9, 0, 366, 0, 2, 0, 32, 36, 39, 14, 16, 167, 0, 16, 0, 54, 28, 30, 88], \"yaxis\": \"y\"}, {\"alignmentgroup\": \"True\", \"customdata\": [[\"Alex McCarthy\"], [\"Angus Gunn\"], [\"Fraser Forster\"], [\"Harry Lewis\"], [\"Jannik Vestergaard\"], [\"Jack Stephens\"], [\"Ryan Bertrand\"], [\"Jake Vokins\"], [\"Jan Bednarek\"], [\"Yan Valery\"], [\"Kyle Walker-Peters\"], [\"Mohammed Salisu\"], [\"Moussa Djenepo\"], [\"Oriol Romeu\"], [\"James Ward-Prowse\"], [\"Stuart Armstrong\"], [\"Sofiane Boufal\"], [\"Nathan Redmond\"], [\"William Smallbone\"], [\"Nathan Tella\"], [\"Shane Long\"], [\"Danny Ings\"], [\"Che Adams\"], [\"Michael Obafemi\"]], \"hovertemplate\": \"Club=Southampton<br>Position=%{x}<br>Appearances=%{y}<br>Name=%{customdata[0]}<extra></extra>\", \"legendgroup\": \"Southampton\", \"marker\": {\"color\": \"#19d3f3\"}, \"name\": \"Southampton\", \"offsetgroup\": \"Southampton\", \"orientation\": \"v\", \"showlegend\": true, \"textposition\": \"auto\", \"type\": \"bar\", \"x\": [\"Goalkeeper\", \"Goalkeeper\", \"Goalkeeper\", \"Goalkeeper\", \"Defender\", \"Defender\", \"Defender\", \"Defender\", \"Defender\", \"Defender\", \"Defender\", \"Defender\", \"Midfielder\", \"Midfielder\", \"Midfielder\", \"Midfielder\", \"Midfielder\", \"Midfielder\", \"Midfielder\", \"Midfielder\", \"Forward\", \"Forward\", \"Forward\", \"Forward\"], \"xaxis\": \"x\", \"y\": [96, 22, 107, 0, 43, 93, 231, 1, 66, 34, 24, 0, 20, 183, 233, 60, 70, 208, 11, 2, 322, 113, 32, 28], \"yaxis\": \"y\"}, {\"alignmentgroup\": \"True\", \"customdata\": [[\"Hugo Lloris\"], [\"Paulo Gazzaniga\"], [\"Joe Hart\"], [\"Alfie Whiteman\"], [\"Brandon Austin\"], [\"Toby Alderweireld\"], [\"Davinson S\\u00e1nchez\"], [\"Juan Foyth\"], [\"Serge Aurier\"], [\"Ben Davies\"], [\"Japhet Tanganga\"], [\"Matt Doherty\"], [\"Dennis Cirkin\"], [\"Sergio Reguil\\u00f3n\"], [\"Harry Winks\"], [\"Erik Lamela\"], [\"Eric Dier\"], [\"Moussa Sissoko\"], [\"Ryan Sessegnon\"], [\"Dele Alli\"], [\"Tanguy Ndombele\"], [\"Gedson Fernandes\"], [\"Pierre-Emile H\\u00f8jbjerg\"], [\"Harvey White\"], [\"Giovani Lo Celso\"], [\"Lucas Moura\"], [\"Jack Clarke\"], [\"Son Heung-Min\"], [\"Harry Kane\"], [\"Steven Bergwijn\"], [\"Gareth Bale\"]], \"hovertemplate\": \"Club=Tottenham-Hotspur<br>Position=%{x}<br>Appearances=%{y}<br>Name=%{customdata[0]}<extra></extra>\", \"legendgroup\": \"Tottenham-Hotspur\", \"marker\": {\"color\": \"#FF6692\"}, \"name\": \"Tottenham-Hotspur\", \"offsetgroup\": \"Tottenham-Hotspur\", \"orientation\": \"v\", \"showlegend\": true, \"textposition\": \"auto\", \"type\": \"bar\", \"x\": [\"Goalkeeper\", \"Goalkeeper\", \"Goalkeeper\", \"Goalkeeper\", \"Goalkeeper\", \"Defender\", \"Defender\", \"Defender\", \"Defender\", \"Defender\", \"Defender\", \"Defender\", \"Defender\", \"Defender\", \"Midfielder\", \"Midfielder\", \"Midfielder\", \"Midfielder\", \"Midfielder\", \"Midfielder\", \"Midfielder\", \"Midfielder\", \"Midfielder\", \"Midfielder\", \"Midfielder\", \"Forward\", \"Forward\", \"Forward\", \"Forward\", \"Forward\", \"Forward\"], \"xaxis\": \"x\", \"y\": [262, 43, 340, 0, 0, 176, 84, 16, 58, 201, 6, 77, 0, 0, 96, 155, 176, 235, 41, 157, 23, 7, 111, 0, 29, 75, 0, 162, 212, 16, 146], \"yaxis\": \"y\"}, {\"alignmentgroup\": \"True\", \"customdata\": [[\"Sam Johnstone\"], [\"David Button\"], [\"Jonathan Bond\"], [\"Darnell Furlong\"], [\"Kieran Gibbs\"], [\"Kyle Bartley\"], [\"Semi Ajayi\"], [\"Conor Townsend\"], [\"Ahmed Hegazi\"], [\"Dara O'Shea\"], [\"C\\u00e9dric Kipr\\u00e9\"], [\"Lee Peltier\"], [\"Branislav Ivanovic\"], [\"Jake Livermore\"], [\"Matt Phillips\"], [\"Kamil Grosicki\"], [\"Rekeem Harper\"], [\"Romaine Sawyers\"], [\"Sam Field\"], [\"Kyle Edwards\"], [\"Grady Diangana\"], [\"Conor Gallagher\"], [\"Hal Robson-Kanu\"], [\"Kenneth Zohore\"], [\"Matheus Pereira\"], [\"Charlie Austin\"], [\"Callum Robinson\"], [\"Jamie Soule\"]], \"hovertemplate\": \"Club=West-Bromwich-Albion<br>Position=%{x}<br>Appearances=%{y}<br>Name=%{customdata[0]}<extra></extra>\", \"legendgroup\": \"West-Bromwich-Albion\", \"marker\": {\"color\": \"#B6E880\"}, \"name\": \"West-Bromwich-Albion\", \"offsetgroup\": \"West-Bromwich-Albion\", \"orientation\": \"v\", \"showlegend\": true, \"textposition\": \"auto\", \"type\": \"bar\", \"x\": [\"Goalkeeper\", \"Goalkeeper\", \"Goalkeeper\", \"Defender\", \"Defender\", \"Defender\", \"Defender\", \"Defender\", \"Defender\", \"Defender\", \"Defender\", \"Defender\", \"Defender\", \"Midfielder\", \"Midfielder\", \"Midfielder\", \"Midfielder\", \"Midfielder\", \"Midfielder\", \"Midfielder\", \"Midfielder\", \"Midfielder\", \"Forward\", \"Forward\", \"Forward\", \"Forward\", \"Forward\", \"Forward\"], \"xaxis\": \"x\", \"y\": [2, 4, 0, 5, 172, 23, 2, 0, 38, 2, 0, 20, 261, 180, 110, 15, 2, 2, 20, 2, 19, 0, 76, 19, 2, 106, 22, 0], \"yaxis\": \"y\"}, {\"alignmentgroup\": \"True\", \"customdata\": [[\"Lukasz Fabianski\"], [\"David Martin\"], [\"Darren Randolph\"], [\"Nathan Trott\"], [\"Aaron Cresswell\"], [\"Fabi\\u00e1n Balbuena\"], [\"Gon\\u00e7alo Cardoso\"], [\"Angelo Ogbonna\"], [\"Issa Diop\"], [\"Ryan Fredericks\"], [\"Arthur Masuaku\"], [\"Ben Johnson\"], [\"Ajibola Alese\"], [\"Harrison Ashby\"], [\"Felipe Anderson\"], [\"Manuel Lanzini\"], [\"Robert Snodgrass\"], [\"Mark Noble\"], [\"Pablo Fornals\"], [\"Jack Wilshere\"], [\"Declan Rice\"], [\"Josh Cullen\"], [\"Conor Coventry\"], [\"Michail Antonio\"], [\"Andriy Yarmolenko\"], [\"Jarrod Bowen\"], [\"S\\u00e9bastien Haller\"], [\"Xande Silva\"], [\"Emmanuel Longelo\"]], \"hovertemplate\": \"Club=West-Ham-United<br>Position=%{x}<br>Appearances=%{y}<br>Name=%{customdata[0]}<extra></extra>\", \"legendgroup\": \"West-Ham-United\", \"marker\": {\"color\": \"#FF97FF\"}, \"name\": \"West-Ham-United\", \"offsetgroup\": \"West-Ham-United\", \"orientation\": \"v\", \"showlegend\": true, \"textposition\": \"auto\", \"type\": \"bar\", \"x\": [\"Goalkeeper\", \"Goalkeeper\", \"Goalkeeper\", \"Goalkeeper\", \"Defender\", \"Defender\", \"Defender\", \"Defender\", \"Defender\", \"Defender\", \"Defender\", \"Defender\", \"Defender\", \"Defender\", \"Midfielder\", \"Midfielder\", \"Midfielder\", \"Midfielder\", \"Midfielder\", \"Midfielder\", \"Midfielder\", \"Midfielder\", \"Midfielder\", \"Forward\", \"Forward\", \"Forward\", \"Forward\", \"Forward\", \"Forward\"], \"xaxis\": \"x\", \"y\": [246, 5, 31, 0, 190, 40, 0, 137, 67, 44, 81, 4, 0, 0, 63, 122, 160, 383, 38, 182, 101, 3, 0, 135, 34, 22, 34, 1, 0], \"yaxis\": \"y\"}, {\"alignmentgroup\": \"True\", \"customdata\": [[\"Rui Patr\\u00edcio\"], [\"John Ruddy\"], [\"Willy Boly\"], [\"Conor Coady\"], [\"Jonny\"], [\"R\\u00faben Vinagre\"], [\"Maximilian Kilman\"], [\"Oskar Buur\"], [\"Mar\\u00e7al\"], [\"Ki-Jana Hoever\"], [\"R\\u00faben Neves\"], [\"Daniel Podence\"], [\"Romain Sa\\u00efss\"], [\"Jo\\u00e3o Moutinho\"], [\"Leander Dendoncker\"], [\"Vitinha\"], [\"Meritan Shabani\"], [\"Pedro Neto\"], [\"Ra\\u00fal Jim\\u00e9nez\"], [\"Adama Traor\\u00e9\"], [\"F\\u00e1bio Silva\"], [\"Leonardo Campana\"]], \"hovertemplate\": \"Club=Wolverhampton-Wanderers<br>Position=%{x}<br>Appearances=%{y}<br>Name=%{customdata[0]}<extra></extra>\", \"legendgroup\": \"Wolverhampton-Wanderers\", \"marker\": {\"color\": \"#FECB52\"}, \"name\": \"Wolverhampton-Wanderers\", \"offsetgroup\": \"Wolverhampton-Wanderers\", \"orientation\": \"v\", \"showlegend\": true, \"textposition\": \"auto\", \"type\": \"bar\", \"x\": [\"Goalkeeper\", \"Goalkeeper\", \"Defender\", \"Defender\", \"Defender\", \"Defender\", \"Defender\", \"Defender\", \"Defender\", \"Defender\", \"Midfielder\", \"Midfielder\", \"Midfielder\", \"Midfielder\", \"Midfielder\", \"Midfielder\", \"Midfielder\", \"Forward\", \"Forward\", \"Forward\", \"Forward\", \"Forward\"], \"xaxis\": \"x\", \"y\": [77, 119, 60, 79, 68, 34, 4, 1, 2, 0, 75, 11, 54, 78, 59, 1, 0, 31, 78, 105, 1, 0], \"yaxis\": \"y\"}],                        {\"barmode\": \"relative\", \"height\": 600, \"legend\": {\"title\": {\"text\": \"Club\"}, \"tracegroupgap\": 0}, \"template\": {\"data\": {\"bar\": [{\"error_x\": {\"color\": \"#2a3f5f\"}, \"error_y\": {\"color\": \"#2a3f5f\"}, \"marker\": {\"line\": {\"color\": \"#E5ECF6\", \"width\": 0.5}}, \"type\": \"bar\"}], \"barpolar\": [{\"marker\": {\"line\": {\"color\": \"#E5ECF6\", \"width\": 0.5}}, \"type\": \"barpolar\"}], \"carpet\": [{\"aaxis\": {\"endlinecolor\": \"#2a3f5f\", \"gridcolor\": \"white\", \"linecolor\": \"white\", \"minorgridcolor\": \"white\", \"startlinecolor\": \"#2a3f5f\"}, \"baxis\": {\"endlinecolor\": \"#2a3f5f\", \"gridcolor\": \"white\", \"linecolor\": \"white\", \"minorgridcolor\": \"white\", \"startlinecolor\": \"#2a3f5f\"}, \"type\": \"carpet\"}], \"choropleth\": [{\"colorbar\": {\"outlinewidth\": 0, \"ticks\": \"\"}, \"type\": \"choropleth\"}], \"contour\": [{\"colorbar\": {\"outlinewidth\": 0, \"ticks\": \"\"}, \"colorscale\": [[0.0, \"#0d0887\"], [0.1111111111111111, \"#46039f\"], [0.2222222222222222, \"#7201a8\"], [0.3333333333333333, \"#9c179e\"], [0.4444444444444444, \"#bd3786\"], [0.5555555555555556, \"#d8576b\"], [0.6666666666666666, \"#ed7953\"], [0.7777777777777778, \"#fb9f3a\"], [0.8888888888888888, \"#fdca26\"], [1.0, \"#f0f921\"]], \"type\": \"contour\"}], \"contourcarpet\": [{\"colorbar\": {\"outlinewidth\": 0, \"ticks\": \"\"}, \"type\": \"contourcarpet\"}], \"heatmap\": [{\"colorbar\": {\"outlinewidth\": 0, \"ticks\": \"\"}, \"colorscale\": [[0.0, \"#0d0887\"], [0.1111111111111111, \"#46039f\"], [0.2222222222222222, \"#7201a8\"], [0.3333333333333333, \"#9c179e\"], [0.4444444444444444, \"#bd3786\"], [0.5555555555555556, \"#d8576b\"], [0.6666666666666666, \"#ed7953\"], [0.7777777777777778, \"#fb9f3a\"], [0.8888888888888888, \"#fdca26\"], [1.0, \"#f0f921\"]], \"type\": \"heatmap\"}], \"heatmapgl\": [{\"colorbar\": {\"outlinewidth\": 0, \"ticks\": \"\"}, \"colorscale\": [[0.0, \"#0d0887\"], [0.1111111111111111, \"#46039f\"], [0.2222222222222222, \"#7201a8\"], [0.3333333333333333, \"#9c179e\"], [0.4444444444444444, \"#bd3786\"], [0.5555555555555556, \"#d8576b\"], [0.6666666666666666, \"#ed7953\"], [0.7777777777777778, \"#fb9f3a\"], [0.8888888888888888, \"#fdca26\"], [1.0, \"#f0f921\"]], \"type\": \"heatmapgl\"}], \"histogram\": [{\"marker\": {\"colorbar\": {\"outlinewidth\": 0, \"ticks\": \"\"}}, \"type\": \"histogram\"}], \"histogram2d\": [{\"colorbar\": {\"outlinewidth\": 0, \"ticks\": \"\"}, \"colorscale\": [[0.0, \"#0d0887\"], [0.1111111111111111, \"#46039f\"], [0.2222222222222222, \"#7201a8\"], [0.3333333333333333, \"#9c179e\"], [0.4444444444444444, \"#bd3786\"], [0.5555555555555556, \"#d8576b\"], [0.6666666666666666, \"#ed7953\"], [0.7777777777777778, \"#fb9f3a\"], [0.8888888888888888, \"#fdca26\"], [1.0, \"#f0f921\"]], \"type\": \"histogram2d\"}], \"histogram2dcontour\": [{\"colorbar\": {\"outlinewidth\": 0, \"ticks\": \"\"}, \"colorscale\": [[0.0, \"#0d0887\"], [0.1111111111111111, \"#46039f\"], [0.2222222222222222, \"#7201a8\"], [0.3333333333333333, \"#9c179e\"], [0.4444444444444444, \"#bd3786\"], [0.5555555555555556, \"#d8576b\"], [0.6666666666666666, \"#ed7953\"], [0.7777777777777778, \"#fb9f3a\"], [0.8888888888888888, \"#fdca26\"], [1.0, \"#f0f921\"]], \"type\": \"histogram2dcontour\"}], \"mesh3d\": [{\"colorbar\": {\"outlinewidth\": 0, \"ticks\": \"\"}, \"type\": \"mesh3d\"}], \"parcoords\": [{\"line\": {\"colorbar\": {\"outlinewidth\": 0, \"ticks\": \"\"}}, \"type\": \"parcoords\"}], \"pie\": [{\"automargin\": true, \"type\": \"pie\"}], \"scatter\": [{\"marker\": {\"colorbar\": {\"outlinewidth\": 0, \"ticks\": \"\"}}, \"type\": \"scatter\"}], \"scatter3d\": [{\"line\": {\"colorbar\": {\"outlinewidth\": 0, \"ticks\": \"\"}}, \"marker\": {\"colorbar\": {\"outlinewidth\": 0, \"ticks\": \"\"}}, \"type\": \"scatter3d\"}], \"scattercarpet\": [{\"marker\": {\"colorbar\": {\"outlinewidth\": 0, \"ticks\": \"\"}}, \"type\": \"scattercarpet\"}], \"scattergeo\": [{\"marker\": {\"colorbar\": {\"outlinewidth\": 0, \"ticks\": \"\"}}, \"type\": \"scattergeo\"}], \"scattergl\": [{\"marker\": {\"colorbar\": {\"outlinewidth\": 0, \"ticks\": \"\"}}, \"type\": \"scattergl\"}], \"scattermapbox\": [{\"marker\": {\"colorbar\": {\"outlinewidth\": 0, \"ticks\": \"\"}}, \"type\": \"scattermapbox\"}], \"scatterpolar\": [{\"marker\": {\"colorbar\": {\"outlinewidth\": 0, \"ticks\": \"\"}}, \"type\": \"scatterpolar\"}], \"scatterpolargl\": [{\"marker\": {\"colorbar\": {\"outlinewidth\": 0, \"ticks\": \"\"}}, \"type\": \"scatterpolargl\"}], \"scatterternary\": [{\"marker\": {\"colorbar\": {\"outlinewidth\": 0, \"ticks\": \"\"}}, \"type\": \"scatterternary\"}], \"surface\": [{\"colorbar\": {\"outlinewidth\": 0, \"ticks\": \"\"}, \"colorscale\": [[0.0, \"#0d0887\"], [0.1111111111111111, \"#46039f\"], [0.2222222222222222, \"#7201a8\"], [0.3333333333333333, \"#9c179e\"], [0.4444444444444444, \"#bd3786\"], [0.5555555555555556, \"#d8576b\"], [0.6666666666666666, \"#ed7953\"], [0.7777777777777778, \"#fb9f3a\"], [0.8888888888888888, \"#fdca26\"], [1.0, \"#f0f921\"]], \"type\": \"surface\"}], \"table\": [{\"cells\": {\"fill\": {\"color\": \"#EBF0F8\"}, \"line\": {\"color\": \"white\"}}, \"header\": {\"fill\": {\"color\": \"#C8D4E3\"}, \"line\": {\"color\": \"white\"}}, \"type\": \"table\"}]}, \"layout\": {\"annotationdefaults\": {\"arrowcolor\": \"#2a3f5f\", \"arrowhead\": 0, \"arrowwidth\": 1}, \"autotypenumbers\": \"strict\", \"coloraxis\": {\"colorbar\": {\"outlinewidth\": 0, \"ticks\": \"\"}}, \"colorscale\": {\"diverging\": [[0, \"#8e0152\"], [0.1, \"#c51b7d\"], [0.2, \"#de77ae\"], [0.3, \"#f1b6da\"], [0.4, \"#fde0ef\"], [0.5, \"#f7f7f7\"], [0.6, \"#e6f5d0\"], [0.7, \"#b8e186\"], [0.8, \"#7fbc41\"], [0.9, \"#4d9221\"], [1, \"#276419\"]], \"sequential\": [[0.0, \"#0d0887\"], [0.1111111111111111, \"#46039f\"], [0.2222222222222222, \"#7201a8\"], [0.3333333333333333, \"#9c179e\"], [0.4444444444444444, \"#bd3786\"], [0.5555555555555556, \"#d8576b\"], [0.6666666666666666, \"#ed7953\"], [0.7777777777777778, \"#fb9f3a\"], [0.8888888888888888, \"#fdca26\"], [1.0, \"#f0f921\"]], \"sequentialminus\": [[0.0, \"#0d0887\"], [0.1111111111111111, \"#46039f\"], [0.2222222222222222, \"#7201a8\"], [0.3333333333333333, \"#9c179e\"], [0.4444444444444444, \"#bd3786\"], [0.5555555555555556, \"#d8576b\"], [0.6666666666666666, \"#ed7953\"], [0.7777777777777778, \"#fb9f3a\"], [0.8888888888888888, \"#fdca26\"], [1.0, \"#f0f921\"]]}, \"colorway\": [\"#636efa\", \"#EF553B\", \"#00cc96\", \"#ab63fa\", \"#FFA15A\", \"#19d3f3\", \"#FF6692\", \"#B6E880\", \"#FF97FF\", \"#FECB52\"], \"font\": {\"color\": \"#2a3f5f\"}, \"geo\": {\"bgcolor\": \"white\", \"lakecolor\": \"white\", \"landcolor\": \"#E5ECF6\", \"showlakes\": true, \"showland\": true, \"subunitcolor\": \"white\"}, \"hoverlabel\": {\"align\": \"left\"}, \"hovermode\": \"closest\", \"mapbox\": {\"style\": \"light\"}, \"paper_bgcolor\": \"white\", \"plot_bgcolor\": \"#E5ECF6\", \"polar\": {\"angularaxis\": {\"gridcolor\": \"white\", \"linecolor\": \"white\", \"ticks\": \"\"}, \"bgcolor\": \"#E5ECF6\", \"radialaxis\": {\"gridcolor\": \"white\", \"linecolor\": \"white\", \"ticks\": \"\"}}, \"scene\": {\"xaxis\": {\"backgroundcolor\": \"#E5ECF6\", \"gridcolor\": \"white\", \"gridwidth\": 2, \"linecolor\": \"white\", \"showbackground\": true, \"ticks\": \"\", \"zerolinecolor\": \"white\"}, \"yaxis\": {\"backgroundcolor\": \"#E5ECF6\", \"gridcolor\": \"white\", \"gridwidth\": 2, \"linecolor\": \"white\", \"showbackground\": true, \"ticks\": \"\", \"zerolinecolor\": \"white\"}, \"zaxis\": {\"backgroundcolor\": \"#E5ECF6\", \"gridcolor\": \"white\", \"gridwidth\": 2, \"linecolor\": \"white\", \"showbackground\": true, \"ticks\": \"\", \"zerolinecolor\": \"white\"}}, \"shapedefaults\": {\"line\": {\"color\": \"#2a3f5f\"}}, \"ternary\": {\"aaxis\": {\"gridcolor\": \"white\", \"linecolor\": \"white\", \"ticks\": \"\"}, \"baxis\": {\"gridcolor\": \"white\", \"linecolor\": \"white\", \"ticks\": \"\"}, \"bgcolor\": \"#E5ECF6\", \"caxis\": {\"gridcolor\": \"white\", \"linecolor\": \"white\", \"ticks\": \"\"}}, \"title\": {\"x\": 0.05}, \"xaxis\": {\"automargin\": true, \"gridcolor\": \"white\", \"linecolor\": \"white\", \"ticks\": \"\", \"title\": {\"standoff\": 15}, \"zerolinecolor\": \"white\", \"zerolinewidth\": 2}, \"yaxis\": {\"automargin\": true, \"gridcolor\": \"white\", \"linecolor\": \"white\", \"ticks\": \"\", \"title\": {\"standoff\": 15}, \"zerolinecolor\": \"white\", \"zerolinewidth\": 2}}}, \"title\": {\"text\": \"Players appearances by position\"}, \"xaxis\": {\"anchor\": \"y\", \"domain\": [0.0, 1.0], \"title\": {\"text\": \"Position\"}}, \"yaxis\": {\"anchor\": \"x\", \"domain\": [0.0, 1.0], \"title\": {\"text\": \"Appearances\"}}},                        {\"responsive\": true}                    ).then(function(){\n",
       "                            \n",
       "var gd = document.getElementById('0108efd7-37ff-40b1-a902-cd7f1b82e71d');\n",
       "var x = new MutationObserver(function (mutations, observer) {{\n",
       "        var display = window.getComputedStyle(gd).display;\n",
       "        if (!display || display === 'none') {{\n",
       "            console.log([gd, 'removed!']);\n",
       "            Plotly.purge(gd);\n",
       "            observer.disconnect();\n",
       "        }}\n",
       "}});\n",
       "\n",
       "// Listen for the removal of the full notebook cells\n",
       "var notebookContainer = gd.closest('#notebook-container');\n",
       "if (notebookContainer) {{\n",
       "    x.observe(notebookContainer, {childList: true});\n",
       "}}\n",
       "\n",
       "// Listen for the clearing of the current output cell\n",
       "var outputEl = gd.closest('.output');\n",
       "if (outputEl) {{\n",
       "    x.observe(outputEl, {childList: true});\n",
       "}}\n",
       "\n",
       "                        })                };                });            </script>        </div>"
      ]
     },
     "metadata": {},
     "output_type": "display_data"
    }
   ],
   "source": [
    "fig=px.bar(data, x='Position', y='Appearances', color='Club', hover_data=['Name'],\n",
    "          height=600, title='Players appearances by position')\n",
    "iplot(fig)"
   ]
  },
  {
   "cell_type": "code",
   "execution_count": 17,
   "metadata": {},
   "outputs": [
    {
     "data": {
      "application/vnd.plotly.v1+json": {
       "config": {
        "linkText": "Export to plot.ly",
        "plotlyServerURL": "https://plot.ly",
        "showLink": false
       },
       "data": [
        {
         "alignmentgroup": "True",
         "customdata": [
          [
           "Bernd Leno"
          ],
          [
           "Matt Macey"
          ],
          [
           "Rúnar Alex Rúnarsson"
          ],
          [
           "Tom Heaton"
          ],
          [
           "Jed Steer"
          ],
          [
           "Ørjan Nyland"
          ],
          [
           "Lovre Kalinic"
          ],
          [
           "Emiliano Martínez"
          ],
          [
           "Mat Ryan"
          ],
          [
           "Jason Steele"
          ],
          [
           "Christian Walton"
          ],
          [
           "Robert Sánchez"
          ],
          [
           "Nick Pope"
          ],
          [
           "Bailey Peacock-Farrell"
          ],
          [
           "Will Norris"
          ],
          [
           "Kepa Arrizabalaga"
          ],
          [
           "Willy Caballero"
          ],
          [
           "Wayne Hennessey"
          ],
          [
           "Vicente Guaita"
          ],
          [
           "Stephen Henderson"
          ],
          [
           "Jordan Pickford"
          ],
          [
           "João Virgínia"
          ],
          [
           "Jonas Lössl"
          ],
          [
           "Marek Rodák"
          ],
          [
           "Fabri"
          ],
          [
           "Alphonse Areola"
          ],
          [
           "Kiko Casilla"
          ],
          [
           "Elia Caprile"
          ],
          [
           "Kasper Schmeichel"
          ],
          [
           "Danny Ward"
          ],
          [
           "Eldin Jakupovic"
          ],
          [
           "Loris Karius"
          ],
          [
           "Alisson"
          ],
          [
           "Adrián"
          ],
          [
           "Caoimhin Kelleher"
          ],
          [
           "Kamil Grabara"
          ],
          [
           "Ederson"
          ],
          [
           "Scott Carson"
          ],
          [
           "David de Gea"
          ],
          [
           "Sergio Romero"
          ],
          [
           "Dean Henderson"
          ],
          [
           "Mark Gillespie"
          ],
          [
           "Martin Dubravka"
          ],
          [
           "Karl Darlow"
          ],
          [
           "Daniel Langley"
          ],
          [
           "Wes Foderingham"
          ],
          [
           "Michael Verrips"
          ],
          [
           "Simon Moore"
          ],
          [
           "Aaron Ramsdale"
          ],
          [
           "Alex McCarthy"
          ],
          [
           "Angus Gunn"
          ],
          [
           "Fraser Forster"
          ],
          [
           "Harry Lewis"
          ],
          [
           "Hugo Lloris"
          ],
          [
           "Paulo Gazzaniga"
          ],
          [
           "Joe Hart"
          ],
          [
           "Alfie Whiteman"
          ],
          [
           "Brandon Austin"
          ],
          [
           "Sam Johnstone"
          ],
          [
           "David Button"
          ],
          [
           "Jonathan Bond"
          ],
          [
           "Lukasz Fabianski"
          ],
          [
           "David Martin"
          ],
          [
           "Darren Randolph"
          ],
          [
           "Nathan Trott"
          ],
          [
           "Rui Patrício"
          ],
          [
           "John Ruddy"
          ]
         ],
         "hovertemplate": "Position=Goalkeeper<br>Club=%{x}<br>Appearances=%{y}<br>Name=%{customdata[0]}<extra></extra>",
         "legendgroup": "Goalkeeper",
         "marker": {
          "color": "#636efa"
         },
         "name": "Goalkeeper",
         "offsetgroup": "Goalkeeper",
         "orientation": "v",
         "showlegend": true,
         "textposition": "auto",
         "type": "bar",
         "x": [
          "Arsenal",
          "Arsenal",
          "Arsenal",
          "Aston-Villa",
          "Aston-Villa",
          "Aston-Villa",
          "Aston-Villa",
          "Aston-Villa",
          "Brighton-and-Hove-Albion",
          "Brighton-and-Hove-Albion",
          "Brighton-and-Hove-Albion",
          "Brighton-and-Hove-Albion",
          "Burnley",
          "Burnley",
          "Burnley",
          "Chelsea",
          "Chelsea",
          "Crystal-Palace",
          "Crystal-Palace",
          "Crystal-Palace",
          "Everton",
          "Everton",
          "Everton",
          "Fulham",
          "Fulham",
          "Fulham",
          "Leeds-United",
          "Leeds-United",
          "Leicester-City",
          "Leicester-City",
          "Leicester-City",
          "Liverpool",
          "Liverpool",
          "Liverpool",
          "Liverpool",
          "Liverpool",
          "Manchester-City",
          "Manchester-City",
          "Manchester-United",
          "Manchester-United",
          "Manchester-United",
          "Newcastle-United",
          "Newcastle-United",
          "Newcastle-United",
          "Newcastle-United",
          "Sheffield-United",
          "Sheffield-United",
          "Sheffield-United",
          "Sheffield-United",
          "Southampton",
          "Southampton",
          "Southampton",
          "Southampton",
          "Tottenham-Hotspur",
          "Tottenham-Hotspur",
          "Tottenham-Hotspur",
          "Tottenham-Hotspur",
          "Tottenham-Hotspur",
          "West-Bromwich-Albion",
          "West-Bromwich-Albion",
          "West-Bromwich-Albion",
          "West-Ham-United",
          "West-Ham-United",
          "West-Ham-United",
          "West-Ham-United",
          "Wolverhampton-Wanderers",
          "Wolverhampton-Wanderers"
         ],
         "xaxis": "x",
         "y": [
          64,
          0,
          0,
          116,
          2,
          7,
          0,
          16,
          112,
          0,
          0,
          0,
          74,
          0,
          1,
          71,
          33,
          181,
          57,
          0,
          147,
          0,
          69,
          1,
          2,
          1,
          0,
          0,
          211,
          2,
          28,
          29,
          69,
          136,
          0,
          0,
          110,
          145,
          314,
          7,
          36,
          0,
          88,
          21,
          0,
          0,
          0,
          2,
          39,
          96,
          22,
          107,
          0,
          262,
          43,
          340,
          0,
          0,
          2,
          4,
          0,
          246,
          5,
          31,
          0,
          77,
          119
         ],
         "yaxis": "y"
        },
        {
         "alignmentgroup": "True",
         "customdata": [
          [
           "Héctor Bellerín"
          ],
          [
           "Kieran Tierney"
          ],
          [
           "William Saliba"
          ],
          [
           "Sokratis"
          ],
          [
           "Rob Holding"
          ],
          [
           "Shkodran Mustafi"
          ],
          [
           "Calum Chambers"
          ],
          [
           "David Luiz"
          ],
          [
           "Sead Kolasinac"
          ],
          [
           "Gabriel Magalhães"
          ],
          [
           "Neil Taylor"
          ],
          [
           "Ezri Konsa Ngoyo"
          ],
          [
           "Matt Targett"
          ],
          [
           "Björn Engels"
          ],
          [
           "Frédéric Guilbert"
          ],
          [
           "Ahmed El Mohamady"
          ],
          [
           "Kortney Hause"
          ],
          [
           "Tyrone Mings"
          ],
          [
           "Matthew Cash"
          ],
          [
           "Ben White"
          ],
          [
           "Tariq Lamptey"
          ],
          [
           "Lewis Dunk"
          ],
          [
           "Adam Webster"
          ],
          [
           "Bernardo"
          ],
          [
           "Dan Burn"
          ],
          [
           "Joël Veltman"
          ],
          [
           "Romaric Yapi"
          ],
          [
           "Alex Cochrane"
          ],
          [
           "Haydon Roberts"
          ],
          [
           "Matthew Lowton"
          ],
          [
           "Charlie Taylor"
          ],
          [
           "James Tarkowski"
          ],
          [
           "Ben Mee"
          ],
          [
           "Erik Pieters"
          ],
          [
           "Phil Bardsley"
          ],
          [
           "Kevin Long"
          ],
          [
           "Jimmy Dunne"
          ],
          [
           "Bobby Thomas"
          ],
          [
           "Anthony Driscoll-Glennon"
          ],
          [
           "Antonio Rüdiger"
          ],
          [
           "Marcos Alonso"
          ],
          [
           "Andreas Christensen"
          ],
          [
           "Kurt Zouma"
          ],
          [
           "Reece James"
          ],
          [
           "César Azpilicueta"
          ],
          [
           "Fikayo Tomori"
          ],
          [
           "Emerson"
          ],
          [
           "Ben Chilwell"
          ],
          [
           "Thiago Silva"
          ],
          [
           "Joel Ward"
          ],
          [
           "Patrick van Aanholt"
          ],
          [
           "James Tomkins"
          ],
          [
           "Scott Dann"
          ],
          [
           "Mamadou Sakho"
          ],
          [
           "Gary Cahill"
          ],
          [
           "Martin Kelly"
          ],
          [
           "Tyrick Mitchell"
          ],
          [
           "Jaroslaw Jach"
          ],
          [
           "Sam Woods"
          ],
          [
           "Ryan Inniss"
          ],
          [
           "Mason Holgate"
          ],
          [
           "Michael Keane"
          ],
          [
           "Lucas Digne"
          ],
          [
           "Yerry Mina"
          ],
          [
           "Séamus Coleman"
          ],
          [
           "Jarrad Branthwaite"
          ],
          [
           "Jonjoe Kenny"
          ],
          [
           "Niels Nkounkou"
          ],
          [
           "Michael Hector"
          ],
          [
           "Denis Odoi"
          ],
          [
           "Tim Ream"
          ],
          [
           "Maxime Le Marchand"
          ],
          [
           "Joe Bryan"
          ],
          [
           "Antonee Robinson"
          ],
          [
           "Kenny Tete"
          ],
          [
           "Ola Aina"
          ],
          [
           "Luke Ayling"
          ],
          [
           "Barry Douglas"
          ],
          [
           "Liam Cooper"
          ],
          [
           "Pascal Struijk"
          ],
          [
           "Leif Davis"
          ],
          [
           "Robin Koch"
          ],
          [
           "Oliver Casey"
          ],
          [
           "Charlie Cresswell"
          ],
          [
           "Robbie Gotts"
          ],
          [
           "James Justin"
          ],
          [
           "Çaglar Söyüncü"
          ],
          [
           "Wes Morgan"
          ],
          [
           "Jonny Evans"
          ],
          [
           "Filip Benkovic"
          ],
          [
           "Daniel Amartey"
          ],
          [
           "Ricardo Pereira"
          ],
          [
           "Christian Fuchs"
          ],
          [
           "Luke Thomas"
          ],
          [
           "Timothy Castagne"
          ],
          [
           "Virgil van Dijk"
          ],
          [
           "Joseph Gomez"
          ],
          [
           "Andrew Robertson"
          ],
          [
           "Joel Matip"
          ],
          [
           "Trent Alexander-Arnold"
          ],
          [
           "Neco Williams"
          ],
          [
           "Konstantinos Tsimikas"
          ],
          [
           "Nathaniel Phillips"
          ],
          [
           "Sepp van den Berg"
          ],
          [
           "Nathan Aké"
          ],
          [
           "Kyle Walker"
          ],
          [
           "John Stones"
          ],
          [
           "Oleksandr Zinchenko"
          ],
          [
           "Aymeric Laporte"
          ],
          [
           "Benjamin Mendy"
          ],
          [
           "João Cancelo"
          ],
          [
           "Nicolás Otamendi"
          ],
          [
           "Eric García"
          ],
          [
           "Victor Lindelöf"
          ],
          [
           "Eric Bailly"
          ],
          [
           "Phil Jones"
          ],
          [
           "Harry Maguire"
          ],
          [
           "Chris Smalling"
          ],
          [
           "Marcos Rojo"
          ],
          [
           "Diogo Dalot"
          ],
          [
           "Luke Shaw"
          ],
          [
           "Timothy Fosu-Mensah"
          ],
          [
           "Aaron Wan-Bissaka"
          ],
          [
           "Axel Tuanzebe"
          ],
          [
           "Brandon Williams"
          ],
          [
           "Teden Mengi"
          ],
          [
           "Ciaran Clark"
          ],
          [
           "Paul Dummett"
          ],
          [
           "Fabian Schär"
          ],
          [
           "Jamaal Lascelles"
          ],
          [
           "Emil Krafth"
          ],
          [
           "Federico Fernández"
          ],
          [
           "Javier Manquillo"
          ],
          [
           "DeAndre Yedlin"
          ],
          [
           "Jamal Lewis"
          ],
          [
           "George Baldock"
          ],
          [
           "Enda Stevens"
          ],
          [
           "Jack O'Connell"
          ],
          [
           "Chris Basham"
          ],
          [
           "John Egan"
          ],
          [
           "Jack Robinson"
          ],
          [
           "Kean Bryan"
          ],
          [
           "Phil Jagielka"
          ],
          [
           "Max Lowe"
          ],
          [
           "Ethan Ampadu"
          ],
          [
           "Jayden Bogle"
          ],
          [
           "Jannik Vestergaard"
          ],
          [
           "Jack Stephens"
          ],
          [
           "Ryan Bertrand"
          ],
          [
           "Jake Vokins"
          ],
          [
           "Jan Bednarek"
          ],
          [
           "Yan Valery"
          ],
          [
           "Kyle Walker-Peters"
          ],
          [
           "Mohammed Salisu"
          ],
          [
           "Toby Alderweireld"
          ],
          [
           "Davinson Sánchez"
          ],
          [
           "Juan Foyth"
          ],
          [
           "Serge Aurier"
          ],
          [
           "Ben Davies"
          ],
          [
           "Japhet Tanganga"
          ],
          [
           "Matt Doherty"
          ],
          [
           "Dennis Cirkin"
          ],
          [
           "Sergio Reguilón"
          ],
          [
           "Darnell Furlong"
          ],
          [
           "Kieran Gibbs"
          ],
          [
           "Kyle Bartley"
          ],
          [
           "Semi Ajayi"
          ],
          [
           "Conor Townsend"
          ],
          [
           "Ahmed Hegazi"
          ],
          [
           "Dara O'Shea"
          ],
          [
           "Cédric Kipré"
          ],
          [
           "Lee Peltier"
          ],
          [
           "Branislav Ivanovic"
          ],
          [
           "Aaron Cresswell"
          ],
          [
           "Fabián Balbuena"
          ],
          [
           "Gonçalo Cardoso"
          ],
          [
           "Angelo Ogbonna"
          ],
          [
           "Issa Diop"
          ],
          [
           "Ryan Fredericks"
          ],
          [
           "Arthur Masuaku"
          ],
          [
           "Ben Johnson"
          ],
          [
           "Ajibola Alese"
          ],
          [
           "Harrison Ashby"
          ],
          [
           "Willy Boly"
          ],
          [
           "Conor Coady"
          ],
          [
           "Jonny"
          ],
          [
           "Rúben Vinagre"
          ],
          [
           "Maximilian Kilman"
          ],
          [
           "Oskar Buur"
          ],
          [
           "Marçal"
          ],
          [
           "Ki-Jana Hoever"
          ]
         ],
         "hovertemplate": "Position=Defender<br>Club=%{x}<br>Appearances=%{y}<br>Name=%{customdata[0]}<extra></extra>",
         "legendgroup": "Defender",
         "marker": {
          "color": "#EF553B"
         },
         "name": "Defender",
         "offsetgroup": "Defender",
         "orientation": "v",
         "showlegend": true,
         "textposition": "auto",
         "type": "bar",
         "x": [
          "Arsenal",
          "Arsenal",
          "Arsenal",
          "Arsenal",
          "Arsenal",
          "Arsenal",
          "Arsenal",
          "Arsenal",
          "Arsenal",
          "Arsenal",
          "Aston-Villa",
          "Aston-Villa",
          "Aston-Villa",
          "Aston-Villa",
          "Aston-Villa",
          "Aston-Villa",
          "Aston-Villa",
          "Aston-Villa",
          "Aston-Villa",
          "Brighton-and-Hove-Albion",
          "Brighton-and-Hove-Albion",
          "Brighton-and-Hove-Albion",
          "Brighton-and-Hove-Albion",
          "Brighton-and-Hove-Albion",
          "Brighton-and-Hove-Albion",
          "Brighton-and-Hove-Albion",
          "Brighton-and-Hove-Albion",
          "Brighton-and-Hove-Albion",
          "Brighton-and-Hove-Albion",
          "Burnley",
          "Burnley",
          "Burnley",
          "Burnley",
          "Burnley",
          "Burnley",
          "Burnley",
          "Burnley",
          "Burnley",
          "Burnley",
          "Chelsea",
          "Chelsea",
          "Chelsea",
          "Chelsea",
          "Chelsea",
          "Chelsea",
          "Chelsea",
          "Chelsea",
          "Chelsea",
          "Chelsea",
          "Crystal-Palace",
          "Crystal-Palace",
          "Crystal-Palace",
          "Crystal-Palace",
          "Crystal-Palace",
          "Crystal-Palace",
          "Crystal-Palace",
          "Crystal-Palace",
          "Crystal-Palace",
          "Crystal-Palace",
          "Crystal-Palace",
          "Everton",
          "Everton",
          "Everton",
          "Everton",
          "Everton",
          "Everton",
          "Everton",
          "Everton",
          "Fulham",
          "Fulham",
          "Fulham",
          "Fulham",
          "Fulham",
          "Fulham",
          "Fulham",
          "Fulham",
          "Leeds-United",
          "Leeds-United",
          "Leeds-United",
          "Leeds-United",
          "Leeds-United",
          "Leeds-United",
          "Leeds-United",
          "Leeds-United",
          "Leeds-United",
          "Leicester-City",
          "Leicester-City",
          "Leicester-City",
          "Leicester-City",
          "Leicester-City",
          "Leicester-City",
          "Leicester-City",
          "Leicester-City",
          "Leicester-City",
          "Leicester-City",
          "Liverpool",
          "Liverpool",
          "Liverpool",
          "Liverpool",
          "Liverpool",
          "Liverpool",
          "Liverpool",
          "Liverpool",
          "Liverpool",
          "Manchester-City",
          "Manchester-City",
          "Manchester-City",
          "Manchester-City",
          "Manchester-City",
          "Manchester-City",
          "Manchester-City",
          "Manchester-City",
          "Manchester-City",
          "Manchester-United",
          "Manchester-United",
          "Manchester-United",
          "Manchester-United",
          "Manchester-United",
          "Manchester-United",
          "Manchester-United",
          "Manchester-United",
          "Manchester-United",
          "Manchester-United",
          "Manchester-United",
          "Manchester-United",
          "Manchester-United",
          "Newcastle-United",
          "Newcastle-United",
          "Newcastle-United",
          "Newcastle-United",
          "Newcastle-United",
          "Newcastle-United",
          "Newcastle-United",
          "Newcastle-United",
          "Newcastle-United",
          "Sheffield-United",
          "Sheffield-United",
          "Sheffield-United",
          "Sheffield-United",
          "Sheffield-United",
          "Sheffield-United",
          "Sheffield-United",
          "Sheffield-United",
          "Sheffield-United",
          "Sheffield-United",
          "Sheffield-United",
          "Southampton",
          "Southampton",
          "Southampton",
          "Southampton",
          "Southampton",
          "Southampton",
          "Southampton",
          "Southampton",
          "Tottenham-Hotspur",
          "Tottenham-Hotspur",
          "Tottenham-Hotspur",
          "Tottenham-Hotspur",
          "Tottenham-Hotspur",
          "Tottenham-Hotspur",
          "Tottenham-Hotspur",
          "Tottenham-Hotspur",
          "Tottenham-Hotspur",
          "West-Bromwich-Albion",
          "West-Bromwich-Albion",
          "West-Bromwich-Albion",
          "West-Bromwich-Albion",
          "West-Bromwich-Albion",
          "West-Bromwich-Albion",
          "West-Bromwich-Albion",
          "West-Bromwich-Albion",
          "West-Bromwich-Albion",
          "West-Bromwich-Albion",
          "West-Ham-United",
          "West-Ham-United",
          "West-Ham-United",
          "West-Ham-United",
          "West-Ham-United",
          "West-Ham-United",
          "West-Ham-United",
          "West-Ham-United",
          "West-Ham-United",
          "West-Ham-United",
          "Wolverhampton-Wanderers",
          "Wolverhampton-Wanderers",
          "Wolverhampton-Wanderers",
          "Wolverhampton-Wanderers",
          "Wolverhampton-Wanderers",
          "Wolverhampton-Wanderers",
          "Wolverhampton-Wanderers",
          "Wolverhampton-Wanderers"
         ],
         "xaxis": "x",
         "y": [
          160,
          16,
          0,
          44,
          41,
          99,
          139,
          194,
          78,
          2,
          145,
          26,
          72,
          17,
          25,
          183,
          18,
          51,
          1,
          2,
          11,
          112,
          33,
          36,
          44,
          0,
          0,
          0,
          0,
          172,
          74,
          123,
          166,
          194,
          300,
          35,
          1,
          0,
          0,
          80,
          140,
          59,
          143,
          26,
          272,
          17,
          30,
          99,
          0,
          201,
          191,
          263,
          227,
          125,
          374,
          153,
          6,
          0,
          0,
          0,
          65,
          153,
          72,
          44,
          276,
          4,
          31,
          0,
          2,
          33,
          40,
          26,
          30,
          0,
          1,
          3,
          2,
          0,
          3,
          1,
          0,
          2,
          0,
          0,
          0,
          15,
          42,
          168,
          297,
          0,
          46,
          63,
          107,
          3,
          2,
          159,
          73,
          153,
          86,
          95,
          6,
          0,
          0,
          0,
          147,
          293,
          163,
          41,
          59,
          37,
          17,
          136,
          13,
          83,
          54,
          200,
          140,
          219,
          76,
          20,
          157,
          49,
          77,
          10,
          17,
          0,
          179,
          128,
          46,
          109,
          17,
          170,
          92,
          103,
          30,
          40,
          47,
          35,
          61,
          38,
          9,
          0,
          366,
          0,
          2,
          0,
          43,
          93,
          231,
          1,
          66,
          34,
          24,
          0,
          176,
          84,
          16,
          58,
          201,
          6,
          77,
          0,
          0,
          5,
          172,
          23,
          2,
          0,
          38,
          2,
          0,
          20,
          261,
          190,
          40,
          0,
          137,
          67,
          44,
          81,
          4,
          0,
          0,
          60,
          79,
          68,
          34,
          4,
          1,
          2,
          0
         ],
         "yaxis": "y"
        },
        {
         "alignmentgroup": "True",
         "customdata": [
          [
           "Mesut Özil"
          ],
          [
           "Lucas Torreira"
          ],
          [
           "Ainsley Maitland-Niles"
          ],
          [
           "Mohamed Elneny"
          ],
          [
           "Joseph Willock"
          ],
          [
           "Matteo Guendouzi"
          ],
          [
           "Emile Smith Rowe"
          ],
          [
           "Granit Xhaka"
          ],
          [
           "Bukayo Saka"
          ],
          [
           "Dani Ceballos"
          ],
          [
           "Douglas Luiz"
          ],
          [
           "John McGinn"
          ],
          [
           "Henri Lansbury"
          ],
          [
           "Jack Grealish"
          ],
          [
           "Marvelous Nakamba"
          ],
          [
           "Conor Hourihane"
          ],
          [
           "Trézéguet"
          ],
          [
           "Anwar El Ghazi"
          ],
          [
           "Jota"
          ],
          [
           "Jacob Ramsey"
          ],
          [
           "Dale Stephens"
          ],
          [
           "Yves Bissouma"
          ],
          [
           "Alexis Mac Allister"
          ],
          [
           "Pascal Groß"
          ],
          [
           "Adam Lallana"
          ],
          [
           "Solly March"
          ],
          [
           "Davy Pröpper"
          ],
          [
           "Steven Alzate"
          ],
          [
           "Max Sanders"
          ],
          [
           "Jayson Molumby"
          ],
          [
           "Lars Dendoncker"
          ],
          [
           "Peter Gwargis"
          ],
          [
           "Jack Cork"
          ],
          [
           "Jóhann Gudmundsson"
          ],
          [
           "Josh Brownhill"
          ],
          [
           "Dwight McNeil"
          ],
          [
           "Robbie Brady"
          ],
          [
           "Ashley Westwood"
          ],
          [
           "Josh Benson"
          ],
          [
           "Hakim Ziyech"
          ],
          [
           "Jorginho"
          ],
          [
           "N'Golo Kanté"
          ],
          [
           "Ross Barkley"
          ],
          [
           "Ruben Loftus-Cheek"
          ],
          [
           "Mateo Kovacic"
          ],
          [
           "Mason Mount"
          ],
          [
           "Christian Pulisic"
          ],
          [
           "Billy Gilmour"
          ],
          [
           "Kai Havertz"
          ],
          [
           "Luka Milivojevic"
          ],
          [
           "Max Meyer"
          ],
          [
           "Cheikhou Kouyaté"
          ],
          [
           "Andros Townsend"
          ],
          [
           "Jeffrey Schlupp"
          ],
          [
           "James McArthur"
          ],
          [
           "James McCarthy"
          ],
          [
           "Jairo Riedewald"
          ],
          [
           "Eberechi Eze"
          ],
          [
           "Nya Kirby"
          ],
          [
           "Fabian Delph"
          ],
          [
           "Gylfi Sigurdsson"
          ],
          [
           "André Gomes"
          ],
          [
           "Jean-Philippe Gbamin"
          ],
          [
           "Tom Davies"
          ],
          [
           "Beni Baningime"
          ],
          [
           "Allan"
          ],
          [
           "James Rodríguez"
          ],
          [
           "Abdoulaye Doucouré"
          ],
          [
           "Muhamed Besic"
          ],
          [
           "Jean Michael Seri"
          ],
          [
           "Kevin McDonald"
          ],
          [
           "Neeskens Kebano"
          ],
          [
           "Stefan Johansen"
          ],
          [
           "Tom Cairney"
          ],
          [
           "Josh Onomah"
          ],
          [
           "André-Frank Zambo Anguissa"
          ],
          [
           "Mario Lemina"
          ],
          [
           "Harrison Reed"
          ],
          [
           "Tyrese Francois"
          ],
          [
           "Adam Forshaw"
          ],
          [
           "Stuart Dallas"
          ],
          [
           "Pablo Hernández"
          ],
          [
           "Kalvin Phillips"
          ],
          [
           "Mateusz Klich"
          ],
          [
           "Jamie Shackleton"
          ],
          [
           "Jack Harrison"
          ],
          [
           "Alfie McCalmont"
          ],
          [
           "Mateusz Bogusz"
          ],
          [
           "Demarai Gray"
          ],
          [
           "Youri Tielemans"
          ],
          [
           "James Maddison"
          ],
          [
           "Marc Albrighton"
          ],
          [
           "Harvey Barnes"
          ],
          [
           "Hamza Choudhury"
          ],
          [
           "Matty James"
          ],
          [
           "Adrien Silva"
          ],
          [
           "Wilfred Ndidi"
          ],
          [
           "Dennis Praet"
          ],
          [
           "Rachid Ghezzal"
          ],
          [
           "Nampalys Mendy"
          ],
          [
           "Fabinho"
          ],
          [
           "Georginio Wijnaldum"
          ],
          [
           "James Milner"
          ],
          [
           "Naby Keita"
          ],
          [
           "Jordan Henderson"
          ],
          [
           "Alex Oxlade-Chamberlain"
          ],
          [
           "Marko Grujic"
          ],
          [
           "Curtis Jones"
          ],
          [
           "Harry Wilson"
          ],
          [
           "Harvey Elliott"
          ],
          [
           "Xherdan Shaqiri"
          ],
          [
           "Thiago"
          ],
          [
           "Ilkay Gündogan"
          ],
          [
           "Rodrigo"
          ],
          [
           "Kevin De Bruyne"
          ],
          [
           "Bernardo Silva"
          ],
          [
           "Fernandinho"
          ],
          [
           "Phil Foden"
          ],
          [
           "Tommy Doyle"
          ],
          [
           "Adrián Bernabé"
          ],
          [
           "Paul Pogba"
          ],
          [
           "Juan Mata"
          ],
          [
           "Jesse Lingard"
          ],
          [
           "Andreas Pereira"
          ],
          [
           "Fred"
          ],
          [
           "Bruno Fernandes"
          ],
          [
           "Daniel James"
          ],
          [
           "Nemanja Matic"
          ],
          [
           "Scott McTominay"
          ],
          [
           "Donny van de Beek"
          ],
          [
           "Jacob Murphy"
          ],
          [
           "Jonjo Shelvey"
          ],
          [
           "Matt Ritchie"
          ],
          [
           "Isaac Hayden"
          ],
          [
           "Miguel Almirón"
          ],
          [
           "Christian Atsu"
          ],
          [
           "Sean Longstaff"
          ],
          [
           "Matthew Longstaff"
          ],
          [
           "Jeff Hendrick"
          ],
          [
           "Ryan Fraser"
          ],
          [
           "Henri Saivet"
          ],
          [
           "Daniel Barlaser"
          ],
          [
           "John Fleck"
          ],
          [
           "John Lundstram"
          ],
          [
           "Oliver Norwood"
          ],
          [
           "Ben Osborn"
          ],
          [
           "Sander Berge"
          ],
          [
           "Jack Rodwell"
          ],
          [
           "Regan Slater"
          ],
          [
           "Oliver Burke"
          ],
          [
           "Zak Brunt"
          ],
          [
           "Moussa Djenepo"
          ],
          [
           "Oriol Romeu"
          ],
          [
           "James Ward-Prowse"
          ],
          [
           "Stuart Armstrong"
          ],
          [
           "Sofiane Boufal"
          ],
          [
           "Nathan Redmond"
          ],
          [
           "William Smallbone"
          ],
          [
           "Nathan Tella"
          ],
          [
           "Harry Winks"
          ],
          [
           "Erik Lamela"
          ],
          [
           "Eric Dier"
          ],
          [
           "Moussa Sissoko"
          ],
          [
           "Ryan Sessegnon"
          ],
          [
           "Dele Alli"
          ],
          [
           "Tanguy Ndombele"
          ],
          [
           "Gedson Fernandes"
          ],
          [
           "Pierre-Emile Højbjerg"
          ],
          [
           "Harvey White"
          ],
          [
           "Giovani Lo Celso"
          ],
          [
           "Jake Livermore"
          ],
          [
           "Matt Phillips"
          ],
          [
           "Kamil Grosicki"
          ],
          [
           "Rekeem Harper"
          ],
          [
           "Romaine Sawyers"
          ],
          [
           "Sam Field"
          ],
          [
           "Kyle Edwards"
          ],
          [
           "Grady Diangana"
          ],
          [
           "Conor Gallagher"
          ],
          [
           "Felipe Anderson"
          ],
          [
           "Manuel Lanzini"
          ],
          [
           "Robert Snodgrass"
          ],
          [
           "Mark Noble"
          ],
          [
           "Pablo Fornals"
          ],
          [
           "Jack Wilshere"
          ],
          [
           "Declan Rice"
          ],
          [
           "Josh Cullen"
          ],
          [
           "Conor Coventry"
          ],
          [
           "Rúben Neves"
          ],
          [
           "Daniel Podence"
          ],
          [
           "Romain Saïss"
          ],
          [
           "João Moutinho"
          ],
          [
           "Leander Dendoncker"
          ],
          [
           "Vitinha"
          ],
          [
           "Meritan Shabani"
          ]
         ],
         "hovertemplate": "Position=Midfielder<br>Club=%{x}<br>Appearances=%{y}<br>Name=%{customdata[0]}<extra></extra>",
         "legendgroup": "Midfielder",
         "marker": {
          "color": "#00cc96"
         },
         "name": "Midfielder",
         "offsetgroup": "Midfielder",
         "orientation": "v",
         "showlegend": true,
         "textposition": "auto",
         "type": "bar",
         "x": [
          "Arsenal",
          "Arsenal",
          "Arsenal",
          "Arsenal",
          "Arsenal",
          "Arsenal",
          "Arsenal",
          "Arsenal",
          "Arsenal",
          "Arsenal",
          "Aston-Villa",
          "Aston-Villa",
          "Aston-Villa",
          "Aston-Villa",
          "Aston-Villa",
          "Aston-Villa",
          "Aston-Villa",
          "Aston-Villa",
          "Aston-Villa",
          "Aston-Villa",
          "Brighton-and-Hove-Albion",
          "Brighton-and-Hove-Albion",
          "Brighton-and-Hove-Albion",
          "Brighton-and-Hove-Albion",
          "Brighton-and-Hove-Albion",
          "Brighton-and-Hove-Albion",
          "Brighton-and-Hove-Albion",
          "Brighton-and-Hove-Albion",
          "Brighton-and-Hove-Albion",
          "Brighton-and-Hove-Albion",
          "Brighton-and-Hove-Albion",
          "Brighton-and-Hove-Albion",
          "Burnley",
          "Burnley",
          "Burnley",
          "Burnley",
          "Burnley",
          "Burnley",
          "Burnley",
          "Chelsea",
          "Chelsea",
          "Chelsea",
          "Chelsea",
          "Chelsea",
          "Chelsea",
          "Chelsea",
          "Chelsea",
          "Chelsea",
          "Chelsea",
          "Crystal-Palace",
          "Crystal-Palace",
          "Crystal-Palace",
          "Crystal-Palace",
          "Crystal-Palace",
          "Crystal-Palace",
          "Crystal-Palace",
          "Crystal-Palace",
          "Crystal-Palace",
          "Crystal-Palace",
          "Everton",
          "Everton",
          "Everton",
          "Everton",
          "Everton",
          "Everton",
          "Everton",
          "Everton",
          "Everton",
          "Everton",
          "Fulham",
          "Fulham",
          "Fulham",
          "Fulham",
          "Fulham",
          "Fulham",
          "Fulham",
          "Fulham",
          "Fulham",
          "Fulham",
          "Leeds-United",
          "Leeds-United",
          "Leeds-United",
          "Leeds-United",
          "Leeds-United",
          "Leeds-United",
          "Leeds-United",
          "Leeds-United",
          "Leeds-United",
          "Leicester-City",
          "Leicester-City",
          "Leicester-City",
          "Leicester-City",
          "Leicester-City",
          "Leicester-City",
          "Leicester-City",
          "Leicester-City",
          "Leicester-City",
          "Leicester-City",
          "Leicester-City",
          "Leicester-City",
          "Liverpool",
          "Liverpool",
          "Liverpool",
          "Liverpool",
          "Liverpool",
          "Liverpool",
          "Liverpool",
          "Liverpool",
          "Liverpool",
          "Liverpool",
          "Liverpool",
          "Liverpool",
          "Manchester-City",
          "Manchester-City",
          "Manchester-City",
          "Manchester-City",
          "Manchester-City",
          "Manchester-City",
          "Manchester-City",
          "Manchester-City",
          "Manchester-United",
          "Manchester-United",
          "Manchester-United",
          "Manchester-United",
          "Manchester-United",
          "Manchester-United",
          "Manchester-United",
          "Manchester-United",
          "Manchester-United",
          "Manchester-United",
          "Newcastle-United",
          "Newcastle-United",
          "Newcastle-United",
          "Newcastle-United",
          "Newcastle-United",
          "Newcastle-United",
          "Newcastle-United",
          "Newcastle-United",
          "Newcastle-United",
          "Newcastle-United",
          "Newcastle-United",
          "Newcastle-United",
          "Sheffield-United",
          "Sheffield-United",
          "Sheffield-United",
          "Sheffield-United",
          "Sheffield-United",
          "Sheffield-United",
          "Sheffield-United",
          "Sheffield-United",
          "Sheffield-United",
          "Southampton",
          "Southampton",
          "Southampton",
          "Southampton",
          "Southampton",
          "Southampton",
          "Southampton",
          "Southampton",
          "Tottenham-Hotspur",
          "Tottenham-Hotspur",
          "Tottenham-Hotspur",
          "Tottenham-Hotspur",
          "Tottenham-Hotspur",
          "Tottenham-Hotspur",
          "Tottenham-Hotspur",
          "Tottenham-Hotspur",
          "Tottenham-Hotspur",
          "Tottenham-Hotspur",
          "Tottenham-Hotspur",
          "West-Bromwich-Albion",
          "West-Bromwich-Albion",
          "West-Bromwich-Albion",
          "West-Bromwich-Albion",
          "West-Bromwich-Albion",
          "West-Bromwich-Albion",
          "West-Bromwich-Albion",
          "West-Bromwich-Albion",
          "West-Bromwich-Albion",
          "West-Ham-United",
          "West-Ham-United",
          "West-Ham-United",
          "West-Ham-United",
          "West-Ham-United",
          "West-Ham-United",
          "West-Ham-United",
          "West-Ham-United",
          "West-Ham-United",
          "Wolverhampton-Wanderers",
          "Wolverhampton-Wanderers",
          "Wolverhampton-Wanderers",
          "Wolverhampton-Wanderers",
          "Wolverhampton-Wanderers",
          "Wolverhampton-Wanderers",
          "Wolverhampton-Wanderers"
         ],
         "xaxis": "x",
         "y": [
          184,
          63,
          54,
          47,
          33,
          57,
          2,
          132,
          28,
          26,
          37,
          29,
          13,
          71,
          29,
          28,
          35,
          34,
          10,
          0,
          99,
          52,
          9,
          93,
          198,
          92,
          100,
          21,
          0,
          0,
          0,
          0,
          264,
          96,
          11,
          61,
          142,
          222,
          0,
          0,
          70,
          166,
          202,
          78,
          64,
          39,
          25,
          6,
          2,
          121,
          46,
          197,
          211,
          148,
          282,
          258,
          29,
          2,
          0,
          185,
          284,
          48,
          2,
          106,
          8,
          2,
          2,
          131,
          46,
          32,
          41,
          9,
          12,
          43,
          15,
          24,
          47,
          19,
          0,
          35,
          2,
          58,
          2,
          2,
          1,
          2,
          0,
          0,
          132,
          52,
          69,
          258,
          57,
          37,
          42,
          14,
          122,
          29,
          19,
          44,
          58,
          181,
          539,
          45,
          342,
          196,
          8,
          7,
          31,
          4,
          115,
          1,
          102,
          36,
          156,
          105,
          225,
          42,
          1,
          0,
          112,
          262,
          133,
          45,
          46,
          15,
          34,
          208,
          59,
          1,
          34,
          215,
          128,
          82,
          48,
          80,
          33,
          9,
          124,
          121,
          5,
          0,
          32,
          36,
          39,
          14,
          16,
          167,
          0,
          16,
          0,
          20,
          183,
          233,
          60,
          70,
          208,
          11,
          2,
          96,
          155,
          176,
          235,
          41,
          157,
          23,
          7,
          111,
          0,
          29,
          180,
          110,
          15,
          2,
          2,
          20,
          2,
          19,
          0,
          63,
          122,
          160,
          383,
          38,
          182,
          101,
          3,
          0,
          75,
          11,
          54,
          78,
          59,
          1,
          0
         ],
         "yaxis": "y"
        },
        {
         "alignmentgroup": "True",
         "customdata": [
          [
           "Alexandre Lacazette"
          ],
          [
           "Pierre-Emerick Aubameyang"
          ],
          [
           "Nicolas Pépé"
          ],
          [
           "Reiss Nelson"
          ],
          [
           "Eddie Nketiah"
          ],
          [
           "Gabriel Martinelli"
          ],
          [
           "Willian"
          ],
          [
           "Wesley"
          ],
          [
           "Keinan Davis"
          ],
          [
           "Ollie Watkins"
          ],
          [
           "Leandro Trossard"
          ],
          [
           "Neal Maupay"
          ],
          [
           "Alireza Jahanbakhsh"
          ],
          [
           "José Izquierdo"
          ],
          [
           "Aaron Connolly"
          ],
          [
           "Florin Andone"
          ],
          [
           "Viktor Gyökeres"
          ],
          [
           "Chris Wood"
          ],
          [
           "Ashley Barnes"
          ],
          [
           "Jay Rodriguez"
          ],
          [
           "Matej Vydra"
          ],
          [
           "Timo Werner"
          ],
          [
           "Tammy Abraham"
          ],
          [
           "Olivier Giroud"
          ],
          [
           "Callum Hudson-Odoi"
          ],
          [
           "Jordan Ayew"
          ],
          [
           "Wilfried Zaha"
          ],
          [
           "Christian Benteke"
          ],
          [
           "Connor Wickham"
          ],
          [
           "Brandon Pierrick"
          ],
          [
           "Michy Batshuayi"
          ],
          [
           "Sandro Ramírez"
          ],
          [
           "Yannick Bolasie"
          ],
          [
           "Richarlison"
          ],
          [
           "Dominic Calvert-Lewin"
          ],
          [
           "Theo Walcott"
          ],
          [
           "Cenk Tosun"
          ],
          [
           "Alex Iwobi"
          ],
          [
           "Bernard"
          ],
          [
           "Moise Kean"
          ],
          [
           "Anthony Gordon"
          ],
          [
           "Aleksandar Mitrovic"
          ],
          [
           "Bobby De Cordova-Reid"
          ],
          [
           "Ivan Cavaleiro"
          ],
          [
           "Aboubakar Kamara"
          ],
          [
           "Ian Poveda-Ocampo"
          ],
          [
           "Patrick Bamford"
          ],
          [
           "Tyler Roberts"
          ],
          [
           "Joe Gelhardt"
          ],
          [
           "Rodrigo Moreno"
          ],
          [
           "Jamie Vardy"
          ],
          [
           "Islam Slimani"
          ],
          [
           "Kelechi Iheanacho"
          ],
          [
           "Ayoze Pérez"
          ],
          [
           "Fousseni Diabaté"
          ],
          [
           "Roberto Firmino"
          ],
          [
           "Sadio Mané"
          ],
          [
           "Mohamed Salah"
          ],
          [
           "Takumi Minamino"
          ],
          [
           "Rhian Brewster"
          ],
          [
           "Divock Origi"
          ],
          [
           "Ben Woodburn"
          ],
          [
           "Diogo Jota"
          ],
          [
           "Ferran Torres"
          ],
          [
           "Raheem Sterling"
          ],
          [
           "Gabriel Jesus"
          ],
          [
           "Sergio Agüero"
          ],
          [
           "Riyad Mahrez"
          ],
          [
           "Liam Delap"
          ],
          [
           "Anthony Martial"
          ],
          [
           "Marcus Rashford"
          ],
          [
           "Odion Ighalo"
          ],
          [
           "Mason Greenwood"
          ],
          [
           "Andy Carroll"
          ],
          [
           "Joelinton"
          ],
          [
           "Allan Saint-Maximin"
          ],
          [
           "Dwight Gayle"
          ],
          [
           "Callum Wilson"
          ],
          [
           "Oliver McBurnie"
          ],
          [
           "Billy Sharp"
          ],
          [
           "David McGoldrick"
          ],
          [
           "Lys Mousset"
          ],
          [
           "Shane Long"
          ],
          [
           "Danny Ings"
          ],
          [
           "Che Adams"
          ],
          [
           "Michael Obafemi"
          ],
          [
           "Lucas Moura"
          ],
          [
           "Jack Clarke"
          ],
          [
           "Son Heung-Min"
          ],
          [
           "Harry Kane"
          ],
          [
           "Steven Bergwijn"
          ],
          [
           "Gareth Bale"
          ],
          [
           "Hal Robson-Kanu"
          ],
          [
           "Kenneth Zohore"
          ],
          [
           "Matheus Pereira"
          ],
          [
           "Charlie Austin"
          ],
          [
           "Callum Robinson"
          ],
          [
           "Jamie Soule"
          ],
          [
           "Michail Antonio"
          ],
          [
           "Andriy Yarmolenko"
          ],
          [
           "Jarrod Bowen"
          ],
          [
           "Sébastien Haller"
          ],
          [
           "Xande Silva"
          ],
          [
           "Emmanuel Longelo"
          ],
          [
           "Pedro Neto"
          ],
          [
           "Raúl Jiménez"
          ],
          [
           "Adama Traoré"
          ],
          [
           "Fábio Silva"
          ],
          [
           "Leonardo Campana"
          ]
         ],
         "hovertemplate": "Position=Forward<br>Club=%{x}<br>Appearances=%{y}<br>Name=%{customdata[0]}<extra></extra>",
         "legendgroup": "Forward",
         "marker": {
          "color": "#ab63fa"
         },
         "name": "Forward",
         "offsetgroup": "Forward",
         "orientation": "v",
         "showlegend": true,
         "textposition": "auto",
         "type": "bar",
         "x": [
          "Arsenal",
          "Arsenal",
          "Arsenal",
          "Arsenal",
          "Arsenal",
          "Arsenal",
          "Arsenal",
          "Aston-Villa",
          "Aston-Villa",
          "Aston-Villa",
          "Brighton-and-Hove-Albion",
          "Brighton-and-Hove-Albion",
          "Brighton-and-Hove-Albion",
          "Brighton-and-Hove-Albion",
          "Brighton-and-Hove-Albion",
          "Brighton-and-Hove-Albion",
          "Brighton-and-Hove-Albion",
          "Burnley",
          "Burnley",
          "Burnley",
          "Burnley",
          "Chelsea",
          "Chelsea",
          "Chelsea",
          "Chelsea",
          "Crystal-Palace",
          "Crystal-Palace",
          "Crystal-Palace",
          "Crystal-Palace",
          "Crystal-Palace",
          "Crystal-Palace",
          "Everton",
          "Everton",
          "Everton",
          "Everton",
          "Everton",
          "Everton",
          "Everton",
          "Everton",
          "Everton",
          "Everton",
          "Fulham",
          "Fulham",
          "Fulham",
          "Fulham",
          "Leeds-United",
          "Leeds-United",
          "Leeds-United",
          "Leeds-United",
          "Leeds-United",
          "Leicester-City",
          "Leicester-City",
          "Leicester-City",
          "Leicester-City",
          "Leicester-City",
          "Liverpool",
          "Liverpool",
          "Liverpool",
          "Liverpool",
          "Liverpool",
          "Liverpool",
          "Liverpool",
          "Liverpool",
          "Manchester-City",
          "Manchester-City",
          "Manchester-City",
          "Manchester-City",
          "Manchester-City",
          "Manchester-City",
          "Manchester-United",
          "Manchester-United",
          "Manchester-United",
          "Manchester-United",
          "Newcastle-United",
          "Newcastle-United",
          "Newcastle-United",
          "Newcastle-United",
          "Newcastle-United",
          "Sheffield-United",
          "Sheffield-United",
          "Sheffield-United",
          "Sheffield-United",
          "Southampton",
          "Southampton",
          "Southampton",
          "Southampton",
          "Tottenham-Hotspur",
          "Tottenham-Hotspur",
          "Tottenham-Hotspur",
          "Tottenham-Hotspur",
          "Tottenham-Hotspur",
          "Tottenham-Hotspur",
          "West-Bromwich-Albion",
          "West-Bromwich-Albion",
          "West-Bromwich-Albion",
          "West-Bromwich-Albion",
          "West-Bromwich-Albion",
          "West-Bromwich-Albion",
          "West-Ham-United",
          "West-Ham-United",
          "West-Ham-United",
          "West-Ham-United",
          "West-Ham-United",
          "West-Ham-United",
          "Wolverhampton-Wanderers",
          "Wolverhampton-Wanderers",
          "Wolverhampton-Wanderers",
          "Wolverhampton-Wanderers",
          "Wolverhampton-Wanderers"
         ],
         "xaxis": "x",
         "y": [
          99,
          87,
          33,
          20,
          23,
          14,
          236,
          21,
          19,
          1,
          33,
          39,
          31,
          47,
          26,
          26,
          0,
          105,
          155,
          178,
          57,
          2,
          68,
          238,
          35,
          139,
          217,
          225,
          120,
          2,
          60,
          8,
          119,
          111,
          116,
          346,
          49,
          126,
          61,
          31,
          11,
          79,
          29,
          25,
          15,
          0,
          29,
          3,
          0,
          19,
          213,
          39,
          117,
          178,
          15,
          177,
          196,
          123,
          11,
          0,
          91,
          6,
          67,
          1,
          260,
          103,
          263,
          199,
          0,
          146,
          143,
          67,
          35,
          232,
          40,
          28,
          119,
          128,
          54,
          28,
          30,
          88,
          322,
          113,
          32,
          28,
          75,
          0,
          162,
          212,
          16,
          146,
          76,
          19,
          2,
          106,
          22,
          0,
          135,
          34,
          22,
          34,
          1,
          0,
          31,
          78,
          105,
          1,
          0
         ],
         "yaxis": "y"
        }
       ],
       "layout": {
        "barmode": "relative",
        "height": 600,
        "legend": {
         "title": {
          "text": "Position"
         },
         "tracegroupgap": 0
        },
        "template": {
         "data": {
          "bar": [
           {
            "error_x": {
             "color": "#2a3f5f"
            },
            "error_y": {
             "color": "#2a3f5f"
            },
            "marker": {
             "line": {
              "color": "#E5ECF6",
              "width": 0.5
             }
            },
            "type": "bar"
           }
          ],
          "barpolar": [
           {
            "marker": {
             "line": {
              "color": "#E5ECF6",
              "width": 0.5
             }
            },
            "type": "barpolar"
           }
          ],
          "carpet": [
           {
            "aaxis": {
             "endlinecolor": "#2a3f5f",
             "gridcolor": "white",
             "linecolor": "white",
             "minorgridcolor": "white",
             "startlinecolor": "#2a3f5f"
            },
            "baxis": {
             "endlinecolor": "#2a3f5f",
             "gridcolor": "white",
             "linecolor": "white",
             "minorgridcolor": "white",
             "startlinecolor": "#2a3f5f"
            },
            "type": "carpet"
           }
          ],
          "choropleth": [
           {
            "colorbar": {
             "outlinewidth": 0,
             "ticks": ""
            },
            "type": "choropleth"
           }
          ],
          "contour": [
           {
            "colorbar": {
             "outlinewidth": 0,
             "ticks": ""
            },
            "colorscale": [
             [
              0,
              "#0d0887"
             ],
             [
              0.1111111111111111,
              "#46039f"
             ],
             [
              0.2222222222222222,
              "#7201a8"
             ],
             [
              0.3333333333333333,
              "#9c179e"
             ],
             [
              0.4444444444444444,
              "#bd3786"
             ],
             [
              0.5555555555555556,
              "#d8576b"
             ],
             [
              0.6666666666666666,
              "#ed7953"
             ],
             [
              0.7777777777777778,
              "#fb9f3a"
             ],
             [
              0.8888888888888888,
              "#fdca26"
             ],
             [
              1,
              "#f0f921"
             ]
            ],
            "type": "contour"
           }
          ],
          "contourcarpet": [
           {
            "colorbar": {
             "outlinewidth": 0,
             "ticks": ""
            },
            "type": "contourcarpet"
           }
          ],
          "heatmap": [
           {
            "colorbar": {
             "outlinewidth": 0,
             "ticks": ""
            },
            "colorscale": [
             [
              0,
              "#0d0887"
             ],
             [
              0.1111111111111111,
              "#46039f"
             ],
             [
              0.2222222222222222,
              "#7201a8"
             ],
             [
              0.3333333333333333,
              "#9c179e"
             ],
             [
              0.4444444444444444,
              "#bd3786"
             ],
             [
              0.5555555555555556,
              "#d8576b"
             ],
             [
              0.6666666666666666,
              "#ed7953"
             ],
             [
              0.7777777777777778,
              "#fb9f3a"
             ],
             [
              0.8888888888888888,
              "#fdca26"
             ],
             [
              1,
              "#f0f921"
             ]
            ],
            "type": "heatmap"
           }
          ],
          "heatmapgl": [
           {
            "colorbar": {
             "outlinewidth": 0,
             "ticks": ""
            },
            "colorscale": [
             [
              0,
              "#0d0887"
             ],
             [
              0.1111111111111111,
              "#46039f"
             ],
             [
              0.2222222222222222,
              "#7201a8"
             ],
             [
              0.3333333333333333,
              "#9c179e"
             ],
             [
              0.4444444444444444,
              "#bd3786"
             ],
             [
              0.5555555555555556,
              "#d8576b"
             ],
             [
              0.6666666666666666,
              "#ed7953"
             ],
             [
              0.7777777777777778,
              "#fb9f3a"
             ],
             [
              0.8888888888888888,
              "#fdca26"
             ],
             [
              1,
              "#f0f921"
             ]
            ],
            "type": "heatmapgl"
           }
          ],
          "histogram": [
           {
            "marker": {
             "colorbar": {
              "outlinewidth": 0,
              "ticks": ""
             }
            },
            "type": "histogram"
           }
          ],
          "histogram2d": [
           {
            "colorbar": {
             "outlinewidth": 0,
             "ticks": ""
            },
            "colorscale": [
             [
              0,
              "#0d0887"
             ],
             [
              0.1111111111111111,
              "#46039f"
             ],
             [
              0.2222222222222222,
              "#7201a8"
             ],
             [
              0.3333333333333333,
              "#9c179e"
             ],
             [
              0.4444444444444444,
              "#bd3786"
             ],
             [
              0.5555555555555556,
              "#d8576b"
             ],
             [
              0.6666666666666666,
              "#ed7953"
             ],
             [
              0.7777777777777778,
              "#fb9f3a"
             ],
             [
              0.8888888888888888,
              "#fdca26"
             ],
             [
              1,
              "#f0f921"
             ]
            ],
            "type": "histogram2d"
           }
          ],
          "histogram2dcontour": [
           {
            "colorbar": {
             "outlinewidth": 0,
             "ticks": ""
            },
            "colorscale": [
             [
              0,
              "#0d0887"
             ],
             [
              0.1111111111111111,
              "#46039f"
             ],
             [
              0.2222222222222222,
              "#7201a8"
             ],
             [
              0.3333333333333333,
              "#9c179e"
             ],
             [
              0.4444444444444444,
              "#bd3786"
             ],
             [
              0.5555555555555556,
              "#d8576b"
             ],
             [
              0.6666666666666666,
              "#ed7953"
             ],
             [
              0.7777777777777778,
              "#fb9f3a"
             ],
             [
              0.8888888888888888,
              "#fdca26"
             ],
             [
              1,
              "#f0f921"
             ]
            ],
            "type": "histogram2dcontour"
           }
          ],
          "mesh3d": [
           {
            "colorbar": {
             "outlinewidth": 0,
             "ticks": ""
            },
            "type": "mesh3d"
           }
          ],
          "parcoords": [
           {
            "line": {
             "colorbar": {
              "outlinewidth": 0,
              "ticks": ""
             }
            },
            "type": "parcoords"
           }
          ],
          "pie": [
           {
            "automargin": true,
            "type": "pie"
           }
          ],
          "scatter": [
           {
            "marker": {
             "colorbar": {
              "outlinewidth": 0,
              "ticks": ""
             }
            },
            "type": "scatter"
           }
          ],
          "scatter3d": [
           {
            "line": {
             "colorbar": {
              "outlinewidth": 0,
              "ticks": ""
             }
            },
            "marker": {
             "colorbar": {
              "outlinewidth": 0,
              "ticks": ""
             }
            },
            "type": "scatter3d"
           }
          ],
          "scattercarpet": [
           {
            "marker": {
             "colorbar": {
              "outlinewidth": 0,
              "ticks": ""
             }
            },
            "type": "scattercarpet"
           }
          ],
          "scattergeo": [
           {
            "marker": {
             "colorbar": {
              "outlinewidth": 0,
              "ticks": ""
             }
            },
            "type": "scattergeo"
           }
          ],
          "scattergl": [
           {
            "marker": {
             "colorbar": {
              "outlinewidth": 0,
              "ticks": ""
             }
            },
            "type": "scattergl"
           }
          ],
          "scattermapbox": [
           {
            "marker": {
             "colorbar": {
              "outlinewidth": 0,
              "ticks": ""
             }
            },
            "type": "scattermapbox"
           }
          ],
          "scatterpolar": [
           {
            "marker": {
             "colorbar": {
              "outlinewidth": 0,
              "ticks": ""
             }
            },
            "type": "scatterpolar"
           }
          ],
          "scatterpolargl": [
           {
            "marker": {
             "colorbar": {
              "outlinewidth": 0,
              "ticks": ""
             }
            },
            "type": "scatterpolargl"
           }
          ],
          "scatterternary": [
           {
            "marker": {
             "colorbar": {
              "outlinewidth": 0,
              "ticks": ""
             }
            },
            "type": "scatterternary"
           }
          ],
          "surface": [
           {
            "colorbar": {
             "outlinewidth": 0,
             "ticks": ""
            },
            "colorscale": [
             [
              0,
              "#0d0887"
             ],
             [
              0.1111111111111111,
              "#46039f"
             ],
             [
              0.2222222222222222,
              "#7201a8"
             ],
             [
              0.3333333333333333,
              "#9c179e"
             ],
             [
              0.4444444444444444,
              "#bd3786"
             ],
             [
              0.5555555555555556,
              "#d8576b"
             ],
             [
              0.6666666666666666,
              "#ed7953"
             ],
             [
              0.7777777777777778,
              "#fb9f3a"
             ],
             [
              0.8888888888888888,
              "#fdca26"
             ],
             [
              1,
              "#f0f921"
             ]
            ],
            "type": "surface"
           }
          ],
          "table": [
           {
            "cells": {
             "fill": {
              "color": "#EBF0F8"
             },
             "line": {
              "color": "white"
             }
            },
            "header": {
             "fill": {
              "color": "#C8D4E3"
             },
             "line": {
              "color": "white"
             }
            },
            "type": "table"
           }
          ]
         },
         "layout": {
          "annotationdefaults": {
           "arrowcolor": "#2a3f5f",
           "arrowhead": 0,
           "arrowwidth": 1
          },
          "autotypenumbers": "strict",
          "coloraxis": {
           "colorbar": {
            "outlinewidth": 0,
            "ticks": ""
           }
          },
          "colorscale": {
           "diverging": [
            [
             0,
             "#8e0152"
            ],
            [
             0.1,
             "#c51b7d"
            ],
            [
             0.2,
             "#de77ae"
            ],
            [
             0.3,
             "#f1b6da"
            ],
            [
             0.4,
             "#fde0ef"
            ],
            [
             0.5,
             "#f7f7f7"
            ],
            [
             0.6,
             "#e6f5d0"
            ],
            [
             0.7,
             "#b8e186"
            ],
            [
             0.8,
             "#7fbc41"
            ],
            [
             0.9,
             "#4d9221"
            ],
            [
             1,
             "#276419"
            ]
           ],
           "sequential": [
            [
             0,
             "#0d0887"
            ],
            [
             0.1111111111111111,
             "#46039f"
            ],
            [
             0.2222222222222222,
             "#7201a8"
            ],
            [
             0.3333333333333333,
             "#9c179e"
            ],
            [
             0.4444444444444444,
             "#bd3786"
            ],
            [
             0.5555555555555556,
             "#d8576b"
            ],
            [
             0.6666666666666666,
             "#ed7953"
            ],
            [
             0.7777777777777778,
             "#fb9f3a"
            ],
            [
             0.8888888888888888,
             "#fdca26"
            ],
            [
             1,
             "#f0f921"
            ]
           ],
           "sequentialminus": [
            [
             0,
             "#0d0887"
            ],
            [
             0.1111111111111111,
             "#46039f"
            ],
            [
             0.2222222222222222,
             "#7201a8"
            ],
            [
             0.3333333333333333,
             "#9c179e"
            ],
            [
             0.4444444444444444,
             "#bd3786"
            ],
            [
             0.5555555555555556,
             "#d8576b"
            ],
            [
             0.6666666666666666,
             "#ed7953"
            ],
            [
             0.7777777777777778,
             "#fb9f3a"
            ],
            [
             0.8888888888888888,
             "#fdca26"
            ],
            [
             1,
             "#f0f921"
            ]
           ]
          },
          "colorway": [
           "#636efa",
           "#EF553B",
           "#00cc96",
           "#ab63fa",
           "#FFA15A",
           "#19d3f3",
           "#FF6692",
           "#B6E880",
           "#FF97FF",
           "#FECB52"
          ],
          "font": {
           "color": "#2a3f5f"
          },
          "geo": {
           "bgcolor": "white",
           "lakecolor": "white",
           "landcolor": "#E5ECF6",
           "showlakes": true,
           "showland": true,
           "subunitcolor": "white"
          },
          "hoverlabel": {
           "align": "left"
          },
          "hovermode": "closest",
          "mapbox": {
           "style": "light"
          },
          "paper_bgcolor": "white",
          "plot_bgcolor": "#E5ECF6",
          "polar": {
           "angularaxis": {
            "gridcolor": "white",
            "linecolor": "white",
            "ticks": ""
           },
           "bgcolor": "#E5ECF6",
           "radialaxis": {
            "gridcolor": "white",
            "linecolor": "white",
            "ticks": ""
           }
          },
          "scene": {
           "xaxis": {
            "backgroundcolor": "#E5ECF6",
            "gridcolor": "white",
            "gridwidth": 2,
            "linecolor": "white",
            "showbackground": true,
            "ticks": "",
            "zerolinecolor": "white"
           },
           "yaxis": {
            "backgroundcolor": "#E5ECF6",
            "gridcolor": "white",
            "gridwidth": 2,
            "linecolor": "white",
            "showbackground": true,
            "ticks": "",
            "zerolinecolor": "white"
           },
           "zaxis": {
            "backgroundcolor": "#E5ECF6",
            "gridcolor": "white",
            "gridwidth": 2,
            "linecolor": "white",
            "showbackground": true,
            "ticks": "",
            "zerolinecolor": "white"
           }
          },
          "shapedefaults": {
           "line": {
            "color": "#2a3f5f"
           }
          },
          "ternary": {
           "aaxis": {
            "gridcolor": "white",
            "linecolor": "white",
            "ticks": ""
           },
           "baxis": {
            "gridcolor": "white",
            "linecolor": "white",
            "ticks": ""
           },
           "bgcolor": "#E5ECF6",
           "caxis": {
            "gridcolor": "white",
            "linecolor": "white",
            "ticks": ""
           }
          },
          "title": {
           "x": 0.05
          },
          "xaxis": {
           "automargin": true,
           "gridcolor": "white",
           "linecolor": "white",
           "ticks": "",
           "title": {
            "standoff": 15
           },
           "zerolinecolor": "white",
           "zerolinewidth": 2
          },
          "yaxis": {
           "automargin": true,
           "gridcolor": "white",
           "linecolor": "white",
           "ticks": "",
           "title": {
            "standoff": 15
           },
           "zerolinecolor": "white",
           "zerolinewidth": 2
          }
         }
        },
        "title": {
         "text": "Apearance by club"
        },
        "xaxis": {
         "anchor": "y",
         "domain": [
          0,
          1
         ],
         "title": {
          "text": "Club"
         }
        },
        "yaxis": {
         "anchor": "x",
         "domain": [
          0,
          1
         ],
         "title": {
          "text": "Appearances"
         }
        }
       }
      },
      "text/html": [
       "<div>                            <div id=\"35698eb4-3507-44a5-b9c4-5fc26a867257\" class=\"plotly-graph-div\" style=\"height:600px; width:100%;\"></div>            <script type=\"text/javascript\">                require([\"plotly\"], function(Plotly) {                    window.PLOTLYENV=window.PLOTLYENV || {};                                    if (document.getElementById(\"35698eb4-3507-44a5-b9c4-5fc26a867257\")) {                    Plotly.newPlot(                        \"35698eb4-3507-44a5-b9c4-5fc26a867257\",                        [{\"alignmentgroup\": \"True\", \"customdata\": [[\"Bernd Leno\"], [\"Matt Macey\"], [\"R\\u00fanar Alex R\\u00fanarsson\"], [\"Tom Heaton\"], [\"Jed Steer\"], [\"\\u00d8rjan Nyland\"], [\"Lovre Kalinic\"], [\"Emiliano Mart\\u00ednez\"], [\"Mat Ryan\"], [\"Jason Steele\"], [\"Christian Walton\"], [\"Robert S\\u00e1nchez\"], [\"Nick Pope\"], [\"Bailey Peacock-Farrell\"], [\"Will Norris\"], [\"Kepa Arrizabalaga\"], [\"Willy Caballero\"], [\"Wayne Hennessey\"], [\"Vicente Guaita\"], [\"Stephen Henderson\"], [\"Jordan Pickford\"], [\"Jo\\u00e3o Virg\\u00ednia\"], [\"Jonas L\\u00f6ssl\"], [\"Marek Rod\\u00e1k\"], [\"Fabri\"], [\"Alphonse Areola\"], [\"Kiko Casilla\"], [\"Elia Caprile\"], [\"Kasper Schmeichel\"], [\"Danny Ward\"], [\"Eldin Jakupovic\"], [\"Loris Karius\"], [\"Alisson\"], [\"Adri\\u00e1n\"], [\"Caoimhin Kelleher\"], [\"Kamil Grabara\"], [\"Ederson\"], [\"Scott Carson\"], [\"David de Gea\"], [\"Sergio Romero\"], [\"Dean Henderson\"], [\"Mark Gillespie\"], [\"Martin Dubravka\"], [\"Karl Darlow\"], [\"Daniel Langley\"], [\"Wes Foderingham\"], [\"Michael Verrips\"], [\"Simon Moore\"], [\"Aaron Ramsdale\"], [\"Alex McCarthy\"], [\"Angus Gunn\"], [\"Fraser Forster\"], [\"Harry Lewis\"], [\"Hugo Lloris\"], [\"Paulo Gazzaniga\"], [\"Joe Hart\"], [\"Alfie Whiteman\"], [\"Brandon Austin\"], [\"Sam Johnstone\"], [\"David Button\"], [\"Jonathan Bond\"], [\"Lukasz Fabianski\"], [\"David Martin\"], [\"Darren Randolph\"], [\"Nathan Trott\"], [\"Rui Patr\\u00edcio\"], [\"John Ruddy\"]], \"hovertemplate\": \"Position=Goalkeeper<br>Club=%{x}<br>Appearances=%{y}<br>Name=%{customdata[0]}<extra></extra>\", \"legendgroup\": \"Goalkeeper\", \"marker\": {\"color\": \"#636efa\"}, \"name\": \"Goalkeeper\", \"offsetgroup\": \"Goalkeeper\", \"orientation\": \"v\", \"showlegend\": true, \"textposition\": \"auto\", \"type\": \"bar\", \"x\": [\"Arsenal\", \"Arsenal\", \"Arsenal\", \"Aston-Villa\", \"Aston-Villa\", \"Aston-Villa\", \"Aston-Villa\", \"Aston-Villa\", \"Brighton-and-Hove-Albion\", \"Brighton-and-Hove-Albion\", \"Brighton-and-Hove-Albion\", \"Brighton-and-Hove-Albion\", \"Burnley\", \"Burnley\", \"Burnley\", \"Chelsea\", \"Chelsea\", \"Crystal-Palace\", \"Crystal-Palace\", \"Crystal-Palace\", \"Everton\", \"Everton\", \"Everton\", \"Fulham\", \"Fulham\", \"Fulham\", \"Leeds-United\", \"Leeds-United\", \"Leicester-City\", \"Leicester-City\", \"Leicester-City\", \"Liverpool\", \"Liverpool\", \"Liverpool\", \"Liverpool\", \"Liverpool\", \"Manchester-City\", \"Manchester-City\", \"Manchester-United\", \"Manchester-United\", \"Manchester-United\", \"Newcastle-United\", \"Newcastle-United\", \"Newcastle-United\", \"Newcastle-United\", \"Sheffield-United\", \"Sheffield-United\", \"Sheffield-United\", \"Sheffield-United\", \"Southampton\", \"Southampton\", \"Southampton\", \"Southampton\", \"Tottenham-Hotspur\", \"Tottenham-Hotspur\", \"Tottenham-Hotspur\", \"Tottenham-Hotspur\", \"Tottenham-Hotspur\", \"West-Bromwich-Albion\", \"West-Bromwich-Albion\", \"West-Bromwich-Albion\", \"West-Ham-United\", \"West-Ham-United\", \"West-Ham-United\", \"West-Ham-United\", \"Wolverhampton-Wanderers\", \"Wolverhampton-Wanderers\"], \"xaxis\": \"x\", \"y\": [64, 0, 0, 116, 2, 7, 0, 16, 112, 0, 0, 0, 74, 0, 1, 71, 33, 181, 57, 0, 147, 0, 69, 1, 2, 1, 0, 0, 211, 2, 28, 29, 69, 136, 0, 0, 110, 145, 314, 7, 36, 0, 88, 21, 0, 0, 0, 2, 39, 96, 22, 107, 0, 262, 43, 340, 0, 0, 2, 4, 0, 246, 5, 31, 0, 77, 119], \"yaxis\": \"y\"}, {\"alignmentgroup\": \"True\", \"customdata\": [[\"H\\u00e9ctor Beller\\u00edn\"], [\"Kieran Tierney\"], [\"William Saliba\"], [\"Sokratis\"], [\"Rob Holding\"], [\"Shkodran Mustafi\"], [\"Calum Chambers\"], [\"David Luiz\"], [\"Sead Kolasinac\"], [\"Gabriel Magalh\\u00e3es\"], [\"Neil Taylor\"], [\"Ezri Konsa Ngoyo\"], [\"Matt Targett\"], [\"Bj\\u00f6rn Engels\"], [\"Fr\\u00e9d\\u00e9ric Guilbert\"], [\"Ahmed El Mohamady\"], [\"Kortney Hause\"], [\"Tyrone Mings\"], [\"Matthew Cash\"], [\"Ben White\"], [\"Tariq Lamptey\"], [\"Lewis Dunk\"], [\"Adam Webster\"], [\"Bernardo\"], [\"Dan Burn\"], [\"Jo\\u00ebl Veltman\"], [\"Romaric Yapi\"], [\"Alex Cochrane\"], [\"Haydon Roberts\"], [\"Matthew Lowton\"], [\"Charlie Taylor\"], [\"James Tarkowski\"], [\"Ben Mee\"], [\"Erik Pieters\"], [\"Phil Bardsley\"], [\"Kevin Long\"], [\"Jimmy Dunne\"], [\"Bobby Thomas\"], [\"Anthony Driscoll-Glennon\"], [\"Antonio R\\u00fcdiger\"], [\"Marcos Alonso\"], [\"Andreas Christensen\"], [\"Kurt Zouma\"], [\"Reece James\"], [\"C\\u00e9sar Azpilicueta\"], [\"Fikayo Tomori\"], [\"Emerson\"], [\"Ben Chilwell\"], [\"Thiago Silva\"], [\"Joel Ward\"], [\"Patrick van Aanholt\"], [\"James Tomkins\"], [\"Scott Dann\"], [\"Mamadou Sakho\"], [\"Gary Cahill\"], [\"Martin Kelly\"], [\"Tyrick Mitchell\"], [\"Jaroslaw Jach\"], [\"Sam Woods\"], [\"Ryan Inniss\"], [\"Mason Holgate\"], [\"Michael Keane\"], [\"Lucas Digne\"], [\"Yerry Mina\"], [\"S\\u00e9amus Coleman\"], [\"Jarrad Branthwaite\"], [\"Jonjoe Kenny\"], [\"Niels Nkounkou\"], [\"Michael Hector\"], [\"Denis Odoi\"], [\"Tim Ream\"], [\"Maxime Le Marchand\"], [\"Joe Bryan\"], [\"Antonee Robinson\"], [\"Kenny Tete\"], [\"Ola Aina\"], [\"Luke Ayling\"], [\"Barry Douglas\"], [\"Liam Cooper\"], [\"Pascal Struijk\"], [\"Leif Davis\"], [\"Robin Koch\"], [\"Oliver Casey\"], [\"Charlie Cresswell\"], [\"Robbie Gotts\"], [\"James Justin\"], [\"\\u00c7aglar S\\u00f6y\\u00fcnc\\u00fc\"], [\"Wes Morgan\"], [\"Jonny Evans\"], [\"Filip Benkovic\"], [\"Daniel Amartey\"], [\"Ricardo Pereira\"], [\"Christian Fuchs\"], [\"Luke Thomas\"], [\"Timothy Castagne\"], [\"Virgil van Dijk\"], [\"Joseph Gomez\"], [\"Andrew Robertson\"], [\"Joel Matip\"], [\"Trent Alexander-Arnold\"], [\"Neco Williams\"], [\"Konstantinos Tsimikas\"], [\"Nathaniel Phillips\"], [\"Sepp van den Berg\"], [\"Nathan Ak\\u00e9\"], [\"Kyle Walker\"], [\"John Stones\"], [\"Oleksandr Zinchenko\"], [\"Aymeric Laporte\"], [\"Benjamin Mendy\"], [\"Jo\\u00e3o Cancelo\"], [\"Nicol\\u00e1s Otamendi\"], [\"Eric Garc\\u00eda\"], [\"Victor Lindel\\u00f6f\"], [\"Eric Bailly\"], [\"Phil Jones\"], [\"Harry Maguire\"], [\"Chris Smalling\"], [\"Marcos Rojo\"], [\"Diogo Dalot\"], [\"Luke Shaw\"], [\"Timothy Fosu-Mensah\"], [\"Aaron Wan-Bissaka\"], [\"Axel Tuanzebe\"], [\"Brandon Williams\"], [\"Teden Mengi\"], [\"Ciaran Clark\"], [\"Paul Dummett\"], [\"Fabian Sch\\u00e4r\"], [\"Jamaal Lascelles\"], [\"Emil Krafth\"], [\"Federico Fern\\u00e1ndez\"], [\"Javier Manquillo\"], [\"DeAndre Yedlin\"], [\"Jamal Lewis\"], [\"George Baldock\"], [\"Enda Stevens\"], [\"Jack O'Connell\"], [\"Chris Basham\"], [\"John Egan\"], [\"Jack Robinson\"], [\"Kean Bryan\"], [\"Phil Jagielka\"], [\"Max Lowe\"], [\"Ethan Ampadu\"], [\"Jayden Bogle\"], [\"Jannik Vestergaard\"], [\"Jack Stephens\"], [\"Ryan Bertrand\"], [\"Jake Vokins\"], [\"Jan Bednarek\"], [\"Yan Valery\"], [\"Kyle Walker-Peters\"], [\"Mohammed Salisu\"], [\"Toby Alderweireld\"], [\"Davinson S\\u00e1nchez\"], [\"Juan Foyth\"], [\"Serge Aurier\"], [\"Ben Davies\"], [\"Japhet Tanganga\"], [\"Matt Doherty\"], [\"Dennis Cirkin\"], [\"Sergio Reguil\\u00f3n\"], [\"Darnell Furlong\"], [\"Kieran Gibbs\"], [\"Kyle Bartley\"], [\"Semi Ajayi\"], [\"Conor Townsend\"], [\"Ahmed Hegazi\"], [\"Dara O'Shea\"], [\"C\\u00e9dric Kipr\\u00e9\"], [\"Lee Peltier\"], [\"Branislav Ivanovic\"], [\"Aaron Cresswell\"], [\"Fabi\\u00e1n Balbuena\"], [\"Gon\\u00e7alo Cardoso\"], [\"Angelo Ogbonna\"], [\"Issa Diop\"], [\"Ryan Fredericks\"], [\"Arthur Masuaku\"], [\"Ben Johnson\"], [\"Ajibola Alese\"], [\"Harrison Ashby\"], [\"Willy Boly\"], [\"Conor Coady\"], [\"Jonny\"], [\"R\\u00faben Vinagre\"], [\"Maximilian Kilman\"], [\"Oskar Buur\"], [\"Mar\\u00e7al\"], [\"Ki-Jana Hoever\"]], \"hovertemplate\": \"Position=Defender<br>Club=%{x}<br>Appearances=%{y}<br>Name=%{customdata[0]}<extra></extra>\", \"legendgroup\": \"Defender\", \"marker\": {\"color\": \"#EF553B\"}, \"name\": \"Defender\", \"offsetgroup\": \"Defender\", \"orientation\": \"v\", \"showlegend\": true, \"textposition\": \"auto\", \"type\": \"bar\", \"x\": [\"Arsenal\", \"Arsenal\", \"Arsenal\", \"Arsenal\", \"Arsenal\", \"Arsenal\", \"Arsenal\", \"Arsenal\", \"Arsenal\", \"Arsenal\", \"Aston-Villa\", \"Aston-Villa\", \"Aston-Villa\", \"Aston-Villa\", \"Aston-Villa\", \"Aston-Villa\", \"Aston-Villa\", \"Aston-Villa\", \"Aston-Villa\", \"Brighton-and-Hove-Albion\", \"Brighton-and-Hove-Albion\", \"Brighton-and-Hove-Albion\", \"Brighton-and-Hove-Albion\", \"Brighton-and-Hove-Albion\", \"Brighton-and-Hove-Albion\", \"Brighton-and-Hove-Albion\", \"Brighton-and-Hove-Albion\", \"Brighton-and-Hove-Albion\", \"Brighton-and-Hove-Albion\", \"Burnley\", \"Burnley\", \"Burnley\", \"Burnley\", \"Burnley\", \"Burnley\", \"Burnley\", \"Burnley\", \"Burnley\", \"Burnley\", \"Chelsea\", \"Chelsea\", \"Chelsea\", \"Chelsea\", \"Chelsea\", \"Chelsea\", \"Chelsea\", \"Chelsea\", \"Chelsea\", \"Chelsea\", \"Crystal-Palace\", \"Crystal-Palace\", \"Crystal-Palace\", \"Crystal-Palace\", \"Crystal-Palace\", \"Crystal-Palace\", \"Crystal-Palace\", \"Crystal-Palace\", \"Crystal-Palace\", \"Crystal-Palace\", \"Crystal-Palace\", \"Everton\", \"Everton\", \"Everton\", \"Everton\", \"Everton\", \"Everton\", \"Everton\", \"Everton\", \"Fulham\", \"Fulham\", \"Fulham\", \"Fulham\", \"Fulham\", \"Fulham\", \"Fulham\", \"Fulham\", \"Leeds-United\", \"Leeds-United\", \"Leeds-United\", \"Leeds-United\", \"Leeds-United\", \"Leeds-United\", \"Leeds-United\", \"Leeds-United\", \"Leeds-United\", \"Leicester-City\", \"Leicester-City\", \"Leicester-City\", \"Leicester-City\", \"Leicester-City\", \"Leicester-City\", \"Leicester-City\", \"Leicester-City\", \"Leicester-City\", \"Leicester-City\", \"Liverpool\", \"Liverpool\", \"Liverpool\", \"Liverpool\", \"Liverpool\", \"Liverpool\", \"Liverpool\", \"Liverpool\", \"Liverpool\", \"Manchester-City\", \"Manchester-City\", \"Manchester-City\", \"Manchester-City\", \"Manchester-City\", \"Manchester-City\", \"Manchester-City\", \"Manchester-City\", \"Manchester-City\", \"Manchester-United\", \"Manchester-United\", \"Manchester-United\", \"Manchester-United\", \"Manchester-United\", \"Manchester-United\", \"Manchester-United\", \"Manchester-United\", \"Manchester-United\", \"Manchester-United\", \"Manchester-United\", \"Manchester-United\", \"Manchester-United\", \"Newcastle-United\", \"Newcastle-United\", \"Newcastle-United\", \"Newcastle-United\", \"Newcastle-United\", \"Newcastle-United\", \"Newcastle-United\", \"Newcastle-United\", \"Newcastle-United\", \"Sheffield-United\", \"Sheffield-United\", \"Sheffield-United\", \"Sheffield-United\", \"Sheffield-United\", \"Sheffield-United\", \"Sheffield-United\", \"Sheffield-United\", \"Sheffield-United\", \"Sheffield-United\", \"Sheffield-United\", \"Southampton\", \"Southampton\", \"Southampton\", \"Southampton\", \"Southampton\", \"Southampton\", \"Southampton\", \"Southampton\", \"Tottenham-Hotspur\", \"Tottenham-Hotspur\", \"Tottenham-Hotspur\", \"Tottenham-Hotspur\", \"Tottenham-Hotspur\", \"Tottenham-Hotspur\", \"Tottenham-Hotspur\", \"Tottenham-Hotspur\", \"Tottenham-Hotspur\", \"West-Bromwich-Albion\", \"West-Bromwich-Albion\", \"West-Bromwich-Albion\", \"West-Bromwich-Albion\", \"West-Bromwich-Albion\", \"West-Bromwich-Albion\", \"West-Bromwich-Albion\", \"West-Bromwich-Albion\", \"West-Bromwich-Albion\", \"West-Bromwich-Albion\", \"West-Ham-United\", \"West-Ham-United\", \"West-Ham-United\", \"West-Ham-United\", \"West-Ham-United\", \"West-Ham-United\", \"West-Ham-United\", \"West-Ham-United\", \"West-Ham-United\", \"West-Ham-United\", \"Wolverhampton-Wanderers\", \"Wolverhampton-Wanderers\", \"Wolverhampton-Wanderers\", \"Wolverhampton-Wanderers\", \"Wolverhampton-Wanderers\", \"Wolverhampton-Wanderers\", \"Wolverhampton-Wanderers\", \"Wolverhampton-Wanderers\"], \"xaxis\": \"x\", \"y\": [160, 16, 0, 44, 41, 99, 139, 194, 78, 2, 145, 26, 72, 17, 25, 183, 18, 51, 1, 2, 11, 112, 33, 36, 44, 0, 0, 0, 0, 172, 74, 123, 166, 194, 300, 35, 1, 0, 0, 80, 140, 59, 143, 26, 272, 17, 30, 99, 0, 201, 191, 263, 227, 125, 374, 153, 6, 0, 0, 0, 65, 153, 72, 44, 276, 4, 31, 0, 2, 33, 40, 26, 30, 0, 1, 3, 2, 0, 3, 1, 0, 2, 0, 0, 0, 15, 42, 168, 297, 0, 46, 63, 107, 3, 2, 159, 73, 153, 86, 95, 6, 0, 0, 0, 147, 293, 163, 41, 59, 37, 17, 136, 13, 83, 54, 200, 140, 219, 76, 20, 157, 49, 77, 10, 17, 0, 179, 128, 46, 109, 17, 170, 92, 103, 30, 40, 47, 35, 61, 38, 9, 0, 366, 0, 2, 0, 43, 93, 231, 1, 66, 34, 24, 0, 176, 84, 16, 58, 201, 6, 77, 0, 0, 5, 172, 23, 2, 0, 38, 2, 0, 20, 261, 190, 40, 0, 137, 67, 44, 81, 4, 0, 0, 60, 79, 68, 34, 4, 1, 2, 0], \"yaxis\": \"y\"}, {\"alignmentgroup\": \"True\", \"customdata\": [[\"Mesut \\u00d6zil\"], [\"Lucas Torreira\"], [\"Ainsley Maitland-Niles\"], [\"Mohamed Elneny\"], [\"Joseph Willock\"], [\"Matteo Guendouzi\"], [\"Emile Smith Rowe\"], [\"Granit Xhaka\"], [\"Bukayo Saka\"], [\"Dani Ceballos\"], [\"Douglas Luiz\"], [\"John McGinn\"], [\"Henri Lansbury\"], [\"Jack Grealish\"], [\"Marvelous Nakamba\"], [\"Conor Hourihane\"], [\"Tr\\u00e9z\\u00e9guet\"], [\"Anwar El Ghazi\"], [\"Jota\"], [\"Jacob Ramsey\"], [\"Dale Stephens\"], [\"Yves Bissouma\"], [\"Alexis Mac Allister\"], [\"Pascal Gro\\u00df\"], [\"Adam Lallana\"], [\"Solly March\"], [\"Davy Pr\\u00f6pper\"], [\"Steven Alzate\"], [\"Max Sanders\"], [\"Jayson Molumby\"], [\"Lars Dendoncker\"], [\"Peter Gwargis\"], [\"Jack Cork\"], [\"J\\u00f3hann Gudmundsson\"], [\"Josh Brownhill\"], [\"Dwight McNeil\"], [\"Robbie Brady\"], [\"Ashley Westwood\"], [\"Josh Benson\"], [\"Hakim Ziyech\"], [\"Jorginho\"], [\"N'Golo Kant\\u00e9\"], [\"Ross Barkley\"], [\"Ruben Loftus-Cheek\"], [\"Mateo Kovacic\"], [\"Mason Mount\"], [\"Christian Pulisic\"], [\"Billy Gilmour\"], [\"Kai Havertz\"], [\"Luka Milivojevic\"], [\"Max Meyer\"], [\"Cheikhou Kouyat\\u00e9\"], [\"Andros Townsend\"], [\"Jeffrey Schlupp\"], [\"James McArthur\"], [\"James McCarthy\"], [\"Jairo Riedewald\"], [\"Eberechi Eze\"], [\"Nya Kirby\"], [\"Fabian Delph\"], [\"Gylfi Sigurdsson\"], [\"Andr\\u00e9 Gomes\"], [\"Jean-Philippe Gbamin\"], [\"Tom Davies\"], [\"Beni Baningime\"], [\"Allan\"], [\"James Rodr\\u00edguez\"], [\"Abdoulaye Doucour\\u00e9\"], [\"Muhamed Besic\"], [\"Jean Michael Seri\"], [\"Kevin McDonald\"], [\"Neeskens Kebano\"], [\"Stefan Johansen\"], [\"Tom Cairney\"], [\"Josh Onomah\"], [\"Andr\\u00e9-Frank Zambo Anguissa\"], [\"Mario Lemina\"], [\"Harrison Reed\"], [\"Tyrese Francois\"], [\"Adam Forshaw\"], [\"Stuart Dallas\"], [\"Pablo Hern\\u00e1ndez\"], [\"Kalvin Phillips\"], [\"Mateusz Klich\"], [\"Jamie Shackleton\"], [\"Jack Harrison\"], [\"Alfie McCalmont\"], [\"Mateusz Bogusz\"], [\"Demarai Gray\"], [\"Youri Tielemans\"], [\"James Maddison\"], [\"Marc Albrighton\"], [\"Harvey Barnes\"], [\"Hamza Choudhury\"], [\"Matty James\"], [\"Adrien Silva\"], [\"Wilfred Ndidi\"], [\"Dennis Praet\"], [\"Rachid Ghezzal\"], [\"Nampalys Mendy\"], [\"Fabinho\"], [\"Georginio Wijnaldum\"], [\"James Milner\"], [\"Naby Keita\"], [\"Jordan Henderson\"], [\"Alex Oxlade-Chamberlain\"], [\"Marko Grujic\"], [\"Curtis Jones\"], [\"Harry Wilson\"], [\"Harvey Elliott\"], [\"Xherdan Shaqiri\"], [\"Thiago\"], [\"Ilkay G\\u00fcndogan\"], [\"Rodrigo\"], [\"Kevin De Bruyne\"], [\"Bernardo Silva\"], [\"Fernandinho\"], [\"Phil Foden\"], [\"Tommy Doyle\"], [\"Adri\\u00e1n Bernab\\u00e9\"], [\"Paul Pogba\"], [\"Juan Mata\"], [\"Jesse Lingard\"], [\"Andreas Pereira\"], [\"Fred\"], [\"Bruno Fernandes\"], [\"Daniel James\"], [\"Nemanja Matic\"], [\"Scott McTominay\"], [\"Donny van de Beek\"], [\"Jacob Murphy\"], [\"Jonjo Shelvey\"], [\"Matt Ritchie\"], [\"Isaac Hayden\"], [\"Miguel Almir\\u00f3n\"], [\"Christian Atsu\"], [\"Sean Longstaff\"], [\"Matthew Longstaff\"], [\"Jeff Hendrick\"], [\"Ryan Fraser\"], [\"Henri Saivet\"], [\"Daniel Barlaser\"], [\"John Fleck\"], [\"John Lundstram\"], [\"Oliver Norwood\"], [\"Ben Osborn\"], [\"Sander Berge\"], [\"Jack Rodwell\"], [\"Regan Slater\"], [\"Oliver Burke\"], [\"Zak Brunt\"], [\"Moussa Djenepo\"], [\"Oriol Romeu\"], [\"James Ward-Prowse\"], [\"Stuart Armstrong\"], [\"Sofiane Boufal\"], [\"Nathan Redmond\"], [\"William Smallbone\"], [\"Nathan Tella\"], [\"Harry Winks\"], [\"Erik Lamela\"], [\"Eric Dier\"], [\"Moussa Sissoko\"], [\"Ryan Sessegnon\"], [\"Dele Alli\"], [\"Tanguy Ndombele\"], [\"Gedson Fernandes\"], [\"Pierre-Emile H\\u00f8jbjerg\"], [\"Harvey White\"], [\"Giovani Lo Celso\"], [\"Jake Livermore\"], [\"Matt Phillips\"], [\"Kamil Grosicki\"], [\"Rekeem Harper\"], [\"Romaine Sawyers\"], [\"Sam Field\"], [\"Kyle Edwards\"], [\"Grady Diangana\"], [\"Conor Gallagher\"], [\"Felipe Anderson\"], [\"Manuel Lanzini\"], [\"Robert Snodgrass\"], [\"Mark Noble\"], [\"Pablo Fornals\"], [\"Jack Wilshere\"], [\"Declan Rice\"], [\"Josh Cullen\"], [\"Conor Coventry\"], [\"R\\u00faben Neves\"], [\"Daniel Podence\"], [\"Romain Sa\\u00efss\"], [\"Jo\\u00e3o Moutinho\"], [\"Leander Dendoncker\"], [\"Vitinha\"], [\"Meritan Shabani\"]], \"hovertemplate\": \"Position=Midfielder<br>Club=%{x}<br>Appearances=%{y}<br>Name=%{customdata[0]}<extra></extra>\", \"legendgroup\": \"Midfielder\", \"marker\": {\"color\": \"#00cc96\"}, \"name\": \"Midfielder\", \"offsetgroup\": \"Midfielder\", \"orientation\": \"v\", \"showlegend\": true, \"textposition\": \"auto\", \"type\": \"bar\", \"x\": [\"Arsenal\", \"Arsenal\", \"Arsenal\", \"Arsenal\", \"Arsenal\", \"Arsenal\", \"Arsenal\", \"Arsenal\", \"Arsenal\", \"Arsenal\", \"Aston-Villa\", \"Aston-Villa\", \"Aston-Villa\", \"Aston-Villa\", \"Aston-Villa\", \"Aston-Villa\", \"Aston-Villa\", \"Aston-Villa\", \"Aston-Villa\", \"Aston-Villa\", \"Brighton-and-Hove-Albion\", \"Brighton-and-Hove-Albion\", \"Brighton-and-Hove-Albion\", \"Brighton-and-Hove-Albion\", \"Brighton-and-Hove-Albion\", \"Brighton-and-Hove-Albion\", \"Brighton-and-Hove-Albion\", \"Brighton-and-Hove-Albion\", \"Brighton-and-Hove-Albion\", \"Brighton-and-Hove-Albion\", \"Brighton-and-Hove-Albion\", \"Brighton-and-Hove-Albion\", \"Burnley\", \"Burnley\", \"Burnley\", \"Burnley\", \"Burnley\", \"Burnley\", \"Burnley\", \"Chelsea\", \"Chelsea\", \"Chelsea\", \"Chelsea\", \"Chelsea\", \"Chelsea\", \"Chelsea\", \"Chelsea\", \"Chelsea\", \"Chelsea\", \"Crystal-Palace\", \"Crystal-Palace\", \"Crystal-Palace\", \"Crystal-Palace\", \"Crystal-Palace\", \"Crystal-Palace\", \"Crystal-Palace\", \"Crystal-Palace\", \"Crystal-Palace\", \"Crystal-Palace\", \"Everton\", \"Everton\", \"Everton\", \"Everton\", \"Everton\", \"Everton\", \"Everton\", \"Everton\", \"Everton\", \"Everton\", \"Fulham\", \"Fulham\", \"Fulham\", \"Fulham\", \"Fulham\", \"Fulham\", \"Fulham\", \"Fulham\", \"Fulham\", \"Fulham\", \"Leeds-United\", \"Leeds-United\", \"Leeds-United\", \"Leeds-United\", \"Leeds-United\", \"Leeds-United\", \"Leeds-United\", \"Leeds-United\", \"Leeds-United\", \"Leicester-City\", \"Leicester-City\", \"Leicester-City\", \"Leicester-City\", \"Leicester-City\", \"Leicester-City\", \"Leicester-City\", \"Leicester-City\", \"Leicester-City\", \"Leicester-City\", \"Leicester-City\", \"Leicester-City\", \"Liverpool\", \"Liverpool\", \"Liverpool\", \"Liverpool\", \"Liverpool\", \"Liverpool\", \"Liverpool\", \"Liverpool\", \"Liverpool\", \"Liverpool\", \"Liverpool\", \"Liverpool\", \"Manchester-City\", \"Manchester-City\", \"Manchester-City\", \"Manchester-City\", \"Manchester-City\", \"Manchester-City\", \"Manchester-City\", \"Manchester-City\", \"Manchester-United\", \"Manchester-United\", \"Manchester-United\", \"Manchester-United\", \"Manchester-United\", \"Manchester-United\", \"Manchester-United\", \"Manchester-United\", \"Manchester-United\", \"Manchester-United\", \"Newcastle-United\", \"Newcastle-United\", \"Newcastle-United\", \"Newcastle-United\", \"Newcastle-United\", \"Newcastle-United\", \"Newcastle-United\", \"Newcastle-United\", \"Newcastle-United\", \"Newcastle-United\", \"Newcastle-United\", \"Newcastle-United\", \"Sheffield-United\", \"Sheffield-United\", \"Sheffield-United\", \"Sheffield-United\", \"Sheffield-United\", \"Sheffield-United\", \"Sheffield-United\", \"Sheffield-United\", \"Sheffield-United\", \"Southampton\", \"Southampton\", \"Southampton\", \"Southampton\", \"Southampton\", \"Southampton\", \"Southampton\", \"Southampton\", \"Tottenham-Hotspur\", \"Tottenham-Hotspur\", \"Tottenham-Hotspur\", \"Tottenham-Hotspur\", \"Tottenham-Hotspur\", \"Tottenham-Hotspur\", \"Tottenham-Hotspur\", \"Tottenham-Hotspur\", \"Tottenham-Hotspur\", \"Tottenham-Hotspur\", \"Tottenham-Hotspur\", \"West-Bromwich-Albion\", \"West-Bromwich-Albion\", \"West-Bromwich-Albion\", \"West-Bromwich-Albion\", \"West-Bromwich-Albion\", \"West-Bromwich-Albion\", \"West-Bromwich-Albion\", \"West-Bromwich-Albion\", \"West-Bromwich-Albion\", \"West-Ham-United\", \"West-Ham-United\", \"West-Ham-United\", \"West-Ham-United\", \"West-Ham-United\", \"West-Ham-United\", \"West-Ham-United\", \"West-Ham-United\", \"West-Ham-United\", \"Wolverhampton-Wanderers\", \"Wolverhampton-Wanderers\", \"Wolverhampton-Wanderers\", \"Wolverhampton-Wanderers\", \"Wolverhampton-Wanderers\", \"Wolverhampton-Wanderers\", \"Wolverhampton-Wanderers\"], \"xaxis\": \"x\", \"y\": [184, 63, 54, 47, 33, 57, 2, 132, 28, 26, 37, 29, 13, 71, 29, 28, 35, 34, 10, 0, 99, 52, 9, 93, 198, 92, 100, 21, 0, 0, 0, 0, 264, 96, 11, 61, 142, 222, 0, 0, 70, 166, 202, 78, 64, 39, 25, 6, 2, 121, 46, 197, 211, 148, 282, 258, 29, 2, 0, 185, 284, 48, 2, 106, 8, 2, 2, 131, 46, 32, 41, 9, 12, 43, 15, 24, 47, 19, 0, 35, 2, 58, 2, 2, 1, 2, 0, 0, 132, 52, 69, 258, 57, 37, 42, 14, 122, 29, 19, 44, 58, 181, 539, 45, 342, 196, 8, 7, 31, 4, 115, 1, 102, 36, 156, 105, 225, 42, 1, 0, 112, 262, 133, 45, 46, 15, 34, 208, 59, 1, 34, 215, 128, 82, 48, 80, 33, 9, 124, 121, 5, 0, 32, 36, 39, 14, 16, 167, 0, 16, 0, 20, 183, 233, 60, 70, 208, 11, 2, 96, 155, 176, 235, 41, 157, 23, 7, 111, 0, 29, 180, 110, 15, 2, 2, 20, 2, 19, 0, 63, 122, 160, 383, 38, 182, 101, 3, 0, 75, 11, 54, 78, 59, 1, 0], \"yaxis\": \"y\"}, {\"alignmentgroup\": \"True\", \"customdata\": [[\"Alexandre Lacazette\"], [\"Pierre-Emerick Aubameyang\"], [\"Nicolas P\\u00e9p\\u00e9\"], [\"Reiss Nelson\"], [\"Eddie Nketiah\"], [\"Gabriel Martinelli\"], [\"Willian\"], [\"Wesley\"], [\"Keinan Davis\"], [\"Ollie Watkins\"], [\"Leandro Trossard\"], [\"Neal Maupay\"], [\"Alireza Jahanbakhsh\"], [\"Jos\\u00e9 Izquierdo\"], [\"Aaron Connolly\"], [\"Florin Andone\"], [\"Viktor Gy\\u00f6keres\"], [\"Chris Wood\"], [\"Ashley Barnes\"], [\"Jay Rodriguez\"], [\"Matej Vydra\"], [\"Timo Werner\"], [\"Tammy Abraham\"], [\"Olivier Giroud\"], [\"Callum Hudson-Odoi\"], [\"Jordan Ayew\"], [\"Wilfried Zaha\"], [\"Christian Benteke\"], [\"Connor Wickham\"], [\"Brandon Pierrick\"], [\"Michy Batshuayi\"], [\"Sandro Ram\\u00edrez\"], [\"Yannick Bolasie\"], [\"Richarlison\"], [\"Dominic Calvert-Lewin\"], [\"Theo Walcott\"], [\"Cenk Tosun\"], [\"Alex Iwobi\"], [\"Bernard\"], [\"Moise Kean\"], [\"Anthony Gordon\"], [\"Aleksandar Mitrovic\"], [\"Bobby De Cordova-Reid\"], [\"Ivan Cavaleiro\"], [\"Aboubakar Kamara\"], [\"Ian Poveda-Ocampo\"], [\"Patrick Bamford\"], [\"Tyler Roberts\"], [\"Joe Gelhardt\"], [\"Rodrigo Moreno\"], [\"Jamie Vardy\"], [\"Islam Slimani\"], [\"Kelechi Iheanacho\"], [\"Ayoze P\\u00e9rez\"], [\"Fousseni Diabat\\u00e9\"], [\"Roberto Firmino\"], [\"Sadio Man\\u00e9\"], [\"Mohamed Salah\"], [\"Takumi Minamino\"], [\"Rhian Brewster\"], [\"Divock Origi\"], [\"Ben Woodburn\"], [\"Diogo Jota\"], [\"Ferran Torres\"], [\"Raheem Sterling\"], [\"Gabriel Jesus\"], [\"Sergio Ag\\u00fcero\"], [\"Riyad Mahrez\"], [\"Liam Delap\"], [\"Anthony Martial\"], [\"Marcus Rashford\"], [\"Odion Ighalo\"], [\"Mason Greenwood\"], [\"Andy Carroll\"], [\"Joelinton\"], [\"Allan Saint-Maximin\"], [\"Dwight Gayle\"], [\"Callum Wilson\"], [\"Oliver McBurnie\"], [\"Billy Sharp\"], [\"David McGoldrick\"], [\"Lys Mousset\"], [\"Shane Long\"], [\"Danny Ings\"], [\"Che Adams\"], [\"Michael Obafemi\"], [\"Lucas Moura\"], [\"Jack Clarke\"], [\"Son Heung-Min\"], [\"Harry Kane\"], [\"Steven Bergwijn\"], [\"Gareth Bale\"], [\"Hal Robson-Kanu\"], [\"Kenneth Zohore\"], [\"Matheus Pereira\"], [\"Charlie Austin\"], [\"Callum Robinson\"], [\"Jamie Soule\"], [\"Michail Antonio\"], [\"Andriy Yarmolenko\"], [\"Jarrod Bowen\"], [\"S\\u00e9bastien Haller\"], [\"Xande Silva\"], [\"Emmanuel Longelo\"], [\"Pedro Neto\"], [\"Ra\\u00fal Jim\\u00e9nez\"], [\"Adama Traor\\u00e9\"], [\"F\\u00e1bio Silva\"], [\"Leonardo Campana\"]], \"hovertemplate\": \"Position=Forward<br>Club=%{x}<br>Appearances=%{y}<br>Name=%{customdata[0]}<extra></extra>\", \"legendgroup\": \"Forward\", \"marker\": {\"color\": \"#ab63fa\"}, \"name\": \"Forward\", \"offsetgroup\": \"Forward\", \"orientation\": \"v\", \"showlegend\": true, \"textposition\": \"auto\", \"type\": \"bar\", \"x\": [\"Arsenal\", \"Arsenal\", \"Arsenal\", \"Arsenal\", \"Arsenal\", \"Arsenal\", \"Arsenal\", \"Aston-Villa\", \"Aston-Villa\", \"Aston-Villa\", \"Brighton-and-Hove-Albion\", \"Brighton-and-Hove-Albion\", \"Brighton-and-Hove-Albion\", \"Brighton-and-Hove-Albion\", \"Brighton-and-Hove-Albion\", \"Brighton-and-Hove-Albion\", \"Brighton-and-Hove-Albion\", \"Burnley\", \"Burnley\", \"Burnley\", \"Burnley\", \"Chelsea\", \"Chelsea\", \"Chelsea\", \"Chelsea\", \"Crystal-Palace\", \"Crystal-Palace\", \"Crystal-Palace\", \"Crystal-Palace\", \"Crystal-Palace\", \"Crystal-Palace\", \"Everton\", \"Everton\", \"Everton\", \"Everton\", \"Everton\", \"Everton\", \"Everton\", \"Everton\", \"Everton\", \"Everton\", \"Fulham\", \"Fulham\", \"Fulham\", \"Fulham\", \"Leeds-United\", \"Leeds-United\", \"Leeds-United\", \"Leeds-United\", \"Leeds-United\", \"Leicester-City\", \"Leicester-City\", \"Leicester-City\", \"Leicester-City\", \"Leicester-City\", \"Liverpool\", \"Liverpool\", \"Liverpool\", \"Liverpool\", \"Liverpool\", \"Liverpool\", \"Liverpool\", \"Liverpool\", \"Manchester-City\", \"Manchester-City\", \"Manchester-City\", \"Manchester-City\", \"Manchester-City\", \"Manchester-City\", \"Manchester-United\", \"Manchester-United\", \"Manchester-United\", \"Manchester-United\", \"Newcastle-United\", \"Newcastle-United\", \"Newcastle-United\", \"Newcastle-United\", \"Newcastle-United\", \"Sheffield-United\", \"Sheffield-United\", \"Sheffield-United\", \"Sheffield-United\", \"Southampton\", \"Southampton\", \"Southampton\", \"Southampton\", \"Tottenham-Hotspur\", \"Tottenham-Hotspur\", \"Tottenham-Hotspur\", \"Tottenham-Hotspur\", \"Tottenham-Hotspur\", \"Tottenham-Hotspur\", \"West-Bromwich-Albion\", \"West-Bromwich-Albion\", \"West-Bromwich-Albion\", \"West-Bromwich-Albion\", \"West-Bromwich-Albion\", \"West-Bromwich-Albion\", \"West-Ham-United\", \"West-Ham-United\", \"West-Ham-United\", \"West-Ham-United\", \"West-Ham-United\", \"West-Ham-United\", \"Wolverhampton-Wanderers\", \"Wolverhampton-Wanderers\", \"Wolverhampton-Wanderers\", \"Wolverhampton-Wanderers\", \"Wolverhampton-Wanderers\"], \"xaxis\": \"x\", \"y\": [99, 87, 33, 20, 23, 14, 236, 21, 19, 1, 33, 39, 31, 47, 26, 26, 0, 105, 155, 178, 57, 2, 68, 238, 35, 139, 217, 225, 120, 2, 60, 8, 119, 111, 116, 346, 49, 126, 61, 31, 11, 79, 29, 25, 15, 0, 29, 3, 0, 19, 213, 39, 117, 178, 15, 177, 196, 123, 11, 0, 91, 6, 67, 1, 260, 103, 263, 199, 0, 146, 143, 67, 35, 232, 40, 28, 119, 128, 54, 28, 30, 88, 322, 113, 32, 28, 75, 0, 162, 212, 16, 146, 76, 19, 2, 106, 22, 0, 135, 34, 22, 34, 1, 0, 31, 78, 105, 1, 0], \"yaxis\": \"y\"}],                        {\"barmode\": \"relative\", \"height\": 600, \"legend\": {\"title\": {\"text\": \"Position\"}, \"tracegroupgap\": 0}, \"template\": {\"data\": {\"bar\": [{\"error_x\": {\"color\": \"#2a3f5f\"}, \"error_y\": {\"color\": \"#2a3f5f\"}, \"marker\": {\"line\": {\"color\": \"#E5ECF6\", \"width\": 0.5}}, \"type\": \"bar\"}], \"barpolar\": [{\"marker\": {\"line\": {\"color\": \"#E5ECF6\", \"width\": 0.5}}, \"type\": \"barpolar\"}], \"carpet\": [{\"aaxis\": {\"endlinecolor\": \"#2a3f5f\", \"gridcolor\": \"white\", \"linecolor\": \"white\", \"minorgridcolor\": \"white\", \"startlinecolor\": \"#2a3f5f\"}, \"baxis\": {\"endlinecolor\": \"#2a3f5f\", \"gridcolor\": \"white\", \"linecolor\": \"white\", \"minorgridcolor\": \"white\", \"startlinecolor\": \"#2a3f5f\"}, \"type\": \"carpet\"}], \"choropleth\": [{\"colorbar\": {\"outlinewidth\": 0, \"ticks\": \"\"}, \"type\": \"choropleth\"}], \"contour\": [{\"colorbar\": {\"outlinewidth\": 0, \"ticks\": \"\"}, \"colorscale\": [[0.0, \"#0d0887\"], [0.1111111111111111, \"#46039f\"], [0.2222222222222222, \"#7201a8\"], [0.3333333333333333, \"#9c179e\"], [0.4444444444444444, \"#bd3786\"], [0.5555555555555556, \"#d8576b\"], [0.6666666666666666, \"#ed7953\"], [0.7777777777777778, \"#fb9f3a\"], [0.8888888888888888, \"#fdca26\"], [1.0, \"#f0f921\"]], \"type\": \"contour\"}], \"contourcarpet\": [{\"colorbar\": {\"outlinewidth\": 0, \"ticks\": \"\"}, \"type\": \"contourcarpet\"}], \"heatmap\": [{\"colorbar\": {\"outlinewidth\": 0, \"ticks\": \"\"}, \"colorscale\": [[0.0, \"#0d0887\"], [0.1111111111111111, \"#46039f\"], [0.2222222222222222, \"#7201a8\"], [0.3333333333333333, \"#9c179e\"], [0.4444444444444444, \"#bd3786\"], [0.5555555555555556, \"#d8576b\"], [0.6666666666666666, \"#ed7953\"], [0.7777777777777778, \"#fb9f3a\"], [0.8888888888888888, \"#fdca26\"], [1.0, \"#f0f921\"]], \"type\": \"heatmap\"}], \"heatmapgl\": [{\"colorbar\": {\"outlinewidth\": 0, \"ticks\": \"\"}, \"colorscale\": [[0.0, \"#0d0887\"], [0.1111111111111111, \"#46039f\"], [0.2222222222222222, \"#7201a8\"], [0.3333333333333333, \"#9c179e\"], [0.4444444444444444, \"#bd3786\"], [0.5555555555555556, \"#d8576b\"], [0.6666666666666666, \"#ed7953\"], [0.7777777777777778, \"#fb9f3a\"], [0.8888888888888888, \"#fdca26\"], [1.0, \"#f0f921\"]], \"type\": \"heatmapgl\"}], \"histogram\": [{\"marker\": {\"colorbar\": {\"outlinewidth\": 0, \"ticks\": \"\"}}, \"type\": \"histogram\"}], \"histogram2d\": [{\"colorbar\": {\"outlinewidth\": 0, \"ticks\": \"\"}, \"colorscale\": [[0.0, \"#0d0887\"], [0.1111111111111111, \"#46039f\"], [0.2222222222222222, \"#7201a8\"], [0.3333333333333333, \"#9c179e\"], [0.4444444444444444, \"#bd3786\"], [0.5555555555555556, \"#d8576b\"], [0.6666666666666666, \"#ed7953\"], [0.7777777777777778, \"#fb9f3a\"], [0.8888888888888888, \"#fdca26\"], [1.0, \"#f0f921\"]], \"type\": \"histogram2d\"}], \"histogram2dcontour\": [{\"colorbar\": {\"outlinewidth\": 0, \"ticks\": \"\"}, \"colorscale\": [[0.0, \"#0d0887\"], [0.1111111111111111, \"#46039f\"], [0.2222222222222222, \"#7201a8\"], [0.3333333333333333, \"#9c179e\"], [0.4444444444444444, \"#bd3786\"], [0.5555555555555556, \"#d8576b\"], [0.6666666666666666, \"#ed7953\"], [0.7777777777777778, \"#fb9f3a\"], [0.8888888888888888, \"#fdca26\"], [1.0, \"#f0f921\"]], \"type\": \"histogram2dcontour\"}], \"mesh3d\": [{\"colorbar\": {\"outlinewidth\": 0, \"ticks\": \"\"}, \"type\": \"mesh3d\"}], \"parcoords\": [{\"line\": {\"colorbar\": {\"outlinewidth\": 0, \"ticks\": \"\"}}, \"type\": \"parcoords\"}], \"pie\": [{\"automargin\": true, \"type\": \"pie\"}], \"scatter\": [{\"marker\": {\"colorbar\": {\"outlinewidth\": 0, \"ticks\": \"\"}}, \"type\": \"scatter\"}], \"scatter3d\": [{\"line\": {\"colorbar\": {\"outlinewidth\": 0, \"ticks\": \"\"}}, \"marker\": {\"colorbar\": {\"outlinewidth\": 0, \"ticks\": \"\"}}, \"type\": \"scatter3d\"}], \"scattercarpet\": [{\"marker\": {\"colorbar\": {\"outlinewidth\": 0, \"ticks\": \"\"}}, \"type\": \"scattercarpet\"}], \"scattergeo\": [{\"marker\": {\"colorbar\": {\"outlinewidth\": 0, \"ticks\": \"\"}}, \"type\": \"scattergeo\"}], \"scattergl\": [{\"marker\": {\"colorbar\": {\"outlinewidth\": 0, \"ticks\": \"\"}}, \"type\": \"scattergl\"}], \"scattermapbox\": [{\"marker\": {\"colorbar\": {\"outlinewidth\": 0, \"ticks\": \"\"}}, \"type\": \"scattermapbox\"}], \"scatterpolar\": [{\"marker\": {\"colorbar\": {\"outlinewidth\": 0, \"ticks\": \"\"}}, \"type\": \"scatterpolar\"}], \"scatterpolargl\": [{\"marker\": {\"colorbar\": {\"outlinewidth\": 0, \"ticks\": \"\"}}, \"type\": \"scatterpolargl\"}], \"scatterternary\": [{\"marker\": {\"colorbar\": {\"outlinewidth\": 0, \"ticks\": \"\"}}, \"type\": \"scatterternary\"}], \"surface\": [{\"colorbar\": {\"outlinewidth\": 0, \"ticks\": \"\"}, \"colorscale\": [[0.0, \"#0d0887\"], [0.1111111111111111, \"#46039f\"], [0.2222222222222222, \"#7201a8\"], [0.3333333333333333, \"#9c179e\"], [0.4444444444444444, \"#bd3786\"], [0.5555555555555556, \"#d8576b\"], [0.6666666666666666, \"#ed7953\"], [0.7777777777777778, \"#fb9f3a\"], [0.8888888888888888, \"#fdca26\"], [1.0, \"#f0f921\"]], \"type\": \"surface\"}], \"table\": [{\"cells\": {\"fill\": {\"color\": \"#EBF0F8\"}, \"line\": {\"color\": \"white\"}}, \"header\": {\"fill\": {\"color\": \"#C8D4E3\"}, \"line\": {\"color\": \"white\"}}, \"type\": \"table\"}]}, \"layout\": {\"annotationdefaults\": {\"arrowcolor\": \"#2a3f5f\", \"arrowhead\": 0, \"arrowwidth\": 1}, \"autotypenumbers\": \"strict\", \"coloraxis\": {\"colorbar\": {\"outlinewidth\": 0, \"ticks\": \"\"}}, \"colorscale\": {\"diverging\": [[0, \"#8e0152\"], [0.1, \"#c51b7d\"], [0.2, \"#de77ae\"], [0.3, \"#f1b6da\"], [0.4, \"#fde0ef\"], [0.5, \"#f7f7f7\"], [0.6, \"#e6f5d0\"], [0.7, \"#b8e186\"], [0.8, \"#7fbc41\"], [0.9, \"#4d9221\"], [1, \"#276419\"]], \"sequential\": [[0.0, \"#0d0887\"], [0.1111111111111111, \"#46039f\"], [0.2222222222222222, \"#7201a8\"], [0.3333333333333333, \"#9c179e\"], [0.4444444444444444, \"#bd3786\"], [0.5555555555555556, \"#d8576b\"], [0.6666666666666666, \"#ed7953\"], [0.7777777777777778, \"#fb9f3a\"], [0.8888888888888888, \"#fdca26\"], [1.0, \"#f0f921\"]], \"sequentialminus\": [[0.0, \"#0d0887\"], [0.1111111111111111, \"#46039f\"], [0.2222222222222222, \"#7201a8\"], [0.3333333333333333, \"#9c179e\"], [0.4444444444444444, \"#bd3786\"], [0.5555555555555556, \"#d8576b\"], [0.6666666666666666, \"#ed7953\"], [0.7777777777777778, \"#fb9f3a\"], [0.8888888888888888, \"#fdca26\"], [1.0, \"#f0f921\"]]}, \"colorway\": [\"#636efa\", \"#EF553B\", \"#00cc96\", \"#ab63fa\", \"#FFA15A\", \"#19d3f3\", \"#FF6692\", \"#B6E880\", \"#FF97FF\", \"#FECB52\"], \"font\": {\"color\": \"#2a3f5f\"}, \"geo\": {\"bgcolor\": \"white\", \"lakecolor\": \"white\", \"landcolor\": \"#E5ECF6\", \"showlakes\": true, \"showland\": true, \"subunitcolor\": \"white\"}, \"hoverlabel\": {\"align\": \"left\"}, \"hovermode\": \"closest\", \"mapbox\": {\"style\": \"light\"}, \"paper_bgcolor\": \"white\", \"plot_bgcolor\": \"#E5ECF6\", \"polar\": {\"angularaxis\": {\"gridcolor\": \"white\", \"linecolor\": \"white\", \"ticks\": \"\"}, \"bgcolor\": \"#E5ECF6\", \"radialaxis\": {\"gridcolor\": \"white\", \"linecolor\": \"white\", \"ticks\": \"\"}}, \"scene\": {\"xaxis\": {\"backgroundcolor\": \"#E5ECF6\", \"gridcolor\": \"white\", \"gridwidth\": 2, \"linecolor\": \"white\", \"showbackground\": true, \"ticks\": \"\", \"zerolinecolor\": \"white\"}, \"yaxis\": {\"backgroundcolor\": \"#E5ECF6\", \"gridcolor\": \"white\", \"gridwidth\": 2, \"linecolor\": \"white\", \"showbackground\": true, \"ticks\": \"\", \"zerolinecolor\": \"white\"}, \"zaxis\": {\"backgroundcolor\": \"#E5ECF6\", \"gridcolor\": \"white\", \"gridwidth\": 2, \"linecolor\": \"white\", \"showbackground\": true, \"ticks\": \"\", \"zerolinecolor\": \"white\"}}, \"shapedefaults\": {\"line\": {\"color\": \"#2a3f5f\"}}, \"ternary\": {\"aaxis\": {\"gridcolor\": \"white\", \"linecolor\": \"white\", \"ticks\": \"\"}, \"baxis\": {\"gridcolor\": \"white\", \"linecolor\": \"white\", \"ticks\": \"\"}, \"bgcolor\": \"#E5ECF6\", \"caxis\": {\"gridcolor\": \"white\", \"linecolor\": \"white\", \"ticks\": \"\"}}, \"title\": {\"x\": 0.05}, \"xaxis\": {\"automargin\": true, \"gridcolor\": \"white\", \"linecolor\": \"white\", \"ticks\": \"\", \"title\": {\"standoff\": 15}, \"zerolinecolor\": \"white\", \"zerolinewidth\": 2}, \"yaxis\": {\"automargin\": true, \"gridcolor\": \"white\", \"linecolor\": \"white\", \"ticks\": \"\", \"title\": {\"standoff\": 15}, \"zerolinecolor\": \"white\", \"zerolinewidth\": 2}}}, \"title\": {\"text\": \"Apearance by club\"}, \"xaxis\": {\"anchor\": \"y\", \"domain\": [0.0, 1.0], \"title\": {\"text\": \"Club\"}}, \"yaxis\": {\"anchor\": \"x\", \"domain\": [0.0, 1.0], \"title\": {\"text\": \"Appearances\"}}},                        {\"responsive\": true}                    ).then(function(){\n",
       "                            \n",
       "var gd = document.getElementById('35698eb4-3507-44a5-b9c4-5fc26a867257');\n",
       "var x = new MutationObserver(function (mutations, observer) {{\n",
       "        var display = window.getComputedStyle(gd).display;\n",
       "        if (!display || display === 'none') {{\n",
       "            console.log([gd, 'removed!']);\n",
       "            Plotly.purge(gd);\n",
       "            observer.disconnect();\n",
       "        }}\n",
       "}});\n",
       "\n",
       "// Listen for the removal of the full notebook cells\n",
       "var notebookContainer = gd.closest('#notebook-container');\n",
       "if (notebookContainer) {{\n",
       "    x.observe(notebookContainer, {childList: true});\n",
       "}}\n",
       "\n",
       "// Listen for the clearing of the current output cell\n",
       "var outputEl = gd.closest('.output');\n",
       "if (outputEl) {{\n",
       "    x.observe(outputEl, {childList: true});\n",
       "}}\n",
       "\n",
       "                        })                };                });            </script>        </div>"
      ]
     },
     "metadata": {},
     "output_type": "display_data"
    }
   ],
   "source": [
    "fig = px.bar(data, x='Club', y='Appearances', color='Position', hover_data=['Name'], height=600,\n",
    "            title='Apearance by club')\n",
    "iplot(fig)"
   ]
  },
  {
   "cell_type": "markdown",
   "metadata": {},
   "source": [
    "# Players Age"
   ]
  },
  {
   "cell_type": "code",
   "execution_count": 18,
   "metadata": {},
   "outputs": [
    {
     "data": {
      "application/vnd.plotly.v1+json": {
       "config": {
        "linkText": "Export to plot.ly",
        "plotlyServerURL": "https://plot.ly",
        "showLink": false
       },
       "data": [
        {
         "alignmentgroup": "True",
         "box": {
          "visible": true
         },
         "hovertemplate": "Position=%{x}<br>Age=%{y}<extra></extra>",
         "legendgroup": "",
         "marker": {
          "color": "#636efa"
         },
         "name": "",
         "offsetgroup": "",
         "orientation": "v",
         "scalegroup": "True",
         "showlegend": false,
         "type": "violin",
         "x": [
          "Goalkeeper",
          "Goalkeeper",
          "Goalkeeper",
          "Defender",
          "Defender",
          "Defender",
          "Defender",
          "Defender",
          "Defender",
          "Defender",
          "Defender",
          "Defender",
          "Defender",
          "Midfielder",
          "Midfielder",
          "Midfielder",
          "Midfielder",
          "Midfielder",
          "Midfielder",
          "Midfielder",
          "Midfielder",
          "Midfielder",
          "Midfielder",
          "Forward",
          "Forward",
          "Forward",
          "Forward",
          "Forward",
          "Forward",
          "Forward",
          "Goalkeeper",
          "Goalkeeper",
          "Goalkeeper",
          "Goalkeeper",
          "Goalkeeper",
          "Defender",
          "Defender",
          "Defender",
          "Defender",
          "Defender",
          "Defender",
          "Defender",
          "Defender",
          "Defender",
          "Midfielder",
          "Midfielder",
          "Midfielder",
          "Midfielder",
          "Midfielder",
          "Midfielder",
          "Midfielder",
          "Midfielder",
          "Midfielder",
          "Midfielder",
          "Forward",
          "Forward",
          "Forward",
          "Goalkeeper",
          "Goalkeeper",
          "Goalkeeper",
          "Goalkeeper",
          "Defender",
          "Defender",
          "Defender",
          "Defender",
          "Defender",
          "Defender",
          "Defender",
          "Defender",
          "Defender",
          "Defender",
          "Midfielder",
          "Midfielder",
          "Midfielder",
          "Midfielder",
          "Midfielder",
          "Midfielder",
          "Midfielder",
          "Midfielder",
          "Midfielder",
          "Midfielder",
          "Midfielder",
          "Midfielder",
          "Forward",
          "Forward",
          "Forward",
          "Forward",
          "Forward",
          "Forward",
          "Forward",
          "Goalkeeper",
          "Goalkeeper",
          "Goalkeeper",
          "Defender",
          "Defender",
          "Defender",
          "Defender",
          "Defender",
          "Defender",
          "Defender",
          "Defender",
          "Defender",
          "Defender",
          "Midfielder",
          "Midfielder",
          "Midfielder",
          "Midfielder",
          "Midfielder",
          "Midfielder",
          "Midfielder",
          "Forward",
          "Forward",
          "Forward",
          "Forward",
          "Goalkeeper",
          "Goalkeeper",
          "Defender",
          "Defender",
          "Defender",
          "Defender",
          "Defender",
          "Defender",
          "Defender",
          "Defender",
          "Defender",
          "Defender",
          "Midfielder",
          "Midfielder",
          "Midfielder",
          "Midfielder",
          "Midfielder",
          "Midfielder",
          "Midfielder",
          "Midfielder",
          "Midfielder",
          "Midfielder",
          "Forward",
          "Forward",
          "Forward",
          "Forward",
          "Goalkeeper",
          "Goalkeeper",
          "Goalkeeper",
          "Defender",
          "Defender",
          "Defender",
          "Defender",
          "Defender",
          "Defender",
          "Defender",
          "Defender",
          "Defender",
          "Defender",
          "Defender",
          "Midfielder",
          "Midfielder",
          "Midfielder",
          "Midfielder",
          "Midfielder",
          "Midfielder",
          "Midfielder",
          "Midfielder",
          "Midfielder",
          "Midfielder",
          "Forward",
          "Forward",
          "Forward",
          "Forward",
          "Forward",
          "Forward",
          "Goalkeeper",
          "Goalkeeper",
          "Goalkeeper",
          "Defender",
          "Defender",
          "Defender",
          "Defender",
          "Defender",
          "Defender",
          "Defender",
          "Defender",
          "Midfielder",
          "Midfielder",
          "Midfielder",
          "Midfielder",
          "Midfielder",
          "Midfielder",
          "Midfielder",
          "Midfielder",
          "Midfielder",
          "Midfielder",
          "Forward",
          "Forward",
          "Forward",
          "Forward",
          "Forward",
          "Forward",
          "Forward",
          "Forward",
          "Forward",
          "Forward",
          "Goalkeeper",
          "Goalkeeper",
          "Goalkeeper",
          "Defender",
          "Defender",
          "Defender",
          "Defender",
          "Defender",
          "Defender",
          "Defender",
          "Defender",
          "Midfielder",
          "Midfielder",
          "Midfielder",
          "Midfielder",
          "Midfielder",
          "Midfielder",
          "Midfielder",
          "Midfielder",
          "Midfielder",
          "Midfielder",
          "Forward",
          "Forward",
          "Forward",
          "Forward",
          "Goalkeeper",
          "Goalkeeper",
          "Defender",
          "Defender",
          "Defender",
          "Defender",
          "Defender",
          "Defender",
          "Defender",
          "Defender",
          "Defender",
          "Midfielder",
          "Midfielder",
          "Midfielder",
          "Midfielder",
          "Midfielder",
          "Midfielder",
          "Midfielder",
          "Midfielder",
          "Midfielder",
          "Forward",
          "Forward",
          "Forward",
          "Forward",
          "Forward",
          "Goalkeeper",
          "Goalkeeper",
          "Goalkeeper",
          "Defender",
          "Defender",
          "Defender",
          "Defender",
          "Defender",
          "Defender",
          "Defender",
          "Defender",
          "Defender",
          "Defender",
          "Midfielder",
          "Midfielder",
          "Midfielder",
          "Midfielder",
          "Midfielder",
          "Midfielder",
          "Midfielder",
          "Midfielder",
          "Midfielder",
          "Midfielder",
          "Midfielder",
          "Midfielder",
          "Forward",
          "Forward",
          "Forward",
          "Forward",
          "Forward",
          "Goalkeeper",
          "Goalkeeper",
          "Goalkeeper",
          "Goalkeeper",
          "Goalkeeper",
          "Defender",
          "Defender",
          "Defender",
          "Defender",
          "Defender",
          "Defender",
          "Defender",
          "Defender",
          "Defender",
          "Midfielder",
          "Midfielder",
          "Midfielder",
          "Midfielder",
          "Midfielder",
          "Midfielder",
          "Midfielder",
          "Midfielder",
          "Midfielder",
          "Midfielder",
          "Midfielder",
          "Midfielder",
          "Forward",
          "Forward",
          "Forward",
          "Forward",
          "Forward",
          "Forward",
          "Forward",
          "Forward",
          "Goalkeeper",
          "Goalkeeper",
          "Defender",
          "Defender",
          "Defender",
          "Defender",
          "Defender",
          "Defender",
          "Defender",
          "Defender",
          "Defender",
          "Midfielder",
          "Midfielder",
          "Midfielder",
          "Midfielder",
          "Midfielder",
          "Midfielder",
          "Midfielder",
          "Midfielder",
          "Forward",
          "Forward",
          "Forward",
          "Forward",
          "Forward",
          "Forward",
          "Goalkeeper",
          "Goalkeeper",
          "Goalkeeper",
          "Defender",
          "Defender",
          "Defender",
          "Defender",
          "Defender",
          "Defender",
          "Defender",
          "Defender",
          "Defender",
          "Defender",
          "Defender",
          "Defender",
          "Defender",
          "Midfielder",
          "Midfielder",
          "Midfielder",
          "Midfielder",
          "Midfielder",
          "Midfielder",
          "Midfielder",
          "Midfielder",
          "Midfielder",
          "Midfielder",
          "Forward",
          "Forward",
          "Forward",
          "Forward",
          "Goalkeeper",
          "Goalkeeper",
          "Goalkeeper",
          "Goalkeeper",
          "Defender",
          "Defender",
          "Defender",
          "Defender",
          "Defender",
          "Defender",
          "Defender",
          "Defender",
          "Defender",
          "Midfielder",
          "Midfielder",
          "Midfielder",
          "Midfielder",
          "Midfielder",
          "Midfielder",
          "Midfielder",
          "Midfielder",
          "Midfielder",
          "Midfielder",
          "Midfielder",
          "Midfielder",
          "Forward",
          "Forward",
          "Forward",
          "Forward",
          "Forward",
          "Goalkeeper",
          "Goalkeeper",
          "Goalkeeper",
          "Goalkeeper",
          "Defender",
          "Defender",
          "Defender",
          "Defender",
          "Defender",
          "Defender",
          "Defender",
          "Defender",
          "Defender",
          "Defender",
          "Defender",
          "Midfielder",
          "Midfielder",
          "Midfielder",
          "Midfielder",
          "Midfielder",
          "Midfielder",
          "Midfielder",
          "Midfielder",
          "Midfielder",
          "Forward",
          "Forward",
          "Forward",
          "Forward",
          "Goalkeeper",
          "Goalkeeper",
          "Goalkeeper",
          "Goalkeeper",
          "Defender",
          "Defender",
          "Defender",
          "Defender",
          "Defender",
          "Defender",
          "Defender",
          "Defender",
          "Midfielder",
          "Midfielder",
          "Midfielder",
          "Midfielder",
          "Midfielder",
          "Midfielder",
          "Midfielder",
          "Midfielder",
          "Forward",
          "Forward",
          "Forward",
          "Forward",
          "Goalkeeper",
          "Goalkeeper",
          "Goalkeeper",
          "Goalkeeper",
          "Goalkeeper",
          "Defender",
          "Defender",
          "Defender",
          "Defender",
          "Defender",
          "Defender",
          "Defender",
          "Defender",
          "Defender",
          "Midfielder",
          "Midfielder",
          "Midfielder",
          "Midfielder",
          "Midfielder",
          "Midfielder",
          "Midfielder",
          "Midfielder",
          "Midfielder",
          "Midfielder",
          "Midfielder",
          "Forward",
          "Forward",
          "Forward",
          "Forward",
          "Forward",
          "Forward",
          "Goalkeeper",
          "Goalkeeper",
          "Goalkeeper",
          "Defender",
          "Defender",
          "Defender",
          "Defender",
          "Defender",
          "Defender",
          "Defender",
          "Defender",
          "Defender",
          "Defender",
          "Midfielder",
          "Midfielder",
          "Midfielder",
          "Midfielder",
          "Midfielder",
          "Midfielder",
          "Midfielder",
          "Midfielder",
          "Midfielder",
          "Forward",
          "Forward",
          "Forward",
          "Forward",
          "Forward",
          "Forward",
          "Goalkeeper",
          "Goalkeeper",
          "Goalkeeper",
          "Goalkeeper",
          "Defender",
          "Defender",
          "Defender",
          "Defender",
          "Defender",
          "Defender",
          "Defender",
          "Defender",
          "Defender",
          "Defender",
          "Midfielder",
          "Midfielder",
          "Midfielder",
          "Midfielder",
          "Midfielder",
          "Midfielder",
          "Midfielder",
          "Midfielder",
          "Midfielder",
          "Forward",
          "Forward",
          "Forward",
          "Forward",
          "Forward",
          "Forward",
          "Goalkeeper",
          "Goalkeeper",
          "Defender",
          "Defender",
          "Defender",
          "Defender",
          "Defender",
          "Defender",
          "Defender",
          "Defender",
          "Midfielder",
          "Midfielder",
          "Midfielder",
          "Midfielder",
          "Midfielder",
          "Midfielder",
          "Midfielder",
          "Forward",
          "Forward",
          "Forward",
          "Forward",
          "Forward"
         ],
         "x0": " ",
         "xaxis": "x",
         "y": [
          28,
          26,
          25,
          25,
          23,
          19,
          32,
          25,
          28,
          25,
          33,
          27,
          22,
          31,
          24,
          23,
          28,
          21,
          21,
          20,
          27,
          19,
          24,
          29,
          31,
          25,
          20,
          21,
          19,
          32,
          34,
          28,
          30,
          30,
          28,
          31,
          22,
          25,
          26,
          25,
          33,
          25,
          27,
          23,
          22,
          25,
          29,
          25,
          26,
          29,
          25,
          25,
          29,
          19,
          23,
          22,
          24,
          28,
          30,
          24,
          22,
          22,
          19,
          28,
          25,
          25,
          28,
          28,
          20,
          20,
          18,
          31,
          24,
          21,
          29,
          32,
          26,
          29,
          22,
          21,
          21,
          19,
          20,
          25,
          24,
          27,
          28,
          20,
          27,
          22,
          28,
          23,
          27,
          31,
          27,
          27,
          31,
          32,
          35,
          30,
          22,
          19,
          20,
          31,
          29,
          24,
          20,
          28,
          30,
          20,
          28,
          30,
          31,
          28,
          25,
          38,
          27,
          29,
          24,
          25,
          20,
          31,
          22,
          26,
          23,
          36,
          27,
          28,
          29,
          26,
          24,
          26,
          21,
          22,
          19,
          21,
          24,
          22,
          33,
          19,
          33,
          33,
          32,
          30,
          30,
          31,
          33,
          30,
          34,
          30,
          21,
          26,
          22,
          25,
          29,
          25,
          30,
          29,
          27,
          32,
          29,
          24,
          22,
          20,
          29,
          27,
          29,
          27,
          18,
          26,
          26,
          20,
          31,
          23,
          27,
          27,
          26,
          31,
          18,
          23,
          19,
          30,
          31,
          27,
          24,
          22,
          22,
          29,
          29,
          27,
          28,
          25,
          31,
          23,
          23,
          31,
          29,
          24,
          28,
          20,
          19,
          23,
          32,
          27,
          28,
          32,
          32,
          30,
          27,
          23,
          24,
          23,
          29,
          31,
          28,
          29,
          29,
          23,
          24,
          27,
          25,
          20,
          26,
          27,
          26,
          25,
          33,
          19,
          29,
          31,
          29,
          21,
          20,
          24,
          19,
          17,
          20,
          28,
          29,
          35,
          24,
          30,
          20,
          23,
          20,
          19,
          20,
          27,
          21,
          18,
          29,
          33,
          27,
          35,
          22,
          24,
          36,
          32,
          23,
          25,
          26,
          34,
          19,
          24,
          24,
          23,
          23,
          30,
          22,
          22,
          29,
          31,
          23,
          26,
          28,
          28,
          33,
          32,
          23,
          27,
          24,
          27,
          27,
          33,
          21,
          21,
          29,
          23,
          26,
          29,
          21,
          19,
          24,
          23,
          18,
          26,
          29,
          34,
          25,
          30,
          27,
          24,
          19,
          23,
          17,
          28,
          29,
          28,
          28,
          28,
          25,
          20,
          25,
          20,
          23,
          27,
          35,
          25,
          30,
          26,
          23,
          26,
          26,
          26,
          32,
          19,
          29,
          24,
          29,
          26,
          35,
          20,
          18,
          19,
          20,
          25,
          23,
          32,
          29,
          17,
          29,
          33,
          23,
          26,
          26,
          28,
          27,
          30,
          30,
          21,
          25,
          22,
          22,
          22,
          20,
          18,
          27,
          32,
          27,
          24,
          27,
          26,
          22,
          32,
          23,
          23,
          24,
          22,
          31,
          18,
          28,
          31,
          29,
          19,
          30,
          28,
          28,
          26,
          26,
          31,
          26,
          27,
          22,
          25,
          28,
          31,
          25,
          26,
          28,
          22,
          20,
          28,
          26,
          29,
          23,
          31,
          24,
          23,
          29,
          28,
          29,
          23,
          30,
          22,
          27,
          30,
          26,
          32,
          27,
          27,
          23,
          38,
          23,
          20,
          20,
          29,
          26,
          29,
          26,
          22,
          29,
          21,
          23,
          18,
          24,
          34,
          32,
          24,
          30,
          24,
          32,
          22,
          28,
          26,
          31,
          20,
          24,
          21,
          23,
          21,
          22,
          29,
          25,
          28,
          27,
          26,
          20,
          21,
          33,
          28,
          24,
          20,
          33,
          28,
          33,
          21,
          21,
          31,
          24,
          22,
          27,
          27,
          21,
          28,
          18,
          23,
          24,
          28,
          26,
          31,
          20,
          24,
          23,
          21,
          25,
          19,
          24,
          28,
          19,
          28,
          27,
          22,
          31,
          27,
          31,
          27,
          24,
          30,
          29,
          26,
          27,
          29,
          21,
          23,
          33,
          36,
          30,
          29,
          32,
          20,
          28,
          22,
          22,
          22,
          20,
          31,
          26,
          24,
          31,
          25,
          19,
          35,
          34,
          33,
          21,
          30,
          29,
          19,
          32,
          23,
          27,
          26,
          20,
          19,
          18,
          27,
          27,
          33,
          33,
          24,
          28,
          21,
          24,
          20,
          30,
          30,
          23,
          26,
          23,
          19,
          32,
          33,
          29,
          27,
          26,
          21,
          23,
          22,
          31,
          18,
          23,
          24,
          30,
          34,
          25,
          20,
          21,
          20,
          29,
          24,
          18,
          20
         ],
         "y0": " ",
         "yaxis": "y"
        }
       ],
       "layout": {
        "legend": {
         "tracegroupgap": 0
        },
        "template": {
         "data": {
          "bar": [
           {
            "error_x": {
             "color": "#2a3f5f"
            },
            "error_y": {
             "color": "#2a3f5f"
            },
            "marker": {
             "line": {
              "color": "#E5ECF6",
              "width": 0.5
             }
            },
            "type": "bar"
           }
          ],
          "barpolar": [
           {
            "marker": {
             "line": {
              "color": "#E5ECF6",
              "width": 0.5
             }
            },
            "type": "barpolar"
           }
          ],
          "carpet": [
           {
            "aaxis": {
             "endlinecolor": "#2a3f5f",
             "gridcolor": "white",
             "linecolor": "white",
             "minorgridcolor": "white",
             "startlinecolor": "#2a3f5f"
            },
            "baxis": {
             "endlinecolor": "#2a3f5f",
             "gridcolor": "white",
             "linecolor": "white",
             "minorgridcolor": "white",
             "startlinecolor": "#2a3f5f"
            },
            "type": "carpet"
           }
          ],
          "choropleth": [
           {
            "colorbar": {
             "outlinewidth": 0,
             "ticks": ""
            },
            "type": "choropleth"
           }
          ],
          "contour": [
           {
            "colorbar": {
             "outlinewidth": 0,
             "ticks": ""
            },
            "colorscale": [
             [
              0,
              "#0d0887"
             ],
             [
              0.1111111111111111,
              "#46039f"
             ],
             [
              0.2222222222222222,
              "#7201a8"
             ],
             [
              0.3333333333333333,
              "#9c179e"
             ],
             [
              0.4444444444444444,
              "#bd3786"
             ],
             [
              0.5555555555555556,
              "#d8576b"
             ],
             [
              0.6666666666666666,
              "#ed7953"
             ],
             [
              0.7777777777777778,
              "#fb9f3a"
             ],
             [
              0.8888888888888888,
              "#fdca26"
             ],
             [
              1,
              "#f0f921"
             ]
            ],
            "type": "contour"
           }
          ],
          "contourcarpet": [
           {
            "colorbar": {
             "outlinewidth": 0,
             "ticks": ""
            },
            "type": "contourcarpet"
           }
          ],
          "heatmap": [
           {
            "colorbar": {
             "outlinewidth": 0,
             "ticks": ""
            },
            "colorscale": [
             [
              0,
              "#0d0887"
             ],
             [
              0.1111111111111111,
              "#46039f"
             ],
             [
              0.2222222222222222,
              "#7201a8"
             ],
             [
              0.3333333333333333,
              "#9c179e"
             ],
             [
              0.4444444444444444,
              "#bd3786"
             ],
             [
              0.5555555555555556,
              "#d8576b"
             ],
             [
              0.6666666666666666,
              "#ed7953"
             ],
             [
              0.7777777777777778,
              "#fb9f3a"
             ],
             [
              0.8888888888888888,
              "#fdca26"
             ],
             [
              1,
              "#f0f921"
             ]
            ],
            "type": "heatmap"
           }
          ],
          "heatmapgl": [
           {
            "colorbar": {
             "outlinewidth": 0,
             "ticks": ""
            },
            "colorscale": [
             [
              0,
              "#0d0887"
             ],
             [
              0.1111111111111111,
              "#46039f"
             ],
             [
              0.2222222222222222,
              "#7201a8"
             ],
             [
              0.3333333333333333,
              "#9c179e"
             ],
             [
              0.4444444444444444,
              "#bd3786"
             ],
             [
              0.5555555555555556,
              "#d8576b"
             ],
             [
              0.6666666666666666,
              "#ed7953"
             ],
             [
              0.7777777777777778,
              "#fb9f3a"
             ],
             [
              0.8888888888888888,
              "#fdca26"
             ],
             [
              1,
              "#f0f921"
             ]
            ],
            "type": "heatmapgl"
           }
          ],
          "histogram": [
           {
            "marker": {
             "colorbar": {
              "outlinewidth": 0,
              "ticks": ""
             }
            },
            "type": "histogram"
           }
          ],
          "histogram2d": [
           {
            "colorbar": {
             "outlinewidth": 0,
             "ticks": ""
            },
            "colorscale": [
             [
              0,
              "#0d0887"
             ],
             [
              0.1111111111111111,
              "#46039f"
             ],
             [
              0.2222222222222222,
              "#7201a8"
             ],
             [
              0.3333333333333333,
              "#9c179e"
             ],
             [
              0.4444444444444444,
              "#bd3786"
             ],
             [
              0.5555555555555556,
              "#d8576b"
             ],
             [
              0.6666666666666666,
              "#ed7953"
             ],
             [
              0.7777777777777778,
              "#fb9f3a"
             ],
             [
              0.8888888888888888,
              "#fdca26"
             ],
             [
              1,
              "#f0f921"
             ]
            ],
            "type": "histogram2d"
           }
          ],
          "histogram2dcontour": [
           {
            "colorbar": {
             "outlinewidth": 0,
             "ticks": ""
            },
            "colorscale": [
             [
              0,
              "#0d0887"
             ],
             [
              0.1111111111111111,
              "#46039f"
             ],
             [
              0.2222222222222222,
              "#7201a8"
             ],
             [
              0.3333333333333333,
              "#9c179e"
             ],
             [
              0.4444444444444444,
              "#bd3786"
             ],
             [
              0.5555555555555556,
              "#d8576b"
             ],
             [
              0.6666666666666666,
              "#ed7953"
             ],
             [
              0.7777777777777778,
              "#fb9f3a"
             ],
             [
              0.8888888888888888,
              "#fdca26"
             ],
             [
              1,
              "#f0f921"
             ]
            ],
            "type": "histogram2dcontour"
           }
          ],
          "mesh3d": [
           {
            "colorbar": {
             "outlinewidth": 0,
             "ticks": ""
            },
            "type": "mesh3d"
           }
          ],
          "parcoords": [
           {
            "line": {
             "colorbar": {
              "outlinewidth": 0,
              "ticks": ""
             }
            },
            "type": "parcoords"
           }
          ],
          "pie": [
           {
            "automargin": true,
            "type": "pie"
           }
          ],
          "scatter": [
           {
            "marker": {
             "colorbar": {
              "outlinewidth": 0,
              "ticks": ""
             }
            },
            "type": "scatter"
           }
          ],
          "scatter3d": [
           {
            "line": {
             "colorbar": {
              "outlinewidth": 0,
              "ticks": ""
             }
            },
            "marker": {
             "colorbar": {
              "outlinewidth": 0,
              "ticks": ""
             }
            },
            "type": "scatter3d"
           }
          ],
          "scattercarpet": [
           {
            "marker": {
             "colorbar": {
              "outlinewidth": 0,
              "ticks": ""
             }
            },
            "type": "scattercarpet"
           }
          ],
          "scattergeo": [
           {
            "marker": {
             "colorbar": {
              "outlinewidth": 0,
              "ticks": ""
             }
            },
            "type": "scattergeo"
           }
          ],
          "scattergl": [
           {
            "marker": {
             "colorbar": {
              "outlinewidth": 0,
              "ticks": ""
             }
            },
            "type": "scattergl"
           }
          ],
          "scattermapbox": [
           {
            "marker": {
             "colorbar": {
              "outlinewidth": 0,
              "ticks": ""
             }
            },
            "type": "scattermapbox"
           }
          ],
          "scatterpolar": [
           {
            "marker": {
             "colorbar": {
              "outlinewidth": 0,
              "ticks": ""
             }
            },
            "type": "scatterpolar"
           }
          ],
          "scatterpolargl": [
           {
            "marker": {
             "colorbar": {
              "outlinewidth": 0,
              "ticks": ""
             }
            },
            "type": "scatterpolargl"
           }
          ],
          "scatterternary": [
           {
            "marker": {
             "colorbar": {
              "outlinewidth": 0,
              "ticks": ""
             }
            },
            "type": "scatterternary"
           }
          ],
          "surface": [
           {
            "colorbar": {
             "outlinewidth": 0,
             "ticks": ""
            },
            "colorscale": [
             [
              0,
              "#0d0887"
             ],
             [
              0.1111111111111111,
              "#46039f"
             ],
             [
              0.2222222222222222,
              "#7201a8"
             ],
             [
              0.3333333333333333,
              "#9c179e"
             ],
             [
              0.4444444444444444,
              "#bd3786"
             ],
             [
              0.5555555555555556,
              "#d8576b"
             ],
             [
              0.6666666666666666,
              "#ed7953"
             ],
             [
              0.7777777777777778,
              "#fb9f3a"
             ],
             [
              0.8888888888888888,
              "#fdca26"
             ],
             [
              1,
              "#f0f921"
             ]
            ],
            "type": "surface"
           }
          ],
          "table": [
           {
            "cells": {
             "fill": {
              "color": "#EBF0F8"
             },
             "line": {
              "color": "white"
             }
            },
            "header": {
             "fill": {
              "color": "#C8D4E3"
             },
             "line": {
              "color": "white"
             }
            },
            "type": "table"
           }
          ]
         },
         "layout": {
          "annotationdefaults": {
           "arrowcolor": "#2a3f5f",
           "arrowhead": 0,
           "arrowwidth": 1
          },
          "autotypenumbers": "strict",
          "coloraxis": {
           "colorbar": {
            "outlinewidth": 0,
            "ticks": ""
           }
          },
          "colorscale": {
           "diverging": [
            [
             0,
             "#8e0152"
            ],
            [
             0.1,
             "#c51b7d"
            ],
            [
             0.2,
             "#de77ae"
            ],
            [
             0.3,
             "#f1b6da"
            ],
            [
             0.4,
             "#fde0ef"
            ],
            [
             0.5,
             "#f7f7f7"
            ],
            [
             0.6,
             "#e6f5d0"
            ],
            [
             0.7,
             "#b8e186"
            ],
            [
             0.8,
             "#7fbc41"
            ],
            [
             0.9,
             "#4d9221"
            ],
            [
             1,
             "#276419"
            ]
           ],
           "sequential": [
            [
             0,
             "#0d0887"
            ],
            [
             0.1111111111111111,
             "#46039f"
            ],
            [
             0.2222222222222222,
             "#7201a8"
            ],
            [
             0.3333333333333333,
             "#9c179e"
            ],
            [
             0.4444444444444444,
             "#bd3786"
            ],
            [
             0.5555555555555556,
             "#d8576b"
            ],
            [
             0.6666666666666666,
             "#ed7953"
            ],
            [
             0.7777777777777778,
             "#fb9f3a"
            ],
            [
             0.8888888888888888,
             "#fdca26"
            ],
            [
             1,
             "#f0f921"
            ]
           ],
           "sequentialminus": [
            [
             0,
             "#0d0887"
            ],
            [
             0.1111111111111111,
             "#46039f"
            ],
            [
             0.2222222222222222,
             "#7201a8"
            ],
            [
             0.3333333333333333,
             "#9c179e"
            ],
            [
             0.4444444444444444,
             "#bd3786"
            ],
            [
             0.5555555555555556,
             "#d8576b"
            ],
            [
             0.6666666666666666,
             "#ed7953"
            ],
            [
             0.7777777777777778,
             "#fb9f3a"
            ],
            [
             0.8888888888888888,
             "#fdca26"
            ],
            [
             1,
             "#f0f921"
            ]
           ]
          },
          "colorway": [
           "#636efa",
           "#EF553B",
           "#00cc96",
           "#ab63fa",
           "#FFA15A",
           "#19d3f3",
           "#FF6692",
           "#B6E880",
           "#FF97FF",
           "#FECB52"
          ],
          "font": {
           "color": "#2a3f5f"
          },
          "geo": {
           "bgcolor": "white",
           "lakecolor": "white",
           "landcolor": "#E5ECF6",
           "showlakes": true,
           "showland": true,
           "subunitcolor": "white"
          },
          "hoverlabel": {
           "align": "left"
          },
          "hovermode": "closest",
          "mapbox": {
           "style": "light"
          },
          "paper_bgcolor": "white",
          "plot_bgcolor": "#E5ECF6",
          "polar": {
           "angularaxis": {
            "gridcolor": "white",
            "linecolor": "white",
            "ticks": ""
           },
           "bgcolor": "#E5ECF6",
           "radialaxis": {
            "gridcolor": "white",
            "linecolor": "white",
            "ticks": ""
           }
          },
          "scene": {
           "xaxis": {
            "backgroundcolor": "#E5ECF6",
            "gridcolor": "white",
            "gridwidth": 2,
            "linecolor": "white",
            "showbackground": true,
            "ticks": "",
            "zerolinecolor": "white"
           },
           "yaxis": {
            "backgroundcolor": "#E5ECF6",
            "gridcolor": "white",
            "gridwidth": 2,
            "linecolor": "white",
            "showbackground": true,
            "ticks": "",
            "zerolinecolor": "white"
           },
           "zaxis": {
            "backgroundcolor": "#E5ECF6",
            "gridcolor": "white",
            "gridwidth": 2,
            "linecolor": "white",
            "showbackground": true,
            "ticks": "",
            "zerolinecolor": "white"
           }
          },
          "shapedefaults": {
           "line": {
            "color": "#2a3f5f"
           }
          },
          "ternary": {
           "aaxis": {
            "gridcolor": "white",
            "linecolor": "white",
            "ticks": ""
           },
           "baxis": {
            "gridcolor": "white",
            "linecolor": "white",
            "ticks": ""
           },
           "bgcolor": "#E5ECF6",
           "caxis": {
            "gridcolor": "white",
            "linecolor": "white",
            "ticks": ""
           }
          },
          "title": {
           "x": 0.05
          },
          "xaxis": {
           "automargin": true,
           "gridcolor": "white",
           "linecolor": "white",
           "ticks": "",
           "title": {
            "standoff": 15
           },
           "zerolinecolor": "white",
           "zerolinewidth": 2
          },
          "yaxis": {
           "automargin": true,
           "gridcolor": "white",
           "linecolor": "white",
           "ticks": "",
           "title": {
            "standoff": 15
           },
           "zerolinecolor": "white",
           "zerolinewidth": 2
          }
         }
        },
        "title": {
         "text": "Players Age distribution by position"
        },
        "violinmode": "group",
        "xaxis": {
         "anchor": "y",
         "domain": [
          0,
          1
         ],
         "title": {
          "text": "Position"
         }
        },
        "yaxis": {
         "anchor": "x",
         "domain": [
          0,
          1
         ],
         "title": {
          "text": "Age"
         }
        }
       }
      },
      "text/html": [
       "<div>                            <div id=\"4cfdddf3-020e-43ba-8e29-7509916c7cf6\" class=\"plotly-graph-div\" style=\"height:525px; width:100%;\"></div>            <script type=\"text/javascript\">                require([\"plotly\"], function(Plotly) {                    window.PLOTLYENV=window.PLOTLYENV || {};                                    if (document.getElementById(\"4cfdddf3-020e-43ba-8e29-7509916c7cf6\")) {                    Plotly.newPlot(                        \"4cfdddf3-020e-43ba-8e29-7509916c7cf6\",                        [{\"alignmentgroup\": \"True\", \"box\": {\"visible\": true}, \"hovertemplate\": \"Position=%{x}<br>Age=%{y}<extra></extra>\", \"legendgroup\": \"\", \"marker\": {\"color\": \"#636efa\"}, \"name\": \"\", \"offsetgroup\": \"\", \"orientation\": \"v\", \"scalegroup\": \"True\", \"showlegend\": false, \"type\": \"violin\", \"x\": [\"Goalkeeper\", \"Goalkeeper\", \"Goalkeeper\", \"Defender\", \"Defender\", \"Defender\", \"Defender\", \"Defender\", \"Defender\", \"Defender\", \"Defender\", \"Defender\", \"Defender\", \"Midfielder\", \"Midfielder\", \"Midfielder\", \"Midfielder\", \"Midfielder\", \"Midfielder\", \"Midfielder\", \"Midfielder\", \"Midfielder\", \"Midfielder\", \"Forward\", \"Forward\", \"Forward\", \"Forward\", \"Forward\", \"Forward\", \"Forward\", \"Goalkeeper\", \"Goalkeeper\", \"Goalkeeper\", \"Goalkeeper\", \"Goalkeeper\", \"Defender\", \"Defender\", \"Defender\", \"Defender\", \"Defender\", \"Defender\", \"Defender\", \"Defender\", \"Defender\", \"Midfielder\", \"Midfielder\", \"Midfielder\", \"Midfielder\", \"Midfielder\", \"Midfielder\", \"Midfielder\", \"Midfielder\", \"Midfielder\", \"Midfielder\", \"Forward\", \"Forward\", \"Forward\", \"Goalkeeper\", \"Goalkeeper\", \"Goalkeeper\", \"Goalkeeper\", \"Defender\", \"Defender\", \"Defender\", \"Defender\", \"Defender\", \"Defender\", \"Defender\", \"Defender\", \"Defender\", \"Defender\", \"Midfielder\", \"Midfielder\", \"Midfielder\", \"Midfielder\", \"Midfielder\", \"Midfielder\", \"Midfielder\", \"Midfielder\", \"Midfielder\", \"Midfielder\", \"Midfielder\", \"Midfielder\", \"Forward\", \"Forward\", \"Forward\", \"Forward\", \"Forward\", \"Forward\", \"Forward\", \"Goalkeeper\", \"Goalkeeper\", \"Goalkeeper\", \"Defender\", \"Defender\", \"Defender\", \"Defender\", \"Defender\", \"Defender\", \"Defender\", \"Defender\", \"Defender\", \"Defender\", \"Midfielder\", \"Midfielder\", \"Midfielder\", \"Midfielder\", \"Midfielder\", \"Midfielder\", \"Midfielder\", \"Forward\", \"Forward\", \"Forward\", \"Forward\", \"Goalkeeper\", \"Goalkeeper\", \"Defender\", \"Defender\", \"Defender\", \"Defender\", \"Defender\", \"Defender\", \"Defender\", \"Defender\", \"Defender\", \"Defender\", \"Midfielder\", \"Midfielder\", \"Midfielder\", \"Midfielder\", \"Midfielder\", \"Midfielder\", \"Midfielder\", \"Midfielder\", \"Midfielder\", \"Midfielder\", \"Forward\", \"Forward\", \"Forward\", \"Forward\", \"Goalkeeper\", \"Goalkeeper\", \"Goalkeeper\", \"Defender\", \"Defender\", \"Defender\", \"Defender\", \"Defender\", \"Defender\", \"Defender\", \"Defender\", \"Defender\", \"Defender\", \"Defender\", \"Midfielder\", \"Midfielder\", \"Midfielder\", \"Midfielder\", \"Midfielder\", \"Midfielder\", \"Midfielder\", \"Midfielder\", \"Midfielder\", \"Midfielder\", \"Forward\", \"Forward\", \"Forward\", \"Forward\", \"Forward\", \"Forward\", \"Goalkeeper\", \"Goalkeeper\", \"Goalkeeper\", \"Defender\", \"Defender\", \"Defender\", \"Defender\", \"Defender\", \"Defender\", \"Defender\", \"Defender\", \"Midfielder\", \"Midfielder\", \"Midfielder\", \"Midfielder\", \"Midfielder\", \"Midfielder\", \"Midfielder\", \"Midfielder\", \"Midfielder\", \"Midfielder\", \"Forward\", \"Forward\", \"Forward\", \"Forward\", \"Forward\", \"Forward\", \"Forward\", \"Forward\", \"Forward\", \"Forward\", \"Goalkeeper\", \"Goalkeeper\", \"Goalkeeper\", \"Defender\", \"Defender\", \"Defender\", \"Defender\", \"Defender\", \"Defender\", \"Defender\", \"Defender\", \"Midfielder\", \"Midfielder\", \"Midfielder\", \"Midfielder\", \"Midfielder\", \"Midfielder\", \"Midfielder\", \"Midfielder\", \"Midfielder\", \"Midfielder\", \"Forward\", \"Forward\", \"Forward\", \"Forward\", \"Goalkeeper\", \"Goalkeeper\", \"Defender\", \"Defender\", \"Defender\", \"Defender\", \"Defender\", \"Defender\", \"Defender\", \"Defender\", \"Defender\", \"Midfielder\", \"Midfielder\", \"Midfielder\", \"Midfielder\", \"Midfielder\", \"Midfielder\", \"Midfielder\", \"Midfielder\", \"Midfielder\", \"Forward\", \"Forward\", \"Forward\", \"Forward\", \"Forward\", \"Goalkeeper\", \"Goalkeeper\", \"Goalkeeper\", \"Defender\", \"Defender\", \"Defender\", \"Defender\", \"Defender\", \"Defender\", \"Defender\", \"Defender\", \"Defender\", \"Defender\", \"Midfielder\", \"Midfielder\", \"Midfielder\", \"Midfielder\", \"Midfielder\", \"Midfielder\", \"Midfielder\", \"Midfielder\", \"Midfielder\", \"Midfielder\", \"Midfielder\", \"Midfielder\", \"Forward\", \"Forward\", \"Forward\", \"Forward\", \"Forward\", \"Goalkeeper\", \"Goalkeeper\", \"Goalkeeper\", \"Goalkeeper\", \"Goalkeeper\", \"Defender\", \"Defender\", \"Defender\", \"Defender\", \"Defender\", \"Defender\", \"Defender\", \"Defender\", \"Defender\", \"Midfielder\", \"Midfielder\", \"Midfielder\", \"Midfielder\", \"Midfielder\", \"Midfielder\", \"Midfielder\", \"Midfielder\", \"Midfielder\", \"Midfielder\", \"Midfielder\", \"Midfielder\", \"Forward\", \"Forward\", \"Forward\", \"Forward\", \"Forward\", \"Forward\", \"Forward\", \"Forward\", \"Goalkeeper\", \"Goalkeeper\", \"Defender\", \"Defender\", \"Defender\", \"Defender\", \"Defender\", \"Defender\", \"Defender\", \"Defender\", \"Defender\", \"Midfielder\", \"Midfielder\", \"Midfielder\", \"Midfielder\", \"Midfielder\", \"Midfielder\", \"Midfielder\", \"Midfielder\", \"Forward\", \"Forward\", \"Forward\", \"Forward\", \"Forward\", \"Forward\", \"Goalkeeper\", \"Goalkeeper\", \"Goalkeeper\", \"Defender\", \"Defender\", \"Defender\", \"Defender\", \"Defender\", \"Defender\", \"Defender\", \"Defender\", \"Defender\", \"Defender\", \"Defender\", \"Defender\", \"Defender\", \"Midfielder\", \"Midfielder\", \"Midfielder\", \"Midfielder\", \"Midfielder\", \"Midfielder\", \"Midfielder\", \"Midfielder\", \"Midfielder\", \"Midfielder\", \"Forward\", \"Forward\", \"Forward\", \"Forward\", \"Goalkeeper\", \"Goalkeeper\", \"Goalkeeper\", \"Goalkeeper\", \"Defender\", \"Defender\", \"Defender\", \"Defender\", \"Defender\", \"Defender\", \"Defender\", \"Defender\", \"Defender\", \"Midfielder\", \"Midfielder\", \"Midfielder\", \"Midfielder\", \"Midfielder\", \"Midfielder\", \"Midfielder\", \"Midfielder\", \"Midfielder\", \"Midfielder\", \"Midfielder\", \"Midfielder\", \"Forward\", \"Forward\", \"Forward\", \"Forward\", \"Forward\", \"Goalkeeper\", \"Goalkeeper\", \"Goalkeeper\", \"Goalkeeper\", \"Defender\", \"Defender\", \"Defender\", \"Defender\", \"Defender\", \"Defender\", \"Defender\", \"Defender\", \"Defender\", \"Defender\", \"Defender\", \"Midfielder\", \"Midfielder\", \"Midfielder\", \"Midfielder\", \"Midfielder\", \"Midfielder\", \"Midfielder\", \"Midfielder\", \"Midfielder\", \"Forward\", \"Forward\", \"Forward\", \"Forward\", \"Goalkeeper\", \"Goalkeeper\", \"Goalkeeper\", \"Goalkeeper\", \"Defender\", \"Defender\", \"Defender\", \"Defender\", \"Defender\", \"Defender\", \"Defender\", \"Defender\", \"Midfielder\", \"Midfielder\", \"Midfielder\", \"Midfielder\", \"Midfielder\", \"Midfielder\", \"Midfielder\", \"Midfielder\", \"Forward\", \"Forward\", \"Forward\", \"Forward\", \"Goalkeeper\", \"Goalkeeper\", \"Goalkeeper\", \"Goalkeeper\", \"Goalkeeper\", \"Defender\", \"Defender\", \"Defender\", \"Defender\", \"Defender\", \"Defender\", \"Defender\", \"Defender\", \"Defender\", \"Midfielder\", \"Midfielder\", \"Midfielder\", \"Midfielder\", \"Midfielder\", \"Midfielder\", \"Midfielder\", \"Midfielder\", \"Midfielder\", \"Midfielder\", \"Midfielder\", \"Forward\", \"Forward\", \"Forward\", \"Forward\", \"Forward\", \"Forward\", \"Goalkeeper\", \"Goalkeeper\", \"Goalkeeper\", \"Defender\", \"Defender\", \"Defender\", \"Defender\", \"Defender\", \"Defender\", \"Defender\", \"Defender\", \"Defender\", \"Defender\", \"Midfielder\", \"Midfielder\", \"Midfielder\", \"Midfielder\", \"Midfielder\", \"Midfielder\", \"Midfielder\", \"Midfielder\", \"Midfielder\", \"Forward\", \"Forward\", \"Forward\", \"Forward\", \"Forward\", \"Forward\", \"Goalkeeper\", \"Goalkeeper\", \"Goalkeeper\", \"Goalkeeper\", \"Defender\", \"Defender\", \"Defender\", \"Defender\", \"Defender\", \"Defender\", \"Defender\", \"Defender\", \"Defender\", \"Defender\", \"Midfielder\", \"Midfielder\", \"Midfielder\", \"Midfielder\", \"Midfielder\", \"Midfielder\", \"Midfielder\", \"Midfielder\", \"Midfielder\", \"Forward\", \"Forward\", \"Forward\", \"Forward\", \"Forward\", \"Forward\", \"Goalkeeper\", \"Goalkeeper\", \"Defender\", \"Defender\", \"Defender\", \"Defender\", \"Defender\", \"Defender\", \"Defender\", \"Defender\", \"Midfielder\", \"Midfielder\", \"Midfielder\", \"Midfielder\", \"Midfielder\", \"Midfielder\", \"Midfielder\", \"Forward\", \"Forward\", \"Forward\", \"Forward\", \"Forward\"], \"x0\": \" \", \"xaxis\": \"x\", \"y\": [28.0, 26.0, 25.0, 25.0, 23.0, 19.0, 32.0, 25.0, 28.0, 25.0, 33.0, 27.0, 22.0, 31.0, 24.0, 23.0, 28.0, 21.0, 21.0, 20.0, 27.0, 19.0, 24.0, 29.0, 31.0, 25.0, 20.0, 21.0, 19.0, 32.0, 34.0, 28.0, 30.0, 30.0, 28.0, 31.0, 22.0, 25.0, 26.0, 25.0, 33.0, 25.0, 27.0, 23.0, 22.0, 25.0, 29.0, 25.0, 26.0, 29.0, 25.0, 25.0, 29.0, 19.0, 23.0, 22.0, 24.0, 28.0, 30.0, 24.0, 22.0, 22.0, 19.0, 28.0, 25.0, 25.0, 28.0, 28.0, 20.0, 20.0, 18.0, 31.0, 24.0, 21.0, 29.0, 32.0, 26.0, 29.0, 22.0, 21.0, 21.0, 19.0, 20.0, 25.0, 24.0, 27.0, 28.0, 20.0, 27.0, 22.0, 28.0, 23.0, 27.0, 31.0, 27.0, 27.0, 31.0, 32.0, 35.0, 30.0, 22.0, 19.0, 20.0, 31.0, 29.0, 24.0, 20.0, 28.0, 30.0, 20.0, 28.0, 30.0, 31.0, 28.0, 25.0, 38.0, 27.0, 29.0, 24.0, 25.0, 20.0, 31.0, 22.0, 26.0, 23.0, 36.0, 27.0, 28.0, 29.0, 26.0, 24.0, 26.0, 21.0, 22.0, 19.0, 21.0, 24.0, 22.0, 33.0, 19.0, 33.0, 33.0, 32.0, 30.0, 30.0, 31.0, 33.0, 30.0, 34.0, 30.0, 21.0, 26.0, 22.0, 25.0, 29.0, 25.0, 30.0, 29.0, 27.0, 32.0, 29.0, 24.0, 22.0, 20.0, 29.0, 27.0, 29.0, 27.0, 18.0, 26.0, 26.0, 20.0, 31.0, 23.0, 27.0, 27.0, 26.0, 31.0, 18.0, 23.0, 19.0, 30.0, 31.0, 27.0, 24.0, 22.0, 22.0, 29.0, 29.0, 27.0, 28.0, 25.0, 31.0, 23.0, 23.0, 31.0, 29.0, 24.0, 28.0, 20.0, 19.0, 23.0, 32.0, 27.0, 28.0, 32.0, 32.0, 30.0, 27.0, 23.0, 24.0, 23.0, 29.0, 31.0, 28.0, 29.0, 29.0, 23.0, 24.0, 27.0, 25.0, 20.0, 26.0, 27.0, 26.0, 25.0, 33.0, 19.0, 29.0, 31.0, 29.0, 21.0, 20.0, 24.0, 19.0, 17.0, 20.0, 28.0, 29.0, 35.0, 24.0, 30.0, 20.0, 23.0, 20.0, 19.0, 20.0, 27.0, 21.0, 18.0, 29.0, 33.0, 27.0, 35.0, 22.0, 24.0, 36.0, 32.0, 23.0, 25.0, 26.0, 34.0, 19.0, 24.0, 24.0, 23.0, 23.0, 30.0, 22.0, 22.0, 29.0, 31.0, 23.0, 26.0, 28.0, 28.0, 33.0, 32.0, 23.0, 27.0, 24.0, 27.0, 27.0, 33.0, 21.0, 21.0, 29.0, 23.0, 26.0, 29.0, 21.0, 19.0, 24.0, 23.0, 18.0, 26.0, 29.0, 34.0, 25.0, 30.0, 27.0, 24.0, 19.0, 23.0, 17.0, 28.0, 29.0, 28.0, 28.0, 28.0, 25.0, 20.0, 25.0, 20.0, 23.0, 27.0, 35.0, 25.0, 30.0, 26.0, 23.0, 26.0, 26.0, 26.0, 32.0, 19.0, 29.0, 24.0, 29.0, 26.0, 35.0, 20.0, 18.0, 19.0, 20.0, 25.0, 23.0, 32.0, 29.0, 17.0, 29.0, 33.0, 23.0, 26.0, 26.0, 28.0, 27.0, 30.0, 30.0, 21.0, 25.0, 22.0, 22.0, 22.0, 20.0, 18.0, 27.0, 32.0, 27.0, 24.0, 27.0, 26.0, 22.0, 32.0, 23.0, 23.0, 24.0, 22.0, 31.0, 18.0, 28.0, 31.0, 29.0, 19.0, 30.0, 28.0, 28.0, 26.0, 26.0, 31.0, 26.0, 27.0, 22.0, 25.0, 28.0, 31.0, 25.0, 26.0, 28.0, 22.0, 20.0, 28.0, 26.0, 29.0, 23.0, 31.0, 24.0, 23.0, 29.0, 28.0, 29.0, 23.0, 30.0, 22.0, 27.0, 30.0, 26.0, 32.0, 27.0, 27.0, 23.0, 38.0, 23.0, 20.0, 20.0, 29.0, 26.0, 29.0, 26.0, 22.0, 29.0, 21.0, 23.0, 18.0, 24.0, 34.0, 32.0, 24.0, 30.0, 24.0, 32.0, 22.0, 28.0, 26.0, 31.0, 20.0, 24.0, 21.0, 23.0, 21.0, 22.0, 29.0, 25.0, 28.0, 27.0, 26.0, 20.0, 21.0, 33.0, 28.0, 24.0, 20.0, 33.0, 28.0, 33.0, 21.0, 21.0, 31.0, 24.0, 22.0, 27.0, 27.0, 21.0, 28.0, 18.0, 23.0, 24.0, 28.0, 26.0, 31.0, 20.0, 24.0, 23.0, 21.0, 25.0, 19.0, 24.0, 28.0, 19.0, 28.0, 27.0, 22.0, 31.0, 27.0, 31.0, 27.0, 24.0, 30.0, 29.0, 26.0, 27.0, 29.0, 21.0, 23.0, 33.0, 36.0, 30.0, 29.0, 32.0, 20.0, 28.0, 22.0, 22.0, 22.0, 20.0, 31.0, 26.0, 24.0, 31.0, 25.0, 19.0, 35.0, 34.0, 33.0, 21.0, 30.0, 29.0, 19.0, 32.0, 23.0, 27.0, 26.0, 20.0, 19.0, 18.0, 27.0, 27.0, 33.0, 33.0, 24.0, 28.0, 21.0, 24.0, 20.0, 30.0, 30.0, 23.0, 26.0, 23.0, 19.0, 32.0, 33.0, 29.0, 27.0, 26.0, 21.0, 23.0, 22.0, 31.0, 18.0, 23.0, 24.0, 30.0, 34.0, 25.0, 20.0, 21.0, 20.0, 29.0, 24.0, 18.0, 20.0], \"y0\": \" \", \"yaxis\": \"y\"}],                        {\"legend\": {\"tracegroupgap\": 0}, \"template\": {\"data\": {\"bar\": [{\"error_x\": {\"color\": \"#2a3f5f\"}, \"error_y\": {\"color\": \"#2a3f5f\"}, \"marker\": {\"line\": {\"color\": \"#E5ECF6\", \"width\": 0.5}}, \"type\": \"bar\"}], \"barpolar\": [{\"marker\": {\"line\": {\"color\": \"#E5ECF6\", \"width\": 0.5}}, \"type\": \"barpolar\"}], \"carpet\": [{\"aaxis\": {\"endlinecolor\": \"#2a3f5f\", \"gridcolor\": \"white\", \"linecolor\": \"white\", \"minorgridcolor\": \"white\", \"startlinecolor\": \"#2a3f5f\"}, \"baxis\": {\"endlinecolor\": \"#2a3f5f\", \"gridcolor\": \"white\", \"linecolor\": \"white\", \"minorgridcolor\": \"white\", \"startlinecolor\": \"#2a3f5f\"}, \"type\": \"carpet\"}], \"choropleth\": [{\"colorbar\": {\"outlinewidth\": 0, \"ticks\": \"\"}, \"type\": \"choropleth\"}], \"contour\": [{\"colorbar\": {\"outlinewidth\": 0, \"ticks\": \"\"}, \"colorscale\": [[0.0, \"#0d0887\"], [0.1111111111111111, \"#46039f\"], [0.2222222222222222, \"#7201a8\"], [0.3333333333333333, \"#9c179e\"], [0.4444444444444444, \"#bd3786\"], [0.5555555555555556, \"#d8576b\"], [0.6666666666666666, \"#ed7953\"], [0.7777777777777778, \"#fb9f3a\"], [0.8888888888888888, \"#fdca26\"], [1.0, \"#f0f921\"]], \"type\": \"contour\"}], \"contourcarpet\": [{\"colorbar\": {\"outlinewidth\": 0, \"ticks\": \"\"}, \"type\": \"contourcarpet\"}], \"heatmap\": [{\"colorbar\": {\"outlinewidth\": 0, \"ticks\": \"\"}, \"colorscale\": [[0.0, \"#0d0887\"], [0.1111111111111111, \"#46039f\"], [0.2222222222222222, \"#7201a8\"], [0.3333333333333333, \"#9c179e\"], [0.4444444444444444, \"#bd3786\"], [0.5555555555555556, \"#d8576b\"], [0.6666666666666666, \"#ed7953\"], [0.7777777777777778, \"#fb9f3a\"], [0.8888888888888888, \"#fdca26\"], [1.0, \"#f0f921\"]], \"type\": \"heatmap\"}], \"heatmapgl\": [{\"colorbar\": {\"outlinewidth\": 0, \"ticks\": \"\"}, \"colorscale\": [[0.0, \"#0d0887\"], [0.1111111111111111, \"#46039f\"], [0.2222222222222222, \"#7201a8\"], [0.3333333333333333, \"#9c179e\"], [0.4444444444444444, \"#bd3786\"], [0.5555555555555556, \"#d8576b\"], [0.6666666666666666, \"#ed7953\"], [0.7777777777777778, \"#fb9f3a\"], [0.8888888888888888, \"#fdca26\"], [1.0, \"#f0f921\"]], \"type\": \"heatmapgl\"}], \"histogram\": [{\"marker\": {\"colorbar\": {\"outlinewidth\": 0, \"ticks\": \"\"}}, \"type\": \"histogram\"}], \"histogram2d\": [{\"colorbar\": {\"outlinewidth\": 0, \"ticks\": \"\"}, \"colorscale\": [[0.0, \"#0d0887\"], [0.1111111111111111, \"#46039f\"], [0.2222222222222222, \"#7201a8\"], [0.3333333333333333, \"#9c179e\"], [0.4444444444444444, \"#bd3786\"], [0.5555555555555556, \"#d8576b\"], [0.6666666666666666, \"#ed7953\"], [0.7777777777777778, \"#fb9f3a\"], [0.8888888888888888, \"#fdca26\"], [1.0, \"#f0f921\"]], \"type\": \"histogram2d\"}], \"histogram2dcontour\": [{\"colorbar\": {\"outlinewidth\": 0, \"ticks\": \"\"}, \"colorscale\": [[0.0, \"#0d0887\"], [0.1111111111111111, \"#46039f\"], [0.2222222222222222, \"#7201a8\"], [0.3333333333333333, \"#9c179e\"], [0.4444444444444444, \"#bd3786\"], [0.5555555555555556, \"#d8576b\"], [0.6666666666666666, \"#ed7953\"], [0.7777777777777778, \"#fb9f3a\"], [0.8888888888888888, \"#fdca26\"], [1.0, \"#f0f921\"]], \"type\": \"histogram2dcontour\"}], \"mesh3d\": [{\"colorbar\": {\"outlinewidth\": 0, \"ticks\": \"\"}, \"type\": \"mesh3d\"}], \"parcoords\": [{\"line\": {\"colorbar\": {\"outlinewidth\": 0, \"ticks\": \"\"}}, \"type\": \"parcoords\"}], \"pie\": [{\"automargin\": true, \"type\": \"pie\"}], \"scatter\": [{\"marker\": {\"colorbar\": {\"outlinewidth\": 0, \"ticks\": \"\"}}, \"type\": \"scatter\"}], \"scatter3d\": [{\"line\": {\"colorbar\": {\"outlinewidth\": 0, \"ticks\": \"\"}}, \"marker\": {\"colorbar\": {\"outlinewidth\": 0, \"ticks\": \"\"}}, \"type\": \"scatter3d\"}], \"scattercarpet\": [{\"marker\": {\"colorbar\": {\"outlinewidth\": 0, \"ticks\": \"\"}}, \"type\": \"scattercarpet\"}], \"scattergeo\": [{\"marker\": {\"colorbar\": {\"outlinewidth\": 0, \"ticks\": \"\"}}, \"type\": \"scattergeo\"}], \"scattergl\": [{\"marker\": {\"colorbar\": {\"outlinewidth\": 0, \"ticks\": \"\"}}, \"type\": \"scattergl\"}], \"scattermapbox\": [{\"marker\": {\"colorbar\": {\"outlinewidth\": 0, \"ticks\": \"\"}}, \"type\": \"scattermapbox\"}], \"scatterpolar\": [{\"marker\": {\"colorbar\": {\"outlinewidth\": 0, \"ticks\": \"\"}}, \"type\": \"scatterpolar\"}], \"scatterpolargl\": [{\"marker\": {\"colorbar\": {\"outlinewidth\": 0, \"ticks\": \"\"}}, \"type\": \"scatterpolargl\"}], \"scatterternary\": [{\"marker\": {\"colorbar\": {\"outlinewidth\": 0, \"ticks\": \"\"}}, \"type\": \"scatterternary\"}], \"surface\": [{\"colorbar\": {\"outlinewidth\": 0, \"ticks\": \"\"}, \"colorscale\": [[0.0, \"#0d0887\"], [0.1111111111111111, \"#46039f\"], [0.2222222222222222, \"#7201a8\"], [0.3333333333333333, \"#9c179e\"], [0.4444444444444444, \"#bd3786\"], [0.5555555555555556, \"#d8576b\"], [0.6666666666666666, \"#ed7953\"], [0.7777777777777778, \"#fb9f3a\"], [0.8888888888888888, \"#fdca26\"], [1.0, \"#f0f921\"]], \"type\": \"surface\"}], \"table\": [{\"cells\": {\"fill\": {\"color\": \"#EBF0F8\"}, \"line\": {\"color\": \"white\"}}, \"header\": {\"fill\": {\"color\": \"#C8D4E3\"}, \"line\": {\"color\": \"white\"}}, \"type\": \"table\"}]}, \"layout\": {\"annotationdefaults\": {\"arrowcolor\": \"#2a3f5f\", \"arrowhead\": 0, \"arrowwidth\": 1}, \"autotypenumbers\": \"strict\", \"coloraxis\": {\"colorbar\": {\"outlinewidth\": 0, \"ticks\": \"\"}}, \"colorscale\": {\"diverging\": [[0, \"#8e0152\"], [0.1, \"#c51b7d\"], [0.2, \"#de77ae\"], [0.3, \"#f1b6da\"], [0.4, \"#fde0ef\"], [0.5, \"#f7f7f7\"], [0.6, \"#e6f5d0\"], [0.7, \"#b8e186\"], [0.8, \"#7fbc41\"], [0.9, \"#4d9221\"], [1, \"#276419\"]], \"sequential\": [[0.0, \"#0d0887\"], [0.1111111111111111, \"#46039f\"], [0.2222222222222222, \"#7201a8\"], [0.3333333333333333, \"#9c179e\"], [0.4444444444444444, \"#bd3786\"], [0.5555555555555556, \"#d8576b\"], [0.6666666666666666, \"#ed7953\"], [0.7777777777777778, \"#fb9f3a\"], [0.8888888888888888, \"#fdca26\"], [1.0, \"#f0f921\"]], \"sequentialminus\": [[0.0, \"#0d0887\"], [0.1111111111111111, \"#46039f\"], [0.2222222222222222, \"#7201a8\"], [0.3333333333333333, \"#9c179e\"], [0.4444444444444444, \"#bd3786\"], [0.5555555555555556, \"#d8576b\"], [0.6666666666666666, \"#ed7953\"], [0.7777777777777778, \"#fb9f3a\"], [0.8888888888888888, \"#fdca26\"], [1.0, \"#f0f921\"]]}, \"colorway\": [\"#636efa\", \"#EF553B\", \"#00cc96\", \"#ab63fa\", \"#FFA15A\", \"#19d3f3\", \"#FF6692\", \"#B6E880\", \"#FF97FF\", \"#FECB52\"], \"font\": {\"color\": \"#2a3f5f\"}, \"geo\": {\"bgcolor\": \"white\", \"lakecolor\": \"white\", \"landcolor\": \"#E5ECF6\", \"showlakes\": true, \"showland\": true, \"subunitcolor\": \"white\"}, \"hoverlabel\": {\"align\": \"left\"}, \"hovermode\": \"closest\", \"mapbox\": {\"style\": \"light\"}, \"paper_bgcolor\": \"white\", \"plot_bgcolor\": \"#E5ECF6\", \"polar\": {\"angularaxis\": {\"gridcolor\": \"white\", \"linecolor\": \"white\", \"ticks\": \"\"}, \"bgcolor\": \"#E5ECF6\", \"radialaxis\": {\"gridcolor\": \"white\", \"linecolor\": \"white\", \"ticks\": \"\"}}, \"scene\": {\"xaxis\": {\"backgroundcolor\": \"#E5ECF6\", \"gridcolor\": \"white\", \"gridwidth\": 2, \"linecolor\": \"white\", \"showbackground\": true, \"ticks\": \"\", \"zerolinecolor\": \"white\"}, \"yaxis\": {\"backgroundcolor\": \"#E5ECF6\", \"gridcolor\": \"white\", \"gridwidth\": 2, \"linecolor\": \"white\", \"showbackground\": true, \"ticks\": \"\", \"zerolinecolor\": \"white\"}, \"zaxis\": {\"backgroundcolor\": \"#E5ECF6\", \"gridcolor\": \"white\", \"gridwidth\": 2, \"linecolor\": \"white\", \"showbackground\": true, \"ticks\": \"\", \"zerolinecolor\": \"white\"}}, \"shapedefaults\": {\"line\": {\"color\": \"#2a3f5f\"}}, \"ternary\": {\"aaxis\": {\"gridcolor\": \"white\", \"linecolor\": \"white\", \"ticks\": \"\"}, \"baxis\": {\"gridcolor\": \"white\", \"linecolor\": \"white\", \"ticks\": \"\"}, \"bgcolor\": \"#E5ECF6\", \"caxis\": {\"gridcolor\": \"white\", \"linecolor\": \"white\", \"ticks\": \"\"}}, \"title\": {\"x\": 0.05}, \"xaxis\": {\"automargin\": true, \"gridcolor\": \"white\", \"linecolor\": \"white\", \"ticks\": \"\", \"title\": {\"standoff\": 15}, \"zerolinecolor\": \"white\", \"zerolinewidth\": 2}, \"yaxis\": {\"automargin\": true, \"gridcolor\": \"white\", \"linecolor\": \"white\", \"ticks\": \"\", \"title\": {\"standoff\": 15}, \"zerolinecolor\": \"white\", \"zerolinewidth\": 2}}}, \"title\": {\"text\": \"Players Age distribution by position\"}, \"violinmode\": \"group\", \"xaxis\": {\"anchor\": \"y\", \"domain\": [0.0, 1.0], \"title\": {\"text\": \"Position\"}}, \"yaxis\": {\"anchor\": \"x\", \"domain\": [0.0, 1.0], \"title\": {\"text\": \"Age\"}}},                        {\"responsive\": true}                    ).then(function(){\n",
       "                            \n",
       "var gd = document.getElementById('4cfdddf3-020e-43ba-8e29-7509916c7cf6');\n",
       "var x = new MutationObserver(function (mutations, observer) {{\n",
       "        var display = window.getComputedStyle(gd).display;\n",
       "        if (!display || display === 'none') {{\n",
       "            console.log([gd, 'removed!']);\n",
       "            Plotly.purge(gd);\n",
       "            observer.disconnect();\n",
       "        }}\n",
       "}});\n",
       "\n",
       "// Listen for the removal of the full notebook cells\n",
       "var notebookContainer = gd.closest('#notebook-container');\n",
       "if (notebookContainer) {{\n",
       "    x.observe(notebookContainer, {childList: true});\n",
       "}}\n",
       "\n",
       "// Listen for the clearing of the current output cell\n",
       "var outputEl = gd.closest('.output');\n",
       "if (outputEl) {{\n",
       "    x.observe(outputEl, {childList: true});\n",
       "}}\n",
       "\n",
       "                        })                };                });            </script>        </div>"
      ]
     },
     "metadata": {},
     "output_type": "display_data"
    },
    {
     "data": {
      "application/vnd.plotly.v1+json": {
       "config": {
        "linkText": "Export to plot.ly",
        "plotlyServerURL": "https://plot.ly",
        "showLink": false
       },
       "data": [
        {
         "alignmentgroup": "True",
         "hovertemplate": "Club=%{x}<br>Age=%{y}<extra></extra>",
         "legendgroup": "",
         "marker": {
          "color": "#636efa"
         },
         "name": "",
         "notched": false,
         "offsetgroup": "",
         "orientation": "v",
         "showlegend": false,
         "type": "box",
         "x": [
          "Arsenal",
          "Arsenal",
          "Arsenal",
          "Arsenal",
          "Arsenal",
          "Arsenal",
          "Arsenal",
          "Arsenal",
          "Arsenal",
          "Arsenal",
          "Arsenal",
          "Arsenal",
          "Arsenal",
          "Arsenal",
          "Arsenal",
          "Arsenal",
          "Arsenal",
          "Arsenal",
          "Arsenal",
          "Arsenal",
          "Arsenal",
          "Arsenal",
          "Arsenal",
          "Arsenal",
          "Arsenal",
          "Arsenal",
          "Arsenal",
          "Arsenal",
          "Arsenal",
          "Arsenal",
          "Aston-Villa",
          "Aston-Villa",
          "Aston-Villa",
          "Aston-Villa",
          "Aston-Villa",
          "Aston-Villa",
          "Aston-Villa",
          "Aston-Villa",
          "Aston-Villa",
          "Aston-Villa",
          "Aston-Villa",
          "Aston-Villa",
          "Aston-Villa",
          "Aston-Villa",
          "Aston-Villa",
          "Aston-Villa",
          "Aston-Villa",
          "Aston-Villa",
          "Aston-Villa",
          "Aston-Villa",
          "Aston-Villa",
          "Aston-Villa",
          "Aston-Villa",
          "Aston-Villa",
          "Aston-Villa",
          "Aston-Villa",
          "Aston-Villa",
          "Brighton-and-Hove-Albion",
          "Brighton-and-Hove-Albion",
          "Brighton-and-Hove-Albion",
          "Brighton-and-Hove-Albion",
          "Brighton-and-Hove-Albion",
          "Brighton-and-Hove-Albion",
          "Brighton-and-Hove-Albion",
          "Brighton-and-Hove-Albion",
          "Brighton-and-Hove-Albion",
          "Brighton-and-Hove-Albion",
          "Brighton-and-Hove-Albion",
          "Brighton-and-Hove-Albion",
          "Brighton-and-Hove-Albion",
          "Brighton-and-Hove-Albion",
          "Brighton-and-Hove-Albion",
          "Brighton-and-Hove-Albion",
          "Brighton-and-Hove-Albion",
          "Brighton-and-Hove-Albion",
          "Brighton-and-Hove-Albion",
          "Brighton-and-Hove-Albion",
          "Brighton-and-Hove-Albion",
          "Brighton-and-Hove-Albion",
          "Brighton-and-Hove-Albion",
          "Brighton-and-Hove-Albion",
          "Brighton-and-Hove-Albion",
          "Brighton-and-Hove-Albion",
          "Brighton-and-Hove-Albion",
          "Brighton-and-Hove-Albion",
          "Brighton-and-Hove-Albion",
          "Brighton-and-Hove-Albion",
          "Brighton-and-Hove-Albion",
          "Brighton-and-Hove-Albion",
          "Brighton-and-Hove-Albion",
          "Burnley",
          "Burnley",
          "Burnley",
          "Burnley",
          "Burnley",
          "Burnley",
          "Burnley",
          "Burnley",
          "Burnley",
          "Burnley",
          "Burnley",
          "Burnley",
          "Burnley",
          "Burnley",
          "Burnley",
          "Burnley",
          "Burnley",
          "Burnley",
          "Burnley",
          "Burnley",
          "Burnley",
          "Burnley",
          "Burnley",
          "Burnley",
          "Chelsea",
          "Chelsea",
          "Chelsea",
          "Chelsea",
          "Chelsea",
          "Chelsea",
          "Chelsea",
          "Chelsea",
          "Chelsea",
          "Chelsea",
          "Chelsea",
          "Chelsea",
          "Chelsea",
          "Chelsea",
          "Chelsea",
          "Chelsea",
          "Chelsea",
          "Chelsea",
          "Chelsea",
          "Chelsea",
          "Chelsea",
          "Chelsea",
          "Chelsea",
          "Chelsea",
          "Chelsea",
          "Chelsea",
          "Crystal-Palace",
          "Crystal-Palace",
          "Crystal-Palace",
          "Crystal-Palace",
          "Crystal-Palace",
          "Crystal-Palace",
          "Crystal-Palace",
          "Crystal-Palace",
          "Crystal-Palace",
          "Crystal-Palace",
          "Crystal-Palace",
          "Crystal-Palace",
          "Crystal-Palace",
          "Crystal-Palace",
          "Crystal-Palace",
          "Crystal-Palace",
          "Crystal-Palace",
          "Crystal-Palace",
          "Crystal-Palace",
          "Crystal-Palace",
          "Crystal-Palace",
          "Crystal-Palace",
          "Crystal-Palace",
          "Crystal-Palace",
          "Crystal-Palace",
          "Crystal-Palace",
          "Crystal-Palace",
          "Crystal-Palace",
          "Crystal-Palace",
          "Crystal-Palace",
          "Everton",
          "Everton",
          "Everton",
          "Everton",
          "Everton",
          "Everton",
          "Everton",
          "Everton",
          "Everton",
          "Everton",
          "Everton",
          "Everton",
          "Everton",
          "Everton",
          "Everton",
          "Everton",
          "Everton",
          "Everton",
          "Everton",
          "Everton",
          "Everton",
          "Everton",
          "Everton",
          "Everton",
          "Everton",
          "Everton",
          "Everton",
          "Everton",
          "Everton",
          "Everton",
          "Everton",
          "Fulham",
          "Fulham",
          "Fulham",
          "Fulham",
          "Fulham",
          "Fulham",
          "Fulham",
          "Fulham",
          "Fulham",
          "Fulham",
          "Fulham",
          "Fulham",
          "Fulham",
          "Fulham",
          "Fulham",
          "Fulham",
          "Fulham",
          "Fulham",
          "Fulham",
          "Fulham",
          "Fulham",
          "Fulham",
          "Fulham",
          "Fulham",
          "Fulham",
          "Leeds-United",
          "Leeds-United",
          "Leeds-United",
          "Leeds-United",
          "Leeds-United",
          "Leeds-United",
          "Leeds-United",
          "Leeds-United",
          "Leeds-United",
          "Leeds-United",
          "Leeds-United",
          "Leeds-United",
          "Leeds-United",
          "Leeds-United",
          "Leeds-United",
          "Leeds-United",
          "Leeds-United",
          "Leeds-United",
          "Leeds-United",
          "Leeds-United",
          "Leeds-United",
          "Leeds-United",
          "Leeds-United",
          "Leeds-United",
          "Leeds-United",
          "Leicester-City",
          "Leicester-City",
          "Leicester-City",
          "Leicester-City",
          "Leicester-City",
          "Leicester-City",
          "Leicester-City",
          "Leicester-City",
          "Leicester-City",
          "Leicester-City",
          "Leicester-City",
          "Leicester-City",
          "Leicester-City",
          "Leicester-City",
          "Leicester-City",
          "Leicester-City",
          "Leicester-City",
          "Leicester-City",
          "Leicester-City",
          "Leicester-City",
          "Leicester-City",
          "Leicester-City",
          "Leicester-City",
          "Leicester-City",
          "Leicester-City",
          "Leicester-City",
          "Leicester-City",
          "Leicester-City",
          "Leicester-City",
          "Leicester-City",
          "Liverpool",
          "Liverpool",
          "Liverpool",
          "Liverpool",
          "Liverpool",
          "Liverpool",
          "Liverpool",
          "Liverpool",
          "Liverpool",
          "Liverpool",
          "Liverpool",
          "Liverpool",
          "Liverpool",
          "Liverpool",
          "Liverpool",
          "Liverpool",
          "Liverpool",
          "Liverpool",
          "Liverpool",
          "Liverpool",
          "Liverpool",
          "Liverpool",
          "Liverpool",
          "Liverpool",
          "Liverpool",
          "Liverpool",
          "Liverpool",
          "Liverpool",
          "Liverpool",
          "Liverpool",
          "Liverpool",
          "Liverpool",
          "Liverpool",
          "Liverpool",
          "Manchester-City",
          "Manchester-City",
          "Manchester-City",
          "Manchester-City",
          "Manchester-City",
          "Manchester-City",
          "Manchester-City",
          "Manchester-City",
          "Manchester-City",
          "Manchester-City",
          "Manchester-City",
          "Manchester-City",
          "Manchester-City",
          "Manchester-City",
          "Manchester-City",
          "Manchester-City",
          "Manchester-City",
          "Manchester-City",
          "Manchester-City",
          "Manchester-City",
          "Manchester-City",
          "Manchester-City",
          "Manchester-City",
          "Manchester-City",
          "Manchester-City",
          "Manchester-United",
          "Manchester-United",
          "Manchester-United",
          "Manchester-United",
          "Manchester-United",
          "Manchester-United",
          "Manchester-United",
          "Manchester-United",
          "Manchester-United",
          "Manchester-United",
          "Manchester-United",
          "Manchester-United",
          "Manchester-United",
          "Manchester-United",
          "Manchester-United",
          "Manchester-United",
          "Manchester-United",
          "Manchester-United",
          "Manchester-United",
          "Manchester-United",
          "Manchester-United",
          "Manchester-United",
          "Manchester-United",
          "Manchester-United",
          "Manchester-United",
          "Manchester-United",
          "Manchester-United",
          "Manchester-United",
          "Manchester-United",
          "Manchester-United",
          "Newcastle-United",
          "Newcastle-United",
          "Newcastle-United",
          "Newcastle-United",
          "Newcastle-United",
          "Newcastle-United",
          "Newcastle-United",
          "Newcastle-United",
          "Newcastle-United",
          "Newcastle-United",
          "Newcastle-United",
          "Newcastle-United",
          "Newcastle-United",
          "Newcastle-United",
          "Newcastle-United",
          "Newcastle-United",
          "Newcastle-United",
          "Newcastle-United",
          "Newcastle-United",
          "Newcastle-United",
          "Newcastle-United",
          "Newcastle-United",
          "Newcastle-United",
          "Newcastle-United",
          "Newcastle-United",
          "Newcastle-United",
          "Newcastle-United",
          "Newcastle-United",
          "Newcastle-United",
          "Newcastle-United",
          "Sheffield-United",
          "Sheffield-United",
          "Sheffield-United",
          "Sheffield-United",
          "Sheffield-United",
          "Sheffield-United",
          "Sheffield-United",
          "Sheffield-United",
          "Sheffield-United",
          "Sheffield-United",
          "Sheffield-United",
          "Sheffield-United",
          "Sheffield-United",
          "Sheffield-United",
          "Sheffield-United",
          "Sheffield-United",
          "Sheffield-United",
          "Sheffield-United",
          "Sheffield-United",
          "Sheffield-United",
          "Sheffield-United",
          "Sheffield-United",
          "Sheffield-United",
          "Sheffield-United",
          "Sheffield-United",
          "Sheffield-United",
          "Sheffield-United",
          "Sheffield-United",
          "Southampton",
          "Southampton",
          "Southampton",
          "Southampton",
          "Southampton",
          "Southampton",
          "Southampton",
          "Southampton",
          "Southampton",
          "Southampton",
          "Southampton",
          "Southampton",
          "Southampton",
          "Southampton",
          "Southampton",
          "Southampton",
          "Southampton",
          "Southampton",
          "Southampton",
          "Southampton",
          "Southampton",
          "Southampton",
          "Southampton",
          "Southampton",
          "Tottenham-Hotspur",
          "Tottenham-Hotspur",
          "Tottenham-Hotspur",
          "Tottenham-Hotspur",
          "Tottenham-Hotspur",
          "Tottenham-Hotspur",
          "Tottenham-Hotspur",
          "Tottenham-Hotspur",
          "Tottenham-Hotspur",
          "Tottenham-Hotspur",
          "Tottenham-Hotspur",
          "Tottenham-Hotspur",
          "Tottenham-Hotspur",
          "Tottenham-Hotspur",
          "Tottenham-Hotspur",
          "Tottenham-Hotspur",
          "Tottenham-Hotspur",
          "Tottenham-Hotspur",
          "Tottenham-Hotspur",
          "Tottenham-Hotspur",
          "Tottenham-Hotspur",
          "Tottenham-Hotspur",
          "Tottenham-Hotspur",
          "Tottenham-Hotspur",
          "Tottenham-Hotspur",
          "Tottenham-Hotspur",
          "Tottenham-Hotspur",
          "Tottenham-Hotspur",
          "Tottenham-Hotspur",
          "Tottenham-Hotspur",
          "Tottenham-Hotspur",
          "West-Bromwich-Albion",
          "West-Bromwich-Albion",
          "West-Bromwich-Albion",
          "West-Bromwich-Albion",
          "West-Bromwich-Albion",
          "West-Bromwich-Albion",
          "West-Bromwich-Albion",
          "West-Bromwich-Albion",
          "West-Bromwich-Albion",
          "West-Bromwich-Albion",
          "West-Bromwich-Albion",
          "West-Bromwich-Albion",
          "West-Bromwich-Albion",
          "West-Bromwich-Albion",
          "West-Bromwich-Albion",
          "West-Bromwich-Albion",
          "West-Bromwich-Albion",
          "West-Bromwich-Albion",
          "West-Bromwich-Albion",
          "West-Bromwich-Albion",
          "West-Bromwich-Albion",
          "West-Bromwich-Albion",
          "West-Bromwich-Albion",
          "West-Bromwich-Albion",
          "West-Bromwich-Albion",
          "West-Bromwich-Albion",
          "West-Bromwich-Albion",
          "West-Bromwich-Albion",
          "West-Ham-United",
          "West-Ham-United",
          "West-Ham-United",
          "West-Ham-United",
          "West-Ham-United",
          "West-Ham-United",
          "West-Ham-United",
          "West-Ham-United",
          "West-Ham-United",
          "West-Ham-United",
          "West-Ham-United",
          "West-Ham-United",
          "West-Ham-United",
          "West-Ham-United",
          "West-Ham-United",
          "West-Ham-United",
          "West-Ham-United",
          "West-Ham-United",
          "West-Ham-United",
          "West-Ham-United",
          "West-Ham-United",
          "West-Ham-United",
          "West-Ham-United",
          "West-Ham-United",
          "West-Ham-United",
          "West-Ham-United",
          "West-Ham-United",
          "West-Ham-United",
          "West-Ham-United",
          "Wolverhampton-Wanderers",
          "Wolverhampton-Wanderers",
          "Wolverhampton-Wanderers",
          "Wolverhampton-Wanderers",
          "Wolverhampton-Wanderers",
          "Wolverhampton-Wanderers",
          "Wolverhampton-Wanderers",
          "Wolverhampton-Wanderers",
          "Wolverhampton-Wanderers",
          "Wolverhampton-Wanderers",
          "Wolverhampton-Wanderers",
          "Wolverhampton-Wanderers",
          "Wolverhampton-Wanderers",
          "Wolverhampton-Wanderers",
          "Wolverhampton-Wanderers",
          "Wolverhampton-Wanderers",
          "Wolverhampton-Wanderers",
          "Wolverhampton-Wanderers",
          "Wolverhampton-Wanderers",
          "Wolverhampton-Wanderers",
          "Wolverhampton-Wanderers",
          "Wolverhampton-Wanderers"
         ],
         "x0": " ",
         "xaxis": "x",
         "y": [
          28,
          26,
          25,
          25,
          23,
          19,
          32,
          25,
          28,
          25,
          33,
          27,
          22,
          31,
          24,
          23,
          28,
          21,
          21,
          20,
          27,
          19,
          24,
          29,
          31,
          25,
          20,
          21,
          19,
          32,
          34,
          28,
          30,
          30,
          28,
          31,
          22,
          25,
          26,
          25,
          33,
          25,
          27,
          23,
          22,
          25,
          29,
          25,
          26,
          29,
          25,
          25,
          29,
          19,
          23,
          22,
          24,
          28,
          30,
          24,
          22,
          22,
          19,
          28,
          25,
          25,
          28,
          28,
          20,
          20,
          18,
          31,
          24,
          21,
          29,
          32,
          26,
          29,
          22,
          21,
          21,
          19,
          20,
          25,
          24,
          27,
          28,
          20,
          27,
          22,
          28,
          23,
          27,
          31,
          27,
          27,
          31,
          32,
          35,
          30,
          22,
          19,
          20,
          31,
          29,
          24,
          20,
          28,
          30,
          20,
          28,
          30,
          31,
          28,
          25,
          38,
          27,
          29,
          24,
          25,
          20,
          31,
          22,
          26,
          23,
          36,
          27,
          28,
          29,
          26,
          24,
          26,
          21,
          22,
          19,
          21,
          24,
          22,
          33,
          19,
          33,
          33,
          32,
          30,
          30,
          31,
          33,
          30,
          34,
          30,
          21,
          26,
          22,
          25,
          29,
          25,
          30,
          29,
          27,
          32,
          29,
          24,
          22,
          20,
          29,
          27,
          29,
          27,
          18,
          26,
          26,
          20,
          31,
          23,
          27,
          27,
          26,
          31,
          18,
          23,
          19,
          30,
          31,
          27,
          24,
          22,
          22,
          29,
          29,
          27,
          28,
          25,
          31,
          23,
          23,
          31,
          29,
          24,
          28,
          20,
          19,
          23,
          32,
          27,
          28,
          32,
          32,
          30,
          27,
          23,
          24,
          23,
          29,
          31,
          28,
          29,
          29,
          23,
          24,
          27,
          25,
          20,
          26,
          27,
          26,
          25,
          33,
          19,
          29,
          31,
          29,
          21,
          20,
          24,
          19,
          17,
          20,
          28,
          29,
          35,
          24,
          30,
          20,
          23,
          20,
          19,
          20,
          27,
          21,
          18,
          29,
          33,
          27,
          35,
          22,
          24,
          36,
          32,
          23,
          25,
          26,
          34,
          19,
          24,
          24,
          23,
          23,
          30,
          22,
          22,
          29,
          31,
          23,
          26,
          28,
          28,
          33,
          32,
          23,
          27,
          24,
          27,
          27,
          33,
          21,
          21,
          29,
          23,
          26,
          29,
          21,
          19,
          24,
          23,
          18,
          26,
          29,
          34,
          25,
          30,
          27,
          24,
          19,
          23,
          17,
          28,
          29,
          28,
          28,
          28,
          25,
          20,
          25,
          20,
          23,
          27,
          35,
          25,
          30,
          26,
          23,
          26,
          26,
          26,
          32,
          19,
          29,
          24,
          29,
          26,
          35,
          20,
          18,
          19,
          20,
          25,
          23,
          32,
          29,
          17,
          29,
          33,
          23,
          26,
          26,
          28,
          27,
          30,
          30,
          21,
          25,
          22,
          22,
          22,
          20,
          18,
          27,
          32,
          27,
          24,
          27,
          26,
          22,
          32,
          23,
          23,
          24,
          22,
          31,
          18,
          28,
          31,
          29,
          19,
          30,
          28,
          28,
          26,
          26,
          31,
          26,
          27,
          22,
          25,
          28,
          31,
          25,
          26,
          28,
          22,
          20,
          28,
          26,
          29,
          23,
          31,
          24,
          23,
          29,
          28,
          29,
          23,
          30,
          22,
          27,
          30,
          26,
          32,
          27,
          27,
          23,
          38,
          23,
          20,
          20,
          29,
          26,
          29,
          26,
          22,
          29,
          21,
          23,
          18,
          24,
          34,
          32,
          24,
          30,
          24,
          32,
          22,
          28,
          26,
          31,
          20,
          24,
          21,
          23,
          21,
          22,
          29,
          25,
          28,
          27,
          26,
          20,
          21,
          33,
          28,
          24,
          20,
          33,
          28,
          33,
          21,
          21,
          31,
          24,
          22,
          27,
          27,
          21,
          28,
          18,
          23,
          24,
          28,
          26,
          31,
          20,
          24,
          23,
          21,
          25,
          19,
          24,
          28,
          19,
          28,
          27,
          22,
          31,
          27,
          31,
          27,
          24,
          30,
          29,
          26,
          27,
          29,
          21,
          23,
          33,
          36,
          30,
          29,
          32,
          20,
          28,
          22,
          22,
          22,
          20,
          31,
          26,
          24,
          31,
          25,
          19,
          35,
          34,
          33,
          21,
          30,
          29,
          19,
          32,
          23,
          27,
          26,
          20,
          19,
          18,
          27,
          27,
          33,
          33,
          24,
          28,
          21,
          24,
          20,
          30,
          30,
          23,
          26,
          23,
          19,
          32,
          33,
          29,
          27,
          26,
          21,
          23,
          22,
          31,
          18,
          23,
          24,
          30,
          34,
          25,
          20,
          21,
          20,
          29,
          24,
          18,
          20
         ],
         "y0": " ",
         "yaxis": "y"
        }
       ],
       "layout": {
        "boxmode": "group",
        "legend": {
         "tracegroupgap": 0
        },
        "template": {
         "data": {
          "bar": [
           {
            "error_x": {
             "color": "#2a3f5f"
            },
            "error_y": {
             "color": "#2a3f5f"
            },
            "marker": {
             "line": {
              "color": "#E5ECF6",
              "width": 0.5
             }
            },
            "type": "bar"
           }
          ],
          "barpolar": [
           {
            "marker": {
             "line": {
              "color": "#E5ECF6",
              "width": 0.5
             }
            },
            "type": "barpolar"
           }
          ],
          "carpet": [
           {
            "aaxis": {
             "endlinecolor": "#2a3f5f",
             "gridcolor": "white",
             "linecolor": "white",
             "minorgridcolor": "white",
             "startlinecolor": "#2a3f5f"
            },
            "baxis": {
             "endlinecolor": "#2a3f5f",
             "gridcolor": "white",
             "linecolor": "white",
             "minorgridcolor": "white",
             "startlinecolor": "#2a3f5f"
            },
            "type": "carpet"
           }
          ],
          "choropleth": [
           {
            "colorbar": {
             "outlinewidth": 0,
             "ticks": ""
            },
            "type": "choropleth"
           }
          ],
          "contour": [
           {
            "colorbar": {
             "outlinewidth": 0,
             "ticks": ""
            },
            "colorscale": [
             [
              0,
              "#0d0887"
             ],
             [
              0.1111111111111111,
              "#46039f"
             ],
             [
              0.2222222222222222,
              "#7201a8"
             ],
             [
              0.3333333333333333,
              "#9c179e"
             ],
             [
              0.4444444444444444,
              "#bd3786"
             ],
             [
              0.5555555555555556,
              "#d8576b"
             ],
             [
              0.6666666666666666,
              "#ed7953"
             ],
             [
              0.7777777777777778,
              "#fb9f3a"
             ],
             [
              0.8888888888888888,
              "#fdca26"
             ],
             [
              1,
              "#f0f921"
             ]
            ],
            "type": "contour"
           }
          ],
          "contourcarpet": [
           {
            "colorbar": {
             "outlinewidth": 0,
             "ticks": ""
            },
            "type": "contourcarpet"
           }
          ],
          "heatmap": [
           {
            "colorbar": {
             "outlinewidth": 0,
             "ticks": ""
            },
            "colorscale": [
             [
              0,
              "#0d0887"
             ],
             [
              0.1111111111111111,
              "#46039f"
             ],
             [
              0.2222222222222222,
              "#7201a8"
             ],
             [
              0.3333333333333333,
              "#9c179e"
             ],
             [
              0.4444444444444444,
              "#bd3786"
             ],
             [
              0.5555555555555556,
              "#d8576b"
             ],
             [
              0.6666666666666666,
              "#ed7953"
             ],
             [
              0.7777777777777778,
              "#fb9f3a"
             ],
             [
              0.8888888888888888,
              "#fdca26"
             ],
             [
              1,
              "#f0f921"
             ]
            ],
            "type": "heatmap"
           }
          ],
          "heatmapgl": [
           {
            "colorbar": {
             "outlinewidth": 0,
             "ticks": ""
            },
            "colorscale": [
             [
              0,
              "#0d0887"
             ],
             [
              0.1111111111111111,
              "#46039f"
             ],
             [
              0.2222222222222222,
              "#7201a8"
             ],
             [
              0.3333333333333333,
              "#9c179e"
             ],
             [
              0.4444444444444444,
              "#bd3786"
             ],
             [
              0.5555555555555556,
              "#d8576b"
             ],
             [
              0.6666666666666666,
              "#ed7953"
             ],
             [
              0.7777777777777778,
              "#fb9f3a"
             ],
             [
              0.8888888888888888,
              "#fdca26"
             ],
             [
              1,
              "#f0f921"
             ]
            ],
            "type": "heatmapgl"
           }
          ],
          "histogram": [
           {
            "marker": {
             "colorbar": {
              "outlinewidth": 0,
              "ticks": ""
             }
            },
            "type": "histogram"
           }
          ],
          "histogram2d": [
           {
            "colorbar": {
             "outlinewidth": 0,
             "ticks": ""
            },
            "colorscale": [
             [
              0,
              "#0d0887"
             ],
             [
              0.1111111111111111,
              "#46039f"
             ],
             [
              0.2222222222222222,
              "#7201a8"
             ],
             [
              0.3333333333333333,
              "#9c179e"
             ],
             [
              0.4444444444444444,
              "#bd3786"
             ],
             [
              0.5555555555555556,
              "#d8576b"
             ],
             [
              0.6666666666666666,
              "#ed7953"
             ],
             [
              0.7777777777777778,
              "#fb9f3a"
             ],
             [
              0.8888888888888888,
              "#fdca26"
             ],
             [
              1,
              "#f0f921"
             ]
            ],
            "type": "histogram2d"
           }
          ],
          "histogram2dcontour": [
           {
            "colorbar": {
             "outlinewidth": 0,
             "ticks": ""
            },
            "colorscale": [
             [
              0,
              "#0d0887"
             ],
             [
              0.1111111111111111,
              "#46039f"
             ],
             [
              0.2222222222222222,
              "#7201a8"
             ],
             [
              0.3333333333333333,
              "#9c179e"
             ],
             [
              0.4444444444444444,
              "#bd3786"
             ],
             [
              0.5555555555555556,
              "#d8576b"
             ],
             [
              0.6666666666666666,
              "#ed7953"
             ],
             [
              0.7777777777777778,
              "#fb9f3a"
             ],
             [
              0.8888888888888888,
              "#fdca26"
             ],
             [
              1,
              "#f0f921"
             ]
            ],
            "type": "histogram2dcontour"
           }
          ],
          "mesh3d": [
           {
            "colorbar": {
             "outlinewidth": 0,
             "ticks": ""
            },
            "type": "mesh3d"
           }
          ],
          "parcoords": [
           {
            "line": {
             "colorbar": {
              "outlinewidth": 0,
              "ticks": ""
             }
            },
            "type": "parcoords"
           }
          ],
          "pie": [
           {
            "automargin": true,
            "type": "pie"
           }
          ],
          "scatter": [
           {
            "marker": {
             "colorbar": {
              "outlinewidth": 0,
              "ticks": ""
             }
            },
            "type": "scatter"
           }
          ],
          "scatter3d": [
           {
            "line": {
             "colorbar": {
              "outlinewidth": 0,
              "ticks": ""
             }
            },
            "marker": {
             "colorbar": {
              "outlinewidth": 0,
              "ticks": ""
             }
            },
            "type": "scatter3d"
           }
          ],
          "scattercarpet": [
           {
            "marker": {
             "colorbar": {
              "outlinewidth": 0,
              "ticks": ""
             }
            },
            "type": "scattercarpet"
           }
          ],
          "scattergeo": [
           {
            "marker": {
             "colorbar": {
              "outlinewidth": 0,
              "ticks": ""
             }
            },
            "type": "scattergeo"
           }
          ],
          "scattergl": [
           {
            "marker": {
             "colorbar": {
              "outlinewidth": 0,
              "ticks": ""
             }
            },
            "type": "scattergl"
           }
          ],
          "scattermapbox": [
           {
            "marker": {
             "colorbar": {
              "outlinewidth": 0,
              "ticks": ""
             }
            },
            "type": "scattermapbox"
           }
          ],
          "scatterpolar": [
           {
            "marker": {
             "colorbar": {
              "outlinewidth": 0,
              "ticks": ""
             }
            },
            "type": "scatterpolar"
           }
          ],
          "scatterpolargl": [
           {
            "marker": {
             "colorbar": {
              "outlinewidth": 0,
              "ticks": ""
             }
            },
            "type": "scatterpolargl"
           }
          ],
          "scatterternary": [
           {
            "marker": {
             "colorbar": {
              "outlinewidth": 0,
              "ticks": ""
             }
            },
            "type": "scatterternary"
           }
          ],
          "surface": [
           {
            "colorbar": {
             "outlinewidth": 0,
             "ticks": ""
            },
            "colorscale": [
             [
              0,
              "#0d0887"
             ],
             [
              0.1111111111111111,
              "#46039f"
             ],
             [
              0.2222222222222222,
              "#7201a8"
             ],
             [
              0.3333333333333333,
              "#9c179e"
             ],
             [
              0.4444444444444444,
              "#bd3786"
             ],
             [
              0.5555555555555556,
              "#d8576b"
             ],
             [
              0.6666666666666666,
              "#ed7953"
             ],
             [
              0.7777777777777778,
              "#fb9f3a"
             ],
             [
              0.8888888888888888,
              "#fdca26"
             ],
             [
              1,
              "#f0f921"
             ]
            ],
            "type": "surface"
           }
          ],
          "table": [
           {
            "cells": {
             "fill": {
              "color": "#EBF0F8"
             },
             "line": {
              "color": "white"
             }
            },
            "header": {
             "fill": {
              "color": "#C8D4E3"
             },
             "line": {
              "color": "white"
             }
            },
            "type": "table"
           }
          ]
         },
         "layout": {
          "annotationdefaults": {
           "arrowcolor": "#2a3f5f",
           "arrowhead": 0,
           "arrowwidth": 1
          },
          "autotypenumbers": "strict",
          "coloraxis": {
           "colorbar": {
            "outlinewidth": 0,
            "ticks": ""
           }
          },
          "colorscale": {
           "diverging": [
            [
             0,
             "#8e0152"
            ],
            [
             0.1,
             "#c51b7d"
            ],
            [
             0.2,
             "#de77ae"
            ],
            [
             0.3,
             "#f1b6da"
            ],
            [
             0.4,
             "#fde0ef"
            ],
            [
             0.5,
             "#f7f7f7"
            ],
            [
             0.6,
             "#e6f5d0"
            ],
            [
             0.7,
             "#b8e186"
            ],
            [
             0.8,
             "#7fbc41"
            ],
            [
             0.9,
             "#4d9221"
            ],
            [
             1,
             "#276419"
            ]
           ],
           "sequential": [
            [
             0,
             "#0d0887"
            ],
            [
             0.1111111111111111,
             "#46039f"
            ],
            [
             0.2222222222222222,
             "#7201a8"
            ],
            [
             0.3333333333333333,
             "#9c179e"
            ],
            [
             0.4444444444444444,
             "#bd3786"
            ],
            [
             0.5555555555555556,
             "#d8576b"
            ],
            [
             0.6666666666666666,
             "#ed7953"
            ],
            [
             0.7777777777777778,
             "#fb9f3a"
            ],
            [
             0.8888888888888888,
             "#fdca26"
            ],
            [
             1,
             "#f0f921"
            ]
           ],
           "sequentialminus": [
            [
             0,
             "#0d0887"
            ],
            [
             0.1111111111111111,
             "#46039f"
            ],
            [
             0.2222222222222222,
             "#7201a8"
            ],
            [
             0.3333333333333333,
             "#9c179e"
            ],
            [
             0.4444444444444444,
             "#bd3786"
            ],
            [
             0.5555555555555556,
             "#d8576b"
            ],
            [
             0.6666666666666666,
             "#ed7953"
            ],
            [
             0.7777777777777778,
             "#fb9f3a"
            ],
            [
             0.8888888888888888,
             "#fdca26"
            ],
            [
             1,
             "#f0f921"
            ]
           ]
          },
          "colorway": [
           "#636efa",
           "#EF553B",
           "#00cc96",
           "#ab63fa",
           "#FFA15A",
           "#19d3f3",
           "#FF6692",
           "#B6E880",
           "#FF97FF",
           "#FECB52"
          ],
          "font": {
           "color": "#2a3f5f"
          },
          "geo": {
           "bgcolor": "white",
           "lakecolor": "white",
           "landcolor": "#E5ECF6",
           "showlakes": true,
           "showland": true,
           "subunitcolor": "white"
          },
          "hoverlabel": {
           "align": "left"
          },
          "hovermode": "closest",
          "mapbox": {
           "style": "light"
          },
          "paper_bgcolor": "white",
          "plot_bgcolor": "#E5ECF6",
          "polar": {
           "angularaxis": {
            "gridcolor": "white",
            "linecolor": "white",
            "ticks": ""
           },
           "bgcolor": "#E5ECF6",
           "radialaxis": {
            "gridcolor": "white",
            "linecolor": "white",
            "ticks": ""
           }
          },
          "scene": {
           "xaxis": {
            "backgroundcolor": "#E5ECF6",
            "gridcolor": "white",
            "gridwidth": 2,
            "linecolor": "white",
            "showbackground": true,
            "ticks": "",
            "zerolinecolor": "white"
           },
           "yaxis": {
            "backgroundcolor": "#E5ECF6",
            "gridcolor": "white",
            "gridwidth": 2,
            "linecolor": "white",
            "showbackground": true,
            "ticks": "",
            "zerolinecolor": "white"
           },
           "zaxis": {
            "backgroundcolor": "#E5ECF6",
            "gridcolor": "white",
            "gridwidth": 2,
            "linecolor": "white",
            "showbackground": true,
            "ticks": "",
            "zerolinecolor": "white"
           }
          },
          "shapedefaults": {
           "line": {
            "color": "#2a3f5f"
           }
          },
          "ternary": {
           "aaxis": {
            "gridcolor": "white",
            "linecolor": "white",
            "ticks": ""
           },
           "baxis": {
            "gridcolor": "white",
            "linecolor": "white",
            "ticks": ""
           },
           "bgcolor": "#E5ECF6",
           "caxis": {
            "gridcolor": "white",
            "linecolor": "white",
            "ticks": ""
           }
          },
          "title": {
           "x": 0.05
          },
          "xaxis": {
           "automargin": true,
           "gridcolor": "white",
           "linecolor": "white",
           "ticks": "",
           "title": {
            "standoff": 15
           },
           "zerolinecolor": "white",
           "zerolinewidth": 2
          },
          "yaxis": {
           "automargin": true,
           "gridcolor": "white",
           "linecolor": "white",
           "ticks": "",
           "title": {
            "standoff": 15
           },
           "zerolinecolor": "white",
           "zerolinewidth": 2
          }
         }
        },
        "title": {
         "text": "Players Age distribution by club"
        },
        "xaxis": {
         "anchor": "y",
         "domain": [
          0,
          1
         ],
         "title": {
          "text": "Club"
         }
        },
        "yaxis": {
         "anchor": "x",
         "domain": [
          0,
          1
         ],
         "title": {
          "text": "Age"
         }
        }
       }
      },
      "text/html": [
       "<div>                            <div id=\"d2dc26d7-4dd6-42b8-a9fe-7840aaef4b02\" class=\"plotly-graph-div\" style=\"height:525px; width:100%;\"></div>            <script type=\"text/javascript\">                require([\"plotly\"], function(Plotly) {                    window.PLOTLYENV=window.PLOTLYENV || {};                                    if (document.getElementById(\"d2dc26d7-4dd6-42b8-a9fe-7840aaef4b02\")) {                    Plotly.newPlot(                        \"d2dc26d7-4dd6-42b8-a9fe-7840aaef4b02\",                        [{\"alignmentgroup\": \"True\", \"hovertemplate\": \"Club=%{x}<br>Age=%{y}<extra></extra>\", \"legendgroup\": \"\", \"marker\": {\"color\": \"#636efa\"}, \"name\": \"\", \"notched\": false, \"offsetgroup\": \"\", \"orientation\": \"v\", \"showlegend\": false, \"type\": \"box\", \"x\": [\"Arsenal\", \"Arsenal\", \"Arsenal\", \"Arsenal\", \"Arsenal\", \"Arsenal\", \"Arsenal\", \"Arsenal\", \"Arsenal\", \"Arsenal\", \"Arsenal\", \"Arsenal\", \"Arsenal\", \"Arsenal\", \"Arsenal\", \"Arsenal\", \"Arsenal\", \"Arsenal\", \"Arsenal\", \"Arsenal\", \"Arsenal\", \"Arsenal\", \"Arsenal\", \"Arsenal\", \"Arsenal\", \"Arsenal\", \"Arsenal\", \"Arsenal\", \"Arsenal\", \"Arsenal\", \"Aston-Villa\", \"Aston-Villa\", \"Aston-Villa\", \"Aston-Villa\", \"Aston-Villa\", \"Aston-Villa\", \"Aston-Villa\", \"Aston-Villa\", \"Aston-Villa\", \"Aston-Villa\", \"Aston-Villa\", \"Aston-Villa\", \"Aston-Villa\", \"Aston-Villa\", \"Aston-Villa\", \"Aston-Villa\", \"Aston-Villa\", \"Aston-Villa\", \"Aston-Villa\", \"Aston-Villa\", \"Aston-Villa\", \"Aston-Villa\", \"Aston-Villa\", \"Aston-Villa\", \"Aston-Villa\", \"Aston-Villa\", \"Aston-Villa\", \"Brighton-and-Hove-Albion\", \"Brighton-and-Hove-Albion\", \"Brighton-and-Hove-Albion\", \"Brighton-and-Hove-Albion\", \"Brighton-and-Hove-Albion\", \"Brighton-and-Hove-Albion\", \"Brighton-and-Hove-Albion\", \"Brighton-and-Hove-Albion\", \"Brighton-and-Hove-Albion\", \"Brighton-and-Hove-Albion\", \"Brighton-and-Hove-Albion\", \"Brighton-and-Hove-Albion\", \"Brighton-and-Hove-Albion\", \"Brighton-and-Hove-Albion\", \"Brighton-and-Hove-Albion\", \"Brighton-and-Hove-Albion\", \"Brighton-and-Hove-Albion\", \"Brighton-and-Hove-Albion\", \"Brighton-and-Hove-Albion\", \"Brighton-and-Hove-Albion\", \"Brighton-and-Hove-Albion\", \"Brighton-and-Hove-Albion\", \"Brighton-and-Hove-Albion\", \"Brighton-and-Hove-Albion\", \"Brighton-and-Hove-Albion\", \"Brighton-and-Hove-Albion\", \"Brighton-and-Hove-Albion\", \"Brighton-and-Hove-Albion\", \"Brighton-and-Hove-Albion\", \"Brighton-and-Hove-Albion\", \"Brighton-and-Hove-Albion\", \"Brighton-and-Hove-Albion\", \"Brighton-and-Hove-Albion\", \"Burnley\", \"Burnley\", \"Burnley\", \"Burnley\", \"Burnley\", \"Burnley\", \"Burnley\", \"Burnley\", \"Burnley\", \"Burnley\", \"Burnley\", \"Burnley\", \"Burnley\", \"Burnley\", \"Burnley\", \"Burnley\", \"Burnley\", \"Burnley\", \"Burnley\", \"Burnley\", \"Burnley\", \"Burnley\", \"Burnley\", \"Burnley\", \"Chelsea\", \"Chelsea\", \"Chelsea\", \"Chelsea\", \"Chelsea\", \"Chelsea\", \"Chelsea\", \"Chelsea\", \"Chelsea\", \"Chelsea\", \"Chelsea\", \"Chelsea\", \"Chelsea\", \"Chelsea\", \"Chelsea\", \"Chelsea\", \"Chelsea\", \"Chelsea\", \"Chelsea\", \"Chelsea\", \"Chelsea\", \"Chelsea\", \"Chelsea\", \"Chelsea\", \"Chelsea\", \"Chelsea\", \"Crystal-Palace\", \"Crystal-Palace\", \"Crystal-Palace\", \"Crystal-Palace\", \"Crystal-Palace\", \"Crystal-Palace\", \"Crystal-Palace\", \"Crystal-Palace\", \"Crystal-Palace\", \"Crystal-Palace\", \"Crystal-Palace\", \"Crystal-Palace\", \"Crystal-Palace\", \"Crystal-Palace\", \"Crystal-Palace\", \"Crystal-Palace\", \"Crystal-Palace\", \"Crystal-Palace\", \"Crystal-Palace\", \"Crystal-Palace\", \"Crystal-Palace\", \"Crystal-Palace\", \"Crystal-Palace\", \"Crystal-Palace\", \"Crystal-Palace\", \"Crystal-Palace\", \"Crystal-Palace\", \"Crystal-Palace\", \"Crystal-Palace\", \"Crystal-Palace\", \"Everton\", \"Everton\", \"Everton\", \"Everton\", \"Everton\", \"Everton\", \"Everton\", \"Everton\", \"Everton\", \"Everton\", \"Everton\", \"Everton\", \"Everton\", \"Everton\", \"Everton\", \"Everton\", \"Everton\", \"Everton\", \"Everton\", \"Everton\", \"Everton\", \"Everton\", \"Everton\", \"Everton\", \"Everton\", \"Everton\", \"Everton\", \"Everton\", \"Everton\", \"Everton\", \"Everton\", \"Fulham\", \"Fulham\", \"Fulham\", \"Fulham\", \"Fulham\", \"Fulham\", \"Fulham\", \"Fulham\", \"Fulham\", \"Fulham\", \"Fulham\", \"Fulham\", \"Fulham\", \"Fulham\", \"Fulham\", \"Fulham\", \"Fulham\", \"Fulham\", \"Fulham\", \"Fulham\", \"Fulham\", \"Fulham\", \"Fulham\", \"Fulham\", \"Fulham\", \"Leeds-United\", \"Leeds-United\", \"Leeds-United\", \"Leeds-United\", \"Leeds-United\", \"Leeds-United\", \"Leeds-United\", \"Leeds-United\", \"Leeds-United\", \"Leeds-United\", \"Leeds-United\", \"Leeds-United\", \"Leeds-United\", \"Leeds-United\", \"Leeds-United\", \"Leeds-United\", \"Leeds-United\", \"Leeds-United\", \"Leeds-United\", \"Leeds-United\", \"Leeds-United\", \"Leeds-United\", \"Leeds-United\", \"Leeds-United\", \"Leeds-United\", \"Leicester-City\", \"Leicester-City\", \"Leicester-City\", \"Leicester-City\", \"Leicester-City\", \"Leicester-City\", \"Leicester-City\", \"Leicester-City\", \"Leicester-City\", \"Leicester-City\", \"Leicester-City\", \"Leicester-City\", \"Leicester-City\", \"Leicester-City\", \"Leicester-City\", \"Leicester-City\", \"Leicester-City\", \"Leicester-City\", \"Leicester-City\", \"Leicester-City\", \"Leicester-City\", \"Leicester-City\", \"Leicester-City\", \"Leicester-City\", \"Leicester-City\", \"Leicester-City\", \"Leicester-City\", \"Leicester-City\", \"Leicester-City\", \"Leicester-City\", \"Liverpool\", \"Liverpool\", \"Liverpool\", \"Liverpool\", \"Liverpool\", \"Liverpool\", \"Liverpool\", \"Liverpool\", \"Liverpool\", \"Liverpool\", \"Liverpool\", \"Liverpool\", \"Liverpool\", \"Liverpool\", \"Liverpool\", \"Liverpool\", \"Liverpool\", \"Liverpool\", \"Liverpool\", \"Liverpool\", \"Liverpool\", \"Liverpool\", \"Liverpool\", \"Liverpool\", \"Liverpool\", \"Liverpool\", \"Liverpool\", \"Liverpool\", \"Liverpool\", \"Liverpool\", \"Liverpool\", \"Liverpool\", \"Liverpool\", \"Liverpool\", \"Manchester-City\", \"Manchester-City\", \"Manchester-City\", \"Manchester-City\", \"Manchester-City\", \"Manchester-City\", \"Manchester-City\", \"Manchester-City\", \"Manchester-City\", \"Manchester-City\", \"Manchester-City\", \"Manchester-City\", \"Manchester-City\", \"Manchester-City\", \"Manchester-City\", \"Manchester-City\", \"Manchester-City\", \"Manchester-City\", \"Manchester-City\", \"Manchester-City\", \"Manchester-City\", \"Manchester-City\", \"Manchester-City\", \"Manchester-City\", \"Manchester-City\", \"Manchester-United\", \"Manchester-United\", \"Manchester-United\", \"Manchester-United\", \"Manchester-United\", \"Manchester-United\", \"Manchester-United\", \"Manchester-United\", \"Manchester-United\", \"Manchester-United\", \"Manchester-United\", \"Manchester-United\", \"Manchester-United\", \"Manchester-United\", \"Manchester-United\", \"Manchester-United\", \"Manchester-United\", \"Manchester-United\", \"Manchester-United\", \"Manchester-United\", \"Manchester-United\", \"Manchester-United\", \"Manchester-United\", \"Manchester-United\", \"Manchester-United\", \"Manchester-United\", \"Manchester-United\", \"Manchester-United\", \"Manchester-United\", \"Manchester-United\", \"Newcastle-United\", \"Newcastle-United\", \"Newcastle-United\", \"Newcastle-United\", \"Newcastle-United\", \"Newcastle-United\", \"Newcastle-United\", \"Newcastle-United\", \"Newcastle-United\", \"Newcastle-United\", \"Newcastle-United\", \"Newcastle-United\", \"Newcastle-United\", \"Newcastle-United\", \"Newcastle-United\", \"Newcastle-United\", \"Newcastle-United\", \"Newcastle-United\", \"Newcastle-United\", \"Newcastle-United\", \"Newcastle-United\", \"Newcastle-United\", \"Newcastle-United\", \"Newcastle-United\", \"Newcastle-United\", \"Newcastle-United\", \"Newcastle-United\", \"Newcastle-United\", \"Newcastle-United\", \"Newcastle-United\", \"Sheffield-United\", \"Sheffield-United\", \"Sheffield-United\", \"Sheffield-United\", \"Sheffield-United\", \"Sheffield-United\", \"Sheffield-United\", \"Sheffield-United\", \"Sheffield-United\", \"Sheffield-United\", \"Sheffield-United\", \"Sheffield-United\", \"Sheffield-United\", \"Sheffield-United\", \"Sheffield-United\", \"Sheffield-United\", \"Sheffield-United\", \"Sheffield-United\", \"Sheffield-United\", \"Sheffield-United\", \"Sheffield-United\", \"Sheffield-United\", \"Sheffield-United\", \"Sheffield-United\", \"Sheffield-United\", \"Sheffield-United\", \"Sheffield-United\", \"Sheffield-United\", \"Southampton\", \"Southampton\", \"Southampton\", \"Southampton\", \"Southampton\", \"Southampton\", \"Southampton\", \"Southampton\", \"Southampton\", \"Southampton\", \"Southampton\", \"Southampton\", \"Southampton\", \"Southampton\", \"Southampton\", \"Southampton\", \"Southampton\", \"Southampton\", \"Southampton\", \"Southampton\", \"Southampton\", \"Southampton\", \"Southampton\", \"Southampton\", \"Tottenham-Hotspur\", \"Tottenham-Hotspur\", \"Tottenham-Hotspur\", \"Tottenham-Hotspur\", \"Tottenham-Hotspur\", \"Tottenham-Hotspur\", \"Tottenham-Hotspur\", \"Tottenham-Hotspur\", \"Tottenham-Hotspur\", \"Tottenham-Hotspur\", \"Tottenham-Hotspur\", \"Tottenham-Hotspur\", \"Tottenham-Hotspur\", \"Tottenham-Hotspur\", \"Tottenham-Hotspur\", \"Tottenham-Hotspur\", \"Tottenham-Hotspur\", \"Tottenham-Hotspur\", \"Tottenham-Hotspur\", \"Tottenham-Hotspur\", \"Tottenham-Hotspur\", \"Tottenham-Hotspur\", \"Tottenham-Hotspur\", \"Tottenham-Hotspur\", \"Tottenham-Hotspur\", \"Tottenham-Hotspur\", \"Tottenham-Hotspur\", \"Tottenham-Hotspur\", \"Tottenham-Hotspur\", \"Tottenham-Hotspur\", \"Tottenham-Hotspur\", \"West-Bromwich-Albion\", \"West-Bromwich-Albion\", \"West-Bromwich-Albion\", \"West-Bromwich-Albion\", \"West-Bromwich-Albion\", \"West-Bromwich-Albion\", \"West-Bromwich-Albion\", \"West-Bromwich-Albion\", \"West-Bromwich-Albion\", \"West-Bromwich-Albion\", \"West-Bromwich-Albion\", \"West-Bromwich-Albion\", \"West-Bromwich-Albion\", \"West-Bromwich-Albion\", \"West-Bromwich-Albion\", \"West-Bromwich-Albion\", \"West-Bromwich-Albion\", \"West-Bromwich-Albion\", \"West-Bromwich-Albion\", \"West-Bromwich-Albion\", \"West-Bromwich-Albion\", \"West-Bromwich-Albion\", \"West-Bromwich-Albion\", \"West-Bromwich-Albion\", \"West-Bromwich-Albion\", \"West-Bromwich-Albion\", \"West-Bromwich-Albion\", \"West-Bromwich-Albion\", \"West-Ham-United\", \"West-Ham-United\", \"West-Ham-United\", \"West-Ham-United\", \"West-Ham-United\", \"West-Ham-United\", \"West-Ham-United\", \"West-Ham-United\", \"West-Ham-United\", \"West-Ham-United\", \"West-Ham-United\", \"West-Ham-United\", \"West-Ham-United\", \"West-Ham-United\", \"West-Ham-United\", \"West-Ham-United\", \"West-Ham-United\", \"West-Ham-United\", \"West-Ham-United\", \"West-Ham-United\", \"West-Ham-United\", \"West-Ham-United\", \"West-Ham-United\", \"West-Ham-United\", \"West-Ham-United\", \"West-Ham-United\", \"West-Ham-United\", \"West-Ham-United\", \"West-Ham-United\", \"Wolverhampton-Wanderers\", \"Wolverhampton-Wanderers\", \"Wolverhampton-Wanderers\", \"Wolverhampton-Wanderers\", \"Wolverhampton-Wanderers\", \"Wolverhampton-Wanderers\", \"Wolverhampton-Wanderers\", \"Wolverhampton-Wanderers\", \"Wolverhampton-Wanderers\", \"Wolverhampton-Wanderers\", \"Wolverhampton-Wanderers\", \"Wolverhampton-Wanderers\", \"Wolverhampton-Wanderers\", \"Wolverhampton-Wanderers\", \"Wolverhampton-Wanderers\", \"Wolverhampton-Wanderers\", \"Wolverhampton-Wanderers\", \"Wolverhampton-Wanderers\", \"Wolverhampton-Wanderers\", \"Wolverhampton-Wanderers\", \"Wolverhampton-Wanderers\", \"Wolverhampton-Wanderers\"], \"x0\": \" \", \"xaxis\": \"x\", \"y\": [28.0, 26.0, 25.0, 25.0, 23.0, 19.0, 32.0, 25.0, 28.0, 25.0, 33.0, 27.0, 22.0, 31.0, 24.0, 23.0, 28.0, 21.0, 21.0, 20.0, 27.0, 19.0, 24.0, 29.0, 31.0, 25.0, 20.0, 21.0, 19.0, 32.0, 34.0, 28.0, 30.0, 30.0, 28.0, 31.0, 22.0, 25.0, 26.0, 25.0, 33.0, 25.0, 27.0, 23.0, 22.0, 25.0, 29.0, 25.0, 26.0, 29.0, 25.0, 25.0, 29.0, 19.0, 23.0, 22.0, 24.0, 28.0, 30.0, 24.0, 22.0, 22.0, 19.0, 28.0, 25.0, 25.0, 28.0, 28.0, 20.0, 20.0, 18.0, 31.0, 24.0, 21.0, 29.0, 32.0, 26.0, 29.0, 22.0, 21.0, 21.0, 19.0, 20.0, 25.0, 24.0, 27.0, 28.0, 20.0, 27.0, 22.0, 28.0, 23.0, 27.0, 31.0, 27.0, 27.0, 31.0, 32.0, 35.0, 30.0, 22.0, 19.0, 20.0, 31.0, 29.0, 24.0, 20.0, 28.0, 30.0, 20.0, 28.0, 30.0, 31.0, 28.0, 25.0, 38.0, 27.0, 29.0, 24.0, 25.0, 20.0, 31.0, 22.0, 26.0, 23.0, 36.0, 27.0, 28.0, 29.0, 26.0, 24.0, 26.0, 21.0, 22.0, 19.0, 21.0, 24.0, 22.0, 33.0, 19.0, 33.0, 33.0, 32.0, 30.0, 30.0, 31.0, 33.0, 30.0, 34.0, 30.0, 21.0, 26.0, 22.0, 25.0, 29.0, 25.0, 30.0, 29.0, 27.0, 32.0, 29.0, 24.0, 22.0, 20.0, 29.0, 27.0, 29.0, 27.0, 18.0, 26.0, 26.0, 20.0, 31.0, 23.0, 27.0, 27.0, 26.0, 31.0, 18.0, 23.0, 19.0, 30.0, 31.0, 27.0, 24.0, 22.0, 22.0, 29.0, 29.0, 27.0, 28.0, 25.0, 31.0, 23.0, 23.0, 31.0, 29.0, 24.0, 28.0, 20.0, 19.0, 23.0, 32.0, 27.0, 28.0, 32.0, 32.0, 30.0, 27.0, 23.0, 24.0, 23.0, 29.0, 31.0, 28.0, 29.0, 29.0, 23.0, 24.0, 27.0, 25.0, 20.0, 26.0, 27.0, 26.0, 25.0, 33.0, 19.0, 29.0, 31.0, 29.0, 21.0, 20.0, 24.0, 19.0, 17.0, 20.0, 28.0, 29.0, 35.0, 24.0, 30.0, 20.0, 23.0, 20.0, 19.0, 20.0, 27.0, 21.0, 18.0, 29.0, 33.0, 27.0, 35.0, 22.0, 24.0, 36.0, 32.0, 23.0, 25.0, 26.0, 34.0, 19.0, 24.0, 24.0, 23.0, 23.0, 30.0, 22.0, 22.0, 29.0, 31.0, 23.0, 26.0, 28.0, 28.0, 33.0, 32.0, 23.0, 27.0, 24.0, 27.0, 27.0, 33.0, 21.0, 21.0, 29.0, 23.0, 26.0, 29.0, 21.0, 19.0, 24.0, 23.0, 18.0, 26.0, 29.0, 34.0, 25.0, 30.0, 27.0, 24.0, 19.0, 23.0, 17.0, 28.0, 29.0, 28.0, 28.0, 28.0, 25.0, 20.0, 25.0, 20.0, 23.0, 27.0, 35.0, 25.0, 30.0, 26.0, 23.0, 26.0, 26.0, 26.0, 32.0, 19.0, 29.0, 24.0, 29.0, 26.0, 35.0, 20.0, 18.0, 19.0, 20.0, 25.0, 23.0, 32.0, 29.0, 17.0, 29.0, 33.0, 23.0, 26.0, 26.0, 28.0, 27.0, 30.0, 30.0, 21.0, 25.0, 22.0, 22.0, 22.0, 20.0, 18.0, 27.0, 32.0, 27.0, 24.0, 27.0, 26.0, 22.0, 32.0, 23.0, 23.0, 24.0, 22.0, 31.0, 18.0, 28.0, 31.0, 29.0, 19.0, 30.0, 28.0, 28.0, 26.0, 26.0, 31.0, 26.0, 27.0, 22.0, 25.0, 28.0, 31.0, 25.0, 26.0, 28.0, 22.0, 20.0, 28.0, 26.0, 29.0, 23.0, 31.0, 24.0, 23.0, 29.0, 28.0, 29.0, 23.0, 30.0, 22.0, 27.0, 30.0, 26.0, 32.0, 27.0, 27.0, 23.0, 38.0, 23.0, 20.0, 20.0, 29.0, 26.0, 29.0, 26.0, 22.0, 29.0, 21.0, 23.0, 18.0, 24.0, 34.0, 32.0, 24.0, 30.0, 24.0, 32.0, 22.0, 28.0, 26.0, 31.0, 20.0, 24.0, 21.0, 23.0, 21.0, 22.0, 29.0, 25.0, 28.0, 27.0, 26.0, 20.0, 21.0, 33.0, 28.0, 24.0, 20.0, 33.0, 28.0, 33.0, 21.0, 21.0, 31.0, 24.0, 22.0, 27.0, 27.0, 21.0, 28.0, 18.0, 23.0, 24.0, 28.0, 26.0, 31.0, 20.0, 24.0, 23.0, 21.0, 25.0, 19.0, 24.0, 28.0, 19.0, 28.0, 27.0, 22.0, 31.0, 27.0, 31.0, 27.0, 24.0, 30.0, 29.0, 26.0, 27.0, 29.0, 21.0, 23.0, 33.0, 36.0, 30.0, 29.0, 32.0, 20.0, 28.0, 22.0, 22.0, 22.0, 20.0, 31.0, 26.0, 24.0, 31.0, 25.0, 19.0, 35.0, 34.0, 33.0, 21.0, 30.0, 29.0, 19.0, 32.0, 23.0, 27.0, 26.0, 20.0, 19.0, 18.0, 27.0, 27.0, 33.0, 33.0, 24.0, 28.0, 21.0, 24.0, 20.0, 30.0, 30.0, 23.0, 26.0, 23.0, 19.0, 32.0, 33.0, 29.0, 27.0, 26.0, 21.0, 23.0, 22.0, 31.0, 18.0, 23.0, 24.0, 30.0, 34.0, 25.0, 20.0, 21.0, 20.0, 29.0, 24.0, 18.0, 20.0], \"y0\": \" \", \"yaxis\": \"y\"}],                        {\"boxmode\": \"group\", \"legend\": {\"tracegroupgap\": 0}, \"template\": {\"data\": {\"bar\": [{\"error_x\": {\"color\": \"#2a3f5f\"}, \"error_y\": {\"color\": \"#2a3f5f\"}, \"marker\": {\"line\": {\"color\": \"#E5ECF6\", \"width\": 0.5}}, \"type\": \"bar\"}], \"barpolar\": [{\"marker\": {\"line\": {\"color\": \"#E5ECF6\", \"width\": 0.5}}, \"type\": \"barpolar\"}], \"carpet\": [{\"aaxis\": {\"endlinecolor\": \"#2a3f5f\", \"gridcolor\": \"white\", \"linecolor\": \"white\", \"minorgridcolor\": \"white\", \"startlinecolor\": \"#2a3f5f\"}, \"baxis\": {\"endlinecolor\": \"#2a3f5f\", \"gridcolor\": \"white\", \"linecolor\": \"white\", \"minorgridcolor\": \"white\", \"startlinecolor\": \"#2a3f5f\"}, \"type\": \"carpet\"}], \"choropleth\": [{\"colorbar\": {\"outlinewidth\": 0, \"ticks\": \"\"}, \"type\": \"choropleth\"}], \"contour\": [{\"colorbar\": {\"outlinewidth\": 0, \"ticks\": \"\"}, \"colorscale\": [[0.0, \"#0d0887\"], [0.1111111111111111, \"#46039f\"], [0.2222222222222222, \"#7201a8\"], [0.3333333333333333, \"#9c179e\"], [0.4444444444444444, \"#bd3786\"], [0.5555555555555556, \"#d8576b\"], [0.6666666666666666, \"#ed7953\"], [0.7777777777777778, \"#fb9f3a\"], [0.8888888888888888, \"#fdca26\"], [1.0, \"#f0f921\"]], \"type\": \"contour\"}], \"contourcarpet\": [{\"colorbar\": {\"outlinewidth\": 0, \"ticks\": \"\"}, \"type\": \"contourcarpet\"}], \"heatmap\": [{\"colorbar\": {\"outlinewidth\": 0, \"ticks\": \"\"}, \"colorscale\": [[0.0, \"#0d0887\"], [0.1111111111111111, \"#46039f\"], [0.2222222222222222, \"#7201a8\"], [0.3333333333333333, \"#9c179e\"], [0.4444444444444444, \"#bd3786\"], [0.5555555555555556, \"#d8576b\"], [0.6666666666666666, \"#ed7953\"], [0.7777777777777778, \"#fb9f3a\"], [0.8888888888888888, \"#fdca26\"], [1.0, \"#f0f921\"]], \"type\": \"heatmap\"}], \"heatmapgl\": [{\"colorbar\": {\"outlinewidth\": 0, \"ticks\": \"\"}, \"colorscale\": [[0.0, \"#0d0887\"], [0.1111111111111111, \"#46039f\"], [0.2222222222222222, \"#7201a8\"], [0.3333333333333333, \"#9c179e\"], [0.4444444444444444, \"#bd3786\"], [0.5555555555555556, \"#d8576b\"], [0.6666666666666666, \"#ed7953\"], [0.7777777777777778, \"#fb9f3a\"], [0.8888888888888888, \"#fdca26\"], [1.0, \"#f0f921\"]], \"type\": \"heatmapgl\"}], \"histogram\": [{\"marker\": {\"colorbar\": {\"outlinewidth\": 0, \"ticks\": \"\"}}, \"type\": \"histogram\"}], \"histogram2d\": [{\"colorbar\": {\"outlinewidth\": 0, \"ticks\": \"\"}, \"colorscale\": [[0.0, \"#0d0887\"], [0.1111111111111111, \"#46039f\"], [0.2222222222222222, \"#7201a8\"], [0.3333333333333333, \"#9c179e\"], [0.4444444444444444, \"#bd3786\"], [0.5555555555555556, \"#d8576b\"], [0.6666666666666666, \"#ed7953\"], [0.7777777777777778, \"#fb9f3a\"], [0.8888888888888888, \"#fdca26\"], [1.0, \"#f0f921\"]], \"type\": \"histogram2d\"}], \"histogram2dcontour\": [{\"colorbar\": {\"outlinewidth\": 0, \"ticks\": \"\"}, \"colorscale\": [[0.0, \"#0d0887\"], [0.1111111111111111, \"#46039f\"], [0.2222222222222222, \"#7201a8\"], [0.3333333333333333, \"#9c179e\"], [0.4444444444444444, \"#bd3786\"], [0.5555555555555556, \"#d8576b\"], [0.6666666666666666, \"#ed7953\"], [0.7777777777777778, \"#fb9f3a\"], [0.8888888888888888, \"#fdca26\"], [1.0, \"#f0f921\"]], \"type\": \"histogram2dcontour\"}], \"mesh3d\": [{\"colorbar\": {\"outlinewidth\": 0, \"ticks\": \"\"}, \"type\": \"mesh3d\"}], \"parcoords\": [{\"line\": {\"colorbar\": {\"outlinewidth\": 0, \"ticks\": \"\"}}, \"type\": \"parcoords\"}], \"pie\": [{\"automargin\": true, \"type\": \"pie\"}], \"scatter\": [{\"marker\": {\"colorbar\": {\"outlinewidth\": 0, \"ticks\": \"\"}}, \"type\": \"scatter\"}], \"scatter3d\": [{\"line\": {\"colorbar\": {\"outlinewidth\": 0, \"ticks\": \"\"}}, \"marker\": {\"colorbar\": {\"outlinewidth\": 0, \"ticks\": \"\"}}, \"type\": \"scatter3d\"}], \"scattercarpet\": [{\"marker\": {\"colorbar\": {\"outlinewidth\": 0, \"ticks\": \"\"}}, \"type\": \"scattercarpet\"}], \"scattergeo\": [{\"marker\": {\"colorbar\": {\"outlinewidth\": 0, \"ticks\": \"\"}}, \"type\": \"scattergeo\"}], \"scattergl\": [{\"marker\": {\"colorbar\": {\"outlinewidth\": 0, \"ticks\": \"\"}}, \"type\": \"scattergl\"}], \"scattermapbox\": [{\"marker\": {\"colorbar\": {\"outlinewidth\": 0, \"ticks\": \"\"}}, \"type\": \"scattermapbox\"}], \"scatterpolar\": [{\"marker\": {\"colorbar\": {\"outlinewidth\": 0, \"ticks\": \"\"}}, \"type\": \"scatterpolar\"}], \"scatterpolargl\": [{\"marker\": {\"colorbar\": {\"outlinewidth\": 0, \"ticks\": \"\"}}, \"type\": \"scatterpolargl\"}], \"scatterternary\": [{\"marker\": {\"colorbar\": {\"outlinewidth\": 0, \"ticks\": \"\"}}, \"type\": \"scatterternary\"}], \"surface\": [{\"colorbar\": {\"outlinewidth\": 0, \"ticks\": \"\"}, \"colorscale\": [[0.0, \"#0d0887\"], [0.1111111111111111, \"#46039f\"], [0.2222222222222222, \"#7201a8\"], [0.3333333333333333, \"#9c179e\"], [0.4444444444444444, \"#bd3786\"], [0.5555555555555556, \"#d8576b\"], [0.6666666666666666, \"#ed7953\"], [0.7777777777777778, \"#fb9f3a\"], [0.8888888888888888, \"#fdca26\"], [1.0, \"#f0f921\"]], \"type\": \"surface\"}], \"table\": [{\"cells\": {\"fill\": {\"color\": \"#EBF0F8\"}, \"line\": {\"color\": \"white\"}}, \"header\": {\"fill\": {\"color\": \"#C8D4E3\"}, \"line\": {\"color\": \"white\"}}, \"type\": \"table\"}]}, \"layout\": {\"annotationdefaults\": {\"arrowcolor\": \"#2a3f5f\", \"arrowhead\": 0, \"arrowwidth\": 1}, \"autotypenumbers\": \"strict\", \"coloraxis\": {\"colorbar\": {\"outlinewidth\": 0, \"ticks\": \"\"}}, \"colorscale\": {\"diverging\": [[0, \"#8e0152\"], [0.1, \"#c51b7d\"], [0.2, \"#de77ae\"], [0.3, \"#f1b6da\"], [0.4, \"#fde0ef\"], [0.5, \"#f7f7f7\"], [0.6, \"#e6f5d0\"], [0.7, \"#b8e186\"], [0.8, \"#7fbc41\"], [0.9, \"#4d9221\"], [1, \"#276419\"]], \"sequential\": [[0.0, \"#0d0887\"], [0.1111111111111111, \"#46039f\"], [0.2222222222222222, \"#7201a8\"], [0.3333333333333333, \"#9c179e\"], [0.4444444444444444, \"#bd3786\"], [0.5555555555555556, \"#d8576b\"], [0.6666666666666666, \"#ed7953\"], [0.7777777777777778, \"#fb9f3a\"], [0.8888888888888888, \"#fdca26\"], [1.0, \"#f0f921\"]], \"sequentialminus\": [[0.0, \"#0d0887\"], [0.1111111111111111, \"#46039f\"], [0.2222222222222222, \"#7201a8\"], [0.3333333333333333, \"#9c179e\"], [0.4444444444444444, \"#bd3786\"], [0.5555555555555556, \"#d8576b\"], [0.6666666666666666, \"#ed7953\"], [0.7777777777777778, \"#fb9f3a\"], [0.8888888888888888, \"#fdca26\"], [1.0, \"#f0f921\"]]}, \"colorway\": [\"#636efa\", \"#EF553B\", \"#00cc96\", \"#ab63fa\", \"#FFA15A\", \"#19d3f3\", \"#FF6692\", \"#B6E880\", \"#FF97FF\", \"#FECB52\"], \"font\": {\"color\": \"#2a3f5f\"}, \"geo\": {\"bgcolor\": \"white\", \"lakecolor\": \"white\", \"landcolor\": \"#E5ECF6\", \"showlakes\": true, \"showland\": true, \"subunitcolor\": \"white\"}, \"hoverlabel\": {\"align\": \"left\"}, \"hovermode\": \"closest\", \"mapbox\": {\"style\": \"light\"}, \"paper_bgcolor\": \"white\", \"plot_bgcolor\": \"#E5ECF6\", \"polar\": {\"angularaxis\": {\"gridcolor\": \"white\", \"linecolor\": \"white\", \"ticks\": \"\"}, \"bgcolor\": \"#E5ECF6\", \"radialaxis\": {\"gridcolor\": \"white\", \"linecolor\": \"white\", \"ticks\": \"\"}}, \"scene\": {\"xaxis\": {\"backgroundcolor\": \"#E5ECF6\", \"gridcolor\": \"white\", \"gridwidth\": 2, \"linecolor\": \"white\", \"showbackground\": true, \"ticks\": \"\", \"zerolinecolor\": \"white\"}, \"yaxis\": {\"backgroundcolor\": \"#E5ECF6\", \"gridcolor\": \"white\", \"gridwidth\": 2, \"linecolor\": \"white\", \"showbackground\": true, \"ticks\": \"\", \"zerolinecolor\": \"white\"}, \"zaxis\": {\"backgroundcolor\": \"#E5ECF6\", \"gridcolor\": \"white\", \"gridwidth\": 2, \"linecolor\": \"white\", \"showbackground\": true, \"ticks\": \"\", \"zerolinecolor\": \"white\"}}, \"shapedefaults\": {\"line\": {\"color\": \"#2a3f5f\"}}, \"ternary\": {\"aaxis\": {\"gridcolor\": \"white\", \"linecolor\": \"white\", \"ticks\": \"\"}, \"baxis\": {\"gridcolor\": \"white\", \"linecolor\": \"white\", \"ticks\": \"\"}, \"bgcolor\": \"#E5ECF6\", \"caxis\": {\"gridcolor\": \"white\", \"linecolor\": \"white\", \"ticks\": \"\"}}, \"title\": {\"x\": 0.05}, \"xaxis\": {\"automargin\": true, \"gridcolor\": \"white\", \"linecolor\": \"white\", \"ticks\": \"\", \"title\": {\"standoff\": 15}, \"zerolinecolor\": \"white\", \"zerolinewidth\": 2}, \"yaxis\": {\"automargin\": true, \"gridcolor\": \"white\", \"linecolor\": \"white\", \"ticks\": \"\", \"title\": {\"standoff\": 15}, \"zerolinecolor\": \"white\", \"zerolinewidth\": 2}}}, \"title\": {\"text\": \"Players Age distribution by club\"}, \"xaxis\": {\"anchor\": \"y\", \"domain\": [0.0, 1.0], \"title\": {\"text\": \"Club\"}}, \"yaxis\": {\"anchor\": \"x\", \"domain\": [0.0, 1.0], \"title\": {\"text\": \"Age\"}}},                        {\"responsive\": true}                    ).then(function(){\n",
       "                            \n",
       "var gd = document.getElementById('d2dc26d7-4dd6-42b8-a9fe-7840aaef4b02');\n",
       "var x = new MutationObserver(function (mutations, observer) {{\n",
       "        var display = window.getComputedStyle(gd).display;\n",
       "        if (!display || display === 'none') {{\n",
       "            console.log([gd, 'removed!']);\n",
       "            Plotly.purge(gd);\n",
       "            observer.disconnect();\n",
       "        }}\n",
       "}});\n",
       "\n",
       "// Listen for the removal of the full notebook cells\n",
       "var notebookContainer = gd.closest('#notebook-container');\n",
       "if (notebookContainer) {{\n",
       "    x.observe(notebookContainer, {childList: true});\n",
       "}}\n",
       "\n",
       "// Listen for the clearing of the current output cell\n",
       "var outputEl = gd.closest('.output');\n",
       "if (outputEl) {{\n",
       "    x.observe(outputEl, {childList: true});\n",
       "}}\n",
       "\n",
       "                        })                };                });            </script>        </div>"
      ]
     },
     "metadata": {},
     "output_type": "display_data"
    }
   ],
   "source": [
    "fig = px.violin(data, y='Age', x='Position', box=True, title='Players Age distribution by position')\n",
    "iplot(fig)\n",
    "\n",
    "fig=px.box(data, x='Club', y='Age', title='Players Age distribution by club')\n",
    "iplot(fig)"
   ]
  },
  {
   "cell_type": "code",
   "execution_count": 19,
   "metadata": {},
   "outputs": [],
   "source": [
    "from plotly.subplots import make_subplots "
   ]
  },
  {
   "cell_type": "code",
   "execution_count": 20,
   "metadata": {},
   "outputs": [],
   "source": [
    "goalies_38app= goalies[goalies['Appearances']>=38]"
   ]
  },
  {
   "cell_type": "code",
   "execution_count": 21,
   "metadata": {},
   "outputs": [
    {
     "data": {
      "application/vnd.plotly.v1+json": {
       "config": {
        "plotlyServerURL": "https://plot.ly"
       },
       "data": [
        {
         "hovertext": [
          "Tottenham-Hotspur",
          "Manchester-United",
          "Tottenham-Hotspur",
          "Leicester-City",
          "West-Ham-United"
         ],
         "marker": {
          "color": [
           "rgb(110, 102,250)",
           "rgb(210, 202, 82)",
           "rgb(210, 202,82)",
           "rgb(210,202,82)",
           "rgb(210,202,82)"
          ],
          "line": {
           "color": "rgb(8,48,107)",
           "width": 2.5
          }
         },
         "opacity": 0.6,
         "orientation": "h",
         "type": "bar",
         "x": [
          127,
          113,
          92,
          65,
          63
         ],
         "xaxis": "x",
         "y": [
          "Joe Hart",
          "David de Gea",
          "Hugo Lloris",
          "Kasper Schmeichel",
          "Lukasz Fabianski"
         ],
         "yaxis": "y"
        },
        {
         "hovertext": [
          "Tottenham-Hotspur",
          "Manchester-United",
          "West-Ham-United",
          "Tottenham-Hotspur",
          "Crystal-Palace"
         ],
         "marker": {
          "color": [
           "rgb(110, 102,250)",
           "rgb(210, 202, 82)",
           "rgb(210, 202,82)",
           "rgb(210,202,82)",
           "rgb(210,202,82)"
          ],
          "line": {
           "color": "rgb(8,48,107)",
           "width": 2.5
          }
         },
         "opacity": 0.6,
         "orientation": "h",
         "type": "bar",
         "x": [
          941,
          870,
          807,
          703,
          617
         ],
         "xaxis": "x3",
         "y": [
          "Joe Hart",
          "David de Gea",
          "Lukasz Fabianski",
          "Hugo Lloris",
          "Wayne Hennessey"
         ],
         "yaxis": "y3"
        },
        {
         "hovertext": [
          "Tottenham-Hotspur",
          "West-Ham-United",
          "Crystal-Palace",
          "Tottenham-Hotspur",
          "Manchester-United"
         ],
         "marker": {
          "color": [
           "rgb(110, 102,250)",
           "rgb(210, 202, 82)",
           "rgb(210, 202,82)",
           "rgb(210,202,82)",
           "rgb(210,202,82)"
          ],
          "line": {
           "color": "rgb(8,48,107)",
           "width": 2.5
          }
         },
         "opacity": 0.6,
         "orientation": "h",
         "type": "bar",
         "x": [
          391,
          357,
          274,
          210,
          185
         ],
         "xaxis": "x5",
         "y": [
          "Joe Hart",
          "Lukasz Fabianski",
          "Wayne Hennessey",
          "Hugo Lloris",
          "David de Gea"
         ],
         "yaxis": "y5"
        },
        {
         "hovertext": [
          "Tottenham-Hotspur",
          "Manchester-City",
          "Manchester-United",
          "West-Ham-United",
          "Tottenham-Hotspur"
         ],
         "marker": {
          "color": [
           "rgb(110, 102,250)",
           "rgb(210, 202, 82)",
           "rgb(210, 202,82)",
           "rgb(210,202,82)",
           "rgb(210,202,82)"
          ],
          "line": {
           "color": "rgb(8,48,107)",
           "width": 2.5
          }
         },
         "opacity": 0.6,
         "orientation": "h",
         "type": "bar",
         "x": [
          249,
          164,
          107,
          101,
          96
         ],
         "xaxis": "x7",
         "y": [
          "Joe Hart",
          "Scott Carson",
          "David de Gea",
          "Lukasz Fabianski",
          "Hugo Lloris"
         ],
         "yaxis": "y7"
        },
        {
         "hovertext": [
          "Tottenham-Hotspur",
          "Manchester-United",
          "Tottenham-Hotspur",
          "Leicester-City",
          "West-Ham-United"
         ],
         "marker": {
          "color": [
           "rgb(110, 102,250)",
           "rgb(210, 202, 82)",
           "rgb(210, 202,82)",
           "rgb(210,202,82)",
           "rgb(210,202,82)"
          ],
          "line": {
           "color": "rgb(8,48,107)",
           "width": 2.5
          }
         },
         "opacity": 0.6,
         "orientation": "h",
         "type": "bar",
         "x": [
          127,
          113,
          92,
          65,
          63
         ],
         "xaxis": "x2",
         "y": [
          "Joe Hart",
          "David de Gea",
          "Hugo Lloris",
          "Kasper Schmeichel",
          "Lukasz Fabianski"
         ],
         "yaxis": "y2"
        },
        {
         "hovertext": [
          "Tottenham-Hotspur",
          "Manchester-United",
          "West-Ham-United",
          "Tottenham-Hotspur",
          "Crystal-Palace"
         ],
         "marker": {
          "color": [
           "rgb(110, 102,250)",
           "rgb(210, 202, 82)",
           "rgb(210, 202,82)",
           "rgb(210,202,82)",
           "rgb(210,202,82)"
          ],
          "line": {
           "color": "rgb(8,48,107)",
           "width": 2.5
          }
         },
         "opacity": 0.6,
         "orientation": "h",
         "type": "bar",
         "x": [
          941,
          870,
          807,
          703,
          617
         ],
         "xaxis": "x4",
         "y": [
          "Joe Hart",
          "David de Gea",
          "Lukasz Fabianski",
          "Hugo Lloris",
          "Wayne Hennessey"
         ],
         "yaxis": "y4"
        },
        {
         "hovertext": [
          "Tottenham-Hotspur",
          "West-Ham-United",
          "Crystal-Palace",
          "Tottenham-Hotspur",
          "Manchester-United"
         ],
         "marker": {
          "color": [
           "rgb(110, 102,250)",
           "rgb(210, 202, 82)",
           "rgb(210, 202,82)",
           "rgb(210,202,82)",
           "rgb(210,202,82)"
          ],
          "line": {
           "color": "rgb(8,48,107)",
           "width": 2.5
          }
         },
         "opacity": 0.6,
         "orientation": "h",
         "type": "bar",
         "x": [
          391,
          357,
          274,
          210,
          185
         ],
         "xaxis": "x6",
         "y": [
          "Joe Hart",
          "Lukasz Fabianski",
          "Wayne Hennessey",
          "Hugo Lloris",
          "David de Gea"
         ],
         "yaxis": "y6"
        },
        {
         "hovertext": [
          "Tottenham-Hotspur",
          "Manchester-City",
          "Manchester-United",
          "West-Ham-United",
          "Tottenham-Hotspur"
         ],
         "marker": {
          "color": [
           "rgb(110, 102,250)",
           "rgb(210, 202, 82)",
           "rgb(210, 202,82)",
           "rgb(210,202,82)",
           "rgb(210,202,82)"
          ],
          "line": {
           "color": "rgb(8,48,107)",
           "width": 2.5
          }
         },
         "opacity": 0.6,
         "orientation": "h",
         "type": "bar",
         "x": [
          249,
          164,
          107,
          101,
          96
         ],
         "xaxis": "x8",
         "y": [
          "Joe Hart",
          "Scott Carson",
          "David de Gea",
          "Lukasz Fabianski",
          "Hugo Lloris"
         ],
         "yaxis": "y8"
        }
       ],
       "layout": {
        "annotations": [
         {
          "font": {
           "size": 16
          },
          "showarrow": false,
          "text": "Clean sheets(overall)",
          "x": 0.225,
          "xanchor": "center",
          "xref": "paper",
          "y": 1,
          "yanchor": "bottom",
          "yref": "paper"
         },
         {
          "font": {
           "size": 16
          },
          "showarrow": false,
          "text": "Clean sheets (pre-game)",
          "x": 0.775,
          "xanchor": "center",
          "xref": "paper",
          "y": 1,
          "yanchor": "bottom",
          "yref": "paper"
         },
         {
          "font": {
           "size": 16
          },
          "showarrow": false,
          "text": "Save (overall)",
          "x": 0.225,
          "xanchor": "center",
          "xref": "paper",
          "y": 0.71875,
          "yanchor": "bottom",
          "yref": "paper"
         },
         {
          "font": {
           "size": 16
          },
          "showarrow": false,
          "text": "Saves (pre-game)",
          "x": 0.775,
          "xanchor": "center",
          "xref": "paper",
          "y": 0.71875,
          "yanchor": "bottom",
          "yref": "paper"
         },
         {
          "font": {
           "size": 16
          },
          "showarrow": false,
          "text": "High Claims (overall)",
          "x": 0.225,
          "xanchor": "center",
          "xref": "paper",
          "y": 0.4375,
          "yanchor": "bottom",
          "yref": "paper"
         },
         {
          "font": {
           "size": 16
          },
          "showarrow": false,
          "text": "High claims(pre-game)",
          "x": 0.775,
          "xanchor": "center",
          "xref": "paper",
          "y": 0.4375,
          "yanchor": "bottom",
          "yref": "paper"
         },
         {
          "font": {
           "size": 16
          },
          "showarrow": false,
          "text": "Catches(overall)",
          "x": 0.225,
          "xanchor": "center",
          "xref": "paper",
          "y": 0.15625,
          "yanchor": "bottom",
          "yref": "paper"
         },
         {
          "font": {
           "size": 16
          },
          "showarrow": false,
          "text": "Catches (pre-game)",
          "x": 0.775,
          "xanchor": "center",
          "xref": "paper",
          "y": 0.15625,
          "yanchor": "bottom",
          "yref": "paper"
         }
        ],
        "autosize": false,
        "height": 1600,
        "showlegend": false,
        "template": {
         "data": {
          "bar": [
           {
            "error_x": {
             "color": "#2a3f5f"
            },
            "error_y": {
             "color": "#2a3f5f"
            },
            "marker": {
             "line": {
              "color": "#E5ECF6",
              "width": 0.5
             }
            },
            "type": "bar"
           }
          ],
          "barpolar": [
           {
            "marker": {
             "line": {
              "color": "#E5ECF6",
              "width": 0.5
             }
            },
            "type": "barpolar"
           }
          ],
          "carpet": [
           {
            "aaxis": {
             "endlinecolor": "#2a3f5f",
             "gridcolor": "white",
             "linecolor": "white",
             "minorgridcolor": "white",
             "startlinecolor": "#2a3f5f"
            },
            "baxis": {
             "endlinecolor": "#2a3f5f",
             "gridcolor": "white",
             "linecolor": "white",
             "minorgridcolor": "white",
             "startlinecolor": "#2a3f5f"
            },
            "type": "carpet"
           }
          ],
          "choropleth": [
           {
            "colorbar": {
             "outlinewidth": 0,
             "ticks": ""
            },
            "type": "choropleth"
           }
          ],
          "contour": [
           {
            "colorbar": {
             "outlinewidth": 0,
             "ticks": ""
            },
            "colorscale": [
             [
              0,
              "#0d0887"
             ],
             [
              0.1111111111111111,
              "#46039f"
             ],
             [
              0.2222222222222222,
              "#7201a8"
             ],
             [
              0.3333333333333333,
              "#9c179e"
             ],
             [
              0.4444444444444444,
              "#bd3786"
             ],
             [
              0.5555555555555556,
              "#d8576b"
             ],
             [
              0.6666666666666666,
              "#ed7953"
             ],
             [
              0.7777777777777778,
              "#fb9f3a"
             ],
             [
              0.8888888888888888,
              "#fdca26"
             ],
             [
              1,
              "#f0f921"
             ]
            ],
            "type": "contour"
           }
          ],
          "contourcarpet": [
           {
            "colorbar": {
             "outlinewidth": 0,
             "ticks": ""
            },
            "type": "contourcarpet"
           }
          ],
          "heatmap": [
           {
            "colorbar": {
             "outlinewidth": 0,
             "ticks": ""
            },
            "colorscale": [
             [
              0,
              "#0d0887"
             ],
             [
              0.1111111111111111,
              "#46039f"
             ],
             [
              0.2222222222222222,
              "#7201a8"
             ],
             [
              0.3333333333333333,
              "#9c179e"
             ],
             [
              0.4444444444444444,
              "#bd3786"
             ],
             [
              0.5555555555555556,
              "#d8576b"
             ],
             [
              0.6666666666666666,
              "#ed7953"
             ],
             [
              0.7777777777777778,
              "#fb9f3a"
             ],
             [
              0.8888888888888888,
              "#fdca26"
             ],
             [
              1,
              "#f0f921"
             ]
            ],
            "type": "heatmap"
           }
          ],
          "heatmapgl": [
           {
            "colorbar": {
             "outlinewidth": 0,
             "ticks": ""
            },
            "colorscale": [
             [
              0,
              "#0d0887"
             ],
             [
              0.1111111111111111,
              "#46039f"
             ],
             [
              0.2222222222222222,
              "#7201a8"
             ],
             [
              0.3333333333333333,
              "#9c179e"
             ],
             [
              0.4444444444444444,
              "#bd3786"
             ],
             [
              0.5555555555555556,
              "#d8576b"
             ],
             [
              0.6666666666666666,
              "#ed7953"
             ],
             [
              0.7777777777777778,
              "#fb9f3a"
             ],
             [
              0.8888888888888888,
              "#fdca26"
             ],
             [
              1,
              "#f0f921"
             ]
            ],
            "type": "heatmapgl"
           }
          ],
          "histogram": [
           {
            "marker": {
             "colorbar": {
              "outlinewidth": 0,
              "ticks": ""
             }
            },
            "type": "histogram"
           }
          ],
          "histogram2d": [
           {
            "colorbar": {
             "outlinewidth": 0,
             "ticks": ""
            },
            "colorscale": [
             [
              0,
              "#0d0887"
             ],
             [
              0.1111111111111111,
              "#46039f"
             ],
             [
              0.2222222222222222,
              "#7201a8"
             ],
             [
              0.3333333333333333,
              "#9c179e"
             ],
             [
              0.4444444444444444,
              "#bd3786"
             ],
             [
              0.5555555555555556,
              "#d8576b"
             ],
             [
              0.6666666666666666,
              "#ed7953"
             ],
             [
              0.7777777777777778,
              "#fb9f3a"
             ],
             [
              0.8888888888888888,
              "#fdca26"
             ],
             [
              1,
              "#f0f921"
             ]
            ],
            "type": "histogram2d"
           }
          ],
          "histogram2dcontour": [
           {
            "colorbar": {
             "outlinewidth": 0,
             "ticks": ""
            },
            "colorscale": [
             [
              0,
              "#0d0887"
             ],
             [
              0.1111111111111111,
              "#46039f"
             ],
             [
              0.2222222222222222,
              "#7201a8"
             ],
             [
              0.3333333333333333,
              "#9c179e"
             ],
             [
              0.4444444444444444,
              "#bd3786"
             ],
             [
              0.5555555555555556,
              "#d8576b"
             ],
             [
              0.6666666666666666,
              "#ed7953"
             ],
             [
              0.7777777777777778,
              "#fb9f3a"
             ],
             [
              0.8888888888888888,
              "#fdca26"
             ],
             [
              1,
              "#f0f921"
             ]
            ],
            "type": "histogram2dcontour"
           }
          ],
          "mesh3d": [
           {
            "colorbar": {
             "outlinewidth": 0,
             "ticks": ""
            },
            "type": "mesh3d"
           }
          ],
          "parcoords": [
           {
            "line": {
             "colorbar": {
              "outlinewidth": 0,
              "ticks": ""
             }
            },
            "type": "parcoords"
           }
          ],
          "pie": [
           {
            "automargin": true,
            "type": "pie"
           }
          ],
          "scatter": [
           {
            "marker": {
             "colorbar": {
              "outlinewidth": 0,
              "ticks": ""
             }
            },
            "type": "scatter"
           }
          ],
          "scatter3d": [
           {
            "line": {
             "colorbar": {
              "outlinewidth": 0,
              "ticks": ""
             }
            },
            "marker": {
             "colorbar": {
              "outlinewidth": 0,
              "ticks": ""
             }
            },
            "type": "scatter3d"
           }
          ],
          "scattercarpet": [
           {
            "marker": {
             "colorbar": {
              "outlinewidth": 0,
              "ticks": ""
             }
            },
            "type": "scattercarpet"
           }
          ],
          "scattergeo": [
           {
            "marker": {
             "colorbar": {
              "outlinewidth": 0,
              "ticks": ""
             }
            },
            "type": "scattergeo"
           }
          ],
          "scattergl": [
           {
            "marker": {
             "colorbar": {
              "outlinewidth": 0,
              "ticks": ""
             }
            },
            "type": "scattergl"
           }
          ],
          "scattermapbox": [
           {
            "marker": {
             "colorbar": {
              "outlinewidth": 0,
              "ticks": ""
             }
            },
            "type": "scattermapbox"
           }
          ],
          "scatterpolar": [
           {
            "marker": {
             "colorbar": {
              "outlinewidth": 0,
              "ticks": ""
             }
            },
            "type": "scatterpolar"
           }
          ],
          "scatterpolargl": [
           {
            "marker": {
             "colorbar": {
              "outlinewidth": 0,
              "ticks": ""
             }
            },
            "type": "scatterpolargl"
           }
          ],
          "scatterternary": [
           {
            "marker": {
             "colorbar": {
              "outlinewidth": 0,
              "ticks": ""
             }
            },
            "type": "scatterternary"
           }
          ],
          "surface": [
           {
            "colorbar": {
             "outlinewidth": 0,
             "ticks": ""
            },
            "colorscale": [
             [
              0,
              "#0d0887"
             ],
             [
              0.1111111111111111,
              "#46039f"
             ],
             [
              0.2222222222222222,
              "#7201a8"
             ],
             [
              0.3333333333333333,
              "#9c179e"
             ],
             [
              0.4444444444444444,
              "#bd3786"
             ],
             [
              0.5555555555555556,
              "#d8576b"
             ],
             [
              0.6666666666666666,
              "#ed7953"
             ],
             [
              0.7777777777777778,
              "#fb9f3a"
             ],
             [
              0.8888888888888888,
              "#fdca26"
             ],
             [
              1,
              "#f0f921"
             ]
            ],
            "type": "surface"
           }
          ],
          "table": [
           {
            "cells": {
             "fill": {
              "color": "#EBF0F8"
             },
             "line": {
              "color": "white"
             }
            },
            "header": {
             "fill": {
              "color": "#C8D4E3"
             },
             "line": {
              "color": "white"
             }
            },
            "type": "table"
           }
          ]
         },
         "layout": {
          "annotationdefaults": {
           "arrowcolor": "#2a3f5f",
           "arrowhead": 0,
           "arrowwidth": 1
          },
          "autotypenumbers": "strict",
          "coloraxis": {
           "colorbar": {
            "outlinewidth": 0,
            "ticks": ""
           }
          },
          "colorscale": {
           "diverging": [
            [
             0,
             "#8e0152"
            ],
            [
             0.1,
             "#c51b7d"
            ],
            [
             0.2,
             "#de77ae"
            ],
            [
             0.3,
             "#f1b6da"
            ],
            [
             0.4,
             "#fde0ef"
            ],
            [
             0.5,
             "#f7f7f7"
            ],
            [
             0.6,
             "#e6f5d0"
            ],
            [
             0.7,
             "#b8e186"
            ],
            [
             0.8,
             "#7fbc41"
            ],
            [
             0.9,
             "#4d9221"
            ],
            [
             1,
             "#276419"
            ]
           ],
           "sequential": [
            [
             0,
             "#0d0887"
            ],
            [
             0.1111111111111111,
             "#46039f"
            ],
            [
             0.2222222222222222,
             "#7201a8"
            ],
            [
             0.3333333333333333,
             "#9c179e"
            ],
            [
             0.4444444444444444,
             "#bd3786"
            ],
            [
             0.5555555555555556,
             "#d8576b"
            ],
            [
             0.6666666666666666,
             "#ed7953"
            ],
            [
             0.7777777777777778,
             "#fb9f3a"
            ],
            [
             0.8888888888888888,
             "#fdca26"
            ],
            [
             1,
             "#f0f921"
            ]
           ],
           "sequentialminus": [
            [
             0,
             "#0d0887"
            ],
            [
             0.1111111111111111,
             "#46039f"
            ],
            [
             0.2222222222222222,
             "#7201a8"
            ],
            [
             0.3333333333333333,
             "#9c179e"
            ],
            [
             0.4444444444444444,
             "#bd3786"
            ],
            [
             0.5555555555555556,
             "#d8576b"
            ],
            [
             0.6666666666666666,
             "#ed7953"
            ],
            [
             0.7777777777777778,
             "#fb9f3a"
            ],
            [
             0.8888888888888888,
             "#fdca26"
            ],
            [
             1,
             "#f0f921"
            ]
           ]
          },
          "colorway": [
           "#636efa",
           "#EF553B",
           "#00cc96",
           "#ab63fa",
           "#FFA15A",
           "#19d3f3",
           "#FF6692",
           "#B6E880",
           "#FF97FF",
           "#FECB52"
          ],
          "font": {
           "color": "#2a3f5f"
          },
          "geo": {
           "bgcolor": "white",
           "lakecolor": "white",
           "landcolor": "#E5ECF6",
           "showlakes": true,
           "showland": true,
           "subunitcolor": "white"
          },
          "hoverlabel": {
           "align": "left"
          },
          "hovermode": "closest",
          "mapbox": {
           "style": "light"
          },
          "paper_bgcolor": "white",
          "plot_bgcolor": "#E5ECF6",
          "polar": {
           "angularaxis": {
            "gridcolor": "white",
            "linecolor": "white",
            "ticks": ""
           },
           "bgcolor": "#E5ECF6",
           "radialaxis": {
            "gridcolor": "white",
            "linecolor": "white",
            "ticks": ""
           }
          },
          "scene": {
           "xaxis": {
            "backgroundcolor": "#E5ECF6",
            "gridcolor": "white",
            "gridwidth": 2,
            "linecolor": "white",
            "showbackground": true,
            "ticks": "",
            "zerolinecolor": "white"
           },
           "yaxis": {
            "backgroundcolor": "#E5ECF6",
            "gridcolor": "white",
            "gridwidth": 2,
            "linecolor": "white",
            "showbackground": true,
            "ticks": "",
            "zerolinecolor": "white"
           },
           "zaxis": {
            "backgroundcolor": "#E5ECF6",
            "gridcolor": "white",
            "gridwidth": 2,
            "linecolor": "white",
            "showbackground": true,
            "ticks": "",
            "zerolinecolor": "white"
           }
          },
          "shapedefaults": {
           "line": {
            "color": "#2a3f5f"
           }
          },
          "ternary": {
           "aaxis": {
            "gridcolor": "white",
            "linecolor": "white",
            "ticks": ""
           },
           "baxis": {
            "gridcolor": "white",
            "linecolor": "white",
            "ticks": ""
           },
           "bgcolor": "#E5ECF6",
           "caxis": {
            "gridcolor": "white",
            "linecolor": "white",
            "ticks": ""
           }
          },
          "title": {
           "x": 0.05
          },
          "xaxis": {
           "automargin": true,
           "gridcolor": "white",
           "linecolor": "white",
           "ticks": "",
           "title": {
            "standoff": 15
           },
           "zerolinecolor": "white",
           "zerolinewidth": 2
          },
          "yaxis": {
           "automargin": true,
           "gridcolor": "white",
           "linecolor": "white",
           "ticks": "",
           "title": {
            "standoff": 15
           },
           "zerolinecolor": "white",
           "zerolinewidth": 2
          }
         }
        },
        "title": {
         "text": "Top stats for goalkeepers",
         "x": 0.5
        },
        "width": 1200,
        "xaxis": {
         "anchor": "y",
         "domain": [
          0,
          0.45
         ]
        },
        "xaxis2": {
         "anchor": "y2",
         "domain": [
          0.55,
          1
         ]
        },
        "xaxis3": {
         "anchor": "y3",
         "domain": [
          0,
          0.45
         ]
        },
        "xaxis4": {
         "anchor": "y4",
         "domain": [
          0.55,
          1
         ]
        },
        "xaxis5": {
         "anchor": "y5",
         "domain": [
          0,
          0.45
         ]
        },
        "xaxis6": {
         "anchor": "y6",
         "domain": [
          0.55,
          1
         ]
        },
        "xaxis7": {
         "anchor": "y7",
         "domain": [
          0,
          0.45
         ]
        },
        "xaxis8": {
         "anchor": "y8",
         "domain": [
          0.55,
          1
         ]
        },
        "yaxis": {
         "anchor": "x",
         "domain": [
          0.84375,
          1
         ]
        },
        "yaxis2": {
         "anchor": "x2",
         "domain": [
          0.84375,
          1
         ]
        },
        "yaxis3": {
         "anchor": "x3",
         "domain": [
          0.5625,
          0.71875
         ]
        },
        "yaxis4": {
         "anchor": "x4",
         "domain": [
          0.5625,
          0.71875
         ]
        },
        "yaxis5": {
         "anchor": "x5",
         "domain": [
          0.28125,
          0.4375
         ]
        },
        "yaxis6": {
         "anchor": "x6",
         "domain": [
          0.28125,
          0.4375
         ]
        },
        "yaxis7": {
         "anchor": "x7",
         "domain": [
          0,
          0.15625
         ]
        },
        "yaxis8": {
         "anchor": "x8",
         "domain": [
          0,
          0.15625
         ]
        }
       }
      },
      "text/html": [
       "<div>                            <div id=\"4ad7e0df-9194-459c-a927-ca6ea21f09ab\" class=\"plotly-graph-div\" style=\"height:1600px; width:1200px;\"></div>            <script type=\"text/javascript\">                require([\"plotly\"], function(Plotly) {                    window.PLOTLYENV=window.PLOTLYENV || {};                                    if (document.getElementById(\"4ad7e0df-9194-459c-a927-ca6ea21f09ab\")) {                    Plotly.newPlot(                        \"4ad7e0df-9194-459c-a927-ca6ea21f09ab\",                        [{\"hovertext\": [\"Tottenham-Hotspur\", \"Manchester-United\", \"Tottenham-Hotspur\", \"Leicester-City\", \"West-Ham-United\"], \"marker\": {\"color\": [\"rgb(110, 102,250)\", \"rgb(210, 202, 82)\", \"rgb(210, 202,82)\", \"rgb(210,202,82)\", \"rgb(210,202,82)\"], \"line\": {\"color\": \"rgb(8,48,107)\", \"width\": 2.5}}, \"opacity\": 0.6, \"orientation\": \"h\", \"type\": \"bar\", \"x\": [127.0, 113.0, 92.0, 65.0, 63.0], \"xaxis\": \"x\", \"y\": [\"Joe Hart\", \"David de Gea\", \"Hugo Lloris\", \"Kasper Schmeichel\", \"Lukasz Fabianski\"], \"yaxis\": \"y\"}, {\"hovertext\": [\"Tottenham-Hotspur\", \"Manchester-United\", \"West-Ham-United\", \"Tottenham-Hotspur\", \"Crystal-Palace\"], \"marker\": {\"color\": [\"rgb(110, 102,250)\", \"rgb(210, 202, 82)\", \"rgb(210, 202,82)\", \"rgb(210,202,82)\", \"rgb(210,202,82)\"], \"line\": {\"color\": \"rgb(8,48,107)\", \"width\": 2.5}}, \"opacity\": 0.6, \"orientation\": \"h\", \"type\": \"bar\", \"x\": [941.0, 870.0, 807.0, 703.0, 617.0], \"xaxis\": \"x3\", \"y\": [\"Joe Hart\", \"David de Gea\", \"Lukasz Fabianski\", \"Hugo Lloris\", \"Wayne Hennessey\"], \"yaxis\": \"y3\"}, {\"hovertext\": [\"Tottenham-Hotspur\", \"West-Ham-United\", \"Crystal-Palace\", \"Tottenham-Hotspur\", \"Manchester-United\"], \"marker\": {\"color\": [\"rgb(110, 102,250)\", \"rgb(210, 202, 82)\", \"rgb(210, 202,82)\", \"rgb(210,202,82)\", \"rgb(210,202,82)\"], \"line\": {\"color\": \"rgb(8,48,107)\", \"width\": 2.5}}, \"opacity\": 0.6, \"orientation\": \"h\", \"type\": \"bar\", \"x\": [391.0, 357.0, 274.0, 210.0, 185.0], \"xaxis\": \"x5\", \"y\": [\"Joe Hart\", \"Lukasz Fabianski\", \"Wayne Hennessey\", \"Hugo Lloris\", \"David de Gea\"], \"yaxis\": \"y5\"}, {\"hovertext\": [\"Tottenham-Hotspur\", \"Manchester-City\", \"Manchester-United\", \"West-Ham-United\", \"Tottenham-Hotspur\"], \"marker\": {\"color\": [\"rgb(110, 102,250)\", \"rgb(210, 202, 82)\", \"rgb(210, 202,82)\", \"rgb(210,202,82)\", \"rgb(210,202,82)\"], \"line\": {\"color\": \"rgb(8,48,107)\", \"width\": 2.5}}, \"opacity\": 0.6, \"orientation\": \"h\", \"type\": \"bar\", \"x\": [249.0, 164.0, 107.0, 101.0, 96.0], \"xaxis\": \"x7\", \"y\": [\"Joe Hart\", \"Scott Carson\", \"David de Gea\", \"Lukasz Fabianski\", \"Hugo Lloris\"], \"yaxis\": \"y7\"}, {\"hovertext\": [\"Tottenham-Hotspur\", \"Manchester-United\", \"Tottenham-Hotspur\", \"Leicester-City\", \"West-Ham-United\"], \"marker\": {\"color\": [\"rgb(110, 102,250)\", \"rgb(210, 202, 82)\", \"rgb(210, 202,82)\", \"rgb(210,202,82)\", \"rgb(210,202,82)\"], \"line\": {\"color\": \"rgb(8,48,107)\", \"width\": 2.5}}, \"opacity\": 0.6, \"orientation\": \"h\", \"type\": \"bar\", \"x\": [127.0, 113.0, 92.0, 65.0, 63.0], \"xaxis\": \"x2\", \"y\": [\"Joe Hart\", \"David de Gea\", \"Hugo Lloris\", \"Kasper Schmeichel\", \"Lukasz Fabianski\"], \"yaxis\": \"y2\"}, {\"hovertext\": [\"Tottenham-Hotspur\", \"Manchester-United\", \"West-Ham-United\", \"Tottenham-Hotspur\", \"Crystal-Palace\"], \"marker\": {\"color\": [\"rgb(110, 102,250)\", \"rgb(210, 202, 82)\", \"rgb(210, 202,82)\", \"rgb(210,202,82)\", \"rgb(210,202,82)\"], \"line\": {\"color\": \"rgb(8,48,107)\", \"width\": 2.5}}, \"opacity\": 0.6, \"orientation\": \"h\", \"type\": \"bar\", \"x\": [941.0, 870.0, 807.0, 703.0, 617.0], \"xaxis\": \"x4\", \"y\": [\"Joe Hart\", \"David de Gea\", \"Lukasz Fabianski\", \"Hugo Lloris\", \"Wayne Hennessey\"], \"yaxis\": \"y4\"}, {\"hovertext\": [\"Tottenham-Hotspur\", \"West-Ham-United\", \"Crystal-Palace\", \"Tottenham-Hotspur\", \"Manchester-United\"], \"marker\": {\"color\": [\"rgb(110, 102,250)\", \"rgb(210, 202, 82)\", \"rgb(210, 202,82)\", \"rgb(210,202,82)\", \"rgb(210,202,82)\"], \"line\": {\"color\": \"rgb(8,48,107)\", \"width\": 2.5}}, \"opacity\": 0.6, \"orientation\": \"h\", \"type\": \"bar\", \"x\": [391.0, 357.0, 274.0, 210.0, 185.0], \"xaxis\": \"x6\", \"y\": [\"Joe Hart\", \"Lukasz Fabianski\", \"Wayne Hennessey\", \"Hugo Lloris\", \"David de Gea\"], \"yaxis\": \"y6\"}, {\"hovertext\": [\"Tottenham-Hotspur\", \"Manchester-City\", \"Manchester-United\", \"West-Ham-United\", \"Tottenham-Hotspur\"], \"marker\": {\"color\": [\"rgb(110, 102,250)\", \"rgb(210, 202, 82)\", \"rgb(210, 202,82)\", \"rgb(210,202,82)\", \"rgb(210,202,82)\"], \"line\": {\"color\": \"rgb(8,48,107)\", \"width\": 2.5}}, \"opacity\": 0.6, \"orientation\": \"h\", \"type\": \"bar\", \"x\": [249.0, 164.0, 107.0, 101.0, 96.0], \"xaxis\": \"x8\", \"y\": [\"Joe Hart\", \"Scott Carson\", \"David de Gea\", \"Lukasz Fabianski\", \"Hugo Lloris\"], \"yaxis\": \"y8\"}],                        {\"annotations\": [{\"font\": {\"size\": 16}, \"showarrow\": false, \"text\": \"Clean sheets(overall)\", \"x\": 0.225, \"xanchor\": \"center\", \"xref\": \"paper\", \"y\": 1.0, \"yanchor\": \"bottom\", \"yref\": \"paper\"}, {\"font\": {\"size\": 16}, \"showarrow\": false, \"text\": \"Clean sheets (pre-game)\", \"x\": 0.775, \"xanchor\": \"center\", \"xref\": \"paper\", \"y\": 1.0, \"yanchor\": \"bottom\", \"yref\": \"paper\"}, {\"font\": {\"size\": 16}, \"showarrow\": false, \"text\": \"Save (overall)\", \"x\": 0.225, \"xanchor\": \"center\", \"xref\": \"paper\", \"y\": 0.71875, \"yanchor\": \"bottom\", \"yref\": \"paper\"}, {\"font\": {\"size\": 16}, \"showarrow\": false, \"text\": \"Saves (pre-game)\", \"x\": 0.775, \"xanchor\": \"center\", \"xref\": \"paper\", \"y\": 0.71875, \"yanchor\": \"bottom\", \"yref\": \"paper\"}, {\"font\": {\"size\": 16}, \"showarrow\": false, \"text\": \"High Claims (overall)\", \"x\": 0.225, \"xanchor\": \"center\", \"xref\": \"paper\", \"y\": 0.4375, \"yanchor\": \"bottom\", \"yref\": \"paper\"}, {\"font\": {\"size\": 16}, \"showarrow\": false, \"text\": \"High claims(pre-game)\", \"x\": 0.775, \"xanchor\": \"center\", \"xref\": \"paper\", \"y\": 0.4375, \"yanchor\": \"bottom\", \"yref\": \"paper\"}, {\"font\": {\"size\": 16}, \"showarrow\": false, \"text\": \"Catches(overall)\", \"x\": 0.225, \"xanchor\": \"center\", \"xref\": \"paper\", \"y\": 0.15625, \"yanchor\": \"bottom\", \"yref\": \"paper\"}, {\"font\": {\"size\": 16}, \"showarrow\": false, \"text\": \"Catches (pre-game)\", \"x\": 0.775, \"xanchor\": \"center\", \"xref\": \"paper\", \"y\": 0.15625, \"yanchor\": \"bottom\", \"yref\": \"paper\"}], \"autosize\": false, \"height\": 1600, \"showlegend\": false, \"template\": {\"data\": {\"bar\": [{\"error_x\": {\"color\": \"#2a3f5f\"}, \"error_y\": {\"color\": \"#2a3f5f\"}, \"marker\": {\"line\": {\"color\": \"#E5ECF6\", \"width\": 0.5}}, \"type\": \"bar\"}], \"barpolar\": [{\"marker\": {\"line\": {\"color\": \"#E5ECF6\", \"width\": 0.5}}, \"type\": \"barpolar\"}], \"carpet\": [{\"aaxis\": {\"endlinecolor\": \"#2a3f5f\", \"gridcolor\": \"white\", \"linecolor\": \"white\", \"minorgridcolor\": \"white\", \"startlinecolor\": \"#2a3f5f\"}, \"baxis\": {\"endlinecolor\": \"#2a3f5f\", \"gridcolor\": \"white\", \"linecolor\": \"white\", \"minorgridcolor\": \"white\", \"startlinecolor\": \"#2a3f5f\"}, \"type\": \"carpet\"}], \"choropleth\": [{\"colorbar\": {\"outlinewidth\": 0, \"ticks\": \"\"}, \"type\": \"choropleth\"}], \"contour\": [{\"colorbar\": {\"outlinewidth\": 0, \"ticks\": \"\"}, \"colorscale\": [[0.0, \"#0d0887\"], [0.1111111111111111, \"#46039f\"], [0.2222222222222222, \"#7201a8\"], [0.3333333333333333, \"#9c179e\"], [0.4444444444444444, \"#bd3786\"], [0.5555555555555556, \"#d8576b\"], [0.6666666666666666, \"#ed7953\"], [0.7777777777777778, \"#fb9f3a\"], [0.8888888888888888, \"#fdca26\"], [1.0, \"#f0f921\"]], \"type\": \"contour\"}], \"contourcarpet\": [{\"colorbar\": {\"outlinewidth\": 0, \"ticks\": \"\"}, \"type\": \"contourcarpet\"}], \"heatmap\": [{\"colorbar\": {\"outlinewidth\": 0, \"ticks\": \"\"}, \"colorscale\": [[0.0, \"#0d0887\"], [0.1111111111111111, \"#46039f\"], [0.2222222222222222, \"#7201a8\"], [0.3333333333333333, \"#9c179e\"], [0.4444444444444444, \"#bd3786\"], [0.5555555555555556, \"#d8576b\"], [0.6666666666666666, \"#ed7953\"], [0.7777777777777778, \"#fb9f3a\"], [0.8888888888888888, \"#fdca26\"], [1.0, \"#f0f921\"]], \"type\": \"heatmap\"}], \"heatmapgl\": [{\"colorbar\": {\"outlinewidth\": 0, \"ticks\": \"\"}, \"colorscale\": [[0.0, \"#0d0887\"], [0.1111111111111111, \"#46039f\"], [0.2222222222222222, \"#7201a8\"], [0.3333333333333333, \"#9c179e\"], [0.4444444444444444, \"#bd3786\"], [0.5555555555555556, \"#d8576b\"], [0.6666666666666666, \"#ed7953\"], [0.7777777777777778, \"#fb9f3a\"], [0.8888888888888888, \"#fdca26\"], [1.0, \"#f0f921\"]], \"type\": \"heatmapgl\"}], \"histogram\": [{\"marker\": {\"colorbar\": {\"outlinewidth\": 0, \"ticks\": \"\"}}, \"type\": \"histogram\"}], \"histogram2d\": [{\"colorbar\": {\"outlinewidth\": 0, \"ticks\": \"\"}, \"colorscale\": [[0.0, \"#0d0887\"], [0.1111111111111111, \"#46039f\"], [0.2222222222222222, \"#7201a8\"], [0.3333333333333333, \"#9c179e\"], [0.4444444444444444, \"#bd3786\"], [0.5555555555555556, \"#d8576b\"], [0.6666666666666666, \"#ed7953\"], [0.7777777777777778, \"#fb9f3a\"], [0.8888888888888888, \"#fdca26\"], [1.0, \"#f0f921\"]], \"type\": \"histogram2d\"}], \"histogram2dcontour\": [{\"colorbar\": {\"outlinewidth\": 0, \"ticks\": \"\"}, \"colorscale\": [[0.0, \"#0d0887\"], [0.1111111111111111, \"#46039f\"], [0.2222222222222222, \"#7201a8\"], [0.3333333333333333, \"#9c179e\"], [0.4444444444444444, \"#bd3786\"], [0.5555555555555556, \"#d8576b\"], [0.6666666666666666, \"#ed7953\"], [0.7777777777777778, \"#fb9f3a\"], [0.8888888888888888, \"#fdca26\"], [1.0, \"#f0f921\"]], \"type\": \"histogram2dcontour\"}], \"mesh3d\": [{\"colorbar\": {\"outlinewidth\": 0, \"ticks\": \"\"}, \"type\": \"mesh3d\"}], \"parcoords\": [{\"line\": {\"colorbar\": {\"outlinewidth\": 0, \"ticks\": \"\"}}, \"type\": \"parcoords\"}], \"pie\": [{\"automargin\": true, \"type\": \"pie\"}], \"scatter\": [{\"marker\": {\"colorbar\": {\"outlinewidth\": 0, \"ticks\": \"\"}}, \"type\": \"scatter\"}], \"scatter3d\": [{\"line\": {\"colorbar\": {\"outlinewidth\": 0, \"ticks\": \"\"}}, \"marker\": {\"colorbar\": {\"outlinewidth\": 0, \"ticks\": \"\"}}, \"type\": \"scatter3d\"}], \"scattercarpet\": [{\"marker\": {\"colorbar\": {\"outlinewidth\": 0, \"ticks\": \"\"}}, \"type\": \"scattercarpet\"}], \"scattergeo\": [{\"marker\": {\"colorbar\": {\"outlinewidth\": 0, \"ticks\": \"\"}}, \"type\": \"scattergeo\"}], \"scattergl\": [{\"marker\": {\"colorbar\": {\"outlinewidth\": 0, \"ticks\": \"\"}}, \"type\": \"scattergl\"}], \"scattermapbox\": [{\"marker\": {\"colorbar\": {\"outlinewidth\": 0, \"ticks\": \"\"}}, \"type\": \"scattermapbox\"}], \"scatterpolar\": [{\"marker\": {\"colorbar\": {\"outlinewidth\": 0, \"ticks\": \"\"}}, \"type\": \"scatterpolar\"}], \"scatterpolargl\": [{\"marker\": {\"colorbar\": {\"outlinewidth\": 0, \"ticks\": \"\"}}, \"type\": \"scatterpolargl\"}], \"scatterternary\": [{\"marker\": {\"colorbar\": {\"outlinewidth\": 0, \"ticks\": \"\"}}, \"type\": \"scatterternary\"}], \"surface\": [{\"colorbar\": {\"outlinewidth\": 0, \"ticks\": \"\"}, \"colorscale\": [[0.0, \"#0d0887\"], [0.1111111111111111, \"#46039f\"], [0.2222222222222222, \"#7201a8\"], [0.3333333333333333, \"#9c179e\"], [0.4444444444444444, \"#bd3786\"], [0.5555555555555556, \"#d8576b\"], [0.6666666666666666, \"#ed7953\"], [0.7777777777777778, \"#fb9f3a\"], [0.8888888888888888, \"#fdca26\"], [1.0, \"#f0f921\"]], \"type\": \"surface\"}], \"table\": [{\"cells\": {\"fill\": {\"color\": \"#EBF0F8\"}, \"line\": {\"color\": \"white\"}}, \"header\": {\"fill\": {\"color\": \"#C8D4E3\"}, \"line\": {\"color\": \"white\"}}, \"type\": \"table\"}]}, \"layout\": {\"annotationdefaults\": {\"arrowcolor\": \"#2a3f5f\", \"arrowhead\": 0, \"arrowwidth\": 1}, \"autotypenumbers\": \"strict\", \"coloraxis\": {\"colorbar\": {\"outlinewidth\": 0, \"ticks\": \"\"}}, \"colorscale\": {\"diverging\": [[0, \"#8e0152\"], [0.1, \"#c51b7d\"], [0.2, \"#de77ae\"], [0.3, \"#f1b6da\"], [0.4, \"#fde0ef\"], [0.5, \"#f7f7f7\"], [0.6, \"#e6f5d0\"], [0.7, \"#b8e186\"], [0.8, \"#7fbc41\"], [0.9, \"#4d9221\"], [1, \"#276419\"]], \"sequential\": [[0.0, \"#0d0887\"], [0.1111111111111111, \"#46039f\"], [0.2222222222222222, \"#7201a8\"], [0.3333333333333333, \"#9c179e\"], [0.4444444444444444, \"#bd3786\"], [0.5555555555555556, \"#d8576b\"], [0.6666666666666666, \"#ed7953\"], [0.7777777777777778, \"#fb9f3a\"], [0.8888888888888888, \"#fdca26\"], [1.0, \"#f0f921\"]], \"sequentialminus\": [[0.0, \"#0d0887\"], [0.1111111111111111, \"#46039f\"], [0.2222222222222222, \"#7201a8\"], [0.3333333333333333, \"#9c179e\"], [0.4444444444444444, \"#bd3786\"], [0.5555555555555556, \"#d8576b\"], [0.6666666666666666, \"#ed7953\"], [0.7777777777777778, \"#fb9f3a\"], [0.8888888888888888, \"#fdca26\"], [1.0, \"#f0f921\"]]}, \"colorway\": [\"#636efa\", \"#EF553B\", \"#00cc96\", \"#ab63fa\", \"#FFA15A\", \"#19d3f3\", \"#FF6692\", \"#B6E880\", \"#FF97FF\", \"#FECB52\"], \"font\": {\"color\": \"#2a3f5f\"}, \"geo\": {\"bgcolor\": \"white\", \"lakecolor\": \"white\", \"landcolor\": \"#E5ECF6\", \"showlakes\": true, \"showland\": true, \"subunitcolor\": \"white\"}, \"hoverlabel\": {\"align\": \"left\"}, \"hovermode\": \"closest\", \"mapbox\": {\"style\": \"light\"}, \"paper_bgcolor\": \"white\", \"plot_bgcolor\": \"#E5ECF6\", \"polar\": {\"angularaxis\": {\"gridcolor\": \"white\", \"linecolor\": \"white\", \"ticks\": \"\"}, \"bgcolor\": \"#E5ECF6\", \"radialaxis\": {\"gridcolor\": \"white\", \"linecolor\": \"white\", \"ticks\": \"\"}}, \"scene\": {\"xaxis\": {\"backgroundcolor\": \"#E5ECF6\", \"gridcolor\": \"white\", \"gridwidth\": 2, \"linecolor\": \"white\", \"showbackground\": true, \"ticks\": \"\", \"zerolinecolor\": \"white\"}, \"yaxis\": {\"backgroundcolor\": \"#E5ECF6\", \"gridcolor\": \"white\", \"gridwidth\": 2, \"linecolor\": \"white\", \"showbackground\": true, \"ticks\": \"\", \"zerolinecolor\": \"white\"}, \"zaxis\": {\"backgroundcolor\": \"#E5ECF6\", \"gridcolor\": \"white\", \"gridwidth\": 2, \"linecolor\": \"white\", \"showbackground\": true, \"ticks\": \"\", \"zerolinecolor\": \"white\"}}, \"shapedefaults\": {\"line\": {\"color\": \"#2a3f5f\"}}, \"ternary\": {\"aaxis\": {\"gridcolor\": \"white\", \"linecolor\": \"white\", \"ticks\": \"\"}, \"baxis\": {\"gridcolor\": \"white\", \"linecolor\": \"white\", \"ticks\": \"\"}, \"bgcolor\": \"#E5ECF6\", \"caxis\": {\"gridcolor\": \"white\", \"linecolor\": \"white\", \"ticks\": \"\"}}, \"title\": {\"x\": 0.05}, \"xaxis\": {\"automargin\": true, \"gridcolor\": \"white\", \"linecolor\": \"white\", \"ticks\": \"\", \"title\": {\"standoff\": 15}, \"zerolinecolor\": \"white\", \"zerolinewidth\": 2}, \"yaxis\": {\"automargin\": true, \"gridcolor\": \"white\", \"linecolor\": \"white\", \"ticks\": \"\", \"title\": {\"standoff\": 15}, \"zerolinecolor\": \"white\", \"zerolinewidth\": 2}}}, \"title\": {\"text\": \"Top stats for goalkeepers\", \"x\": 0.5}, \"width\": 1200, \"xaxis\": {\"anchor\": \"y\", \"domain\": [0.0, 0.45]}, \"xaxis2\": {\"anchor\": \"y2\", \"domain\": [0.55, 1.0]}, \"xaxis3\": {\"anchor\": \"y3\", \"domain\": [0.0, 0.45]}, \"xaxis4\": {\"anchor\": \"y4\", \"domain\": [0.55, 1.0]}, \"xaxis5\": {\"anchor\": \"y5\", \"domain\": [0.0, 0.45]}, \"xaxis6\": {\"anchor\": \"y6\", \"domain\": [0.55, 1.0]}, \"xaxis7\": {\"anchor\": \"y7\", \"domain\": [0.0, 0.45]}, \"xaxis8\": {\"anchor\": \"y8\", \"domain\": [0.55, 1.0]}, \"yaxis\": {\"anchor\": \"x\", \"domain\": [0.84375, 1.0]}, \"yaxis2\": {\"anchor\": \"x2\", \"domain\": [0.84375, 1.0]}, \"yaxis3\": {\"anchor\": \"x3\", \"domain\": [0.5625, 0.71875]}, \"yaxis4\": {\"anchor\": \"x4\", \"domain\": [0.5625, 0.71875]}, \"yaxis5\": {\"anchor\": \"x5\", \"domain\": [0.28125, 0.4375]}, \"yaxis6\": {\"anchor\": \"x6\", \"domain\": [0.28125, 0.4375]}, \"yaxis7\": {\"anchor\": \"x7\", \"domain\": [0.0, 0.15625]}, \"yaxis8\": {\"anchor\": \"x8\", \"domain\": [0.0, 0.15625]}},                        {\"responsive\": true}                    ).then(function(){\n",
       "                            \n",
       "var gd = document.getElementById('4ad7e0df-9194-459c-a927-ca6ea21f09ab');\n",
       "var x = new MutationObserver(function (mutations, observer) {{\n",
       "        var display = window.getComputedStyle(gd).display;\n",
       "        if (!display || display === 'none') {{\n",
       "            console.log([gd, 'removed!']);\n",
       "            Plotly.purge(gd);\n",
       "            observer.disconnect();\n",
       "        }}\n",
       "}});\n",
       "\n",
       "// Listen for the removal of the full notebook cells\n",
       "var notebookContainer = gd.closest('#notebook-container');\n",
       "if (notebookContainer) {{\n",
       "    x.observe(notebookContainer, {childList: true});\n",
       "}}\n",
       "\n",
       "// Listen for the clearing of the current output cell\n",
       "var outputEl = gd.closest('.output');\n",
       "if (outputEl) {{\n",
       "    x.observe(outputEl, {childList: true});\n",
       "}}\n",
       "\n",
       "                        })                };                });            </script>        </div>"
      ]
     },
     "metadata": {},
     "output_type": "display_data"
    }
   ],
   "source": [
    "head=5\n",
    "df1=goalies_38app.sort_values(by='Clean sheets', ascending=False).head(head)\n",
    "df2=goalies_38app.sort_values(by='Saves', ascending=False).head(head)\n",
    "                                          \n",
    "df3=goalies_38app.sort_values(by='High Claims', ascending=False).head(head)\n",
    "df4=goalies_38app.sort_values(by='Catches', ascending=False).head(head)\n",
    "\n",
    "df11=goalies_38app.sort_values(by='Clean sheets', ascending=False).head(head)\n",
    "df12=goalies_38app.sort_values(by='Saves', ascending=False).head(head)\n",
    "df13=goalies_38app.sort_values(by='High Claims', ascending=False).head(head)\n",
    "df14=goalies_38app.sort_values(by='Catches', ascending=False).head(head)\n",
    "\n",
    "fig = make_subplots(rows=4, cols=2, subplot_titles=('Clean sheets(overall)', 'Clean sheets (pre-game)', 'Save (overall)',\n",
    "                                                   'Saves (pre-game)',\n",
    "                                                  'High Claims (overall)', 'High claims(pre-game)', 'Catches(overall)',\n",
    "                                                  'Catches (pre-game)'))\n",
    "fig.add_trace(go.Bar\n",
    "              (y=df1['Name'], \n",
    "               x=df1[\"Clean sheets\"], \n",
    "               hovertext=df1['Club'], \n",
    "               orientation='h'), row=1, col=1)\n",
    "fig.add_trace(go.Bar(\n",
    "                y=df2[\"Name\"], \n",
    "                x=df2['Saves'],\n",
    "                hovertext=df2['Club'],\n",
    "                orientation='h'),\n",
    "                row=2, col=1)\n",
    "\n",
    "fig.add_trace(go.Bar(\n",
    "                y=df3[\"Name\"], \n",
    "                x=df3['High Claims'],\n",
    "                hovertext=df3['Club'],\n",
    "                orientation='h'),\n",
    "                row=3, col=1)\n",
    "\n",
    "fig.add_trace(go.Bar(\n",
    "                y=df4[\"Name\"], \n",
    "                x=df4['Catches'],\n",
    "                hovertext=df4['Club'],\n",
    "                orientation='h'),\n",
    "                row=4, col=1)\n",
    "\n",
    "\n",
    "fig.add_trace(go.Bar(\n",
    "                y=df11[\"Name\"], \n",
    "                x=df11['Clean sheets'],\n",
    "                hovertext=df11['Club'],\n",
    "                orientation='h'),\n",
    "                row=1, col=2)\n",
    "\n",
    "fig.add_trace(go.Bar(\n",
    "                y=df12[\"Name\"], \n",
    "                x=df12['Saves'],\n",
    "                hovertext=df12['Club'],\n",
    "                orientation='h'),\n",
    "                row=2, col=2)\n",
    "\n",
    "fig.add_trace(go.Bar(\n",
    "                y=df13[\"Name\"], \n",
    "                x=df13['High Claims'],\n",
    "                hovertext=df13['Club'],\n",
    "                orientation='h'),\n",
    "                row=3, col=2)\n",
    "\n",
    "fig.add_trace(go.Bar(\n",
    "                y=df14[\"Name\"], \n",
    "                x=df14['Catches'],\n",
    "                hovertext=df14['Club'],\n",
    "                orientation='h'),\n",
    "                row=4, col=2)\n",
    "\n",
    "fig.update_layout(title_text='Top stats for goalkeepers', title_x=0.5)\n",
    "fig.update_traces(marker_color=['rgb(110, 102,250)', 'rgb(210, 202, 82)', 'rgb(210, 202,82)','rgb(210,202,82)',\n",
    "                               'rgb(210,202,82)'], marker_line_color='rgb(8,48,107)',\n",
    "                 marker_line_width=2.5, opacity=0.6)\n",
    "\n",
    "fig.update_layout(showlegend=False)\n",
    "fig.update_layout(autosize=False, width=1200, height=1600)\n",
    "fig.show()"
   ]
  },
  {
   "cell_type": "code",
   "execution_count": 24,
   "metadata": {},
   "outputs": [
    {
     "data": {
      "application/vnd.plotly.v1+json": {
       "config": {
        "plotlyServerURL": "https://plot.ly"
       },
       "data": [
        {
         "marker": {
          "color": [
           "rgb(96, 96, 96)",
           "rgb(210,202,82)",
           "rgb(210,202,82)",
           "rgb(210,202,82)",
           "rgb(210,202,82)",
           "rgb(210,202,82)"
          ],
          "line": {
           "color": "rgb(8,48,107)",
           "width": 2.5
          }
         },
         "opacity": 0.6,
         "orientation": "v",
         "type": "bar",
         "x": [
          "Gary Cahill",
          "Marcos Alonso",
          "David Luiz",
          "Phil Bardsley",
          "Kyle Walker"
         ],
         "xaxis": "x",
         "y": [
          63,
          63,
          59,
          56,
          55
         ],
         "yaxis": "y"
        },
        {
         "marker": {
          "color": [
           "rgb(96, 96, 96)",
           "rgb(210,202,82)",
           "rgb(210,202,82)",
           "rgb(210,202,82)",
           "rgb(210,202,82)",
           "rgb(210,202,82)"
          ],
          "line": {
           "color": "rgb(8,48,107)",
           "width": 2.5
          }
         },
         "opacity": 0.6,
         "orientation": "v",
         "type": "bar",
         "x": [
          "Phil Jagielka",
          "Jonny Evans",
          "Kyle Walker",
          "César Azpilicueta",
          "Gary Cahill"
         ],
         "xaxis": "x3",
         "y": [
          618,
          585,
          498,
          475,
          452
         ],
         "yaxis": "y3"
        },
        {
         "marker": {
          "color": [
           "rgb(96, 96, 96)",
           "rgb(210,202,82)",
           "rgb(210,202,82)",
           "rgb(210,202,82)",
           "rgb(210,202,82)",
           "rgb(210,202,82)"
          ],
          "line": {
           "color": "rgb(8,48,107)",
           "width": 2.5
          }
         },
         "opacity": 0.6,
         "orientation": "v",
         "type": "bar",
         "x": [
          "Phil Jagielka",
          "Gary Cahill",
          "James Tomkins",
          "Jonny Evans",
          "Scott Dann"
         ],
         "xaxis": "x5",
         "y": [
          2974,
          2849,
          2029,
          1843,
          1536
         ],
         "yaxis": "y5"
        },
        {
         "marker": {
          "color": [
           "rgb(96, 96, 96)",
           "rgb(210,202,82)",
           "rgb(210,202,82)",
           "rgb(210,202,82)",
           "rgb(210,202,82)",
           "rgb(210,202,82)"
          ],
          "line": {
           "color": "rgb(8,48,107)",
           "width": 2.5
          }
         },
         "opacity": 0.6,
         "orientation": "v",
         "type": "bar",
         "x": [
          "Gary Cahill",
          "Phil Jagielka",
          "James Tomkins",
          "Jonny Evans",
          "Chris Smalling"
         ],
         "xaxis": "x7",
         "y": [
          1155,
          1075,
          929,
          777,
          670
         ],
         "yaxis": "y7"
        },
        {
         "marker": {
          "color": [
           "rgb(96, 96, 96)",
           "rgb(210,202,82)",
           "rgb(210,202,82)",
           "rgb(210,202,82)",
           "rgb(210,202,82)",
           "rgb(210,202,82)"
          ],
          "line": {
           "color": "rgb(8,48,107)",
           "width": 2.5
          }
         },
         "opacity": 0.6,
         "orientation": "v",
         "type": "bar",
         "x": [
          "Gary Cahill",
          "Phil Bardsley",
          "Phil Jagielka",
          "Ben Mee",
          "Matthew Lowton"
         ],
         "xaxis": "x9",
         "y": [
          10,
          10,
          10,
          9,
          6
         ],
         "yaxis": "y9"
        },
        {
         "marker": {
          "color": [
           "rgb(96, 96, 96)",
           "rgb(210,202,82)",
           "rgb(210,202,82)",
           "rgb(210,202,82)",
           "rgb(210,202,82)",
           "rgb(210,202,82)"
          ],
          "line": {
           "color": "rgb(8,48,107)",
           "width": 2.5
          }
         },
         "opacity": 0.6,
         "orientation": "v",
         "type": "bar",
         "x": [
          "Marcos Alonso",
          "Lucas Digne",
          "John Egan",
          "David Luiz",
          "Trent Alexander-Arnold"
         ],
         "xaxis": "x2",
         "y": [
          0.45,
          0.4027777777777778,
          0.3684210526315789,
          0.30412371134020616,
          0.28421052631578947
         ],
         "yaxis": "y2"
        },
        {
         "marker": {
          "color": [
           "rgb(96, 96, 96)",
           "rgb(210,202,82)",
           "rgb(210,202,82)",
           "rgb(210,202,82)",
           "rgb(210,202,82)",
           "rgb(210,202,82)"
          ],
          "line": {
           "color": "rgb(8,48,107)",
           "width": 2.5
          }
         },
         "opacity": 0.6,
         "orientation": "v",
         "type": "bar",
         "x": [
          "Fabian Schär",
          "Jan Bednarek",
          "Christian Fuchs",
          "Aaron Wan-Bissaka",
          "Nicolás Otamendi"
         ],
         "xaxis": "x4",
         "y": [
          2.4782608695652173,
          2.3333333333333335,
          2.317757009345794,
          2.142857142857143,
          2.1029411764705883
         ],
         "yaxis": "y4"
        },
        {
         "marker": {
          "color": [
           "rgb(96, 96, 96)",
           "rgb(210,202,82)",
           "rgb(210,202,82)",
           "rgb(210,202,82)",
           "rgb(210,202,82)",
           "rgb(210,202,82)"
          ],
          "line": {
           "color": "rgb(8,48,107)",
           "width": 2.5
          }
         },
         "opacity": 0.6,
         "orientation": "v",
         "type": "bar",
         "x": [
          "Phil Jagielka",
          "James Tomkins",
          "Gary Cahill",
          "Ahmed Hegazi",
          "Ciaran Clark"
         ],
         "xaxis": "x6",
         "y": [
          8.12568306010929,
          7.714828897338403,
          7.617647058823529,
          7.105263157894737,
          7.016759776536313
         ],
         "yaxis": "y6"
        },
        {
         "marker": {
          "color": [
           "rgb(96, 96, 96)",
           "rgb(210,202,82)",
           "rgb(210,202,82)",
           "rgb(210,202,82)",
           "rgb(210,202,82)",
           "rgb(210,202,82)"
          ],
          "line": {
           "color": "rgb(8,48,107)",
           "width": 2.5
          }
         },
         "opacity": 0.6,
         "orientation": "v",
         "type": "bar",
         "x": [
          "Michael Keane",
          "Ahmed Hegazi",
          "Ben Mee",
          "Federico Fernández",
          "Jannik Vestergaard"
         ],
         "xaxis": "x8",
         "y": [
          4.261437908496732,
          4,
          3.927710843373494,
          3.723529411764706,
          3.604651162790698
         ],
         "yaxis": "y8"
        },
        {
         "marker": {
          "color": [
           "rgb(96, 96, 96)",
           "rgb(210,202,82)",
           "rgb(210,202,82)",
           "rgb(210,202,82)",
           "rgb(210,202,82)",
           "rgb(210,202,82)"
          ],
          "line": {
           "color": "rgb(8,48,107)",
           "width": 2.5
          }
         },
         "opacity": 0.6,
         "orientation": "v",
         "type": "bar",
         "x": [
          "Tyrone Mings",
          "Ben Mee",
          "Ryan Fredericks",
          "Fabian Schär",
          "Nicolás Otamendi"
         ],
         "xaxis": "x10",
         "y": [
          0.058823529411764705,
          0.05421686746987952,
          0.045454545454545456,
          0.043478260869565216,
          0.03676470588235294
         ],
         "yaxis": "y10"
        }
       ],
       "layout": {
        "annotations": [
         {
          "font": {
           "size": 16
          },
          "showarrow": false,
          "text": "blocked shots (overall)",
          "x": 0.2375,
          "xanchor": "center",
          "xref": "paper",
          "y": 1,
          "yanchor": "bottom",
          "yref": "paper"
         },
         {
          "font": {
           "size": 16
          },
          "showarrow": false,
          "text": "Blocked shots (per-game)",
          "x": 0.7625,
          "xanchor": "center",
          "xref": "paper",
          "y": 1,
          "yanchor": "bottom",
          "yref": "paper"
         },
         {
          "font": {
           "size": 16
          },
          "showarrow": false,
          "text": "Interceptions (overall)",
          "x": 0.2375,
          "xanchor": "center",
          "xref": "paper",
          "y": 0.79,
          "yanchor": "bottom",
          "yref": "paper"
         },
         {
          "font": {
           "size": 16
          },
          "showarrow": false,
          "text": "Interceptions (per-game)",
          "x": 0.7625,
          "xanchor": "center",
          "xref": "paper",
          "y": 0.79,
          "yanchor": "bottom",
          "yref": "paper"
         },
         {
          "font": {
           "size": 16
          },
          "showarrow": false,
          "text": "Clearances (overall)",
          "x": 0.2375,
          "xanchor": "center",
          "xref": "paper",
          "y": 0.5800000000000001,
          "yanchor": "bottom",
          "yref": "paper"
         },
         {
          "font": {
           "size": 16
          },
          "showarrow": false,
          "text": "Clearances (per-game)",
          "x": 0.7625,
          "xanchor": "center",
          "xref": "paper",
          "y": 0.5800000000000001,
          "yanchor": "bottom",
          "yref": "paper"
         },
         {
          "font": {
           "size": 16
          },
          "showarrow": false,
          "text": "Headed Clearance (overall)",
          "x": 0.2375,
          "xanchor": "center",
          "xref": "paper",
          "y": 0.37,
          "yanchor": "bottom",
          "yref": "paper"
         },
         {
          "font": {
           "size": 16
          },
          "showarrow": false,
          "text": "Headed Clearance (per-game)",
          "x": 0.7625,
          "xanchor": "center",
          "xref": "paper",
          "y": 0.37,
          "yanchor": "bottom",
          "yref": "paper"
         },
         {
          "font": {
           "size": 16
          },
          "showarrow": false,
          "text": "Clearances off line (overall)",
          "x": 0.2375,
          "xanchor": "center",
          "xref": "paper",
          "y": 0.16,
          "yanchor": "bottom",
          "yref": "paper"
         },
         {
          "font": {
           "size": 16
          },
          "showarrow": false,
          "text": "Clearances off line (per-game)",
          "x": 0.7625,
          "xanchor": "center",
          "xref": "paper",
          "y": 0.16,
          "yanchor": "bottom",
          "yref": "paper"
         }
        ],
        "autosize": false,
        "height": 1600,
        "showlegend": false,
        "template": {
         "data": {
          "bar": [
           {
            "error_x": {
             "color": "#2a3f5f"
            },
            "error_y": {
             "color": "#2a3f5f"
            },
            "marker": {
             "line": {
              "color": "#E5ECF6",
              "width": 0.5
             }
            },
            "type": "bar"
           }
          ],
          "barpolar": [
           {
            "marker": {
             "line": {
              "color": "#E5ECF6",
              "width": 0.5
             }
            },
            "type": "barpolar"
           }
          ],
          "carpet": [
           {
            "aaxis": {
             "endlinecolor": "#2a3f5f",
             "gridcolor": "white",
             "linecolor": "white",
             "minorgridcolor": "white",
             "startlinecolor": "#2a3f5f"
            },
            "baxis": {
             "endlinecolor": "#2a3f5f",
             "gridcolor": "white",
             "linecolor": "white",
             "minorgridcolor": "white",
             "startlinecolor": "#2a3f5f"
            },
            "type": "carpet"
           }
          ],
          "choropleth": [
           {
            "colorbar": {
             "outlinewidth": 0,
             "ticks": ""
            },
            "type": "choropleth"
           }
          ],
          "contour": [
           {
            "colorbar": {
             "outlinewidth": 0,
             "ticks": ""
            },
            "colorscale": [
             [
              0,
              "#0d0887"
             ],
             [
              0.1111111111111111,
              "#46039f"
             ],
             [
              0.2222222222222222,
              "#7201a8"
             ],
             [
              0.3333333333333333,
              "#9c179e"
             ],
             [
              0.4444444444444444,
              "#bd3786"
             ],
             [
              0.5555555555555556,
              "#d8576b"
             ],
             [
              0.6666666666666666,
              "#ed7953"
             ],
             [
              0.7777777777777778,
              "#fb9f3a"
             ],
             [
              0.8888888888888888,
              "#fdca26"
             ],
             [
              1,
              "#f0f921"
             ]
            ],
            "type": "contour"
           }
          ],
          "contourcarpet": [
           {
            "colorbar": {
             "outlinewidth": 0,
             "ticks": ""
            },
            "type": "contourcarpet"
           }
          ],
          "heatmap": [
           {
            "colorbar": {
             "outlinewidth": 0,
             "ticks": ""
            },
            "colorscale": [
             [
              0,
              "#0d0887"
             ],
             [
              0.1111111111111111,
              "#46039f"
             ],
             [
              0.2222222222222222,
              "#7201a8"
             ],
             [
              0.3333333333333333,
              "#9c179e"
             ],
             [
              0.4444444444444444,
              "#bd3786"
             ],
             [
              0.5555555555555556,
              "#d8576b"
             ],
             [
              0.6666666666666666,
              "#ed7953"
             ],
             [
              0.7777777777777778,
              "#fb9f3a"
             ],
             [
              0.8888888888888888,
              "#fdca26"
             ],
             [
              1,
              "#f0f921"
             ]
            ],
            "type": "heatmap"
           }
          ],
          "heatmapgl": [
           {
            "colorbar": {
             "outlinewidth": 0,
             "ticks": ""
            },
            "colorscale": [
             [
              0,
              "#0d0887"
             ],
             [
              0.1111111111111111,
              "#46039f"
             ],
             [
              0.2222222222222222,
              "#7201a8"
             ],
             [
              0.3333333333333333,
              "#9c179e"
             ],
             [
              0.4444444444444444,
              "#bd3786"
             ],
             [
              0.5555555555555556,
              "#d8576b"
             ],
             [
              0.6666666666666666,
              "#ed7953"
             ],
             [
              0.7777777777777778,
              "#fb9f3a"
             ],
             [
              0.8888888888888888,
              "#fdca26"
             ],
             [
              1,
              "#f0f921"
             ]
            ],
            "type": "heatmapgl"
           }
          ],
          "histogram": [
           {
            "marker": {
             "colorbar": {
              "outlinewidth": 0,
              "ticks": ""
             }
            },
            "type": "histogram"
           }
          ],
          "histogram2d": [
           {
            "colorbar": {
             "outlinewidth": 0,
             "ticks": ""
            },
            "colorscale": [
             [
              0,
              "#0d0887"
             ],
             [
              0.1111111111111111,
              "#46039f"
             ],
             [
              0.2222222222222222,
              "#7201a8"
             ],
             [
              0.3333333333333333,
              "#9c179e"
             ],
             [
              0.4444444444444444,
              "#bd3786"
             ],
             [
              0.5555555555555556,
              "#d8576b"
             ],
             [
              0.6666666666666666,
              "#ed7953"
             ],
             [
              0.7777777777777778,
              "#fb9f3a"
             ],
             [
              0.8888888888888888,
              "#fdca26"
             ],
             [
              1,
              "#f0f921"
             ]
            ],
            "type": "histogram2d"
           }
          ],
          "histogram2dcontour": [
           {
            "colorbar": {
             "outlinewidth": 0,
             "ticks": ""
            },
            "colorscale": [
             [
              0,
              "#0d0887"
             ],
             [
              0.1111111111111111,
              "#46039f"
             ],
             [
              0.2222222222222222,
              "#7201a8"
             ],
             [
              0.3333333333333333,
              "#9c179e"
             ],
             [
              0.4444444444444444,
              "#bd3786"
             ],
             [
              0.5555555555555556,
              "#d8576b"
             ],
             [
              0.6666666666666666,
              "#ed7953"
             ],
             [
              0.7777777777777778,
              "#fb9f3a"
             ],
             [
              0.8888888888888888,
              "#fdca26"
             ],
             [
              1,
              "#f0f921"
             ]
            ],
            "type": "histogram2dcontour"
           }
          ],
          "mesh3d": [
           {
            "colorbar": {
             "outlinewidth": 0,
             "ticks": ""
            },
            "type": "mesh3d"
           }
          ],
          "parcoords": [
           {
            "line": {
             "colorbar": {
              "outlinewidth": 0,
              "ticks": ""
             }
            },
            "type": "parcoords"
           }
          ],
          "pie": [
           {
            "automargin": true,
            "type": "pie"
           }
          ],
          "scatter": [
           {
            "marker": {
             "colorbar": {
              "outlinewidth": 0,
              "ticks": ""
             }
            },
            "type": "scatter"
           }
          ],
          "scatter3d": [
           {
            "line": {
             "colorbar": {
              "outlinewidth": 0,
              "ticks": ""
             }
            },
            "marker": {
             "colorbar": {
              "outlinewidth": 0,
              "ticks": ""
             }
            },
            "type": "scatter3d"
           }
          ],
          "scattercarpet": [
           {
            "marker": {
             "colorbar": {
              "outlinewidth": 0,
              "ticks": ""
             }
            },
            "type": "scattercarpet"
           }
          ],
          "scattergeo": [
           {
            "marker": {
             "colorbar": {
              "outlinewidth": 0,
              "ticks": ""
             }
            },
            "type": "scattergeo"
           }
          ],
          "scattergl": [
           {
            "marker": {
             "colorbar": {
              "outlinewidth": 0,
              "ticks": ""
             }
            },
            "type": "scattergl"
           }
          ],
          "scattermapbox": [
           {
            "marker": {
             "colorbar": {
              "outlinewidth": 0,
              "ticks": ""
             }
            },
            "type": "scattermapbox"
           }
          ],
          "scatterpolar": [
           {
            "marker": {
             "colorbar": {
              "outlinewidth": 0,
              "ticks": ""
             }
            },
            "type": "scatterpolar"
           }
          ],
          "scatterpolargl": [
           {
            "marker": {
             "colorbar": {
              "outlinewidth": 0,
              "ticks": ""
             }
            },
            "type": "scatterpolargl"
           }
          ],
          "scatterternary": [
           {
            "marker": {
             "colorbar": {
              "outlinewidth": 0,
              "ticks": ""
             }
            },
            "type": "scatterternary"
           }
          ],
          "surface": [
           {
            "colorbar": {
             "outlinewidth": 0,
             "ticks": ""
            },
            "colorscale": [
             [
              0,
              "#0d0887"
             ],
             [
              0.1111111111111111,
              "#46039f"
             ],
             [
              0.2222222222222222,
              "#7201a8"
             ],
             [
              0.3333333333333333,
              "#9c179e"
             ],
             [
              0.4444444444444444,
              "#bd3786"
             ],
             [
              0.5555555555555556,
              "#d8576b"
             ],
             [
              0.6666666666666666,
              "#ed7953"
             ],
             [
              0.7777777777777778,
              "#fb9f3a"
             ],
             [
              0.8888888888888888,
              "#fdca26"
             ],
             [
              1,
              "#f0f921"
             ]
            ],
            "type": "surface"
           }
          ],
          "table": [
           {
            "cells": {
             "fill": {
              "color": "#EBF0F8"
             },
             "line": {
              "color": "white"
             }
            },
            "header": {
             "fill": {
              "color": "#C8D4E3"
             },
             "line": {
              "color": "white"
             }
            },
            "type": "table"
           }
          ]
         },
         "layout": {
          "annotationdefaults": {
           "arrowcolor": "#2a3f5f",
           "arrowhead": 0,
           "arrowwidth": 1
          },
          "autotypenumbers": "strict",
          "coloraxis": {
           "colorbar": {
            "outlinewidth": 0,
            "ticks": ""
           }
          },
          "colorscale": {
           "diverging": [
            [
             0,
             "#8e0152"
            ],
            [
             0.1,
             "#c51b7d"
            ],
            [
             0.2,
             "#de77ae"
            ],
            [
             0.3,
             "#f1b6da"
            ],
            [
             0.4,
             "#fde0ef"
            ],
            [
             0.5,
             "#f7f7f7"
            ],
            [
             0.6,
             "#e6f5d0"
            ],
            [
             0.7,
             "#b8e186"
            ],
            [
             0.8,
             "#7fbc41"
            ],
            [
             0.9,
             "#4d9221"
            ],
            [
             1,
             "#276419"
            ]
           ],
           "sequential": [
            [
             0,
             "#0d0887"
            ],
            [
             0.1111111111111111,
             "#46039f"
            ],
            [
             0.2222222222222222,
             "#7201a8"
            ],
            [
             0.3333333333333333,
             "#9c179e"
            ],
            [
             0.4444444444444444,
             "#bd3786"
            ],
            [
             0.5555555555555556,
             "#d8576b"
            ],
            [
             0.6666666666666666,
             "#ed7953"
            ],
            [
             0.7777777777777778,
             "#fb9f3a"
            ],
            [
             0.8888888888888888,
             "#fdca26"
            ],
            [
             1,
             "#f0f921"
            ]
           ],
           "sequentialminus": [
            [
             0,
             "#0d0887"
            ],
            [
             0.1111111111111111,
             "#46039f"
            ],
            [
             0.2222222222222222,
             "#7201a8"
            ],
            [
             0.3333333333333333,
             "#9c179e"
            ],
            [
             0.4444444444444444,
             "#bd3786"
            ],
            [
             0.5555555555555556,
             "#d8576b"
            ],
            [
             0.6666666666666666,
             "#ed7953"
            ],
            [
             0.7777777777777778,
             "#fb9f3a"
            ],
            [
             0.8888888888888888,
             "#fdca26"
            ],
            [
             1,
             "#f0f921"
            ]
           ]
          },
          "colorway": [
           "#636efa",
           "#EF553B",
           "#00cc96",
           "#ab63fa",
           "#FFA15A",
           "#19d3f3",
           "#FF6692",
           "#B6E880",
           "#FF97FF",
           "#FECB52"
          ],
          "font": {
           "color": "#2a3f5f"
          },
          "geo": {
           "bgcolor": "white",
           "lakecolor": "white",
           "landcolor": "#E5ECF6",
           "showlakes": true,
           "showland": true,
           "subunitcolor": "white"
          },
          "hoverlabel": {
           "align": "left"
          },
          "hovermode": "closest",
          "mapbox": {
           "style": "light"
          },
          "paper_bgcolor": "white",
          "plot_bgcolor": "#E5ECF6",
          "polar": {
           "angularaxis": {
            "gridcolor": "white",
            "linecolor": "white",
            "ticks": ""
           },
           "bgcolor": "#E5ECF6",
           "radialaxis": {
            "gridcolor": "white",
            "linecolor": "white",
            "ticks": ""
           }
          },
          "scene": {
           "xaxis": {
            "backgroundcolor": "#E5ECF6",
            "gridcolor": "white",
            "gridwidth": 2,
            "linecolor": "white",
            "showbackground": true,
            "ticks": "",
            "zerolinecolor": "white"
           },
           "yaxis": {
            "backgroundcolor": "#E5ECF6",
            "gridcolor": "white",
            "gridwidth": 2,
            "linecolor": "white",
            "showbackground": true,
            "ticks": "",
            "zerolinecolor": "white"
           },
           "zaxis": {
            "backgroundcolor": "#E5ECF6",
            "gridcolor": "white",
            "gridwidth": 2,
            "linecolor": "white",
            "showbackground": true,
            "ticks": "",
            "zerolinecolor": "white"
           }
          },
          "shapedefaults": {
           "line": {
            "color": "#2a3f5f"
           }
          },
          "ternary": {
           "aaxis": {
            "gridcolor": "white",
            "linecolor": "white",
            "ticks": ""
           },
           "baxis": {
            "gridcolor": "white",
            "linecolor": "white",
            "ticks": ""
           },
           "bgcolor": "#E5ECF6",
           "caxis": {
            "gridcolor": "white",
            "linecolor": "white",
            "ticks": ""
           }
          },
          "title": {
           "x": 0.05
          },
          "xaxis": {
           "automargin": true,
           "gridcolor": "white",
           "linecolor": "white",
           "ticks": "",
           "title": {
            "standoff": 15
           },
           "zerolinecolor": "white",
           "zerolinewidth": 2
          },
          "yaxis": {
           "automargin": true,
           "gridcolor": "white",
           "linecolor": "white",
           "ticks": "",
           "title": {
            "standoff": 15
           },
           "zerolinecolor": "white",
           "zerolinewidth": 2
          }
         }
        },
        "title": {
         "text": "Top Defender Qualities",
         "x": 0.5
        },
        "width": 1400,
        "xaxis": {
         "anchor": "y",
         "domain": [
          0,
          0.475
         ]
        },
        "xaxis10": {
         "anchor": "y10",
         "domain": [
          0.525,
          1
         ]
        },
        "xaxis2": {
         "anchor": "y2",
         "domain": [
          0.525,
          1
         ]
        },
        "xaxis3": {
         "anchor": "y3",
         "domain": [
          0,
          0.475
         ]
        },
        "xaxis4": {
         "anchor": "y4",
         "domain": [
          0.525,
          1
         ]
        },
        "xaxis5": {
         "anchor": "y5",
         "domain": [
          0,
          0.475
         ]
        },
        "xaxis6": {
         "anchor": "y6",
         "domain": [
          0.525,
          1
         ]
        },
        "xaxis7": {
         "anchor": "y7",
         "domain": [
          0,
          0.475
         ]
        },
        "xaxis8": {
         "anchor": "y8",
         "domain": [
          0.525,
          1
         ]
        },
        "xaxis9": {
         "anchor": "y9",
         "domain": [
          0,
          0.475
         ]
        },
        "yaxis": {
         "anchor": "x",
         "domain": [
          0.8400000000000001,
          1
         ]
        },
        "yaxis10": {
         "anchor": "x10",
         "domain": [
          0,
          0.16
         ]
        },
        "yaxis2": {
         "anchor": "x2",
         "domain": [
          0.8400000000000001,
          1
         ]
        },
        "yaxis3": {
         "anchor": "x3",
         "domain": [
          0.63,
          0.79
         ]
        },
        "yaxis4": {
         "anchor": "x4",
         "domain": [
          0.63,
          0.79
         ]
        },
        "yaxis5": {
         "anchor": "x5",
         "domain": [
          0.42000000000000004,
          0.5800000000000001
         ]
        },
        "yaxis6": {
         "anchor": "x6",
         "domain": [
          0.42000000000000004,
          0.5800000000000001
         ]
        },
        "yaxis7": {
         "anchor": "x7",
         "domain": [
          0.21000000000000002,
          0.37
         ]
        },
        "yaxis8": {
         "anchor": "x8",
         "domain": [
          0.21000000000000002,
          0.37
         ]
        },
        "yaxis9": {
         "anchor": "x9",
         "domain": [
          0,
          0.16
         ]
        }
       }
      },
      "text/html": [
       "<div>                            <div id=\"4019726c-85da-46b8-9071-98b3f19ef75e\" class=\"plotly-graph-div\" style=\"height:1600px; width:1400px;\"></div>            <script type=\"text/javascript\">                require([\"plotly\"], function(Plotly) {                    window.PLOTLYENV=window.PLOTLYENV || {};                                    if (document.getElementById(\"4019726c-85da-46b8-9071-98b3f19ef75e\")) {                    Plotly.newPlot(                        \"4019726c-85da-46b8-9071-98b3f19ef75e\",                        [{\"marker\": {\"color\": [\"rgb(96, 96, 96)\", \"rgb(210,202,82)\", \"rgb(210,202,82)\", \"rgb(210,202,82)\", \"rgb(210,202,82)\", \"rgb(210,202,82)\"], \"line\": {\"color\": \"rgb(8,48,107)\", \"width\": 2.5}}, \"opacity\": 0.6, \"orientation\": \"v\", \"type\": \"bar\", \"x\": [\"Gary Cahill\", \"Marcos Alonso\", \"David Luiz\", \"Phil Bardsley\", \"Kyle Walker\"], \"xaxis\": \"x\", \"y\": [63.0, 63.0, 59.0, 56.0, 55.0], \"yaxis\": \"y\"}, {\"marker\": {\"color\": [\"rgb(96, 96, 96)\", \"rgb(210,202,82)\", \"rgb(210,202,82)\", \"rgb(210,202,82)\", \"rgb(210,202,82)\", \"rgb(210,202,82)\"], \"line\": {\"color\": \"rgb(8,48,107)\", \"width\": 2.5}}, \"opacity\": 0.6, \"orientation\": \"v\", \"type\": \"bar\", \"x\": [\"Phil Jagielka\", \"Jonny Evans\", \"Kyle Walker\", \"C\\u00e9sar Azpilicueta\", \"Gary Cahill\"], \"xaxis\": \"x3\", \"y\": [618.0, 585.0, 498.0, 475.0, 452.0], \"yaxis\": \"y3\"}, {\"marker\": {\"color\": [\"rgb(96, 96, 96)\", \"rgb(210,202,82)\", \"rgb(210,202,82)\", \"rgb(210,202,82)\", \"rgb(210,202,82)\", \"rgb(210,202,82)\"], \"line\": {\"color\": \"rgb(8,48,107)\", \"width\": 2.5}}, \"opacity\": 0.6, \"orientation\": \"v\", \"type\": \"bar\", \"x\": [\"Phil Jagielka\", \"Gary Cahill\", \"James Tomkins\", \"Jonny Evans\", \"Scott Dann\"], \"xaxis\": \"x5\", \"y\": [2974.0, 2849.0, 2029.0, 1843.0, 1536.0], \"yaxis\": \"y5\"}, {\"marker\": {\"color\": [\"rgb(96, 96, 96)\", \"rgb(210,202,82)\", \"rgb(210,202,82)\", \"rgb(210,202,82)\", \"rgb(210,202,82)\", \"rgb(210,202,82)\"], \"line\": {\"color\": \"rgb(8,48,107)\", \"width\": 2.5}}, \"opacity\": 0.6, \"orientation\": \"v\", \"type\": \"bar\", \"x\": [\"Gary Cahill\", \"Phil Jagielka\", \"James Tomkins\", \"Jonny Evans\", \"Chris Smalling\"], \"xaxis\": \"x7\", \"y\": [1155.0, 1075.0, 929.0, 777.0, 670.0], \"yaxis\": \"y7\"}, {\"marker\": {\"color\": [\"rgb(96, 96, 96)\", \"rgb(210,202,82)\", \"rgb(210,202,82)\", \"rgb(210,202,82)\", \"rgb(210,202,82)\", \"rgb(210,202,82)\"], \"line\": {\"color\": \"rgb(8,48,107)\", \"width\": 2.5}}, \"opacity\": 0.6, \"orientation\": \"v\", \"type\": \"bar\", \"x\": [\"Gary Cahill\", \"Phil Bardsley\", \"Phil Jagielka\", \"Ben Mee\", \"Matthew Lowton\"], \"xaxis\": \"x9\", \"y\": [10.0, 10.0, 10.0, 9.0, 6.0], \"yaxis\": \"y9\"}, {\"marker\": {\"color\": [\"rgb(96, 96, 96)\", \"rgb(210,202,82)\", \"rgb(210,202,82)\", \"rgb(210,202,82)\", \"rgb(210,202,82)\", \"rgb(210,202,82)\"], \"line\": {\"color\": \"rgb(8,48,107)\", \"width\": 2.5}}, \"opacity\": 0.6, \"orientation\": \"v\", \"type\": \"bar\", \"x\": [\"Marcos Alonso\", \"Lucas Digne\", \"John Egan\", \"David Luiz\", \"Trent Alexander-Arnold\"], \"xaxis\": \"x2\", \"y\": [0.45, 0.4027777777777778, 0.3684210526315789, 0.30412371134020616, 0.28421052631578947], \"yaxis\": \"y2\"}, {\"marker\": {\"color\": [\"rgb(96, 96, 96)\", \"rgb(210,202,82)\", \"rgb(210,202,82)\", \"rgb(210,202,82)\", \"rgb(210,202,82)\", \"rgb(210,202,82)\"], \"line\": {\"color\": \"rgb(8,48,107)\", \"width\": 2.5}}, \"opacity\": 0.6, \"orientation\": \"v\", \"type\": \"bar\", \"x\": [\"Fabian Sch\\u00e4r\", \"Jan Bednarek\", \"Christian Fuchs\", \"Aaron Wan-Bissaka\", \"Nicol\\u00e1s Otamendi\"], \"xaxis\": \"x4\", \"y\": [2.4782608695652173, 2.3333333333333335, 2.317757009345794, 2.142857142857143, 2.1029411764705883], \"yaxis\": \"y4\"}, {\"marker\": {\"color\": [\"rgb(96, 96, 96)\", \"rgb(210,202,82)\", \"rgb(210,202,82)\", \"rgb(210,202,82)\", \"rgb(210,202,82)\", \"rgb(210,202,82)\"], \"line\": {\"color\": \"rgb(8,48,107)\", \"width\": 2.5}}, \"opacity\": 0.6, \"orientation\": \"v\", \"type\": \"bar\", \"x\": [\"Phil Jagielka\", \"James Tomkins\", \"Gary Cahill\", \"Ahmed Hegazi\", \"Ciaran Clark\"], \"xaxis\": \"x6\", \"y\": [8.12568306010929, 7.714828897338403, 7.617647058823529, 7.105263157894737, 7.016759776536313], \"yaxis\": \"y6\"}, {\"marker\": {\"color\": [\"rgb(96, 96, 96)\", \"rgb(210,202,82)\", \"rgb(210,202,82)\", \"rgb(210,202,82)\", \"rgb(210,202,82)\", \"rgb(210,202,82)\"], \"line\": {\"color\": \"rgb(8,48,107)\", \"width\": 2.5}}, \"opacity\": 0.6, \"orientation\": \"v\", \"type\": \"bar\", \"x\": [\"Michael Keane\", \"Ahmed Hegazi\", \"Ben Mee\", \"Federico Fern\\u00e1ndez\", \"Jannik Vestergaard\"], \"xaxis\": \"x8\", \"y\": [4.261437908496732, 4.0, 3.927710843373494, 3.723529411764706, 3.604651162790698], \"yaxis\": \"y8\"}, {\"marker\": {\"color\": [\"rgb(96, 96, 96)\", \"rgb(210,202,82)\", \"rgb(210,202,82)\", \"rgb(210,202,82)\", \"rgb(210,202,82)\", \"rgb(210,202,82)\"], \"line\": {\"color\": \"rgb(8,48,107)\", \"width\": 2.5}}, \"opacity\": 0.6, \"orientation\": \"v\", \"type\": \"bar\", \"x\": [\"Tyrone Mings\", \"Ben Mee\", \"Ryan Fredericks\", \"Fabian Sch\\u00e4r\", \"Nicol\\u00e1s Otamendi\"], \"xaxis\": \"x10\", \"y\": [0.058823529411764705, 0.05421686746987952, 0.045454545454545456, 0.043478260869565216, 0.03676470588235294], \"yaxis\": \"y10\"}],                        {\"annotations\": [{\"font\": {\"size\": 16}, \"showarrow\": false, \"text\": \"blocked shots (overall)\", \"x\": 0.2375, \"xanchor\": \"center\", \"xref\": \"paper\", \"y\": 1.0, \"yanchor\": \"bottom\", \"yref\": \"paper\"}, {\"font\": {\"size\": 16}, \"showarrow\": false, \"text\": \"Blocked shots (per-game)\", \"x\": 0.7625, \"xanchor\": \"center\", \"xref\": \"paper\", \"y\": 1.0, \"yanchor\": \"bottom\", \"yref\": \"paper\"}, {\"font\": {\"size\": 16}, \"showarrow\": false, \"text\": \"Interceptions (overall)\", \"x\": 0.2375, \"xanchor\": \"center\", \"xref\": \"paper\", \"y\": 0.79, \"yanchor\": \"bottom\", \"yref\": \"paper\"}, {\"font\": {\"size\": 16}, \"showarrow\": false, \"text\": \"Interceptions (per-game)\", \"x\": 0.7625, \"xanchor\": \"center\", \"xref\": \"paper\", \"y\": 0.79, \"yanchor\": \"bottom\", \"yref\": \"paper\"}, {\"font\": {\"size\": 16}, \"showarrow\": false, \"text\": \"Clearances (overall)\", \"x\": 0.2375, \"xanchor\": \"center\", \"xref\": \"paper\", \"y\": 0.5800000000000001, \"yanchor\": \"bottom\", \"yref\": \"paper\"}, {\"font\": {\"size\": 16}, \"showarrow\": false, \"text\": \"Clearances (per-game)\", \"x\": 0.7625, \"xanchor\": \"center\", \"xref\": \"paper\", \"y\": 0.5800000000000001, \"yanchor\": \"bottom\", \"yref\": \"paper\"}, {\"font\": {\"size\": 16}, \"showarrow\": false, \"text\": \"Headed Clearance (overall)\", \"x\": 0.2375, \"xanchor\": \"center\", \"xref\": \"paper\", \"y\": 0.37, \"yanchor\": \"bottom\", \"yref\": \"paper\"}, {\"font\": {\"size\": 16}, \"showarrow\": false, \"text\": \"Headed Clearance (per-game)\", \"x\": 0.7625, \"xanchor\": \"center\", \"xref\": \"paper\", \"y\": 0.37, \"yanchor\": \"bottom\", \"yref\": \"paper\"}, {\"font\": {\"size\": 16}, \"showarrow\": false, \"text\": \"Clearances off line (overall)\", \"x\": 0.2375, \"xanchor\": \"center\", \"xref\": \"paper\", \"y\": 0.16, \"yanchor\": \"bottom\", \"yref\": \"paper\"}, {\"font\": {\"size\": 16}, \"showarrow\": false, \"text\": \"Clearances off line (per-game)\", \"x\": 0.7625, \"xanchor\": \"center\", \"xref\": \"paper\", \"y\": 0.16, \"yanchor\": \"bottom\", \"yref\": \"paper\"}], \"autosize\": false, \"height\": 1600, \"showlegend\": false, \"template\": {\"data\": {\"bar\": [{\"error_x\": {\"color\": \"#2a3f5f\"}, \"error_y\": {\"color\": \"#2a3f5f\"}, \"marker\": {\"line\": {\"color\": \"#E5ECF6\", \"width\": 0.5}}, \"type\": \"bar\"}], \"barpolar\": [{\"marker\": {\"line\": {\"color\": \"#E5ECF6\", \"width\": 0.5}}, \"type\": \"barpolar\"}], \"carpet\": [{\"aaxis\": {\"endlinecolor\": \"#2a3f5f\", \"gridcolor\": \"white\", \"linecolor\": \"white\", \"minorgridcolor\": \"white\", \"startlinecolor\": \"#2a3f5f\"}, \"baxis\": {\"endlinecolor\": \"#2a3f5f\", \"gridcolor\": \"white\", \"linecolor\": \"white\", \"minorgridcolor\": \"white\", \"startlinecolor\": \"#2a3f5f\"}, \"type\": \"carpet\"}], \"choropleth\": [{\"colorbar\": {\"outlinewidth\": 0, \"ticks\": \"\"}, \"type\": \"choropleth\"}], \"contour\": [{\"colorbar\": {\"outlinewidth\": 0, \"ticks\": \"\"}, \"colorscale\": [[0.0, \"#0d0887\"], [0.1111111111111111, \"#46039f\"], [0.2222222222222222, \"#7201a8\"], [0.3333333333333333, \"#9c179e\"], [0.4444444444444444, \"#bd3786\"], [0.5555555555555556, \"#d8576b\"], [0.6666666666666666, \"#ed7953\"], [0.7777777777777778, \"#fb9f3a\"], [0.8888888888888888, \"#fdca26\"], [1.0, \"#f0f921\"]], \"type\": \"contour\"}], \"contourcarpet\": [{\"colorbar\": {\"outlinewidth\": 0, \"ticks\": \"\"}, \"type\": \"contourcarpet\"}], \"heatmap\": [{\"colorbar\": {\"outlinewidth\": 0, \"ticks\": \"\"}, \"colorscale\": [[0.0, \"#0d0887\"], [0.1111111111111111, \"#46039f\"], [0.2222222222222222, \"#7201a8\"], [0.3333333333333333, \"#9c179e\"], [0.4444444444444444, \"#bd3786\"], [0.5555555555555556, \"#d8576b\"], [0.6666666666666666, \"#ed7953\"], [0.7777777777777778, \"#fb9f3a\"], [0.8888888888888888, \"#fdca26\"], [1.0, \"#f0f921\"]], \"type\": \"heatmap\"}], \"heatmapgl\": [{\"colorbar\": {\"outlinewidth\": 0, \"ticks\": \"\"}, \"colorscale\": [[0.0, \"#0d0887\"], [0.1111111111111111, \"#46039f\"], [0.2222222222222222, \"#7201a8\"], [0.3333333333333333, \"#9c179e\"], [0.4444444444444444, \"#bd3786\"], [0.5555555555555556, \"#d8576b\"], [0.6666666666666666, \"#ed7953\"], [0.7777777777777778, \"#fb9f3a\"], [0.8888888888888888, \"#fdca26\"], [1.0, \"#f0f921\"]], \"type\": \"heatmapgl\"}], \"histogram\": [{\"marker\": {\"colorbar\": {\"outlinewidth\": 0, \"ticks\": \"\"}}, \"type\": \"histogram\"}], \"histogram2d\": [{\"colorbar\": {\"outlinewidth\": 0, \"ticks\": \"\"}, \"colorscale\": [[0.0, \"#0d0887\"], [0.1111111111111111, \"#46039f\"], [0.2222222222222222, \"#7201a8\"], [0.3333333333333333, \"#9c179e\"], [0.4444444444444444, \"#bd3786\"], [0.5555555555555556, \"#d8576b\"], [0.6666666666666666, \"#ed7953\"], [0.7777777777777778, \"#fb9f3a\"], [0.8888888888888888, \"#fdca26\"], [1.0, \"#f0f921\"]], \"type\": \"histogram2d\"}], \"histogram2dcontour\": [{\"colorbar\": {\"outlinewidth\": 0, \"ticks\": \"\"}, \"colorscale\": [[0.0, \"#0d0887\"], [0.1111111111111111, \"#46039f\"], [0.2222222222222222, \"#7201a8\"], [0.3333333333333333, \"#9c179e\"], [0.4444444444444444, \"#bd3786\"], [0.5555555555555556, \"#d8576b\"], [0.6666666666666666, \"#ed7953\"], [0.7777777777777778, \"#fb9f3a\"], [0.8888888888888888, \"#fdca26\"], [1.0, \"#f0f921\"]], \"type\": \"histogram2dcontour\"}], \"mesh3d\": [{\"colorbar\": {\"outlinewidth\": 0, \"ticks\": \"\"}, \"type\": \"mesh3d\"}], \"parcoords\": [{\"line\": {\"colorbar\": {\"outlinewidth\": 0, \"ticks\": \"\"}}, \"type\": \"parcoords\"}], \"pie\": [{\"automargin\": true, \"type\": \"pie\"}], \"scatter\": [{\"marker\": {\"colorbar\": {\"outlinewidth\": 0, \"ticks\": \"\"}}, \"type\": \"scatter\"}], \"scatter3d\": [{\"line\": {\"colorbar\": {\"outlinewidth\": 0, \"ticks\": \"\"}}, \"marker\": {\"colorbar\": {\"outlinewidth\": 0, \"ticks\": \"\"}}, \"type\": \"scatter3d\"}], \"scattercarpet\": [{\"marker\": {\"colorbar\": {\"outlinewidth\": 0, \"ticks\": \"\"}}, \"type\": \"scattercarpet\"}], \"scattergeo\": [{\"marker\": {\"colorbar\": {\"outlinewidth\": 0, \"ticks\": \"\"}}, \"type\": \"scattergeo\"}], \"scattergl\": [{\"marker\": {\"colorbar\": {\"outlinewidth\": 0, \"ticks\": \"\"}}, \"type\": \"scattergl\"}], \"scattermapbox\": [{\"marker\": {\"colorbar\": {\"outlinewidth\": 0, \"ticks\": \"\"}}, \"type\": \"scattermapbox\"}], \"scatterpolar\": [{\"marker\": {\"colorbar\": {\"outlinewidth\": 0, \"ticks\": \"\"}}, \"type\": \"scatterpolar\"}], \"scatterpolargl\": [{\"marker\": {\"colorbar\": {\"outlinewidth\": 0, \"ticks\": \"\"}}, \"type\": \"scatterpolargl\"}], \"scatterternary\": [{\"marker\": {\"colorbar\": {\"outlinewidth\": 0, \"ticks\": \"\"}}, \"type\": \"scatterternary\"}], \"surface\": [{\"colorbar\": {\"outlinewidth\": 0, \"ticks\": \"\"}, \"colorscale\": [[0.0, \"#0d0887\"], [0.1111111111111111, \"#46039f\"], [0.2222222222222222, \"#7201a8\"], [0.3333333333333333, \"#9c179e\"], [0.4444444444444444, \"#bd3786\"], [0.5555555555555556, \"#d8576b\"], [0.6666666666666666, \"#ed7953\"], [0.7777777777777778, \"#fb9f3a\"], [0.8888888888888888, \"#fdca26\"], [1.0, \"#f0f921\"]], \"type\": \"surface\"}], \"table\": [{\"cells\": {\"fill\": {\"color\": \"#EBF0F8\"}, \"line\": {\"color\": \"white\"}}, \"header\": {\"fill\": {\"color\": \"#C8D4E3\"}, \"line\": {\"color\": \"white\"}}, \"type\": \"table\"}]}, \"layout\": {\"annotationdefaults\": {\"arrowcolor\": \"#2a3f5f\", \"arrowhead\": 0, \"arrowwidth\": 1}, \"autotypenumbers\": \"strict\", \"coloraxis\": {\"colorbar\": {\"outlinewidth\": 0, \"ticks\": \"\"}}, \"colorscale\": {\"diverging\": [[0, \"#8e0152\"], [0.1, \"#c51b7d\"], [0.2, \"#de77ae\"], [0.3, \"#f1b6da\"], [0.4, \"#fde0ef\"], [0.5, \"#f7f7f7\"], [0.6, \"#e6f5d0\"], [0.7, \"#b8e186\"], [0.8, \"#7fbc41\"], [0.9, \"#4d9221\"], [1, \"#276419\"]], \"sequential\": [[0.0, \"#0d0887\"], [0.1111111111111111, \"#46039f\"], [0.2222222222222222, \"#7201a8\"], [0.3333333333333333, \"#9c179e\"], [0.4444444444444444, \"#bd3786\"], [0.5555555555555556, \"#d8576b\"], [0.6666666666666666, \"#ed7953\"], [0.7777777777777778, \"#fb9f3a\"], [0.8888888888888888, \"#fdca26\"], [1.0, \"#f0f921\"]], \"sequentialminus\": [[0.0, \"#0d0887\"], [0.1111111111111111, \"#46039f\"], [0.2222222222222222, \"#7201a8\"], [0.3333333333333333, \"#9c179e\"], [0.4444444444444444, \"#bd3786\"], [0.5555555555555556, \"#d8576b\"], [0.6666666666666666, \"#ed7953\"], [0.7777777777777778, \"#fb9f3a\"], [0.8888888888888888, \"#fdca26\"], [1.0, \"#f0f921\"]]}, \"colorway\": [\"#636efa\", \"#EF553B\", \"#00cc96\", \"#ab63fa\", \"#FFA15A\", \"#19d3f3\", \"#FF6692\", \"#B6E880\", \"#FF97FF\", \"#FECB52\"], \"font\": {\"color\": \"#2a3f5f\"}, \"geo\": {\"bgcolor\": \"white\", \"lakecolor\": \"white\", \"landcolor\": \"#E5ECF6\", \"showlakes\": true, \"showland\": true, \"subunitcolor\": \"white\"}, \"hoverlabel\": {\"align\": \"left\"}, \"hovermode\": \"closest\", \"mapbox\": {\"style\": \"light\"}, \"paper_bgcolor\": \"white\", \"plot_bgcolor\": \"#E5ECF6\", \"polar\": {\"angularaxis\": {\"gridcolor\": \"white\", \"linecolor\": \"white\", \"ticks\": \"\"}, \"bgcolor\": \"#E5ECF6\", \"radialaxis\": {\"gridcolor\": \"white\", \"linecolor\": \"white\", \"ticks\": \"\"}}, \"scene\": {\"xaxis\": {\"backgroundcolor\": \"#E5ECF6\", \"gridcolor\": \"white\", \"gridwidth\": 2, \"linecolor\": \"white\", \"showbackground\": true, \"ticks\": \"\", \"zerolinecolor\": \"white\"}, \"yaxis\": {\"backgroundcolor\": \"#E5ECF6\", \"gridcolor\": \"white\", \"gridwidth\": 2, \"linecolor\": \"white\", \"showbackground\": true, \"ticks\": \"\", \"zerolinecolor\": \"white\"}, \"zaxis\": {\"backgroundcolor\": \"#E5ECF6\", \"gridcolor\": \"white\", \"gridwidth\": 2, \"linecolor\": \"white\", \"showbackground\": true, \"ticks\": \"\", \"zerolinecolor\": \"white\"}}, \"shapedefaults\": {\"line\": {\"color\": \"#2a3f5f\"}}, \"ternary\": {\"aaxis\": {\"gridcolor\": \"white\", \"linecolor\": \"white\", \"ticks\": \"\"}, \"baxis\": {\"gridcolor\": \"white\", \"linecolor\": \"white\", \"ticks\": \"\"}, \"bgcolor\": \"#E5ECF6\", \"caxis\": {\"gridcolor\": \"white\", \"linecolor\": \"white\", \"ticks\": \"\"}}, \"title\": {\"x\": 0.05}, \"xaxis\": {\"automargin\": true, \"gridcolor\": \"white\", \"linecolor\": \"white\", \"ticks\": \"\", \"title\": {\"standoff\": 15}, \"zerolinecolor\": \"white\", \"zerolinewidth\": 2}, \"yaxis\": {\"automargin\": true, \"gridcolor\": \"white\", \"linecolor\": \"white\", \"ticks\": \"\", \"title\": {\"standoff\": 15}, \"zerolinecolor\": \"white\", \"zerolinewidth\": 2}}}, \"title\": {\"text\": \"Top Defender Qualities\", \"x\": 0.5}, \"width\": 1400, \"xaxis\": {\"anchor\": \"y\", \"domain\": [0.0, 0.475]}, \"xaxis10\": {\"anchor\": \"y10\", \"domain\": [0.525, 1.0]}, \"xaxis2\": {\"anchor\": \"y2\", \"domain\": [0.525, 1.0]}, \"xaxis3\": {\"anchor\": \"y3\", \"domain\": [0.0, 0.475]}, \"xaxis4\": {\"anchor\": \"y4\", \"domain\": [0.525, 1.0]}, \"xaxis5\": {\"anchor\": \"y5\", \"domain\": [0.0, 0.475]}, \"xaxis6\": {\"anchor\": \"y6\", \"domain\": [0.525, 1.0]}, \"xaxis7\": {\"anchor\": \"y7\", \"domain\": [0.0, 0.475]}, \"xaxis8\": {\"anchor\": \"y8\", \"domain\": [0.525, 1.0]}, \"xaxis9\": {\"anchor\": \"y9\", \"domain\": [0.0, 0.475]}, \"yaxis\": {\"anchor\": \"x\", \"domain\": [0.8400000000000001, 1.0]}, \"yaxis10\": {\"anchor\": \"x10\", \"domain\": [0.0, 0.16]}, \"yaxis2\": {\"anchor\": \"x2\", \"domain\": [0.8400000000000001, 1.0]}, \"yaxis3\": {\"anchor\": \"x3\", \"domain\": [0.63, 0.79]}, \"yaxis4\": {\"anchor\": \"x4\", \"domain\": [0.63, 0.79]}, \"yaxis5\": {\"anchor\": \"x5\", \"domain\": [0.42000000000000004, 0.5800000000000001]}, \"yaxis6\": {\"anchor\": \"x6\", \"domain\": [0.42000000000000004, 0.5800000000000001]}, \"yaxis7\": {\"anchor\": \"x7\", \"domain\": [0.21000000000000002, 0.37]}, \"yaxis8\": {\"anchor\": \"x8\", \"domain\": [0.21000000000000002, 0.37]}, \"yaxis9\": {\"anchor\": \"x9\", \"domain\": [0.0, 0.16]}},                        {\"responsive\": true}                    ).then(function(){\n",
       "                            \n",
       "var gd = document.getElementById('4019726c-85da-46b8-9071-98b3f19ef75e');\n",
       "var x = new MutationObserver(function (mutations, observer) {{\n",
       "        var display = window.getComputedStyle(gd).display;\n",
       "        if (!display || display === 'none') {{\n",
       "            console.log([gd, 'removed!']);\n",
       "            Plotly.purge(gd);\n",
       "            observer.disconnect();\n",
       "        }}\n",
       "}});\n",
       "\n",
       "// Listen for the removal of the full notebook cells\n",
       "var notebookContainer = gd.closest('#notebook-container');\n",
       "if (notebookContainer) {{\n",
       "    x.observe(notebookContainer, {childList: true});\n",
       "}}\n",
       "\n",
       "// Listen for the clearing of the current output cell\n",
       "var outputEl = gd.closest('.output');\n",
       "if (outputEl) {{\n",
       "    x.observe(outputEl, {childList: true});\n",
       "}}\n",
       "\n",
       "                        })                };                });            </script>        </div>"
      ]
     },
     "metadata": {},
     "output_type": "display_data"
    }
   ],
   "source": [
    "defenders_attr = ['Blocked shots', 'Interception','Clearances', 'Headed Clearnace','Clearances of line',\n",
    "                 'Dual win', 'Successful 50/50s', \"aerial battle win\"]\n",
    "top =5\n",
    "fig=make_subplots(rows=5, cols=2, horizontal_spacing=0.05, vertical_spacing = 0.05,\n",
    "                 subplot_titles=('blocked shots (overall)','Blocked shots (per-game)','Interceptions (overall)', 'Interceptions (per-game)','Clearances (overall)',\n",
    "                    'Clearances (per-game)','Headed Clearance (overall)', 'Headed Clearance (per-game)','Clearances off line (overall)', 'Clearances off line (per-game)')\n",
    "                 )\n",
    "defenders_38app= defenders[defenders['Appearances']>=38]\n",
    "df = defenders_38app.sort_values(by='Blocked shots', ascending=False).head(top)\n",
    "\n",
    "fig.add_trace(go.Bar(x=df['Name'],\n",
    "                    y=df['Blocked shots'],\n",
    "                    orientation='v'),\n",
    "             row=1, col=1)\n",
    "              \n",
    "df = defenders_38app.sort_values(by='Interceptions', ascending=False).head(top)\n",
    "fig.add_trace(go.Bar(x=df[\"Name\"], \n",
    "             y=df['Interceptions'],\n",
    "             #color='Club',\n",
    "             #hover_name=None,\n",
    "             orientation='v'),\n",
    "             row=2, col=1)  \n",
    "\n",
    "df = defenders_38app.sort_values(by='Clearances', ascending=False).head(top)\n",
    "fig.add_trace(go.Bar(x=df[\"Name\"], \n",
    "             y=df['Clearances'],\n",
    "             #color='Club',\n",
    "            #hover_name=None,\n",
    "             orientation='v'),\n",
    "             row=3, col=1)\n",
    "\n",
    "\n",
    "df = defenders_38app.sort_values(by='Headed Clearance', ascending=False).head(top)\n",
    "fig.add_trace(go.Bar(x=df[\"Name\"], \n",
    "             y=df['Headed Clearance'],\n",
    "             #color='Club',\n",
    "             #hover_name=None,\n",
    "             orientation='v'),\n",
    "             row=4,col=1)\n",
    "\n",
    "df = defenders_38app.sort_values(by='Clearances off line', ascending=False).head(top)\n",
    "fig.add_trace(go.Bar( x=df[\"Name\"], \n",
    "             y=df['Clearances off line'],\n",
    "             #color='Club',\n",
    "             #hover_name=None,\n",
    "             orientation='v'),\n",
    "             row=5, col=1)\n",
    "\n",
    "\n",
    "df = defenders_.sort_values(by='Blocked shots', ascending=False).head(top)\n",
    "fig.add_trace(go.Bar( x=df[\"Name\"], \n",
    "             y=df['Blocked shots'],\n",
    "             #color='Club',\n",
    "             #hover_name=None,\n",
    "             orientation='v'),\n",
    "             row=1, col=2)\n",
    "\n",
    "df = defenders_.sort_values(by='Interceptions', ascending=False).head(top)\n",
    "fig.add_trace(go.Bar( x=df[\"Name\"], \n",
    "             y=df['Interceptions'],\n",
    "             #color='Club',\n",
    "             #hover_name=None,\n",
    "             orientation='v'),\n",
    "             row=2, col=2)\n",
    "  \n",
    "\n",
    "df = defenders_.sort_values(by='Clearances', ascending=False).head(top)\n",
    "fig.add_trace(go.Bar(x=df[\"Name\"], \n",
    "             y=df['Clearances'],\n",
    "             #color='Club',\n",
    "             #hover_name=None,\n",
    "             orientation='v'),\n",
    "             row=3, col=2)\n",
    "\n",
    "\n",
    "df = defenders_.sort_values(by='Headed Clearance', ascending=False).head(top)\n",
    "fig.add_trace(go.Bar( x=df[\"Name\"], \n",
    "             y=df['Headed Clearance'],\n",
    "             #color='Club',\n",
    "             #hover_name=None,\n",
    "             orientation='v'),\n",
    "             row=4,col=2)\n",
    "\n",
    "df = defenders_.sort_values(by='Clearances off line', ascending=False).head(top)\n",
    "fig.add_trace(go.Bar( x=df[\"Name\"], \n",
    "             y=df['Clearances off line'],\n",
    "             #color='Club',\n",
    "             #hover_name=None,\n",
    "             orientation='v'),\n",
    "             row=5, col=2)\n",
    "\n",
    "fig.update_layout(title_text='Top Defender Qualities', title_x=0.5)\n",
    "fig.update_traces(marker_color= ['rgb(96, 96, 96)','rgb(210,202,82)','rgb(210,202,82)','rgb(210,202,82)',\n",
    "                                 'rgb(210,202,82)', 'rgb(210,202,82)'], marker_line_color='rgb(8,48,107)',\n",
    "                  marker_line_width=2.5, opacity=0.6)\n",
    "\n",
    "fig.update_layout(showlegend=False)\n",
    "fig.update_layout(autosize=False, width=1400, height=1600)\n",
    "\n",
    "fig.show()"
   ]
  },
  {
   "cell_type": "code",
   "execution_count": null,
   "metadata": {},
   "outputs": [],
   "source": []
  }
 ],
 "metadata": {
  "kernelspec": {
   "display_name": "Python 3",
   "language": "python",
   "name": "python3"
  },
  "language_info": {
   "codemirror_mode": {
    "name": "ipython",
    "version": 3
   },
   "file_extension": ".py",
   "mimetype": "text/x-python",
   "name": "python",
   "nbconvert_exporter": "python",
   "pygments_lexer": "ipython3",
   "version": "3.8.3"
  }
 },
 "nbformat": 4,
 "nbformat_minor": 4
}
